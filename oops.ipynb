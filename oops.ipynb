{
  "nbformat": 4,
  "nbformat_minor": 0,
  "metadata": {
    "colab": {
      "provenance": [],
      "authorship_tag": "ABX9TyMiLddxkDsw8G9gqJrNXliG",
      "include_colab_link": true
    },
    "kernelspec": {
      "name": "python3",
      "display_name": "Python 3"
    },
    "language_info": {
      "name": "python"
    }
  },
  "cells": [
    {
      "cell_type": "markdown",
      "metadata": {
        "id": "view-in-github",
        "colab_type": "text"
      },
      "source": [
        "<a href=\"https://colab.research.google.com/github/Shikha098/python-assignment/blob/main/oops.ipynb\" target=\"_parent\"><img src=\"https://colab.research.google.com/assets/colab-badge.svg\" alt=\"Open In Colab\"/></a>"
      ]
    },
    {
      "cell_type": "code",
      "execution_count": null,
      "metadata": {
        "id": "qfDKWzdb1zP9"
      },
      "outputs": [],
      "source": [
        "#Questions and Answers"
      ]
    },
    {
      "cell_type": "markdown",
      "source": [
        "# 1) What are the five key concepts of Object-Oriented Programming (OOP)?"
      ],
      "metadata": {
        "id": "N3z2pCpq2DD9"
      }
    },
    {
      "cell_type": "markdown",
      "source": [
        "The five key concepts of Object-Oriented Programming (OOP) are:\n",
        "\n",
        "Classes and objects:\n",
        "A class is a user-defined data type that represents a set of common properties or methods for all objects of one type.\n",
        "\n",
        "Encapsulation:\n",
        "Encapsulation is the process of bundling data and related methods into objects. This helps ensure data integrity and prevents unauthorized access.\n",
        "\n",
        "Inheritance:\n",
        "Inheritance allows a class to inherit properties and methods from another class. This means that when creating a new class, you can derive properties and functions from an existing class instead of rewriting them.\n",
        "\n",
        "Polymorphism:\n",
        "Polymorphism allows objects of different classes to be treated as objects of a common superclass. This provides a single interface to represent multiple underlying forms.\n",
        "\n",
        "Abstraction:\n",
        "Abstraction is a way to simplify complex reality by modeling classes on essential properties and behaviors."
      ],
      "metadata": {
        "id": "CiMUjbWuSa_M"
      }
    },
    {
      "cell_type": "markdown",
      "source": [
        "# 2) Write a Python class for a `Car` with attributes for `make`, `model`, and `year`. Include a method to displaythe car's information."
      ],
      "metadata": {
        "id": "0efU1gfUS28o"
      }
    },
    {
      "cell_type": "markdown",
      "source": [
        "Here’s a Python class for a Car with attributes for make, model, and year, and a method to display the car's information:"
      ],
      "metadata": {
        "id": "g8o6KtZ7S9IY"
      }
    },
    {
      "cell_type": "code",
      "source": [
        "class Car:\n",
        "    def __init__(self, make, model, year):\n",
        "        self.make = make\n",
        "        self.model = model\n",
        "        self.year = year\n",
        "\n",
        "    def display_info(self):\n",
        "        print(f\"Car Information:\\nMake: {self.make}\\nModel: {self.model}\\nYear: {self.year}\")\n",
        "\n",
        "# Example usage:\n",
        "car1 = Car(\"Toyota\", \"Corolla\", 2020)\n",
        "car1.display_info()\n"
      ],
      "metadata": {
        "colab": {
          "base_uri": "https://localhost:8080/"
        },
        "id": "FluM77tfTJ7B",
        "outputId": "9f18390b-5f13-462e-9611-c8ff6f75b688"
      },
      "execution_count": 1,
      "outputs": [
        {
          "output_type": "stream",
          "name": "stdout",
          "text": [
            "Car Information:\n",
            "Make: Toyota\n",
            "Model: Corolla\n",
            "Year: 2020\n"
          ]
        }
      ]
    },
    {
      "cell_type": "markdown",
      "source": [
        "# 3) Explain the difference between instance methods and class methods. Provide an example of each."
      ],
      "metadata": {
        "id": "pcRbq8ElTToj"
      }
    },
    {
      "cell_type": "markdown",
      "source": [
        "An instance method is a method that operates on an instance of the class (an object). It has access to the instance's attributes and can modify them. Instance methods take self as the first parameter, which refers to the current instance of the class.\n",
        "\n",
        "Key points:\n",
        "\n",
        "They work with instance data (attributes).\n",
        "\n",
        "The method needs an instance of the class to be called.\n",
        "\n",
        "They use self to refer to the current object."
      ],
      "metadata": {
        "id": "tXLdZ_8sTZt9"
      }
    },
    {
      "cell_type": "code",
      "source": [
        "class Car:\n",
        "    def __init__(self, make, model, year):\n",
        "        self.make = make\n",
        "        self.model = model\n",
        "        self.year = year\n",
        "\n",
        "    def display_info(self):\n",
        "        print(f\"Car Information: {self.year} {self.make} {self.model}\")\n",
        "\n",
        "# Creating an instance of Car\n",
        "car1 = Car(\"Toyota\", \"Corolla\", 2020)\n",
        "car1.display_info()  # Calling the instance method\n"
      ],
      "metadata": {
        "colab": {
          "base_uri": "https://localhost:8080/"
        },
        "id": "MhH5ErXaToyN",
        "outputId": "87df4697-8432-4c33-cad1-ae25a01761ad"
      },
      "execution_count": 2,
      "outputs": [
        {
          "output_type": "stream",
          "name": "stdout",
          "text": [
            "Car Information: 2020 Toyota Corolla\n"
          ]
        }
      ]
    },
    {
      "cell_type": "markdown",
      "source": [
        "A class method is a method that operates on the class itself rather than an instance of the class. It takes cls as the first parameter, which refers to the class, not the instance. Class methods are defined using the @classmethod decorator.\n",
        "\n",
        "Key points:\n",
        "\n",
        "They work with class-level data (attributes shared by all instances).\n",
        "\n",
        "The method can be called on the class itself, not just on an instance.\n",
        "\n",
        "They use cls to refer to the class."
      ],
      "metadata": {
        "id": "L53MVj-6TulP"
      }
    },
    {
      "cell_type": "code",
      "source": [
        "class Car:\n",
        "    car_count = 0  # A class attribute to track the number of cars\n",
        "\n",
        "    def __init__(self, make, model, year):\n",
        "        self.make = make\n",
        "        self.model = model\n",
        "        self.year = year\n",
        "        Car.car_count += 1  # Increment car_count each time a new car is created\n",
        "\n",
        "    @classmethod\n",
        "    def display_car_count(cls):\n",
        "        print(f\"Total number of cars: {cls.car_count}\")\n",
        "\n",
        "# Creating instances of Car\n",
        "car1 = Car(\"Toyota\", \"Corolla\", 2020)\n",
        "car2 = Car(\"Honda\", \"Civic\", 2021)\n",
        "\n",
        "# Calling the class method\n",
        "Car.display_car_count()  # Accessing class method using the class itself\n"
      ],
      "metadata": {
        "colab": {
          "base_uri": "https://localhost:8080/"
        },
        "id": "DeaCLtiET2m3",
        "outputId": "3b0f813e-3b1d-42aa-f7ef-0c66e4bc6700"
      },
      "execution_count": 3,
      "outputs": [
        {
          "output_type": "stream",
          "name": "stdout",
          "text": [
            "Total number of cars: 2\n"
          ]
        }
      ]
    },
    {
      "cell_type": "markdown",
      "source": [
        "# 4) How does Python implement method overloading? Give an example."
      ],
      "metadata": {
        "id": "-Jo_zhWIT648"
      }
    },
    {
      "cell_type": "markdown",
      "source": [
        "Python does not support method overloading in the traditional sense (like in Java or C++), where multiple methods with the same name but different parameter signatures can exist in a class. In Python, if you define multiple methods with the same name, the last one defined will overwrite the previous ones.\n",
        "\n",
        "However, Python can simulate method overloading using default arguments, variable-length arguments (*args and **kwargs), or by manually handling different numbers and types of arguments inside a single method."
      ],
      "metadata": {
        "id": "o0cVK6nlT_Be"
      }
    },
    {
      "cell_type": "code",
      "source": [
        "#Example of Overloading with Default Arguments:\n",
        "\n",
        "class Calculator:\n",
        "    def add(self, a, b=0, c=0):\n",
        "        return a + b + c\n",
        "\n",
        "# Create an instance of Calculator\n",
        "calc = Calculator()\n",
        "\n",
        "# Different calls with varying numbers of arguments\n",
        "print(calc.add(5))        # Output: 5 (only a is provided)\n",
        "print(calc.add(5, 3))     # Output: 8 (a and b are provided)\n",
        "print(calc.add(5, 3, 2))  # Output: 10 (a, b, and c are provided)\n"
      ],
      "metadata": {
        "colab": {
          "base_uri": "https://localhost:8080/"
        },
        "id": "yZJZflo3UPT1",
        "outputId": "67dafa7c-cb27-42d7-9c55-e8bbed876ff4"
      },
      "execution_count": 4,
      "outputs": [
        {
          "output_type": "stream",
          "name": "stdout",
          "text": [
            "5\n",
            "8\n",
            "10\n"
          ]
        }
      ]
    },
    {
      "cell_type": "code",
      "source": [
        "#Example of Overloading with *args:\n",
        "\n",
        "class Calculator:\n",
        "    def add(self, *args):\n",
        "        return sum(args)\n",
        "\n",
        "# Create an instance of Calculator\n",
        "calc = Calculator()\n",
        "\n",
        "# Different calls with varying numbers of arguments\n",
        "print(calc.add(5))           # Output: 5 (one argument)\n",
        "print(calc.add(5, 3))        # Output: 8 (two arguments)\n",
        "print(calc.add(5, 3, 2, 10)) # Output: 20 (four arguments)\n"
      ],
      "metadata": {
        "colab": {
          "base_uri": "https://localhost:8080/"
        },
        "id": "xCBK2XqvUZXj",
        "outputId": "ff13cdf8-0026-4669-e57f-fc190e175e0b"
      },
      "execution_count": 5,
      "outputs": [
        {
          "output_type": "stream",
          "name": "stdout",
          "text": [
            "5\n",
            "8\n",
            "20\n"
          ]
        }
      ]
    },
    {
      "cell_type": "code",
      "source": [
        "#Example of Overloading with Type Checking:\n",
        "\n",
        "class Printer:\n",
        "    def print_message(self, message, times=1):\n",
        "        if isinstance(message, str):\n",
        "            print(message * times)\n",
        "        else:\n",
        "            print(\"Invalid message\")\n",
        "\n",
        "# Create an instance of Printer\n",
        "printer = Printer()\n",
        "\n",
        "# Different calls with varying arguments\n",
        "printer.print_message(\"Hello\")        # Output: Hello (printed once)\n",
        "printer.print_message(\"Hello\", 3)     # Output: HelloHelloHello (printed three times)\n",
        "printer.print_message(123)            # Output: Invalid message\n"
      ],
      "metadata": {
        "colab": {
          "base_uri": "https://localhost:8080/"
        },
        "id": "X_anWunuUiRD",
        "outputId": "e5c06f09-eb9a-4b7b-b6bd-556a75d87d36"
      },
      "execution_count": 6,
      "outputs": [
        {
          "output_type": "stream",
          "name": "stdout",
          "text": [
            "Hello\n",
            "HelloHelloHello\n",
            "Invalid message\n"
          ]
        }
      ]
    },
    {
      "cell_type": "markdown",
      "source": [
        "# 5) What are the three types of access modifiers in Python? How are they denoted?"
      ],
      "metadata": {
        "id": "s1yqZXSPUqt2"
      }
    },
    {
      "cell_type": "markdown",
      "source": [
        "n Python, access modifiers are used to control the visibility and accessibility of class attributes and methods. There are three types of access modifiers in Python, which are used to specify the level of access that can be granted to attributes and methods of a class. These are:\n",
        "\n",
        "1. Public Access Modifier\n",
        "Description: Attributes and methods that are public are accessible from outside the class. By default, all attributes and methods in Python are public.\n",
        "Denoted by: No special notation is used; the name is written normally."
      ],
      "metadata": {
        "id": "8C0NcKYUUv4s"
      }
    },
    {
      "cell_type": "code",
      "source": [
        "class Car:\n",
        "    def __init__(self, make, model):\n",
        "        self.make = make  # Public attribute\n",
        "        self.model = model  # Public attribute\n",
        "\n",
        "    def display_info(self):  # Public method\n",
        "        print(f\"{self.make} {self.model}\")\n",
        "\n",
        "# Accessing public attributes and methods\n",
        "car = Car(\"Toyota\", \"Corolla\")\n",
        "print(car.make)  # Accessing public attribute\n",
        "car.display_info()  # Calling public method\n"
      ],
      "metadata": {
        "colab": {
          "base_uri": "https://localhost:8080/"
        },
        "id": "A9qRyadkXTzV",
        "outputId": "a3fa07a9-5877-4760-d97d-95550ab12181"
      },
      "execution_count": 7,
      "outputs": [
        {
          "output_type": "stream",
          "name": "stdout",
          "text": [
            "Toyota\n",
            "Toyota Corolla\n"
          ]
        }
      ]
    },
    {
      "cell_type": "markdown",
      "source": [
        "2. Protected Access Modifier\n",
        "Description: Attributes and methods that are protected are intended to be accessible within the class and by subclasses (derived classes). They are not meant to be accessed from outside the class directly, but this is only a convention and not enforced by Python.\n",
        "Denoted by: A single underscore (_) before the attribute or method name."
      ],
      "metadata": {
        "id": "stoWvUrMXYkh"
      }
    },
    {
      "cell_type": "code",
      "source": [
        "class Car:\n",
        "    def __init__(self, make, model):\n",
        "        self._make = make  # Protected attribute\n",
        "        self._model = model  # Protected attribute\n",
        "\n",
        "    def _display_info(self):  # Protected method\n",
        "        print(f\"{self._make} {self._model}\")\n",
        "\n",
        "# Accessing protected attributes and methods (discouraged)\n",
        "car = Car(\"Toyota\", \"Corolla\")\n",
        "print(car._make)  # Accessing protected attribute (not recommended)\n",
        "car._display_info()  # Calling protected method (not recommended)\n"
      ],
      "metadata": {
        "colab": {
          "base_uri": "https://localhost:8080/"
        },
        "id": "RwAWws8lXdMe",
        "outputId": "90cdef9c-e792-4bc0-bc8e-7ca93e90e6fa"
      },
      "execution_count": 8,
      "outputs": [
        {
          "output_type": "stream",
          "name": "stdout",
          "text": [
            "Toyota\n",
            "Toyota Corolla\n"
          ]
        }
      ]
    },
    {
      "cell_type": "markdown",
      "source": [
        "3. Private Access Modifier\n",
        "Description: Attributes and methods that are private are intended to be accessible only within the class itself. These members cannot be accessed directly from outside the class or by subclasses.\n",
        "Denoted by: A double underscore (__) before the attribute or method name."
      ],
      "metadata": {
        "id": "E7dlA_ykXihk"
      }
    },
    {
      "cell_type": "code",
      "source": [
        "class Car:\n",
        "    def __init__(self, make, model):\n",
        "        self.__make = make  # Private attribute\n",
        "        self.__model = model  # Private attribute\n",
        "\n",
        "    def __display_info(self):  # Private method\n",
        "        print(f\"{self.__make} {self.__model}\")\n",
        "\n",
        "# Accessing private attributes and methods (not allowed directly)\n",
        "car = Car(\"Toyota\", \"Corolla\")\n",
        "# print(car.__make)  # This will raise an AttributeError\n",
        "# car.__display_info()  # This will raise an AttributeError\n",
        "print(car._Car__make)  # Accessing private attribute using name mangling\n",
        "\n"
      ],
      "metadata": {
        "colab": {
          "base_uri": "https://localhost:8080/"
        },
        "id": "Rhj5v7P6XqvO",
        "outputId": "d3d9f163-e093-4d30-9250-baa76d4cc82b"
      },
      "execution_count": 11,
      "outputs": [
        {
          "output_type": "stream",
          "name": "stdout",
          "text": [
            "Toyota\n"
          ]
        }
      ]
    },
    {
      "cell_type": "markdown",
      "source": [
        "# 6) Describe the five types of inheritance in Python. Provide a simple example of multiple inheritance.\n",
        "\n",
        "\n"
      ],
      "metadata": {
        "id": "zb6bCaYXX9Xf"
      }
    },
    {
      "cell_type": "markdown",
      "source": [
        "In Python, inheritance allows one class (the child or derived class) to inherit attributes and methods from another class (the parent or base class). This promotes code reuse and a hierarchical class structure. Python supports several types of inheritance:\n",
        "\n",
        "1. Single Inheritance\n",
        "Description: In single inheritance, a child class inherits from only one parent class.\n",
        "\n",
        "3. Multilevel Inheritance\n",
        "Description: In multilevel inheritance, a class is derived from a class that is already derived from another class, creating a chain of inheritance.\n",
        "\n",
        "4. Hierarchical Inheritance\n",
        "Description: In hierarchical inheritance, multiple child classes inherit from a single parent class. This allows different child classes to share common functionality from the same base class.\n",
        "\n",
        "5. Hybrid Inheritance\n",
        "Description: Hybrid inheritance is a combination of two or more types of inheritance. For example, a class may use both multiple and multilevel inheritance together."
      ],
      "metadata": {
        "id": "RvPabsSUYEyL"
      }
    },
    {
      "cell_type": "code",
      "source": [
        "#Multiple Inheritance example:\n",
        "\n",
        "class Animal:\n",
        "    def speak(self):\n",
        "        print(\"Animal makes a sound\")\n",
        "\n",
        "class Mammal:\n",
        "    def has_fur(self):\n",
        "        print(\"Mammal has fur\")\n",
        "\n",
        "class Dog(Animal, Mammal):  # Dog inherits from both Animal and Mammal\n",
        "    def bark(self):\n",
        "        print(\"Dog barks\")\n",
        "\n",
        "dog = Dog()\n",
        "dog.speak()     # Inherited from Animal\n",
        "dog.has_fur()   # Inherited from Mammal\n",
        "dog.bark()      # Defined in Dog\n"
      ],
      "metadata": {
        "colab": {
          "base_uri": "https://localhost:8080/"
        },
        "id": "Ap0Ow4CZZHQL",
        "outputId": "51aafd0d-537c-4954-d6cf-c27dec19e7d0"
      },
      "execution_count": 13,
      "outputs": [
        {
          "output_type": "stream",
          "name": "stdout",
          "text": [
            "Animal makes a sound\n",
            "Mammal has fur\n",
            "Dog barks\n"
          ]
        }
      ]
    },
    {
      "cell_type": "markdown",
      "source": [
        "# 7) What is the Method Resolution Order (MRO) in Python? How can you retrieve it programmatically?"
      ],
      "metadata": {
        "id": "_jrnTzCHYkXH"
      }
    },
    {
      "cell_type": "markdown",
      "source": [
        "Method Resolution Order (MRO) in Python\n",
        "The Method Resolution Order (MRO) in Python is the order in which methods are inherited in case of multiple inheritance. It defines the order in which Python looks for a method or attribute when it is called on an object. This order is especially important in cases of multiple inheritance, where a class can inherit from more than one base class.\n",
        "\n",
        "Python uses an algorithm called C3 Linearization (or C3 superclass linearization) to determine the MRO. The MRO ensures that:\n",
        "\n",
        "The base classes are searched in a consistent order.\n",
        "A method is called from the class hierarchy without ambiguity.\n",
        "The MRO ensures that the classes are traversed in a predictable order when looking for a method or attribute, and it resolves any potential conflicts that could arise in cases of multiple inheritance.\n",
        "\n",
        "MRO in the Context of Multiple Inheritance\n",
        "In multiple inheritance, if two or more base classes have methods with the same name, Python follows the MRO to determine which method to call first. This helps to avoid confusion when methods from multiple parent classes are involved.\n",
        "\n",
        "How the MRO is Determined:\n",
        "C3 Linearization follows a set of rules to linearize the inheritance hierarchy:\n",
        "The parent classes are checked from left to right.\n",
        "If a class inherits from multiple classes, Python will check for the most derived class first.\n",
        "It also ensures that classes are only listed once in the MRO, and that the method resolution follows a consistent order based on the inheritance hierarchy.\n",
        "Retrieving the MRO Programmatically\n",
        "In Python, you can retrieve the MRO of a class using the built-in method mro() or the __mro__ attribute.\n",
        "\n",
        "Using mro() Method: The mro() method is available on a class object and returns the method resolution order as a list of classes.\n",
        "\n",
        "Using __mro__ Attribute: The __mro__ attribute is a tuple that shows the MRO, starting from the class itself and moving up the inheritance chain."
      ],
      "metadata": {
        "id": "unnvSb_NZl9u"
      }
    },
    {
      "cell_type": "code",
      "source": [
        "class A:\n",
        "    def method(self):\n",
        "        print(\"Method in A\")\n",
        "\n",
        "class B(A):\n",
        "    def method(self):\n",
        "        print(\"Method in B\")\n",
        "\n",
        "class C(A):\n",
        "    def method(self):\n",
        "        print(\"Method in C\")\n",
        "\n",
        "class D(B, C):  # D inherits from both B and C\n",
        "    pass\n",
        "\n",
        "# Retrieve MRO using mro() method\n",
        "print(D.mro())\n",
        "\n",
        "# Retrieve MRO using __mro__ attribute\n",
        "print(D.__mro__)\n",
        "\n",
        "# Create an instance of D and call the method\n",
        "d = D()\n",
        "d.method()  # The method from B will be called based on MRO\n"
      ],
      "metadata": {
        "colab": {
          "base_uri": "https://localhost:8080/"
        },
        "id": "qWze8vhNaCF4",
        "outputId": "911341f7-aa88-4404-e9f4-2b6af2b005ad"
      },
      "execution_count": 14,
      "outputs": [
        {
          "output_type": "stream",
          "name": "stdout",
          "text": [
            "[<class '__main__.D'>, <class '__main__.B'>, <class '__main__.C'>, <class '__main__.A'>, <class 'object'>]\n",
            "(<class '__main__.D'>, <class '__main__.B'>, <class '__main__.C'>, <class '__main__.A'>, <class 'object'>)\n",
            "Method in B\n"
          ]
        }
      ]
    },
    {
      "cell_type": "markdown",
      "source": [
        "# 8.) Create an abstract base class `Shape` with an abstract method `area()`. Then create two subclasses`Circle` and `Rectangle` that implement the `area()` method."
      ],
      "metadata": {
        "id": "L4XJLABJaLpi"
      }
    },
    {
      "cell_type": "markdown",
      "source": [
        "In Python, you can create an abstract base class (ABC) using the abc module, which allows you to define abstract methods that must be implemented by any subclass. An abstract method is a method that is declared in the base class but does not have an implementation. Subclasses must override this method.\n",
        "\n",
        "Here's how to create an abstract base class Shape with an abstract method area(), and then create two subclasses Circle and Rectangle that implement the area() method."
      ],
      "metadata": {
        "id": "x9gqDJXpagsa"
      }
    },
    {
      "cell_type": "code",
      "source": [
        "from abc import ABC, abstractmethod\n",
        "import math\n",
        "\n",
        "# Abstract Base Class\n",
        "class Shape(ABC):\n",
        "    @abstractmethod\n",
        "    def area(self):\n",
        "        pass\n",
        "\n",
        "# Subclass Circle\n",
        "class Circle(Shape):\n",
        "    def __init__(self, radius):\n",
        "        self.radius = radius\n",
        "\n",
        "    def area(self):\n",
        "        return math.pi * self.radius ** 2\n",
        "\n",
        "# Subclass Rectangle\n",
        "class Rectangle(Shape):\n",
        "    def __init__(self, width, height):\n",
        "        self.width = width\n",
        "        self.height = height\n",
        "\n",
        "    def area(self):\n",
        "        return self.width * self.height\n",
        "\n",
        "# Creating instances and calculating area\n",
        "circle = Circle(5)\n",
        "print(f\"Area of Circle: {circle.area()}\")\n",
        "\n",
        "rectangle = Rectangle(4, 6)\n",
        "print(f\"Area of Rectangle: {rectangle.area()}\")\n"
      ],
      "metadata": {
        "colab": {
          "base_uri": "https://localhost:8080/"
        },
        "id": "Dvh4J-mBazmw",
        "outputId": "f8bb7fbe-1025-4f2a-e6ec-ecfa40eb5605"
      },
      "execution_count": 15,
      "outputs": [
        {
          "output_type": "stream",
          "name": "stdout",
          "text": [
            "Area of Circle: 78.53981633974483\n",
            "Area of Rectangle: 24\n"
          ]
        }
      ]
    },
    {
      "cell_type": "markdown",
      "source": [
        "# 9) Demonstrate polymorphism by creating a function that can work with different shape objects to calculateand print their areas.\n",
        "\n",
        "\n"
      ],
      "metadata": {
        "id": "ekKhSfh4a5lN"
      }
    },
    {
      "cell_type": "markdown",
      "source": [
        "Polymorphism allows you to use objects of different classes in a uniform way. In the context of the example, polymorphism enables us to define a function that can work with different shape objects (such as Circle and Rectangle) and calculate their areas, even though these shapes have different implementations of the area() method.\n",
        "\n",
        "We can demonstrate polymorphism by creating a function that accepts a Shape object (which can be either a Circle or a Rectangle) and calls its area() method."
      ],
      "metadata": {
        "id": "iRQ7jdJ1bB8G"
      }
    },
    {
      "cell_type": "code",
      "source": [
        "from abc import ABC, abstractmethod\n",
        "import math\n",
        "\n",
        "# Abstract Base Class\n",
        "class Shape(ABC):\n",
        "    @abstractmethod\n",
        "    def area(self):\n",
        "        pass\n",
        "\n",
        "# Subclass Circle\n",
        "class Circle(Shape):\n",
        "    def __init__(self, radius):\n",
        "        self.radius = radius\n",
        "\n",
        "    def area(self):\n",
        "        return math.pi * self.radius ** 2\n",
        "\n",
        "# Subclass Rectangle\n",
        "class Rectangle(Shape):\n",
        "    def __init__(self, width, height):\n",
        "        self.width = width\n",
        "        self.height = height\n",
        "\n",
        "    def area(self):\n",
        "        return self.width * self.height\n",
        "\n",
        "# Function to calculate and print area of any shape\n",
        "def print_area(shape: Shape):\n",
        "    print(f\"The area of the {shape.__class__.__name__} is: {shape.area()}\")\n",
        "\n",
        "# Creating instances\n",
        "circle = Circle(5)\n",
        "rectangle = Rectangle(4, 6)\n",
        "\n",
        "# Demonstrating polymorphism by calling the same function for different shapes\n",
        "print_area(circle)       # Works with Circle object\n",
        "print_area(rectangle)    # Works with Rectangle object\n"
      ],
      "metadata": {
        "colab": {
          "base_uri": "https://localhost:8080/"
        },
        "id": "xoz1ZMolbMFA",
        "outputId": "f97d956f-963a-44f4-f85d-569e6288de0f"
      },
      "execution_count": 16,
      "outputs": [
        {
          "output_type": "stream",
          "name": "stdout",
          "text": [
            "The area of the Circle is: 78.53981633974483\n",
            "The area of the Rectangle is: 24\n"
          ]
        }
      ]
    },
    {
      "cell_type": "markdown",
      "source": [
        "# 10) Implement encapsulation in a `BankAccount` class with private attributes for `balance` and `account_number`. Include methods for deposit, withdrawal, and balance inquiry."
      ],
      "metadata": {
        "id": "6ua1VvV5bQ-O"
      }
    },
    {
      "cell_type": "markdown",
      "source": [
        "Encapsulation is a fundamental concept in object-oriented programming that involves restricting direct access to some of an object's attributes and methods. In Python, encapsulation is implemented using private attributes (denoted by double underscores __) and providing public methods to access or modify those attributes in a controlled manner.\n",
        "\n",
        "Below is an implementation of a BankAccount class that encapsulates the balance and account_number attributes as private. The class includes methods for deposit, withdrawal, and balance inquiry."
      ],
      "metadata": {
        "id": "me5i7w7-blpN"
      }
    },
    {
      "cell_type": "code",
      "source": [
        "class BankAccount:\n",
        "    def __init__(self, account_number, initial_balance=0):\n",
        "        self.__account_number = account_number  # Private attribute\n",
        "        self.__balance = initial_balance  # Private attribute\n",
        "\n",
        "    # Method to deposit money into the account\n",
        "    def deposit(self, amount):\n",
        "        if amount > 0:\n",
        "            self.__balance += amount\n",
        "            print(f\"Deposited {amount}. New balance: {self.__balance}\")\n",
        "        else:\n",
        "            print(\"Deposit amount must be positive.\")\n",
        "\n",
        "    # Method to withdraw money from the account\n",
        "    def withdraw(self, amount):\n",
        "        if amount > 0:\n",
        "            if amount <= self.__balance:\n",
        "                self.__balance -= amount\n",
        "                print(f\"Withdrew {amount}. New balance: {self.__balance}\")\n",
        "            else:\n",
        "                print(\"Insufficient funds.\")\n",
        "        else:\n",
        "            print(\"Withdrawal amount must be positive.\")\n",
        "\n",
        "    # Method to inquire the balance\n",
        "    def get_balance(self):\n",
        "        return self.__balance\n",
        "\n",
        "    # Method to get the account number (encapsulated, but can be accessed)\n",
        "    def get_account_number(self):\n",
        "        return self.__account_number\n",
        "\n",
        "\n",
        "# Example usage\n",
        "account = BankAccount(\"123456789\", 1000)  # Initial balance of 1000\n",
        "\n",
        "# Deposit money\n",
        "account.deposit(500)\n",
        "\n",
        "# Withdraw money\n",
        "account.withdraw(200)\n",
        "\n",
        "# Inquire balance\n",
        "print(f\"Current balance: {account.get_balance()}\")\n",
        "\n",
        "# Access account number\n",
        "print(f\"Account number: {account.get_account_number()}\")\n"
      ],
      "metadata": {
        "colab": {
          "base_uri": "https://localhost:8080/"
        },
        "id": "FkeRpjCSbx1E",
        "outputId": "0e03513c-7e87-4e14-90f7-c13809a8464b"
      },
      "execution_count": 17,
      "outputs": [
        {
          "output_type": "stream",
          "name": "stdout",
          "text": [
            "Deposited 500. New balance: 1500\n",
            "Withdrew 200. New balance: 1300\n",
            "Current balance: 1300\n",
            "Account number: 123456789\n"
          ]
        }
      ]
    },
    {
      "cell_type": "markdown",
      "source": [
        "# 11) Write a class that overrides the `__str__` and `__add__` magic methods. What will these methods allowyou to do?"
      ],
      "metadata": {
        "id": "2ncAw62Rb68V"
      }
    },
    {
      "cell_type": "markdown",
      "source": [
        "Overriding the __str__ and __add__ magic methods in a Python class customizes how instances of the class are represented as strings and how they behave when the + operator is used, respectively.\n",
        "\n",
        "Purpose of the Magic Methods:\n",
        "__str__:\n",
        "\n",
        "The __str__ method is called when the str() function or print() is used on an object.\n",
        "It allows you to define a human-readable string representation of an object.\n",
        "__add__:\n",
        "\n",
        "The __add__ method is called when the + operator is used between two objects of the class.\n",
        "It allows you to define how objects of the class are added together"
      ],
      "metadata": {
        "id": "N2_vxWWPcCcw"
      }
    },
    {
      "cell_type": "code",
      "source": [
        "class Point:\n",
        "    def __init__(self, x, y):\n",
        "        self.x = x\n",
        "        self.y = y\n",
        "\n",
        "    # Override __str__ to provide a readable string representation\n",
        "    def __str__(self):\n",
        "        return f\"Point({self.x}, {self.y})\"\n",
        "\n",
        "    # Override __add__ to define how to add two Point objects\n",
        "    def __add__(self, other):\n",
        "        if isinstance(other, Point):\n",
        "            return Point(self.x + other.x, self.y + other.y)\n",
        "        raise TypeError(\"Can only add another Point object\")\n",
        "\n",
        "# Create instances of Point\n",
        "point1 = Point(2, 3)\n",
        "point2 = Point(4, 5)\n",
        "\n",
        "# Using __str__ to print the objects\n",
        "print(point1)  # Output: Point(2, 3)\n",
        "print(point2)  # Output: Point(4, 5)\n",
        "\n",
        "# Using __add__ to add two Point objects\n",
        "point3 = point1 + point2\n",
        "print(point3)  # Output: Point(6, 8)\n"
      ],
      "metadata": {
        "colab": {
          "base_uri": "https://localhost:8080/"
        },
        "id": "DanK62BrcRle",
        "outputId": "990afeba-374b-45aa-8594-59fcc97774d4"
      },
      "execution_count": 18,
      "outputs": [
        {
          "output_type": "stream",
          "name": "stdout",
          "text": [
            "Point(2, 3)\n",
            "Point(4, 5)\n",
            "Point(6, 8)\n"
          ]
        }
      ]
    },
    {
      "cell_type": "markdown",
      "source": [
        "# 12) Create a decorator that measures and prints the execution time of a function."
      ],
      "metadata": {
        "id": "ymA70KdKcXOq"
      }
    },
    {
      "cell_type": "markdown",
      "source": [
        "A decorator in Python is a function that wraps another function to modify or enhance its behavior. Below is an implementation of a decorator that measures and prints the execution time of a function"
      ],
      "metadata": {
        "id": "2y_bbKlScdrs"
      }
    },
    {
      "cell_type": "code",
      "source": [
        "import time\n",
        "\n",
        "def measure_time(func):\n",
        "    def wrapper(*args, **kwargs):\n",
        "        start_time = time.time()  # Record the start time\n",
        "        result = func(*args, **kwargs)  # Call the original function\n",
        "        end_time = time.time()  # Record the end time\n",
        "        execution_time = end_time - start_time\n",
        "        print(f\"Function '{func.__name__}' executed in {execution_time:.4f} seconds\")\n",
        "        return result  # Return the result of the original function\n",
        "    return wrapper\n",
        "\n",
        "# Example usage of the decorator\n",
        "@measure_time\n",
        "def slow_function():\n",
        "    time.sleep(2)  # Simulate a slow operation\n",
        "    print(\"Finished slow operation.\")\n",
        "\n",
        "@measure_time\n",
        "def add_numbers(a, b):\n",
        "    return a + b\n",
        "\n",
        "# Call the decorated functions\n",
        "slow_function()\n",
        "result = add_numbers(10, 20)\n",
        "print(f\"Result of addition: {result}\")\n"
      ],
      "metadata": {
        "colab": {
          "base_uri": "https://localhost:8080/"
        },
        "id": "XCeTBDT4ckhk",
        "outputId": "0acdfe41-97b9-433a-ac3d-5b2acd499677"
      },
      "execution_count": 19,
      "outputs": [
        {
          "output_type": "stream",
          "name": "stdout",
          "text": [
            "Finished slow operation.\n",
            "Function 'slow_function' executed in 2.0023 seconds\n",
            "Function 'add_numbers' executed in 0.0000 seconds\n",
            "Result of addition: 30\n"
          ]
        }
      ]
    },
    {
      "cell_type": "markdown",
      "source": [
        "# 13) Explain the concept of the Diamond Problem in multiple inheritance. How does Python resolve it?"
      ],
      "metadata": {
        "id": "IhwenRrNctxZ"
      }
    },
    {
      "cell_type": "markdown",
      "source": [
        "The Diamond Problem in Multiple Inheritance\n",
        "The Diamond Problem arises in object-oriented programming when a class inherits from two classes that both inherit from a common base class. This creates an ambiguity in the inheritance hierarchy regarding which method or attribute should be inherited from the common base class.\n",
        "\n",
        "Illustration of the Diamond Problem:"
      ],
      "metadata": {
        "id": "g1M_iehyczlm"
      }
    },
    {
      "cell_type": "code",
      "source": [
        "        A\n",
        "       / \\\n",
        "      B   C\n",
        "       \\ /\n",
        "        D\n",
        "\n"
      ],
      "metadata": {
        "id": "3BvwBW4qdCle"
      },
      "execution_count": 20,
      "outputs": []
    },
    {
      "cell_type": "code",
      "source": [
        "class A:\n",
        "    def method(self):\n",
        "        print(\"Method in A\")\n",
        "\n",
        "class B(A):\n",
        "    def method(self):\n",
        "        print(\"Method in B\")\n",
        "\n",
        "class C(A):\n",
        "    def method(self):\n",
        "        print(\"Method in C\")\n",
        "\n",
        "class D(B, C):  # D inherits from B and C\n",
        "    pass\n",
        "\n",
        "# Check the MRO\n",
        "print(D.mro())\n",
        "\n",
        "# Create an instance of D and call the method\n",
        "d = D()\n",
        "d.method()\n"
      ],
      "metadata": {
        "colab": {
          "base_uri": "https://localhost:8080/"
        },
        "id": "dkDLzwrfdQeM",
        "outputId": "80ef2623-a606-4b5e-bc79-da8cafca55a6"
      },
      "execution_count": 21,
      "outputs": [
        {
          "output_type": "stream",
          "name": "stdout",
          "text": [
            "[<class '__main__.D'>, <class '__main__.B'>, <class '__main__.C'>, <class '__main__.A'>, <class 'object'>]\n",
            "Method in B\n"
          ]
        }
      ]
    },
    {
      "cell_type": "markdown",
      "source": [
        "# 14) Write a class method that keeps track of the number of instances created from a class.**bold text**"
      ],
      "metadata": {
        "id": "S6VUce-BdXl5"
      }
    },
    {
      "cell_type": "markdown",
      "source": [
        "To keep track of the number of instances created from a class, you can use a class variable to store the count and increment it each time the __init__ method is called. A class method can then be used to access this count.\n",
        "\n",
        "Here’s how to implement it:"
      ],
      "metadata": {
        "id": "T6kgmHdmdiz9"
      }
    },
    {
      "cell_type": "code",
      "source": [
        "class InstanceCounter:\n",
        "    # Class variable to track the number of instances\n",
        "    _instance_count = 0\n",
        "\n",
        "    def __init__(self):\n",
        "        # Increment the count whenever a new instance is created\n",
        "        InstanceCounter._instance_count += 1\n",
        "\n",
        "    @classmethod\n",
        "    def get_instance_count(cls):\n",
        "        # Class method to return the current instance count\n",
        "        return cls._instance_count\n",
        "\n",
        "\n",
        "# Example usage\n",
        "obj1 = InstanceCounter()\n",
        "obj2 = InstanceCounter()\n",
        "obj3 = InstanceCounter()\n",
        "\n",
        "print(f\"Number of instances created: {InstanceCounter.get_instance_count()}\")  # Output: 3\n"
      ],
      "metadata": {
        "colab": {
          "base_uri": "https://localhost:8080/"
        },
        "id": "k4y2AU3edst7",
        "outputId": "3716b902-f285-4656-8057-38a8dd31938f"
      },
      "execution_count": 22,
      "outputs": [
        {
          "output_type": "stream",
          "name": "stdout",
          "text": [
            "Number of instances created: 3\n"
          ]
        }
      ]
    },
    {
      "cell_type": "markdown",
      "source": [
        "# 15) Implement a static method in a class that checks if a given year is a leap year"
      ],
      "metadata": {
        "id": "B4PFG5I5dyC5"
      }
    },
    {
      "cell_type": "markdown",
      "source": [
        "A static method in Python is a method that does not operate on an instance or class but belongs to the class's namespace. It is defined using the @staticmethod decorator.\n",
        "\n",
        "Here’s how you can implement a static method to check if a given year is a leap year:"
      ],
      "metadata": {
        "id": "Oh_pQJVJd1jX"
      }
    },
    {
      "cell_type": "code",
      "source": [
        "class YearUtils:\n",
        "    @staticmethod\n",
        "    def is_leap_year(year):\n",
        "        \"\"\"Check if the given year is a leap year.\"\"\"\n",
        "        if (year % 4 == 0 and year % 100 != 0) or (year % 400 == 0):\n",
        "            return True\n",
        "        return False\n",
        "\n",
        "\n",
        "# Example usage\n",
        "print(YearUtils.is_leap_year(2020))  # Output: True (2020 is a leap year)\n",
        "print(YearUtils.is_leap_year(1900))  # Output: False (1900 is not a leap year)\n",
        "print(YearUtils.is_leap_year(2000))  # Output: True (2000 is a leap year)\n",
        "print(YearUtils.is_leap_year(2023))  # Output: False (2023 is not a leap year)\n"
      ],
      "metadata": {
        "colab": {
          "base_uri": "https://localhost:8080/"
        },
        "id": "VwaTxsbdd-Wm",
        "outputId": "e04aca84-66a6-45af-977c-641920aaf288"
      },
      "execution_count": 23,
      "outputs": [
        {
          "output_type": "stream",
          "name": "stdout",
          "text": [
            "True\n",
            "False\n",
            "True\n",
            "False\n"
          ]
        }
      ]
    }
  ]
}