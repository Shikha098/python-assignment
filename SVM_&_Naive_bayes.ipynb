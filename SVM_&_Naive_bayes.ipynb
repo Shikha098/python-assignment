{
  "nbformat": 4,
  "nbformat_minor": 0,
  "metadata": {
    "colab": {
      "provenance": [],
      "include_colab_link": true
    },
    "kernelspec": {
      "name": "python3",
      "display_name": "Python 3"
    },
    "language_info": {
      "name": "python"
    }
  },
  "cells": [
    {
      "cell_type": "markdown",
      "metadata": {
        "id": "view-in-github",
        "colab_type": "text"
      },
      "source": [
        "<a href=\"https://colab.research.google.com/github/Shikha098/python-assignment/blob/main/SVM_%26_Naive_bayes.ipynb\" target=\"_parent\"><img src=\"https://colab.research.google.com/assets/colab-badge.svg\" alt=\"Open In Colab\"/></a>"
      ]
    },
    {
      "cell_type": "markdown",
      "source": [
        "Q1) What is a Support Vector Machine (SVM)?"
      ],
      "metadata": {
        "id": "73WNLV-3u10X"
      }
    },
    {
      "cell_type": "markdown",
      "source": [
        "A Support Vector Machine (SVM) is a supervised learning algorithm used for classification and regression. It finds the optimal hyperplane that best separates data into classes."
      ],
      "metadata": {
        "id": "YtUAaPiIvKvt"
      }
    },
    {
      "cell_type": "markdown",
      "source": [
        "Q2) What is the difference between Hard Margin and Soft Margin SVM?"
      ],
      "metadata": {
        "id": "nM6dI8EpvLz3"
      }
    },
    {
      "cell_type": "markdown",
      "source": [
        "**Hard Margin SVM**:\n",
        "Does not allow any misclassification — all data points must be correctly classified.\n",
        "\n",
        "Works only when data is linearly separable.\n",
        "\n",
        "Can overfit if the data has noise or outliers.\n",
        "\n",
        "Aims to find the maximum margin without any slack.\n",
        "\n",
        "**Soft Margin SVM**:\n",
        "Allows some misclassification by introducing slack variables.\n",
        "\n",
        "Can handle non-linearly separable data.\n",
        "\n",
        "Introduces a regularization parameter (C) to control the trade-off between margin size and classification error.\n",
        "\n",
        "Is more robust to noise and outliers."
      ],
      "metadata": {
        "id": "OgGAt-Xrvpx8"
      }
    },
    {
      "cell_type": "markdown",
      "source": [
        "Q3) What is the mathematical intuition behind SVM?"
      ],
      "metadata": {
        "id": "3jBmisRwvz4F"
      }
    },
    {
      "cell_type": "markdown",
      "source": [
        "The mathematical intuition behind SVM is:\n",
        "\n",
        "Objective: Maximize the margin (distance) between the separating hyperplane and the closest data points (support vectors).\n",
        "\n",
        "Optimization: Solve a convex optimization problem to minimize\n",
        "1\n",
        "2\n",
        "∣\n",
        "∣\n",
        "𝑤\n",
        "∣\n",
        "∣\n",
        "2\n",
        "2\n",
        "1\n",
        "​\n",
        " ∣∣w∣∣\n",
        "2\n",
        "\n",
        "subject to:\n",
        "𝑦\n",
        "𝑖\n",
        "(\n",
        "𝑤\n",
        "𝑇\n",
        "𝑥\n",
        "𝑖\n",
        "+\n",
        "𝑏\n",
        ")\n",
        "≥\n",
        "1\n",
        "y\n",
        "i\n",
        "​\n",
        " (w\n",
        "T\n",
        " x\n",
        "i\n",
        "​\n",
        " +b)≥1 for all data points (for hard margin).\n",
        "\n",
        "Soft Margin adds slack variables\n",
        "𝜉\n",
        "𝑖\n",
        "ξ\n",
        "i\n",
        "​\n",
        "  and a penalty term:\n",
        "min\n",
        "⁡\n",
        "1\n",
        "2\n",
        "∣\n",
        "∣\n",
        "𝑤\n",
        "∣\n",
        "∣\n",
        "2\n",
        "+\n",
        "𝐶\n",
        "∑\n",
        "𝜉\n",
        "𝑖\n",
        "min\n",
        "2\n",
        "1\n",
        "​\n",
        " ∣∣w∣∣\n",
        "2\n",
        " +C∑ξ\n",
        "i\n",
        "​\n",
        "\n",
        "\n",
        "Uses Lagrange multipliers and kernel trick to handle non-linear data."
      ],
      "metadata": {
        "id": "FAeUwT9Bv_tL"
      }
    },
    {
      "cell_type": "markdown",
      "source": [
        "Q4) What is the role of Lagrange Multipliers in SVM?"
      ],
      "metadata": {
        "id": "qV6YkPhuwGn0"
      }
    },
    {
      "cell_type": "markdown",
      "source": [
        "Lagrange Multipliers help convert the constrained optimization problem in SVM into a form that can be solved efficiently.\n",
        "\n",
        "Roles:\n",
        "\n",
        "Allow solving the optimization using dual formulation.\n",
        "\n",
        "Help identify support vectors (non-zero multipliers).\n",
        "\n",
        "Make it easier to apply the kernel trick for non-linear classification.\n",
        "\n",
        "Enable efficient computation by reducing the problem to dot products."
      ],
      "metadata": {
        "id": "QluRwANMwLeG"
      }
    },
    {
      "cell_type": "markdown",
      "source": [
        "Q5) What are Support Vectors in SVM?"
      ],
      "metadata": {
        "id": "cOq1Qs3AxVDY"
      }
    },
    {
      "cell_type": "markdown",
      "source": [
        "Support vectors are the data points that lie closest to the separating hyperplane.\n",
        "\n",
        "Key points:\n",
        "\n",
        "They define the margin of the classifier.\n",
        "\n",
        "Only these points affect the position and orientation of the hyperplane.\n",
        "\n",
        "They have non-zero Lagrange multipliers.\n",
        "\n",
        "Removing them can change the decision boundary."
      ],
      "metadata": {
        "id": "qJnRp1BsxcS7"
      }
    },
    {
      "cell_type": "markdown",
      "source": [
        "Q6) What is a Support Vector Classifier (SVC)?"
      ],
      "metadata": {
        "id": "gyrq3SD4xf5g"
      }
    },
    {
      "cell_type": "markdown",
      "source": [
        "A Support Vector Classifier (SVC) is an implementation of the Support Vector Machine (SVM) algorithm used for classification tasks.\n",
        "\n",
        "It finds the optimal hyperplane that separates different classes of data points with the largest margin.\n",
        "\n",
        "SVC can handle linearly separable and non-linearly separable data using kernel functions."
      ],
      "metadata": {
        "id": "6tAQRod7xnl_"
      }
    },
    {
      "cell_type": "markdown",
      "source": [
        "Q7) What is a Support Vector Regressor (SVR)?"
      ],
      "metadata": {
        "id": "5AcMAjVdx00C"
      }
    },
    {
      "cell_type": "markdown",
      "source": [
        "A Support Vector Regressor (SVR) is an SVM algorithm used for regression tasks.\n",
        "\n",
        "It aims to find a hyperplane that best fits the data while allowing for some margin of error (controlled by a parameter\n",
        "𝜖\n",
        "ϵ).\n",
        "\n",
        "SVR tries to minimize the error while keeping the model as simple as possible, similar to SVC but for continuous output instead of classification."
      ],
      "metadata": {
        "id": "ynRof2WPxsc7"
      }
    },
    {
      "cell_type": "markdown",
      "source": [
        "Q8) What is the Kernel Trick in SVM?"
      ],
      "metadata": {
        "id": "FKCEnkzDyFTG"
      }
    },
    {
      "cell_type": "markdown",
      "source": [
        "The Kernel Trick in SVM allows the algorithm to handle non-linearly separable data by mapping it to a higher-dimensional space where it becomes linearly separable, without explicitly computing the mapping.\n",
        "\n",
        "It uses a kernel function (e.g., linear, polynomial, RBF) to compute the inner product in the higher-dimensional space directly.\n",
        "\n",
        "This avoids the computational cost of transforming the data, making SVM efficient even with complex datasets."
      ],
      "metadata": {
        "id": "oOzb9lXgx8XF"
      }
    },
    {
      "cell_type": "markdown",
      "source": [
        " Q9) Compare Linear Kernel, Polynomial Kernel, and RBF Kernel?"
      ],
      "metadata": {
        "id": "zsDQRjz1yK2C"
      }
    },
    {
      "cell_type": "markdown",
      "source": [
        "Here’s a concise comparison of the three kernels:\n",
        "\n",
        "Linear Kernel:\n",
        "Formula:\n",
        "𝐾\n",
        "(\n",
        "𝑥\n",
        ",\n",
        "𝑥\n",
        "′\n",
        ")\n",
        "=\n",
        "𝑥\n",
        "𝑇\n",
        "𝑥\n",
        "′\n",
        "K(x,x\n",
        "′\n",
        " )=x\n",
        "T\n",
        " x\n",
        "′\n",
        "\n",
        "\n",
        "Suitable for: Linearly separable data.\n",
        "\n",
        "Pros: Fast and simple; no need for transformation.\n",
        "\n",
        "Cons: Can't handle non-linear relationships.\n",
        "\n",
        "Polynomial Kernel:\n",
        "Formula:\n",
        "𝐾\n",
        "(\n",
        "𝑥\n",
        ",\n",
        "𝑥\n",
        "′\n",
        ")\n",
        "=\n",
        "(\n",
        "𝑥\n",
        "𝑇\n",
        "𝑥\n",
        "′\n",
        "+\n",
        "𝑐\n",
        ")\n",
        "𝑑\n",
        "K(x,x\n",
        "′\n",
        " )=(x\n",
        "T\n",
        " x\n",
        "′\n",
        " +c)\n",
        "d\n",
        "\n",
        "\n",
        "Suitable for: Data that requires higher-order separation.\n",
        "\n",
        "Pros: Can capture complex relationships with the degree parameter\n",
        "𝑑\n",
        "d.\n",
        "\n",
        "Cons: Computationally expensive as degree increases; sensitive to the parameter choice.\n",
        "\n",
        "RBF (Radial Basis Function) Kernel:\n",
        "Formula:\n",
        "𝐾\n",
        "(\n",
        "𝑥\n",
        ",\n",
        "𝑥\n",
        "′\n",
        ")\n",
        "=\n",
        "exp\n",
        "⁡\n",
        "(\n",
        "−\n",
        "𝛾\n",
        "∣\n",
        "∣\n",
        "𝑥\n",
        "−\n",
        "𝑥\n",
        "′\n",
        "∣\n",
        "∣\n",
        "2\n",
        ")\n",
        "K(x,x\n",
        "′\n",
        " )=exp(−γ∣∣x−x\n",
        "′\n",
        " ∣∣\n",
        "2\n",
        " )\n",
        "\n",
        "Suitable for: Non-linear data with complex boundaries.\n",
        "\n",
        "Pros: Can handle complex, non-linear decision boundaries; widely used.\n",
        "\n",
        "Cons: Sensitive to the\n",
        "𝛾\n",
        "γ parameter; may overfit with too large\n",
        "𝛾\n",
        "γ."
      ],
      "metadata": {
        "id": "kmdetaYMyXS6"
      }
    },
    {
      "cell_type": "markdown",
      "source": [
        " Q10) What is the effect of the C parameter in SVM?"
      ],
      "metadata": {
        "id": "p942Xq1UyaCe"
      }
    },
    {
      "cell_type": "markdown",
      "source": [
        "The C parameter in SVM controls the trade-off between maximizing the margin and minimizing the classification error.\n",
        "\n",
        "High C: The model tries to classify all training points correctly (low bias, high variance), possibly leading to overfitting.\n",
        "\n",
        "Low C: The model allows more misclassifications (high bias, low variance), leading to better generalization on unseen data.\n",
        "\n",
        "In essence, C controls the penalty for misclassification."
      ],
      "metadata": {
        "id": "HbXpV7O5ygkz"
      }
    },
    {
      "cell_type": "markdown",
      "source": [
        "Q11) What is the role of the Gamma parameter in RBF Kernel SVM?"
      ],
      "metadata": {
        "id": "dG6lk7b_ypzK"
      }
    },
    {
      "cell_type": "markdown",
      "source": [
        "The Gamma (γ) parameter in RBF Kernel SVM controls the spread of the kernel and thus affects the decision boundary.\n",
        "\n",
        "High Gamma: The model becomes more sensitive to individual data points, creating a complex, tighter boundary (may lead to overfitting).\n",
        "\n",
        "Low Gamma: The model becomes less sensitive, leading to a smoother, broader decision boundary (may lead to underfitting).\n",
        "\n",
        "In short, Gamma influences the locality of data influence in the kernel space."
      ],
      "metadata": {
        "id": "6u8T8g1nyvuZ"
      }
    },
    {
      "cell_type": "markdown",
      "source": [
        "Q12) What is the Naïve Bayes classifier, and why is it called \"Naïve?"
      ],
      "metadata": {
        "id": "9Md69gWoy1a3"
      }
    },
    {
      "cell_type": "markdown",
      "source": [
        "The Naïve Bayes classifier is a probabilistic model based on Bayes' Theorem, used for classification tasks. It assumes that the features are independent given the class label.\n",
        "\n",
        "It is called \"Naïve\" because it makes the simplifying assumption that all features are independent of each other, which is rarely true in real-world data, hence the term \"naïve.\" Despite this assumption, it often performs well in practice."
      ],
      "metadata": {
        "id": "GmLEwm9Qy7Pc"
      }
    },
    {
      "cell_type": "markdown",
      "source": [
        "Q13) What is Bayes’ Theorem?"
      ],
      "metadata": {
        "id": "IqA-IJegzOd_"
      }
    },
    {
      "cell_type": "markdown",
      "source": [
        "Bayes' Theorem is a fundamental theorem in probability theory that describes the likelihood of an event, based on prior knowledge of conditions that might be related to the event.\n",
        "\n",
        "The formula is:\n",
        "\n",
        "𝑃\n",
        "(\n",
        "𝐴\n",
        "∣\n",
        "𝐵\n",
        ")\n",
        "=\n",
        "𝑃\n",
        "(\n",
        "𝐵\n",
        "∣\n",
        "𝐴\n",
        ")\n",
        "⋅\n",
        "𝑃\n",
        "(\n",
        "𝐴\n",
        ")\n",
        "𝑃\n",
        "(\n",
        "𝐵\n",
        ")\n",
        "P(A∣B)=\n",
        "P(B)\n",
        "P(B∣A)⋅P(A)\n",
        "​\n",
        "\n",
        "Where:\n",
        "\n",
        "𝑃\n",
        "(\n",
        "𝐴\n",
        "∣\n",
        "𝐵\n",
        ")\n",
        "P(A∣B) is the posterior probability (probability of\n",
        "𝐴\n",
        "A given\n",
        "𝐵\n",
        "B).\n",
        "\n",
        "𝑃\n",
        "(\n",
        "𝐵\n",
        "∣\n",
        "𝐴\n",
        ")\n",
        "P(B∣A) is the likelihood (probability of\n",
        "𝐵\n",
        "B given\n",
        "𝐴\n",
        "A).\n",
        "\n",
        "𝑃\n",
        "(\n",
        "𝐴\n",
        ")\n",
        "P(A) is the prior probability (initial belief about\n",
        "𝐴\n",
        "A).\n",
        "\n",
        "𝑃\n",
        "(\n",
        "𝐵\n",
        ")\n",
        "P(B) is the evidence (total probability of\n",
        "𝐵\n",
        "B).\n",
        "\n",
        "It helps in updating probabilities as new data becomes available."
      ],
      "metadata": {
        "id": "gtb2N7dFzFas"
      }
    },
    {
      "cell_type": "markdown",
      "source": [
        "Q14) Explain the differences between Gaussian Naïve Bayes, Multinomial Naïve Bayes, and Bernoulli Naïve Bayes?"
      ],
      "metadata": {
        "id": "gzu_3xQNzVCB"
      }
    },
    {
      "cell_type": "markdown",
      "source": [
        "Here’s a comparison of the three types of Naïve Bayes classifiers:\n",
        "\n",
        "1. Gaussian Naïve Bayes:\n",
        "Assumes that the features follow a Gaussian (normal) distribution.\n",
        "\n",
        "Suitable for continuous data.\n",
        "\n",
        "Uses the mean and variance of each feature for each class to calculate probabilities.\n",
        "\n",
        "2. Multinomial Naïve Bayes:\n",
        "Assumes that the features represent count data (e.g., word counts in text classification).\n",
        "\n",
        "Suitable for discrete data, especially for text classification (like bag-of-words models).\n",
        "\n",
        "Uses the frequency of occurrences of each feature (or word) in each class to compute probabilities.\n",
        "\n",
        "3. Bernoulli Naïve Bayes:\n",
        "Assumes binary features (0 or 1), typically indicating the presence or absence of a feature.\n",
        "\n",
        "Suitable for binary or boolean data, where each feature represents a yes/no outcome.\n",
        "\n",
        "Uses the probability of a feature being present or absent in each class.\n",
        "\n",
        "Summary:\n",
        "Gaussian: For continuous data with a normal distribution.\n",
        "\n",
        "Multinomial: For count-based data, commonly used in text classification.\n",
        "\n",
        "Bernoulli: For binary (yes/no) data."
      ],
      "metadata": {
        "id": "EgqSCIa4zfum"
      }
    },
    {
      "cell_type": "markdown",
      "source": [
        " Q15) When should you use Gaussian Naïve Bayes over other variants?"
      ],
      "metadata": {
        "id": "IaQVMZ0hzihd"
      }
    },
    {
      "cell_type": "markdown",
      "source": [
        "You should use Gaussian Naïve Bayes when:\n",
        "\n",
        "Features are continuous and you believe they follow a Gaussian (normal) distribution.\n",
        "\n",
        "You have a relatively small dataset and need a model that can perform well with less data.\n",
        "\n",
        "You want a simple and fast classifier for tasks where feature independence holds reasonably well.\n",
        "\n",
        "If the data is discrete or consists of counts (like in text classification), other variants like Multinomial Naïve Bayes would be more appropriate."
      ],
      "metadata": {
        "id": "DPFpSGwJzrox"
      }
    },
    {
      "cell_type": "markdown",
      "source": [
        "Q16) What are the key assumptions made by Naïve Bayes?"
      ],
      "metadata": {
        "id": "TfgOIWGKzwUJ"
      }
    },
    {
      "cell_type": "markdown",
      "source": [
        "The key assumptions made by Naïve Bayes are:\n",
        "\n",
        "Feature Independence: Each feature is assumed to be independent of the others given the class label. This is the \"naïve\" assumption.\n",
        "\n",
        "Conditional Probability: The probability of each feature is independent of the others when conditioned on the class label.\n",
        "\n",
        "Class Conditional Distribution: Each feature follows a specific probability distribution (e.g., Gaussian, multinomial, or Bernoulli), depending on the variant of Naïve Bayes being used.\n",
        "\n",
        "These assumptions make the model computationally efficient but are often unrealistic in real-world data, yet it can still perform surprisingly well in many cases."
      ],
      "metadata": {
        "id": "JbprHny6z3Bi"
      }
    },
    {
      "cell_type": "markdown",
      "source": [
        "Q17) What are the advantages and disadvantages of Naïve Bayes?"
      ],
      "metadata": {
        "id": "eYb-Mco7z9YO"
      }
    },
    {
      "cell_type": "markdown",
      "source": [
        "Advantages of Naïve Bayes:\n",
        "Simple and Fast: Easy to implement, computationally efficient, and fast to train, especially on large datasets.\n",
        "\n",
        "Works well with small datasets: Effective even when the amount of data is limited.\n",
        "\n",
        "Handles both binary and multi-class problems: Suitable for a variety of classification tasks.\n",
        "\n",
        "Robust to irrelevant features: Irrelevant features don't significantly degrade performance.\n",
        "\n",
        "Performs well with text classification: Often used for spam detection, sentiment analysis, etc., due to its performance with word count data (Multinomial variant).\n",
        "\n",
        "Disadvantages of Naïve Bayes:\n",
        "Strong Independence Assumption: Assumes features are independent, which is often unrealistic, leading to poor performance when features are correlated.\n",
        "\n",
        "Poor Performance with Complex Relationships: Struggles with datasets where feature interactions are important or complex.\n",
        "\n",
        "Requires well-defined probability distributions: Assumptions like Gaussian or multinomial distributions may not always match real-world data, leading to inaccurate predictions.\n",
        "\n",
        "Sensitive to Data Imbalance: Can be biased towards the majority class if the data is highly imbalanced."
      ],
      "metadata": {
        "id": "qFnGdwYE0Hux"
      }
    },
    {
      "cell_type": "markdown",
      "source": [
        "Q18) Why is Naïve Bayes a good choice for text classification?"
      ],
      "metadata": {
        "id": "Fd9TT7gX0JK0"
      }
    },
    {
      "cell_type": "markdown",
      "source": [
        "Naïve Bayes is a good choice for text classification for several reasons:\n",
        "\n",
        "Handles High-Dimensional Data Well: Text data typically has a large number of features (words), and Naïve Bayes can efficiently handle high-dimensional spaces due to its simplicity and reliance on feature independence.\n",
        "\n",
        "Works Well with Sparse Data: In text classification, most documents contain only a small subset of the total vocabulary. Naïve Bayes performs well with sparse, high-dimensional datasets (e.g., bag-of-words models).\n",
        "\n",
        "Fast and Scalable: Naïve Bayes is computationally efficient and can quickly train on large text datasets, making it suitable for real-time applications like spam filtering.\n",
        "\n",
        "Good with Frequency-Based Features: The Multinomial variant of Naïve Bayes works well when features are based on word frequencies, as it can model the frequency distribution of words in each class.\n",
        "\n",
        "Works Well with Small Training Data: Even with limited labeled data, Naïve Bayes can make reasonable predictions, which is common in text classification tasks where labeled data may be sparse.\n",
        "\n",
        "Robust to Irrelevant Features: In text classification, not every word is important for classification. Naïve Bayes remains robust even if many features (words) are irrelevant."
      ],
      "metadata": {
        "id": "N-i0DywS0Oqc"
      }
    },
    {
      "cell_type": "markdown",
      "source": [
        " Q19) Compare SVM and Naïve Bayes for classification tasks?\n"
      ],
      "metadata": {
        "id": "5WRWRxYJ0aIz"
      }
    },
    {
      "cell_type": "markdown",
      "source": [
        "Here's a concise comparison between SVM and Naïve Bayes for classification tasks:\n",
        "\n",
        "Support Vector Machine (SVM):\n",
        "Model Type: SVM is a discriminative model, focused on finding the optimal boundary (hyperplane) between classes.\n",
        "\n",
        "Assumptions: SVM makes no assumptions about the distribution of the data.\n",
        "\n",
        "Performance: Works well with both linear and non-linear data (via kernel trick) and is effective in high-dimensional spaces.\n",
        "\n",
        "Training Time: Can be slow for large datasets, especially with non-linear kernels.\n",
        "\n",
        "Feature Independence: Does not assume features are independent; it works with correlated features.\n",
        "\n",
        "Memory Usage: Can be memory-intensive, especially with a large number of support vectors.\n",
        "\n",
        "Best For: Tasks where the decision boundary is complex and you need a robust classifier, like text classification with high-dimensional feature spaces, image recognition, etc.\n",
        "\n",
        "Naïve Bayes:\n",
        "Model Type: Naïve Bayes is a generative model, estimating the probability of a class given the features, and assuming conditional independence between features.\n",
        "\n",
        "Assumptions: Assumes feature independence, which often doesn’t hold in real-world data.\n",
        "\n",
        "Performance: Performs well on linearly separable data and is especially effective when the independence assumption is approximately true (e.g., text classification with word counts).\n",
        "\n",
        "Training Time: Very fast to train, even with large datasets.\n",
        "\n",
        "Feature Independence: Assumes features are independent given the class label, which can be a strong limitation.\n",
        "\n",
        "Memory Usage: Typically uses less memory compared to SVM.\n",
        "\n",
        "Best For: Text classification (e.g., spam detection, sentiment analysis), especially when the feature space is large and the training data is sparse.\n",
        "\n",
        "Summary:\n",
        "SVM is more powerful for complex, non-linear decision boundaries and works well with both small and large feature spaces.\n",
        "\n",
        "Naïve Bayes is simpler, faster, and works well with text data, but its assumption of feature independence can limit its performance in many real-world scenarios where features are correlated."
      ],
      "metadata": {
        "id": "8q8pvdw80f0H"
      }
    },
    {
      "cell_type": "markdown",
      "source": [
        " Q20) How does Laplace Smoothing help in Naïve Bayes?"
      ],
      "metadata": {
        "id": "W6CoMWTX0vGw"
      }
    },
    {
      "cell_type": "markdown",
      "source": [
        "Laplace Smoothing (also known as additive smoothing) is used in Naïve Bayes to handle the problem of zero probabilities for features that do not appear in the training data for a particular class.\n",
        "\n",
        "How It Helps:\n",
        "Prevents Zero Probabilities: Without smoothing, if a feature (e.g., a word in text classification) doesn't appear in the training data for a class, the probability for that feature would be zero, which would make the entire class probability zero. Laplace smoothing adds a small value (usually 1) to the frequency counts, ensuring no zero probabilities.\n",
        "\n",
        "Improves Generalization: By adding a small constant to all counts, Laplace smoothing prevents overfitting, especially in cases where certain features may not appear in the training set but could appear in the test set.\n",
        "\n",
        "Formula Adjustment: The probability of a feature is adjusted as:\n",
        "\n",
        "𝑃\n",
        "(\n",
        "𝑤\n",
        "∣\n",
        "𝐶\n",
        ")\n",
        "=\n",
        "count\n",
        "(\n",
        "𝑤\n",
        ",\n",
        "𝐶\n",
        ")\n",
        "+\n",
        "1\n",
        "count of all words in\n",
        "𝐶\n",
        "+\n",
        "∣\n",
        "𝑉\n",
        "∣\n",
        "P(w∣C)=\n",
        "count of all words in C+∣V∣\n",
        "count(w,C)+1\n",
        "​\n",
        "\n",
        "Where\n",
        "∣\n",
        "𝑉\n",
        "∣\n",
        "∣V∣ is the size of the vocabulary (the total number of unique features), ensuring that every feature gets a non-zero probability."
      ],
      "metadata": {
        "id": "Y7GIBw1y0nN8"
      }
    },
    {
      "cell_type": "markdown",
      "source": [
        "Q21) Write a Python program to train an SVM Classifier on the Iris dataset and evaluate accuracy?"
      ],
      "metadata": {
        "id": "ASQJ84_i016B"
      }
    },
    {
      "cell_type": "code",
      "source": [
        "# Import necessary libraries\n",
        "from sklearn import datasets\n",
        "from sklearn.model_selection import train_test_split\n",
        "from sklearn.svm import SVC\n",
        "from sklearn.metrics import accuracy_score\n",
        "\n",
        "# Load the Iris dataset\n",
        "iris = datasets.load_iris()\n",
        "X = iris.data  # Features\n",
        "y = iris.target  # Target labels\n",
        "\n",
        "# Split the data into training and testing sets\n",
        "X_train, X_test, y_train, y_test = train_test_split(X, y, test_size=0.3, random_state=42)\n",
        "\n",
        "# Create an SVM classifier (using linear kernel)\n",
        "svm_classifier = SVC(kernel='linear')\n",
        "\n",
        "# Train the classifier\n",
        "svm_classifier.fit(X_train, y_train)\n",
        "\n",
        "# Make predictions on the test set\n",
        "y_pred = svm_classifier.predict(X_test)\n",
        "\n",
        "# Evaluate the accuracy\n",
        "accuracy = accuracy_score(y_test, y_pred)\n",
        "print(f\"Accuracy of the SVM classifier: {accuracy * 100:.2f}%\")"
      ],
      "metadata": {
        "colab": {
          "base_uri": "https://localhost:8080/"
        },
        "id": "92LBB1X91JNa",
        "outputId": "b8404de8-526e-43e0-e4a4-aaa568f41cdc"
      },
      "execution_count": null,
      "outputs": [
        {
          "output_type": "stream",
          "name": "stdout",
          "text": [
            "Accuracy of the SVM classifier: 100.00%\n"
          ]
        }
      ]
    },
    {
      "cell_type": "markdown",
      "source": [
        " Q22) Write a Python program to train two SVM classifiers with Linear and RBF kernels on the Wine dataset, then\n",
        "compare their accuracies?"
      ],
      "metadata": {
        "id": "fEpKU7mH1Wrf"
      }
    },
    {
      "cell_type": "code",
      "source": [
        "# Import necessary libraries\n",
        "from sklearn import datasets\n",
        "from sklearn.model_selection import train_test_split\n",
        "from sklearn.svm import SVC\n",
        "from sklearn.metrics import accuracy_score\n",
        "\n",
        "# Load the Wine dataset\n",
        "wine = datasets.load_wine()\n",
        "X = wine.data  # Features\n",
        "y = wine.target  # Target labels\n",
        "\n",
        "# Split the data into training and testing sets\n",
        "X_train, X_test, y_train, y_test = train_test_split(X, y, test_size=0.3, random_state=42)\n",
        "\n",
        "# Create SVM classifiers with different kernels\n",
        "svm_linear = SVC(kernel='linear')\n",
        "svm_rbf = SVC(kernel='rbf')\n",
        "\n",
        "# Train the Linear kernel SVM\n",
        "svm_linear.fit(X_train, y_train)\n",
        "\n",
        "# Train the RBF kernel SVM\n",
        "svm_rbf.fit(X_train, y_train)\n",
        "\n",
        "# Make predictions on the test set\n",
        "y_pred_linear = svm_linear.predict(X_test)\n",
        "y_pred_rbf = svm_rbf.predict(X_test)\n",
        "\n",
        "# Evaluate accuracy for both classifiers\n",
        "accuracy_linear = accuracy_score(y_test, y_pred_linear)\n",
        "accuracy_rbf = accuracy_score(y_test, y_pred_rbf)\n",
        "\n",
        "# Print the results\n",
        "print(f\"Accuracy of SVM with Linear kernel: {accuracy_linear * 100:.2f}%\")\n",
        "print(f\"Accuracy of SVM with RBF kernel: {accuracy_rbf * 100:.2f}%\")"
      ],
      "metadata": {
        "colab": {
          "base_uri": "https://localhost:8080/"
        },
        "id": "VZp2FhKC1WWa",
        "outputId": "6a71a701-f731-433f-a24b-032ab9a13739"
      },
      "execution_count": null,
      "outputs": [
        {
          "output_type": "stream",
          "name": "stdout",
          "text": [
            "Accuracy of SVM with Linear kernel: 98.15%\n",
            "Accuracy of SVM with RBF kernel: 75.93%\n"
          ]
        }
      ]
    },
    {
      "cell_type": "markdown",
      "source": [
        "Q23) Write a Python program to train an SVM Regressor (SVR) on a housing dataset and evaluate it using Mean\n",
        "Squared Error (MSE)?"
      ],
      "metadata": {
        "id": "4a-jmFAZ1klw"
      }
    },
    {
      "cell_type": "code",
      "source": [
        "# Import necessary libraries\n",
        "import numpy as np\n",
        "from sklearn import datasets\n",
        "from sklearn.model_selection import train_test_split\n",
        "from sklearn.svm import SVR\n",
        "from sklearn.metrics import mean_squared_error\n",
        "from sklearn.preprocessing import StandardScaler\n",
        "\n",
        "# Load a sample housing dataset (California Housing dataset)\n",
        "from sklearn.datasets import fetch_california_housing\n",
        "housing = fetch_california_housing()\n",
        "X = housing.data  # Features\n",
        "y = housing.target  # Target labels (house prices)\n",
        "\n",
        "# Split the data into training and testing sets\n",
        "X_train, X_test, y_train, y_test = train_test_split(X, y, test_size=0.3, random_state=42)\n",
        "\n",
        "# Standardize the features (important for SVM)\n",
        "scaler = StandardScaler()\n",
        "X_train_scaled = scaler.fit_transform(X_train)\n",
        "X_test_scaled = scaler.transform(X_test)\n",
        "\n",
        "# Create an SVR model\n",
        "svr = SVR(kernel='rbf')\n",
        "\n",
        "# Train the SVR model\n",
        "svr.fit(X_train_scaled, y_train)\n",
        "\n",
        "# Make predictions on the test set\n",
        "y_pred = svr.predict(X_test_scaled)\n",
        "\n",
        "# Evaluate the model using Mean Squared Error (MSE)\n",
        "mse = mean_squared_error(y_test, y_pred)\n",
        "print(f\"Mean Squared Error (MSE) of the SVR model: {mse:.2f}\")"
      ],
      "metadata": {
        "colab": {
          "base_uri": "https://localhost:8080/"
        },
        "id": "pijUjHeX1vD_",
        "outputId": "7f675126-9a5f-4e7c-87cf-c4368daa1356"
      },
      "execution_count": null,
      "outputs": [
        {
          "output_type": "stream",
          "name": "stdout",
          "text": [
            "Mean Squared Error (MSE) of the SVR model: 0.35\n"
          ]
        }
      ]
    },
    {
      "cell_type": "markdown",
      "source": [
        " Q24) Write a Python program to train an SVM Classifier with a Polynomial Kernel and visualize the decision\n",
        "boundary?"
      ],
      "metadata": {
        "id": "bVzwPH6w11Mo"
      }
    },
    {
      "cell_type": "code",
      "source": [
        "# Import necessary libraries\n",
        "import numpy as np\n",
        "import matplotlib.pyplot as plt\n",
        "from sklearn import datasets\n",
        "from sklearn.svm import SVC\n",
        "from sklearn.model_selection import train_test_split\n",
        "\n",
        "# Create a simple 2D dataset for visualization (with make_classification)\n",
        "X, y = datasets.make_classification(n_samples=100, n_features=2, n_classes=2,\n",
        "                                     n_clusters_per_class=1, n_redundant=0, random_state=42)\n",
        "\n",
        "# Split the dataset into training and testing sets\n",
        "X_train, X_test, y_train, y_test = train_test_split(X, y, test_size=0.3, random_state=42)\n",
        "\n",
        "# Create an SVM classifier with a Polynomial kernel\n",
        "svm_poly = SVC(kernel='poly', degree=3, coef0=1)\n",
        "\n",
        "# Train the model\n",
        "svm_poly.fit(X_train, y_train)\n",
        "\n",
        "# Plot the decision boundary\n",
        "x_min, x_max = X[:, 0].min() - 1, X[:, 0].max() + 1\n",
        "y_min, y_max = X[:, 1].min() - 1, X[:, 1].max() + 1\n",
        "\n",
        "xx, yy = np.meshgrid(np.linspace(x_min, x_max, 100),\n",
        "                     np.linspace(y_min, y_max, 100))\n",
        "\n",
        "# Get the predictions for the meshgrid points\n",
        "Z = svm_poly.predict(np.c_[xx.ravel(), yy.ravel()])\n",
        "Z = Z.reshape(xx.shape)\n",
        "\n",
        "# Plot the decision boundary and data points\n",
        "plt.contourf(xx, yy, Z, alpha=0.3, cmap=plt.cm.coolwarm)\n",
        "plt.scatter(X[:, 0], X[:, 1], c=y, edgecolors='k', marker='o', cmap=plt.cm.coolwarm)\n",
        "plt.title(\"SVM with Polynomial Kernel (Degree=3)\")\n",
        "plt.xlabel(\"Feature 1\")\n",
        "plt.ylabel(\"Feature 2\")\n",
        "plt.show()\n"
      ],
      "metadata": {
        "colab": {
          "base_uri": "https://localhost:8080/",
          "height": 472
        },
        "id": "FEvhek_H2jDA",
        "outputId": "b39b76eb-9bca-4711-d4b3-6569e59f4a24"
      },
      "execution_count": null,
      "outputs": [
        {
          "output_type": "display_data",
          "data": {
            "text/plain": [
              "<Figure size 640x480 with 1 Axes>"
            ],
            "image/png": "[encoded data removed]"
          },
          "metadata": {}
        }
      ]
    },
    {
      "cell_type": "markdown",
      "source": [
        " Q25) Write a Python program to train a Gaussian Naïve Bayes classifier on the Breast Cancer dataset and\n",
        "evaluate accuracy?"
      ],
      "metadata": {
        "id": "SSzTArvO2nQL"
      }
    },
    {
      "cell_type": "code",
      "source": [
        "# Import necessary libraries\n",
        "from sklearn import datasets\n",
        "from sklearn.model_selection import train_test_split\n",
        "from sklearn.naive_bayes import GaussianNB\n",
        "from sklearn.metrics import accuracy_score\n",
        "\n",
        "# Load the Breast Cancer dataset\n",
        "cancer = datasets.load_breast_cancer()\n",
        "X = cancer.data  # Features\n",
        "y = cancer.target  # Target labels (malignant or benign)\n",
        "\n",
        "# Split the data into training and testing sets\n",
        "X_train, X_test, y_train, y_test = train_test_split(X, y, test_size=0.3, random_state=42)\n",
        "\n",
        "# Create a Gaussian Naïve Bayes classifier\n",
        "gnb = GaussianNB()\n",
        "\n",
        "# Train the model\n",
        "gnb.fit(X_train, y_train)\n",
        "\n",
        "# Make predictions on the test set\n",
        "y_pred = gnb.predict(X_test)\n",
        "\n",
        "# Evaluate accuracy\n",
        "accuracy = accuracy_score(y_test, y_pred)\n",
        "print(f\"Accuracy of the Gaussian Naïve Bayes classifier: {accuracy * 100:.2f}%\")\n"
      ],
      "metadata": {
        "colab": {
          "base_uri": "https://localhost:8080/"
        },
        "id": "iww_U9Zo22hE",
        "outputId": "e02907b5-d4ed-431b-c5f3-bcf19c631b13"
      },
      "execution_count": null,
      "outputs": [
        {
          "output_type": "stream",
          "name": "stdout",
          "text": [
            "Accuracy of the Gaussian Naïve Bayes classifier: 94.15%\n"
          ]
        }
      ]
    },
    {
      "cell_type": "markdown",
      "source": [
        "Q26) Write a Python program to train a Multinomial Naïve Bayes classifier for text classification using the 20\n",
        "Newsgroups dataset?"
      ],
      "metadata": {
        "id": "Ila65yFk25LN"
      }
    },
    {
      "cell_type": "code",
      "source": [
        "# Import necessary libraries\n",
        "from sklearn.datasets import fetch_20newsgroups\n",
        "from sklearn.model_selection import train_test_split\n",
        "from sklearn.feature_extraction.text import CountVectorizer\n",
        "from sklearn.naive_bayes import MultinomialNB\n",
        "from sklearn.metrics import accuracy_score, classification_report\n",
        "\n",
        "# Load the 20 Newsgroups dataset\n",
        "newsgroups = fetch_20newsgroups(subset='all')  # 'all' loads both training and testing data\n",
        "\n",
        "X = newsgroups.data  # Text data\n",
        "y = newsgroups.target  # Target labels (newsgroup categories)\n",
        "\n",
        "# Split the dataset into training and testing sets\n",
        "X_train, X_test, y_train, y_test = train_test_split(X, y, test_size=0.3, random_state=42)\n",
        "\n",
        "# Convert text data to feature vectors using CountVectorizer\n",
        "vectorizer = CountVectorizer(stop_words='english')\n",
        "X_train_vect = vectorizer.fit_transform(X_train)\n",
        "X_test_vect = vectorizer.transform(X_test)\n",
        "\n",
        "# Create a Multinomial Naïve Bayes classifier\n",
        "mnb = MultinomialNB()\n",
        "\n",
        "# Train the model\n",
        "mnb.fit(X_train_vect, y_train)\n",
        "\n",
        "# Make predictions on the test set\n",
        "y_pred = mnb.predict(X_test_vect)\n",
        "\n",
        "# Evaluate accuracy and print classification report\n",
        "accuracy = accuracy_score(y_test, y_pred)\n",
        "print(f\"Accuracy of Multinomial Naïve Bayes classifier: {accuracy * 100:.2f}%\")\n",
        "print(\"\\nClassification Report:\")\n",
        "print(classification_report(y_test, y_pred, target_names=newsgroups.target_names))"
      ],
      "metadata": {
        "colab": {
          "base_uri": "https://localhost:8080/"
        },
        "id": "0sFQrlpR3BoN",
        "outputId": "53804960-792b-4ae6-d72a-358dfdd089bb"
      },
      "execution_count": null,
      "outputs": [
        {
          "output_type": "stream",
          "name": "stdout",
          "text": [
            "Accuracy of Multinomial Naïve Bayes classifier: 87.30%\n",
            "\n",
            "Classification Report:\n",
            "                          precision    recall  f1-score   support\n",
            "\n",
            "             alt.atheism       0.87      0.93      0.90       236\n",
            "           comp.graphics       0.65      0.92      0.76       287\n",
            " comp.os.ms-windows.misc       0.97      0.39      0.56       290\n",
            "comp.sys.ibm.pc.hardware       0.63      0.87      0.73       285\n",
            "   comp.sys.mac.hardware       0.92      0.83      0.87       312\n",
            "          comp.windows.x       0.86      0.83      0.85       308\n",
            "            misc.forsale       0.90      0.74      0.81       276\n",
            "               rec.autos       0.92      0.92      0.92       304\n",
            "         rec.motorcycles       0.96      0.95      0.95       279\n",
            "      rec.sport.baseball       0.97      0.95      0.96       308\n",
            "        rec.sport.hockey       0.95      0.98      0.96       309\n",
            "               sci.crypt       0.89      0.97      0.93       290\n",
            "         sci.electronics       0.88      0.84      0.86       304\n",
            "                 sci.med       0.96      0.93      0.94       300\n",
            "               sci.space       0.91      0.98      0.94       297\n",
            "  soc.religion.christian       0.86      0.99      0.92       292\n",
            "      talk.politics.guns       0.89      0.94      0.91       270\n",
            "   talk.politics.mideast       0.95      0.99      0.97       272\n",
            "      talk.politics.misc       0.86      0.89      0.87       239\n",
            "      talk.religion.misc       0.94      0.55      0.69       196\n",
            "\n",
            "                accuracy                           0.87      5654\n",
            "               macro avg       0.89      0.87      0.87      5654\n",
            "            weighted avg       0.89      0.87      0.87      5654\n",
            "\n"
          ]
        }
      ]
    },
    {
      "cell_type": "markdown",
      "source": [
        "Q27) Write a Python program to train an SVM Classifier with different C values and compare the decision\n",
        "boundaries visually?"
      ],
      "metadata": {
        "id": "aMEivnR53Oxj"
      }
    },
    {
      "cell_type": "code",
      "source": [
        "# Import necessary libraries\n",
        "import numpy as np\n",
        "import matplotlib.pyplot as plt\n",
        "from sklearn import datasets\n",
        "from sklearn.svm import SVC\n",
        "from sklearn.model_selection import train_test_split\n",
        "from sklearn.preprocessing import StandardScaler\n",
        "\n",
        "# Create a 2D dataset for visualization (make_classification)\n",
        "X, y = datasets.make_classification(n_samples=100, n_features=2, n_classes=2,\n",
        "                                     n_clusters_per_class=1, random_state=42,\n",
        "                                     n_informative=2, n_redundant=0)\n",
        "\n",
        "# Split the dataset into training and testing sets\n",
        "X_train, X_test, y_train, y_test = train_test_split(X, y, test_size=0.3, random_state=42)\n",
        "\n",
        "# Standardize the features (important for SVM)\n",
        "scaler = StandardScaler()\n",
        "X_train_scaled = scaler.fit_transform(X_train)\n",
        "X_test_scaled = scaler.transform(X_test)\n",
        "\n",
        "# Set C values to experiment with\n",
        "C_values = [0.1, 1, 10]\n",
        "\n",
        "# Create a plot for decision boundaries\n",
        "plt.figure(figsize=(18, 6))\n",
        "\n",
        "# Iterate over each C value and plot the decision boundary\n",
        "for i, C in enumerate(C_values, 1):\n",
        "    # Create and train the SVM classifier\n",
        "    svm = SVC(kernel='linear', C=C)\n",
        "    svm.fit(X_train_scaled, y_train)\n",
        "\n",
        "    # Plot the decision boundary for the classifier\n",
        "    plt.subplot(1, 3, i)\n",
        "    x_min, x_max = X[:, 0].min() - 1, X[:, 0].max() + 1\n",
        "    y_min, y_max = X[:, 1].min() - 1, X[:, 1].max() + 1\n",
        "\n",
        "    xx, yy = np.meshgrid(np.linspace(x_min, x_max, 100),\n",
        "                         np.linspace(y_min, y_max, 100))\n",
        "\n",
        "    Z = svm.predict(np.c_[xx.ravel(), yy.ravel()])\n",
        "    Z = Z.reshape(xx.shape)\n",
        "\n",
        "    # Plot decision boundary and the data points\n",
        "    plt.contourf(xx, yy, Z, alpha=0.3, cmap=plt.cm.coolwarm)\n",
        "    plt.scatter(X[:, 0], X[:, 1], c=y, edgecolors='k', marker='o', cmap=plt.cm.coolwarm)\n",
        "    plt.title(f\"SVM with C={C}\")\n",
        "    plt.xlabel(\"Feature 1\")\n",
        "    plt.ylabel(\"Feature 2\")\n",
        "\n",
        "plt.tight_layout()\n",
        "plt.show()\n"
      ],
      "metadata": {
        "colab": {
          "base_uri": "https://localhost:8080/",
          "height": 398
        },
        "id": "xA38Nu6M3rX2",
        "outputId": "8b6e5214-487d-4595-91ad-ad2bf8268f2a"
      },
      "execution_count": null,
      "outputs": [
        {
          "output_type": "display_data",
          "data": {
            "text/plain": [
              "<Figure size 1800x600 with 3 Axes>"
            ],
            "image/png": "[encoded data removed]"
          },
          "metadata": {}
        }
      ]
    },
    {
      "cell_type": "markdown",
      "source": [
        "Q28) Write a Python program to train a Bernoulli Naïve Bayes classifier for binary classification on a dataset with\n",
        "binary features?"
      ],
      "metadata": {
        "id": "LroqNKe83t-u"
      }
    },
    {
      "cell_type": "code",
      "source": [
        "# Import necessary libraries\n",
        "import numpy as np\n",
        "import matplotlib.pyplot as plt\n",
        "from sklearn.naive_bayes import BernoulliNB\n",
        "from sklearn.model_selection import train_test_split\n",
        "from sklearn.datasets import make_classification\n",
        "from sklearn.metrics import accuracy_score, classification_report\n",
        "\n",
        "# Create a binary classification dataset with binary features\n",
        "X, y = make_classification(n_samples=100, n_features=10, n_informative=2, n_redundant=0,\n",
        "                           n_classes=2, random_state=42, flip_y=0, n_clusters_per_class=1)\n",
        "\n",
        "# Convert the features to binary (0 or 1) by thresholding\n",
        "X = np.random.binomial(1, 0.5, size=X.shape)\n",
        "\n",
        "# Split the dataset into training and testing sets\n",
        "X_train, X_test, y_train, y_test = train_test_split(X, y, test_size=0.3, random_state=42)\n",
        "\n",
        "# Create a Bernoulli Naïve Bayes classifier\n",
        "bnb = BernoulliNB()\n",
        "\n",
        "# Train the model\n",
        "bnb.fit(X_train, y_train)\n",
        "\n",
        "# Make predictions on the test set\n",
        "y_pred = bnb.predict(X_test)\n",
        "\n",
        "# Evaluate accuracy and print classification report\n",
        "accuracy = accuracy_score(y_test, y_pred)\n",
        "print(f\"Accuracy of Bernoulli Naïve Bayes classifier: {accuracy * 100:.2f}%\")\n",
        "print(\"\\nClassification Report:\")\n",
        "print(classification_report(y_test, y_pred))\n"
      ],
      "metadata": {
        "colab": {
          "base_uri": "https://localhost:8080/"
        },
        "id": "tTjtP-bv331B",
        "outputId": "e9b6a92c-6f64-484e-9d64-204d5a7cf640"
      },
      "execution_count": null,
      "outputs": [
        {
          "output_type": "stream",
          "name": "stdout",
          "text": [
            "Accuracy of Bernoulli Naïve Bayes classifier: 33.33%\n",
            "\n",
            "Classification Report:\n",
            "              precision    recall  f1-score   support\n",
            "\n",
            "           0       0.30      0.64      0.41        11\n",
            "           1       0.43      0.16      0.23        19\n",
            "\n",
            "    accuracy                           0.33        30\n",
            "   macro avg       0.37      0.40      0.32        30\n",
            "weighted avg       0.38      0.33      0.30        30\n",
            "\n"
          ]
        }
      ]
    },
    {
      "cell_type": "markdown",
      "source": [
        "Q29)Write a Python program to apply feature scaling before training an SVM model and compare results with\n",
        "unscaled data?"
      ],
      "metadata": {
        "id": "YupvKdfJ36z8"
      }
    },
    {
      "cell_type": "code",
      "source": [
        "# Import necessary libraries\n",
        "import numpy as np\n",
        "import matplotlib.pyplot as plt\n",
        "from sklearn.datasets import make_classification  # Correct import\n",
        "from sklearn.model_selection import train_test_split\n",
        "from sklearn.preprocessing import StandardScaler\n",
        "from sklearn.svm import SVC\n",
        "from sklearn.metrics import accuracy_score\n",
        "\n",
        "# Generate a synthetic 2D dataset with binary classification\n",
        "X, y = make_classification(n_samples=100, n_features=2, n_classes=2,\n",
        "                            n_clusters_per_class=1, random_state=42,\n",
        "                            n_informative=2, n_redundant=0, n_repeated=0)\n",
        "\n",
        "# Split the dataset into training and testing sets\n",
        "X_train, X_test, y_train, y_test = train_test_split(X, y, test_size=0.3, random_state=42)\n",
        "\n",
        "# Standardize the features (important for SVM)\n",
        "scaler = StandardScaler()\n",
        "X_train_scaled = scaler.fit_transform(X_train)\n",
        "X_test_scaled = scaler.transform(X_test)\n",
        "\n",
        "# Train SVM with unscaled data\n",
        "svm_unscaled = SVC(kernel='linear', C=1)\n",
        "svm_unscaled.fit(X_train, y_train)\n",
        "\n",
        "# Train SVM with scaled data\n",
        "svm_scaled = SVC(kernel='linear', C=1)\n",
        "svm_scaled.fit(X_train_scaled, y_train)\n",
        "\n",
        "# Evaluate accuracy\n",
        "y_pred_unscaled = svm_unscaled.predict(X_test)\n",
        "y_pred_scaled = svm_scaled.predict(X_test_scaled)\n",
        "\n",
        "accuracy_unscaled = accuracy_score(y_test, y_pred_unscaled)\n",
        "accuracy_scaled = accuracy_score(y_test, y_pred_scaled)\n",
        "\n",
        "print(f\"Accuracy without scaling: {accuracy_unscaled * 100:.2f}%\")\n",
        "print(f\"Accuracy with scaling: {accuracy_scaled * 100:.2f}%\")\n",
        "\n",
        "# Function to plot decision boundaries\n",
        "def plot_decision_boundary(X, y, model, title):\n",
        "    h = .02  # Step size in the mesh\n",
        "    x_min, x_max = X[:, 0].min() - 1, X[:, 0].max() + 1\n",
        "    y_min, y_max = X[:, 1].min() - 1, X[:, 1].max() + 1\n",
        "    xx, yy = np.meshgrid(np.arange(x_min, x_max, h),\n",
        "                         np.arange(y_min, y_max, h))\n",
        "\n",
        "    Z = model.predict(np.c_[xx.ravel(), yy.ravel()])\n",
        "    Z = Z.reshape(xx.shape)\n",
        "\n",
        "    plt.contourf(xx, yy, Z, alpha=0.8)\n",
        "    plt.scatter(X[:, 0], X[:, 1], c=y, edgecolors='k', marker='o', cmap=plt.cm.coolwarm)\n",
        "    plt.title(title)\n",
        "\n",
        "# Plot decision boundaries for unscaled data\n",
        "plt.figure(figsize=(14, 6))\n",
        "\n",
        "plt.subplot(1, 2, 1)\n",
        "plot_decision_boundary(X_test, y_test, svm_unscaled, \"SVM (Unscaled Data)\")\n",
        "\n",
        "# Plot decision boundaries for scaled data\n",
        "plt.subplot(1, 2, 2)\n",
        "plot_decision_boundary(X_test_scaled, y_test, svm_scaled, \"SVM (Scaled Data)\")\n",
        "\n",
        "plt.tight_layout()\n",
        "plt.show()\n"
      ],
      "metadata": {
        "colab": {
          "base_uri": "https://localhost:8080/",
          "height": 543
        },
        "id": "Tq3GQx8l4uya",
        "outputId": "7f8e739a-47ae-4471-fea9-607b3b6887bb"
      },
      "execution_count": null,
      "outputs": [
        {
          "output_type": "stream",
          "name": "stdout",
          "text": [
            "Accuracy without scaling: 100.00%\n",
            "Accuracy with scaling: 100.00%\n"
          ]
        },
        {
          "output_type": "display_data",
          "data": {
            "text/plain": [
              "<Figure size 1400x600 with 2 Axes>"
            ],
            "image/png": "[encoded data removed]"
          },
          "metadata": {}
        }
      ]
    },
    {
      "cell_type": "markdown",
      "source": [
        "Q30) Write a Python program to train a Gaussian Naïve Bayes model and compare the predictions before and\n",
        "after Laplace Smoothing?"
      ],
      "metadata": {
        "id": "wthl9r2F40v_"
      }
    },
    {
      "cell_type": "code",
      "source": [
        "# Import necessary libraries\n",
        "import numpy as np\n",
        "import matplotlib.pyplot as plt\n",
        "from sklearn.datasets import load_breast_cancer\n",
        "from sklearn.model_selection import train_test_split\n",
        "from sklearn.naive_bayes import GaussianNB\n",
        "from sklearn.metrics import accuracy_score\n",
        "\n",
        "# Load the dataset (Breast Cancer dataset for simplicity)\n",
        "data = load_breast_cancer()\n",
        "X = data.data\n",
        "y = data.target\n",
        "\n",
        "# Split the dataset into training and testing sets\n",
        "X_train, X_test, y_train, y_test = train_test_split(X, y, test_size=0.3, random_state=42)\n",
        "\n",
        "# Train Gaussian Naive Bayes without Laplace smoothing\n",
        "gnb_no_smoothing = GaussianNB(var_smoothing=1e-9)  # Default: small smoothing applied automatically\n",
        "gnb_no_smoothing.fit(X_train, y_train)\n",
        "\n",
        "# Train Gaussian Naive Bayes with Laplace smoothing\n",
        "gnb_with_smoothing = GaussianNB(var_smoothing=1e-1)  # Larger smoothing parameter (for Laplace)\n",
        "gnb_with_smoothing.fit(X_train, y_train)\n",
        "\n",
        "# Make predictions\n",
        "y_pred_no_smoothing = gnb_no_smoothing.predict(X_test)\n",
        "y_pred_with_smoothing = gnb_with_smoothing.predict(X_test)\n",
        "\n",
        "# Calculate accuracy\n",
        "accuracy_no_smoothing = accuracy_score(y_test, y_pred_no_smoothing)\n",
        "accuracy_with_smoothing = accuracy_score(y_test, y_pred_with_smoothing)\n",
        "\n",
        "print(f\"Accuracy without Laplace smoothing: {accuracy_no_smoothing * 100:.2f}%\")\n",
        "print(f\"Accuracy with Laplace smoothing: {accuracy_with_smoothing * 100:.2f}%\")\n",
        "\n",
        "# Optionally: Print a few sample predictions to compare\n",
        "print(\"\\nSample predictions (without smoothing vs with smoothing):\")\n",
        "for i in range(5):\n",
        "    print(f\"Sample {i+1}: True label = {y_test[i]}, Predicted (no smoothing) = {y_pred_no_smoothing[i]}, Predicted (with smoothing) = {y_pred_with_smoothing[i]}\")\n"
      ],
      "metadata": {
        "id": "0e-kPbPd5DDy",
        "outputId": "b5571c3d-5666-4c9e-b6f4-9e10a9a0809a",
        "colab": {
          "base_uri": "https://localhost:8080/"
        }
      },
      "execution_count": null,
      "outputs": [
        {
          "output_type": "stream",
          "name": "stdout",
          "text": [
            "Accuracy without Laplace smoothing: 94.15%\n",
            "Accuracy with Laplace smoothing: 90.64%\n",
            "\n",
            "Sample predictions (without smoothing vs with smoothing):\n",
            "Sample 1: True label = 1, Predicted (no smoothing) = 1, Predicted (with smoothing) = 1\n",
            "Sample 2: True label = 0, Predicted (no smoothing) = 0, Predicted (with smoothing) = 0\n",
            "Sample 3: True label = 0, Predicted (no smoothing) = 0, Predicted (with smoothing) = 0\n",
            "Sample 4: True label = 1, Predicted (no smoothing) = 1, Predicted (with smoothing) = 1\n",
            "Sample 5: True label = 1, Predicted (no smoothing) = 1, Predicted (with smoothing) = 1\n"
          ]
        }
      ]
    },
    {
      "cell_type": "markdown",
      "source": [
        "Q31) Write a Python program to train an SVM Classifier and use GridSearchCV to tune the hyperparameters (C,\n",
        "gamma, kernel)?"
      ],
      "metadata": {
        "id": "gbu_VtdEWjtV"
      }
    },
    {
      "cell_type": "code",
      "source": [
        "from sklearn import datasets\n",
        "from sklearn.model_selection import train_test_split, GridSearchCV\n",
        "from sklearn.svm import SVC\n",
        "from sklearn.metrics import classification_report, accuracy_score\n",
        "from sklearn.preprocessing import StandardScaler\n",
        "\n",
        "# Load dataset (Iris for simplicity)\n",
        "iris = datasets.load_iris()\n",
        "X = iris.data\n",
        "y = iris.target\n",
        "\n",
        "# Feature scaling (important for SVM)\n",
        "scaler = StandardScaler()\n",
        "X = scaler.fit_transform(X)\n",
        "\n",
        "# Split into training and test sets\n",
        "X_train, X_test, y_train, y_test = train_test_split(X, y, test_size=0.3, random_state=42)\n",
        "\n",
        "# Define parameter grid for GridSearchCV\n",
        "param_grid = {\n",
        "    'C': [0.1, 1, 10],\n",
        "    'gamma': ['scale', 0.01, 0.1, 1],\n",
        "    'kernel': ['linear', 'rbf', 'poly']\n",
        "}\n",
        "\n",
        "# Set up the SVM model and GridSearch\n",
        "svm = SVC()\n",
        "grid_search = GridSearchCV(svm, param_grid, cv=5, verbose=1, n_jobs=-1)\n",
        "\n",
        "# Fit the model\n",
        "grid_search.fit(X_train, y_train)\n",
        "\n",
        "# Best parameters and model\n",
        "print(\"Best Parameters Found:\\n\", grid_search.best_params_)\n",
        "\n",
        "# Evaluate on test set\n",
        "best_model = grid_search.best_estimator_\n",
        "y_pred = best_model.predict(X_test)\n",
        "\n",
        "print(\"\\nTest Accuracy:\", accuracy_score(y_test, y_pred))\n",
        "print(\"\\nClassification Report:\\n\", classification_report(y_test, y_pred))\n"
      ],
      "metadata": {
        "colab": {
          "base_uri": "https://localhost:8080/"
        },
        "id": "1as1HBT6WwgR",
        "outputId": "46b01b1b-37be-438f-de8f-4ba9bea22dc6"
      },
      "execution_count": null,
      "outputs": [
        {
          "output_type": "stream",
          "name": "stdout",
          "text": [
            "Fitting 5 folds for each of 36 candidates, totalling 180 fits\n",
            "Best Parameters Found:\n",
            " {'C': 10, 'gamma': 'scale', 'kernel': 'linear'}\n",
            "\n",
            "Test Accuracy: 0.9777777777777777\n",
            "\n",
            "Classification Report:\n",
            "               precision    recall  f1-score   support\n",
            "\n",
            "           0       1.00      1.00      1.00        19\n",
            "           1       1.00      0.92      0.96        13\n",
            "           2       0.93      1.00      0.96        13\n",
            "\n",
            "    accuracy                           0.98        45\n",
            "   macro avg       0.98      0.97      0.97        45\n",
            "weighted avg       0.98      0.98      0.98        45\n",
            "\n"
          ]
        }
      ]
    },
    {
      "cell_type": "markdown",
      "source": [
        "Q32)Write a Python program to train an SVM Classifier on an imbalanced dataset and apply class weighting and\n",
        "check it improve accuracy?"
      ],
      "metadata": {
        "id": "C1wIl8NoW-EL"
      }
    },
    {
      "cell_type": "code",
      "source": [
        "from sklearn.datasets import make_classification\n",
        "from sklearn.model_selection import train_test_split\n",
        "from sklearn.svm import SVC\n",
        "from sklearn.metrics import classification_report, accuracy_score\n",
        "from sklearn.preprocessing import StandardScaler\n",
        "import numpy as np\n",
        "\n",
        "# Generate an imbalanced binary classification dataset\n",
        "X, y = make_classification(n_samples=1000, n_features=10, n_informative=5,\n",
        "                           n_redundant=2, n_clusters_per_class=1,\n",
        "                           weights=[0.9, 0.1], flip_y=0, random_state=42)\n",
        "\n",
        "# Split into train and test sets\n",
        "X_train, X_test, y_train, y_test = train_test_split(X, y, test_size=0.3, random_state=42)\n",
        "\n",
        "# Standardize the features\n",
        "scaler = StandardScaler()\n",
        "X_train = scaler.fit_transform(X_train)\n",
        "X_test = scaler.transform(X_test)\n",
        "\n",
        "# SVM without class weights\n",
        "svm_no_weight = SVC(kernel='rbf', C=1, class_weight=None)\n",
        "svm_no_weight.fit(X_train, y_train)\n",
        "y_pred_no_weight = svm_no_weight.predict(X_test)\n",
        "acc_no_weight = accuracy_score(y_test, y_pred_no_weight)\n",
        "\n",
        "# SVM with class weights (auto)\n",
        "svm_weighted = SVC(kernel='rbf', C=1, class_weight='balanced')\n",
        "svm_weighted.fit(X_train, y_train)\n",
        "y_pred_weighted = svm_weighted.predict(X_test)\n",
        "acc_weighted = accuracy_score(y_test, y_pred_weighted)\n",
        "\n",
        "# Results\n",
        "print(f\"Accuracy without class weights: {acc_no_weight * 100:.2f}%\")\n",
        "print(f\"Accuracy with class weights: {acc_weighted * 100:.2f}%\")\n",
        "\n",
        "print(\"\\nClassification Report without class weights:\")\n",
        "print(classification_report(y_test, y_pred_no_weight))\n",
        "\n",
        "print(\"\\nClassification Report with class weights:\")\n",
        "print(classification_report(y_test, y_pred_weighted))\n"
      ],
      "metadata": {
        "colab": {
          "base_uri": "https://localhost:8080/"
        },
        "id": "GwDJq8rzXGmC",
        "outputId": "4ec12f21-917c-4eff-da43-58df58c58bdb"
      },
      "execution_count": null,
      "outputs": [
        {
          "output_type": "stream",
          "name": "stdout",
          "text": [
            "Accuracy without class weights: 99.00%\n",
            "Accuracy with class weights: 99.67%\n",
            "\n",
            "Classification Report without class weights:\n",
            "              precision    recall  f1-score   support\n",
            "\n",
            "           0       0.99      1.00      0.99       271\n",
            "           1       1.00      0.90      0.95        29\n",
            "\n",
            "    accuracy                           0.99       300\n",
            "   macro avg       0.99      0.95      0.97       300\n",
            "weighted avg       0.99      0.99      0.99       300\n",
            "\n",
            "\n",
            "Classification Report with class weights:\n",
            "              precision    recall  f1-score   support\n",
            "\n",
            "           0       1.00      1.00      1.00       271\n",
            "           1       1.00      0.97      0.98        29\n",
            "\n",
            "    accuracy                           1.00       300\n",
            "   macro avg       1.00      0.98      0.99       300\n",
            "weighted avg       1.00      1.00      1.00       300\n",
            "\n"
          ]
        }
      ]
    },
    {
      "cell_type": "markdown",
      "source": [
        " Q33) Write a Python program to implement a Naïve Bayes classifier for spam detection using email data?"
      ],
      "metadata": {
        "id": "vimDf6doXOZK"
      }
    },
    {
      "cell_type": "code",
      "source": [
        "import pandas as pd\n",
        "from sklearn.model_selection import train_test_split\n",
        "from sklearn.feature_extraction.text import CountVectorizer\n",
        "from sklearn.naive_bayes import MultinomialNB\n",
        "from sklearn.metrics import classification_report, accuracy_score\n",
        "\n",
        "# Sample email dataset (replace with your own CSV if needed)\n",
        "# Format: label (spam/ham), text (email content)\n",
        "url = \"https://raw.githubusercontent.com/justmarkham/pycon-2016-tutorial/master/data/sms.tsv\"\n",
        "data = pd.read_csv(url, sep='\\t', header=None, names=['label', 'message'])\n",
        "\n",
        "# Encode labels (spam=1, ham=0)\n",
        "data['label'] = data['label'].map({'ham': 0, 'spam': 1})\n",
        "\n",
        "# Train-test split\n",
        "X_train, X_test, y_train, y_test = train_test_split(data['message'], data['label'], test_size=0.2, random_state=42)\n",
        "\n",
        "# Convert text to numerical features\n",
        "vectorizer = CountVectorizer()\n",
        "X_train_vec = vectorizer.fit_transform(X_train)\n",
        "X_test_vec = vectorizer.transform(X_test)\n",
        "\n",
        "# Train Naïve Bayes classifier\n",
        "nb = MultinomialNB()\n",
        "nb.fit(X_train_vec, y_train)\n",
        "\n",
        "# Predict and evaluate\n",
        "y_pred = nb.predict(X_test_vec)\n",
        "\n",
        "print(f\"Accuracy: {accuracy_score(y_test, y_pred) * 100:.2f}%\\n\")\n",
        "print(\"Classification Report:\\n\", classification_report(y_test, y_pred))\n"
      ],
      "metadata": {
        "colab": {
          "base_uri": "https://localhost:8080/"
        },
        "id": "A-SSiFLPXcZc",
        "outputId": "b6b88345-e914-4395-f439-cddb7c21526f"
      },
      "execution_count": null,
      "outputs": [
        {
          "output_type": "stream",
          "name": "stdout",
          "text": [
            "Accuracy: 99.19%\n",
            "\n",
            "Classification Report:\n",
            "               precision    recall  f1-score   support\n",
            "\n",
            "           0       0.99      1.00      1.00       966\n",
            "           1       1.00      0.94      0.97       149\n",
            "\n",
            "    accuracy                           0.99      1115\n",
            "   macro avg       1.00      0.97      0.98      1115\n",
            "weighted avg       0.99      0.99      0.99      1115\n",
            "\n"
          ]
        }
      ]
    },
    {
      "cell_type": "markdown",
      "source": [
        "Q34) Write a Python program to train an SVM Classifier and a Naïve Bayes Classifier on the same dataset and\n",
        "compare their accuracy?"
      ],
      "metadata": {
        "id": "KaPliXPdXfEv"
      }
    },
    {
      "cell_type": "code",
      "source": [
        "from sklearn import datasets\n",
        "from sklearn.model_selection import train_test_split\n",
        "from sklearn.svm import SVC\n",
        "from sklearn.naive_bayes import GaussianNB\n",
        "from sklearn.preprocessing import StandardScaler\n",
        "from sklearn.metrics import accuracy_score\n",
        "\n",
        "# Load dataset\n",
        "iris = datasets.load_iris()\n",
        "X = iris.data\n",
        "y = iris.target\n",
        "\n",
        "# Train-test split\n",
        "X_train, X_test, y_train, y_test = train_test_split(X, y, test_size=0.3, random_state=42)\n",
        "\n",
        "# Feature scaling (important for SVM)\n",
        "scaler = StandardScaler()\n",
        "X_train_scaled = scaler.fit_transform(X_train)\n",
        "X_test_scaled = scaler.transform(X_test)\n",
        "\n",
        "# Train SVM Classifier\n",
        "svm = SVC(kernel='rbf', C=1, gamma='scale')\n",
        "svm.fit(X_train_scaled, y_train)\n",
        "y_pred_svm = svm.predict(X_test_scaled)\n",
        "svm_acc = accuracy_score(y_test, y_pred_svm)\n",
        "\n",
        "# Train Naïve Bayes Classifier\n",
        "nb = GaussianNB()\n",
        "nb.fit(X_train, y_train)  # GaussianNB doesn't need scaling\n",
        "y_pred_nb = nb.predict(X_test)\n",
        "nb_acc = accuracy_score(y_test, y_pred_nb)\n",
        "\n",
        "# Print results\n",
        "print(f\"SVM Accuracy: {svm_acc * 100:.2f}%\")\n",
        "print(f\"Naïve Bayes Accuracy: {nb_acc * 100:.2f}%\")"
      ],
      "metadata": {
        "colab": {
          "base_uri": "https://localhost:8080/"
        },
        "id": "xMHrJ-QfXluY",
        "outputId": "11366580-7dda-4f6f-ddfb-0b1abdb88751"
      },
      "execution_count": null,
      "outputs": [
        {
          "output_type": "stream",
          "name": "stdout",
          "text": [
            "SVM Accuracy: 100.00%\n",
            "Naïve Bayes Accuracy: 97.78%\n"
          ]
        }
      ]
    },
    {
      "cell_type": "markdown",
      "source": [
        "Q35) Write a Python program to perform feature selection before training a Naïve Bayes classifier and compare\n",
        "results?"
      ],
      "metadata": {
        "id": "knbZ4kGKXs6v"
      }
    },
    {
      "cell_type": "code",
      "source": [
        "from sklearn.datasets import load_breast_cancer\n",
        "from sklearn.model_selection import train_test_split\n",
        "from sklearn.naive_bayes import GaussianNB\n",
        "from sklearn.metrics import accuracy_score\n",
        "from sklearn.feature_selection import SelectKBest, f_classif\n",
        "from sklearn.preprocessing import StandardScaler\n",
        "\n",
        "# Load dataset\n",
        "data = load_breast_cancer()\n",
        "X, y = data.data, data.target\n",
        "\n",
        "# Train-test split\n",
        "X_train, X_test, y_train, y_test = train_test_split(X, y, test_size=0.3, random_state=42)\n",
        "\n",
        "# ---------- Without Feature Selection ----------\n",
        "nb = GaussianNB()\n",
        "nb.fit(X_train, y_train)\n",
        "y_pred_all = nb.predict(X_test)\n",
        "acc_all = accuracy_score(y_test, y_pred_all)\n",
        "\n",
        "# ---------- With Feature Selection ----------\n",
        "# Select top 10 features using ANOVA F-test\n",
        "selector = SelectKBest(score_func=f_classif, k=10)\n",
        "X_train_sel = selector.fit_transform(X_train, y_train)\n",
        "X_test_sel = selector.transform(X_test)\n",
        "\n",
        "# Train with selected features\n",
        "nb_sel = GaussianNB()\n",
        "nb_sel.fit(X_train_sel, y_train)\n",
        "y_pred_sel = nb_sel.predict(X_test_sel)\n",
        "acc_sel = accuracy_score(y_test, y_pred_sel)\n",
        "\n",
        "# ---------- Results ----------\n",
        "print(f\"Accuracy without feature selection: {acc_all * 100:.2f}%\")\n",
        "print(f\"Accuracy with top 10 selected features: {acc_sel * 100:.2f}%\")\n"
      ],
      "metadata": {
        "colab": {
          "base_uri": "https://localhost:8080/"
        },
        "id": "20-4IjABX-rx",
        "outputId": "28c32587-fb4d-4a78-8b4e-e4394840a860"
      },
      "execution_count": null,
      "outputs": [
        {
          "output_type": "stream",
          "name": "stdout",
          "text": [
            "Accuracy without feature selection: 94.15%\n",
            "Accuracy with top 10 selected features: 95.91%\n"
          ]
        }
      ]
    },
    {
      "cell_type": "markdown",
      "source": [
        " Q36) Write a Python program to train an SVM Classifier using One-vs-Rest (OvR) and One-vs-One (OvO)\n",
        "strategies on the Wine dataset and compare their accuracy?"
      ],
      "metadata": {
        "id": "1MUU0NdoYB7E"
      }
    },
    {
      "cell_type": "code",
      "source": [
        "from sklearn import datasets\n",
        "from sklearn.model_selection import train_test_split\n",
        "from sklearn.svm import SVC\n",
        "from sklearn.multiclass import OneVsRestClassifier, OneVsOneClassifier\n",
        "from sklearn.preprocessing import StandardScaler\n",
        "from sklearn.metrics import accuracy_score\n",
        "\n",
        "# Load the Wine dataset\n",
        "wine = datasets.load_wine()\n",
        "X = wine.data\n",
        "y = wine.target\n",
        "\n",
        "# Split the data\n",
        "X_train, X_test, y_train, y_test = train_test_split(X, y, test_size=0.3, random_state=42)\n",
        "\n",
        "# Standardize the features\n",
        "scaler = StandardScaler()\n",
        "X_train = scaler.fit_transform(X_train)\n",
        "X_test = scaler.transform(X_test)\n",
        "\n",
        "# SVM base model\n",
        "svm = SVC(kernel='rbf', C=1, gamma='scale')\n",
        "\n",
        "# One-vs-Rest (OvR)\n",
        "ovr = OneVsRestClassifier(svm)\n",
        "ovr.fit(X_train, y_train)\n",
        "y_pred_ovr = ovr.predict(X_test)\n",
        "acc_ovr = accuracy_score(y_test, y_pred_ovr)\n",
        "\n",
        "# One-vs-One (OvO)\n",
        "ovo = OneVsOneClassifier(svm)\n",
        "ovo.fit(X_train, y_train)\n",
        "y_pred_ovo = ovo.predict(X_test)\n",
        "acc_ovo = accuracy_score(y_test, y_pred_ovo)\n",
        "\n",
        "# Print results\n",
        "print(f\"Accuracy (One-vs-Rest): {acc_ovr * 100:.2f}%\")\n",
        "print(f\"Accuracy (One-vs-One):  {acc_ovo * 100:.2f}%\")\n"
      ],
      "metadata": {
        "colab": {
          "base_uri": "https://localhost:8080/"
        },
        "id": "khDehUfeYKJm",
        "outputId": "8b9e702a-f5c2-4cb0-9694-3e41db2b75d1"
      },
      "execution_count": null,
      "outputs": [
        {
          "output_type": "stream",
          "name": "stdout",
          "text": [
            "Accuracy (One-vs-Rest): 98.15%\n",
            "Accuracy (One-vs-One):  98.15%\n"
          ]
        }
      ]
    },
    {
      "cell_type": "markdown",
      "source": [
        "Q37) Write a Python program to train an SVM Classifier using Linear, Polynomial, and RBF kernels on the Breast\n",
        "Cancer dataset and compare their accuracy?"
      ],
      "metadata": {
        "id": "Kj2cpZHRYPrN"
      }
    },
    {
      "cell_type": "code",
      "source": [
        "from sklearn.datasets import load_breast_cancer\n",
        "from sklearn.model_selection import train_test_split\n",
        "from sklearn.preprocessing import StandardScaler\n",
        "from sklearn.svm import SVC\n",
        "from sklearn.metrics import accuracy_score\n",
        "\n",
        "# Load the Breast Cancer dataset\n",
        "data = load_breast_cancer()\n",
        "X, y = data.data, data.target\n",
        "\n",
        "# Split into training and testing sets\n",
        "X_train, X_test, y_train, y_test = train_test_split(X, y, test_size=0.3, random_state=42)\n",
        "\n",
        "# Feature scaling (important for SVM)\n",
        "scaler = StandardScaler()\n",
        "X_train = scaler.fit_transform(X_train)\n",
        "X_test = scaler.transform(X_test)\n",
        "\n",
        "# Store accuracies for comparison\n",
        "accuracies = {}\n",
        "\n",
        "# Linear Kernel\n",
        "model_linear = SVC(kernel='linear', C=1)\n",
        "model_linear.fit(X_train, y_train)\n",
        "y_pred_linear = model_linear.predict(X_test)\n",
        "accuracies['Linear'] = accuracy_score(y_test, y_pred_linear) * 100\n",
        "\n",
        "# Polynomial Kernel\n",
        "model_poly = SVC(kernel='poly', C=1, degree=3)\n",
        "model_poly.fit(X_train, y_train)\n",
        "y_pred_poly = model_poly.predict(X_test)\n",
        "accuracies['Polynomial'] = accuracy_score(y_test, y_pred_poly) * 100\n",
        "\n",
        "# RBF Kernel\n",
        "model_rbf = SVC(kernel='rbf', C=1, gamma='scale')\n",
        "model_rbf.fit(X_train, y_train)\n",
        "y_pred_rbf = model_rbf.predict(X_test)\n",
        "accuracies['RBF'] = accuracy_score(y_test, y_pred_rbf) * 100\n",
        "\n",
        "# Print results\n",
        "print(\"\\nSVM Kernel Accuracy Comparison on Breast Cancer Dataset:\")\n",
        "for kernel, acc in accuracies.items():\n",
        "    print(f\"{kernel} Kernel Accuracy: {acc:.2f}%\")\n"
      ],
      "metadata": {
        "colab": {
          "base_uri": "https://localhost:8080/"
        },
        "id": "mxaOmfIVYoLZ",
        "outputId": "e554f867-8f1f-429a-8545-bb62b907d0e6"
      },
      "execution_count": null,
      "outputs": [
        {
          "output_type": "stream",
          "name": "stdout",
          "text": [
            "\n",
            "SVM Kernel Accuracy Comparison on Breast Cancer Dataset:\n",
            "Linear Kernel Accuracy: 97.66%\n",
            "Polynomial Kernel Accuracy: 89.47%\n",
            "RBF Kernel Accuracy: 97.66%\n"
          ]
        }
      ]
    },
    {
      "cell_type": "markdown",
      "source": [
        "Q38) Write a Python program to train an SVM Classifier using Stratified K-Fold Cross-Validation and compute the\n",
        "average accuracy?"
      ],
      "metadata": {
        "id": "njOdiNGiYqWJ"
      }
    },
    {
      "cell_type": "code",
      "source": [
        "from sklearn.datasets import load_breast_cancer\n",
        "from sklearn.model_selection import StratifiedKFold\n",
        "from sklearn.svm import SVC\n",
        "from sklearn.preprocessing import StandardScaler\n",
        "from sklearn.metrics import accuracy_score\n",
        "import numpy as np\n",
        "\n",
        "# Load dataset\n",
        "data = load_breast_cancer()\n",
        "X, y = data.data, data.target\n",
        "\n",
        "# Scale features\n",
        "scaler = StandardScaler()\n",
        "X = scaler.fit_transform(X)\n",
        "\n",
        "# Stratified K-Fold setup\n",
        "skf = StratifiedKFold(n_splits=5, shuffle=True, random_state=42)\n",
        "accuracies = []\n",
        "\n",
        "# Perform Stratified K-Fold Cross-Validation\n",
        "for train_index, test_index in skf.split(X, y):\n",
        "    X_train, X_test = X[train_index], X[test_index]\n",
        "    y_train, y_test = y[train_index], y[test_index]\n",
        "\n",
        "    model = SVC(kernel='rbf', C=1, gamma='scale')\n",
        "    model.fit(X_train, y_train)\n",
        "    y_pred = model.predict(X_test)\n",
        "    acc = accuracy_score(y_test, y_pred)\n",
        "    accuracies.append(acc)\n",
        "\n",
        "# Compute average accuracy\n",
        "average_accuracy = np.mean(accuracies)\n",
        "\n",
        "# Print results\n",
        "print(\"Stratified K-Fold SVM Accuracy per Fold:\")\n",
        "for i, acc in enumerate(accuracies):\n",
        "    print(f\"Fold {i+1}: {acc * 100:.2f}%\")\n",
        "print(f\"\\nAverage Accuracy: {average_accuracy * 100:.2f}%\")\n"
      ],
      "metadata": {
        "colab": {
          "base_uri": "https://localhost:8080/"
        },
        "id": "5yqKh7K0Y04w",
        "outputId": "9b89ed9b-fc00-4551-c40c-1a5f7d639d91"
      },
      "execution_count": null,
      "outputs": [
        {
          "output_type": "stream",
          "name": "stdout",
          "text": [
            "Stratified K-Fold SVM Accuracy per Fold:\n",
            "Fold 1: 99.12%\n",
            "Fold 2: 93.86%\n",
            "Fold 3: 97.37%\n",
            "Fold 4: 99.12%\n",
            "Fold 5: 98.23%\n",
            "\n",
            "Average Accuracy: 97.54%\n"
          ]
        }
      ]
    },
    {
      "cell_type": "markdown",
      "source": [
        "Q39) Write a Python program to train a Naïve Bayes classifier using different prior probabilities and compare\n",
        "performance?"
      ],
      "metadata": {
        "id": "ZsamSQw_Y3GT"
      }
    },
    {
      "cell_type": "code",
      "source": [
        "from sklearn.datasets import load_breast_cancer\n",
        "from sklearn.model_selection import train_test_split\n",
        "from sklearn.naive_bayes import GaussianNB\n",
        "from sklearn.metrics import accuracy_score\n",
        "\n",
        "# Load the Breast Cancer dataset\n",
        "data = load_breast_cancer()\n",
        "X, y = data.data, data.target\n",
        "\n",
        "# Split into training and testing sets\n",
        "X_train, X_test, y_train, y_test = train_test_split(X, y, test_size=0.3, random_state=42)\n",
        "\n",
        "# Define prior probabilities (for each class)\n",
        "# Example: Assigning higher prior probability to class 0 (malignant)\n",
        "priors_1 = [0.8, 0.2]  # Class 0: 80%, Class 1: 20%\n",
        "priors_2 = [0.6, 0.4]  # Class 0: 60%, Class 1: 40%\n",
        "priors_3 = [0.5, 0.5]  # Class 0: 50%, Class 1: 50%\n",
        "\n",
        "# Train and evaluate Naïve Bayes with different prior probabilities\n",
        "\n",
        "def train_and_evaluate(priors):\n",
        "    model = GaussianNB(priors=priors)\n",
        "    model.fit(X_train, y_train)\n",
        "    y_pred = model.predict(X_test)\n",
        "    return accuracy_score(y_test, y_pred)\n",
        "\n",
        "# Evaluate the performance for each set of priors\n",
        "acc_1 = train_and_evaluate(priors_1)\n",
        "acc_2 = train_and_evaluate(priors_2)\n",
        "acc_3 = train_and_evaluate(priors_3)\n",
        "\n",
        "# Print the results\n",
        "print(\"Naïve Bayes Accuracy with Different Prior Probabilities:\")\n",
        "print(f\"Prior Probabilities {priors_1} => Accuracy: {acc_1 * 100:.2f}%\")\n",
        "print(f\"Prior Probabilities {priors_2} => Accuracy: {acc_2 * 100:.2f}%\")\n",
        "print(f\"Prior Probabilities {priors_3} => Accuracy: {acc_3 * 100:.2f}%\")\n"
      ],
      "metadata": {
        "colab": {
          "base_uri": "https://localhost:8080/"
        },
        "id": "e9-Obo8RY-da",
        "outputId": "e628c1ef-b812-464d-cc21-178e71dcf1c7"
      },
      "execution_count": null,
      "outputs": [
        {
          "output_type": "stream",
          "name": "stdout",
          "text": [
            "Naïve Bayes Accuracy with Different Prior Probabilities:\n",
            "Prior Probabilities [0.8, 0.2] => Accuracy: 93.57%\n",
            "Prior Probabilities [0.6, 0.4] => Accuracy: 93.57%\n",
            "Prior Probabilities [0.5, 0.5] => Accuracy: 94.15%\n"
          ]
        }
      ]
    },
    {
      "cell_type": "markdown",
      "source": [
        "Q40) Write a Python program to perform Recursive Feature Elimination (RFE) before training an SVM Classifier and\n",
        "compare accuracy?"
      ],
      "metadata": {
        "id": "AzYYTl2VZHLk"
      }
    },
    {
      "cell_type": "code",
      "source": [
        "from sklearn.datasets import load_breast_cancer\n",
        "from sklearn.model_selection import train_test_split\n",
        "from sklearn.svm import SVC\n",
        "from sklearn.feature_selection import RFE\n",
        "from sklearn.preprocessing import StandardScaler\n",
        "from sklearn.metrics import accuracy_score\n",
        "\n",
        "# Load dataset\n",
        "data = load_breast_cancer()\n",
        "X, y = data.data, data.target\n",
        "\n",
        "# Split the data into training and testing sets\n",
        "X_train, X_test, y_train, y_test = train_test_split(X, y, test_size=0.3, random_state=42)\n",
        "\n",
        "# Feature scaling (important for SVM)\n",
        "scaler = StandardScaler()\n",
        "X_train = scaler.fit_transform(X_train)\n",
        "X_test = scaler.transform(X_test)\n",
        "\n",
        "# Train an SVM without RFE (Using linear kernel)\n",
        "svm_model = SVC(kernel='linear', C=1, gamma='scale')\n",
        "svm_model.fit(X_train, y_train)\n",
        "y_pred_no_rfe = svm_model.predict(X_test)\n",
        "accuracy_no_rfe = accuracy_score(y_test, y_pred_no_rfe)\n",
        "\n",
        "# Perform Recursive Feature Elimination (RFE) with the SVM model (Using linear kernel)\n",
        "svm_rfe = SVC(kernel='linear', C=1, gamma='scale')\n",
        "\n",
        "# Initialize RFE with SVM as estimator\n",
        "rfe = RFE(estimator=svm_rfe, n_features_to_select=10)  # Select top 10 features\n",
        "\n",
        "# Fit RFE and transform the data\n",
        "X_train_rfe = rfe.fit_transform(X_train, y_train)\n",
        "X_test_rfe = rfe.transform(X_test)\n",
        "\n",
        "# Train SVM with selected features from RFE\n",
        "svm_model_rfe = SVC(kernel='linear', C=1, gamma='scale')\n",
        "svm_model_rfe.fit(X_train_rfe, y_train)\n",
        "y_pred_rfe = svm_model_rfe.predict(X_test_rfe)\n",
        "accuracy_rfe = accuracy_score(y_test, y_pred_rfe)\n",
        "\n",
        "# Print results\n",
        "print(f\"Accuracy without RFE: {accuracy_no_rfe * 100:.2f}%\")\n",
        "print(f\"Accuracy with RFE (selected features): {accuracy_rfe * 100:.2f}%\")\n"
      ],
      "metadata": {
        "colab": {
          "base_uri": "https://localhost:8080/"
        },
        "id": "21si23_DZkMY",
        "outputId": "879d519b-1f24-4b59-c403-42374dd34fbf"
      },
      "execution_count": null,
      "outputs": [
        {
          "output_type": "stream",
          "name": "stdout",
          "text": [
            "Accuracy without RFE: 97.66%\n",
            "Accuracy with RFE (selected features): 96.49%\n"
          ]
        }
      ]
    },
    {
      "cell_type": "markdown",
      "source": [
        " Q41) Write a Python program to train an SVM Classifier and evaluate its performance using Precision, Recall, and\n",
        "F1-Score instead of accuracy?"
      ],
      "metadata": {
        "id": "eS_zcE6iZmPz"
      }
    },
    {
      "cell_type": "code",
      "source": [
        "from sklearn.datasets import load_breast_cancer\n",
        "from sklearn.model_selection import train_test_split\n",
        "from sklearn.svm import SVC\n",
        "from sklearn.metrics import precision_score, recall_score, f1_score\n",
        "\n",
        "# Load the dataset\n",
        "data = load_breast_cancer()\n",
        "X, y = data.data, data.target\n",
        "\n",
        "# Split the data into training and testing sets\n",
        "X_train, X_test, y_train, y_test = train_test_split(X, y, test_size=0.3, random_state=42)\n",
        "\n",
        "# Train an SVM Classifier with a linear kernel\n",
        "svm_model = SVC(kernel='linear', C=1, gamma='scale')\n",
        "svm_model.fit(X_train, y_train)\n",
        "\n",
        "# Make predictions\n",
        "y_pred = svm_model.predict(X_test)\n",
        "\n",
        "# Calculate Precision, Recall, and F1-Score\n",
        "precision = precision_score(y_test, y_pred)\n",
        "recall = recall_score(y_test, y_pred)\n",
        "f1 = f1_score(y_test, y_pred)\n",
        "\n",
        "# Print the evaluation metrics\n",
        "print(f\"Precision: {precision:.2f}\")\n",
        "print(f\"Recall: {recall:.2f}\")\n",
        "print(f\"F1-Score: {f1:.2f}\")\n"
      ],
      "metadata": {
        "colab": {
          "base_uri": "https://localhost:8080/"
        },
        "id": "pzE7KAtCZrfD",
        "outputId": "c91aa46c-d94e-44ac-ad7b-4164eac23b3b"
      },
      "execution_count": null,
      "outputs": [
        {
          "output_type": "stream",
          "name": "stdout",
          "text": [
            "Precision: 0.96\n",
            "Recall: 0.98\n",
            "F1-Score: 0.97\n"
          ]
        }
      ]
    },
    {
      "cell_type": "markdown",
      "source": [
        "Q42) Write a Python program to train a Naïve Bayes Classifier and evaluate its performance using Log Loss\n",
        "(Cross-Entropy Loss)?"
      ],
      "metadata": {
        "id": "9ovXcdDeZy_Y"
      }
    },
    {
      "cell_type": "code",
      "source": [
        "from sklearn.datasets import load_breast_cancer\n",
        "from sklearn.model_selection import train_test_split\n",
        "from sklearn.naive_bayes import GaussianNB\n",
        "from sklearn.metrics import log_loss\n",
        "from sklearn.preprocessing import StandardScaler\n",
        "\n",
        "# Load the dataset\n",
        "data = load_breast_cancer()\n",
        "X, y = data.data, data.target\n",
        "\n",
        "# Split the data into training and testing sets\n",
        "X_train, X_test, y_train, y_test = train_test_split(X, y, test_size=0.3, random_state=42)\n",
        "\n",
        "# Feature scaling (important for Naïve Bayes when using continuous data)\n",
        "scaler = StandardScaler()\n",
        "X_train = scaler.fit_transform(X_train)\n",
        "X_test = scaler.transform(X_test)\n",
        "\n",
        "# Train a Gaussian Naïve Bayes Classifier\n",
        "nb_model = GaussianNB()\n",
        "nb_model.fit(X_train, y_train)\n",
        "\n",
        "# Make predictions (probabilities)\n",
        "y_pred_prob = nb_model.predict_proba(X_test)\n",
        "\n",
        "# Calculate Log Loss (Cross-Entropy Loss)\n",
        "logloss = log_loss(y_test, y_pred_prob)\n",
        "\n",
        "# Print the Log Loss\n",
        "print(f\"Log Loss (Cross-Entropy Loss): {logloss:.4f}\")\n"
      ],
      "metadata": {
        "colab": {
          "base_uri": "https://localhost:8080/"
        },
        "id": "7aj-8VgwZ3aY",
        "outputId": "48437a81-d673-47c1-e07d-e8cea4683e1d"
      },
      "execution_count": null,
      "outputs": [
        {
          "output_type": "stream",
          "name": "stdout",
          "text": [
            "Log Loss (Cross-Entropy Loss): 0.4545\n"
          ]
        }
      ]
    },
    {
      "cell_type": "markdown",
      "source": [
        "Q43) Write a Python program to train an SVM Classifier and visualize the Confusion Matrix using seaborn?"
      ],
      "metadata": {
        "id": "UbL62IPuZ-L_"
      }
    },
    {
      "cell_type": "code",
      "source": [
        "import seaborn as sns\n",
        "import matplotlib.pyplot as plt\n",
        "from sklearn.datasets import load_breast_cancer\n",
        "from sklearn.model_selection import train_test_split\n",
        "from sklearn.svm import SVC\n",
        "from sklearn.metrics import confusion_matrix\n",
        "\n",
        "# Load dataset\n",
        "data = load_breast_cancer()\n",
        "X, y = data.data, data.target\n",
        "\n",
        "# Split the data into training and testing sets\n",
        "X_train, X_test, y_train, y_test = train_test_split(X, y, test_size=0.3, random_state=42)\n",
        "\n",
        "# Train an SVM Classifier with a linear kernel\n",
        "svm_model = SVC(kernel='linear', C=1, gamma='scale')\n",
        "svm_model.fit(X_train, y_train)\n",
        "\n",
        "# Make predictions on the test set\n",
        "y_pred = svm_model.predict(X_test)\n",
        "\n",
        "# Compute confusion matrix\n",
        "cm = confusion_matrix(y_test, y_pred)\n",
        "\n",
        "# Visualize the confusion matrix using seaborn heatmap\n",
        "plt.figure(figsize=(8, 6))\n",
        "sns.heatmap(cm, annot=True, fmt='d', cmap='Blues', xticklabels=data.target_names, yticklabels=data.target_names)\n",
        "plt.title('Confusion Matrix')\n",
        "plt.xlabel('Predicted Label')\n",
        "plt.ylabel('True Label')\n",
        "plt.show()\n"
      ],
      "metadata": {
        "colab": {
          "base_uri": "https://localhost:8080/",
          "height": 564
        },
        "id": "tUZ_YPPJaIAB",
        "outputId": "282306e9-aed2-465b-aa5e-10a257505343"
      },
      "execution_count": null,
      "outputs": [
        {
          "output_type": "display_data",
          "data": {
            "text/plain": [
              "<Figure size 800x600 with 2 Axes>"
            ],
            "image/png": "[encoded data removed]"
          },
          "metadata": {}
        }
      ]
    },
    {
      "cell_type": "markdown",
      "source": [
        " Q44) Write a Python program to train an SVM Regressor (SVR) and evaluate its performance using Mean Absolute\n",
        "Error (MAE) instead of MSE?"
      ],
      "metadata": {
        "id": "cZcdCUcFaLa0"
      }
    },
    {
      "cell_type": "code",
      "source": [
        "from sklearn.svm import SVR\n",
        "from sklearn.datasets import make_regression\n",
        "from sklearn.model_selection import train_test_split\n",
        "from sklearn.metrics import mean_absolute_error\n",
        "from sklearn.preprocessing import StandardScaler\n",
        "\n",
        "# Generate a synthetic regression dataset\n",
        "X, y = make_regression(n_samples=100, n_features=1, noise=0.1, random_state=42)\n",
        "\n",
        "# Split the data into training and testing sets\n",
        "X_train, X_test, y_train, y_test = train_test_split(X, y, test_size=0.3, random_state=42)\n",
        "\n",
        "# Feature scaling (important for SVR)\n",
        "scaler = StandardScaler()\n",
        "X_train = scaler.fit_transform(X_train)\n",
        "X_test = scaler.transform(X_test)\n",
        "\n",
        "# Train an SVM Regressor (SVR)\n",
        "svr_model = SVR(kernel='rbf', C=100, gamma='scale', epsilon=0.1)\n",
        "svr_model.fit(X_train, y_train)\n",
        "\n",
        "# Make predictions on the test set\n",
        "y_pred = svr_model.predict(X_test)\n",
        "\n",
        "# Calculate Mean Absolute Error (MAE)\n",
        "mae = mean_absolute_error(y_test, y_pred)\n",
        "\n",
        "# Print the Mean Absolute Error\n",
        "print(f\"Mean Absolute Error (MAE): {mae:.4f}\")\n"
      ],
      "metadata": {
        "colab": {
          "base_uri": "https://localhost:8080/"
        },
        "id": "k4j1TV7RaYp1",
        "outputId": "c915a8ed-e8f7-43d3-8b58-0ba976823be9"
      },
      "execution_count": null,
      "outputs": [
        {
          "output_type": "stream",
          "name": "stdout",
          "text": [
            "Mean Absolute Error (MAE): 0.0856\n"
          ]
        }
      ]
    },
    {
      "cell_type": "markdown",
      "source": [
        " Q45) Write a Python program to train a Naïve Bayes classifier and evaluate its performance using the ROC-AUC\n",
        "score?"
      ],
      "metadata": {
        "id": "WFaK4fP_af2g"
      }
    },
    {
      "cell_type": "code",
      "source": [
        "from sklearn.datasets import load_breast_cancer\n",
        "from sklearn.model_selection import train_test_split\n",
        "from sklearn.naive_bayes import GaussianNB\n",
        "from sklearn.metrics import roc_auc_score\n",
        "from sklearn.preprocessing import StandardScaler\n",
        "\n",
        "# Load the Breast Cancer dataset\n",
        "data = load_breast_cancer()\n",
        "X, y = data.data, data.target\n",
        "\n",
        "# Split the dataset into training and testing sets\n",
        "X_train, X_test, y_train, y_test = train_test_split(X, y, test_size=0.3, random_state=42)\n",
        "\n",
        "# Feature scaling (important for Naïve Bayes when using continuous features)\n",
        "scaler = StandardScaler()\n",
        "X_train = scaler.fit_transform(X_train)\n",
        "X_test = scaler.transform(X_test)\n",
        "\n",
        "# Train a Gaussian Naïve Bayes classifier\n",
        "nb_model = GaussianNB()\n",
        "nb_model.fit(X_train, y_train)\n",
        "\n",
        "# Make probability predictions on the test set\n",
        "y_pred_prob = nb_model.predict_proba(X_test)[:, 1]  # Get probabilities for the positive class\n",
        "\n",
        "# Compute the ROC-AUC score\n",
        "roc_auc = roc_auc_score(y_test, y_pred_prob)\n",
        "\n",
        "# Print the ROC-AUC score\n",
        "print(f\"ROC-AUC Score: {roc_auc:.4f}\")\n"
      ],
      "metadata": {
        "colab": {
          "base_uri": "https://localhost:8080/"
        },
        "id": "pkKWO8lZalBl",
        "outputId": "5ccdf630-564a-4909-e168-1e99631f63b1"
      },
      "execution_count": null,
      "outputs": [
        {
          "output_type": "stream",
          "name": "stdout",
          "text": [
            "ROC-AUC Score: 0.9927\n"
          ]
        }
      ]
    },
    {
      "cell_type": "markdown",
      "source": [
        "Q46) Write a Python program to train an SVM Classifier and visualize the Precision-Recall Curve?"
      ],
      "metadata": {
        "id": "kQWxKq0iaqkT"
      }
    },
    {
      "cell_type": "code",
      "source": [
        "import matplotlib.pyplot as plt\n",
        "from sklearn.datasets import load_breast_cancer\n",
        "from sklearn.model_selection import train_test_split\n",
        "from sklearn.svm import SVC\n",
        "from sklearn.metrics import precision_recall_curve, auc\n",
        "from sklearn.preprocessing import StandardScaler\n",
        "\n",
        "# Load the Breast Cancer dataset\n",
        "data = load_breast_cancer()\n",
        "X, y = data.data, data.target\n",
        "\n",
        "# Split the data into training and testing sets\n",
        "X_train, X_test, y_train, y_test = train_test_split(X, y, test_size=0.3, random_state=42)\n",
        "\n",
        "# Feature scaling (important for SVM)\n",
        "scaler = StandardScaler()\n",
        "X_train = scaler.fit_transform(X_train)\n",
        "X_test = scaler.transform(X_test)\n",
        "\n",
        "# Train an SVM classifier with a linear kernel\n",
        "svm_model = SVC(kernel='linear', C=1, probability=True, random_state=42)\n",
        "svm_model.fit(X_train, y_train)\n",
        "\n",
        "# Get the predicted probabilities for the positive class\n",
        "y_pred_prob = svm_model.predict_proba(X_test)[:, 1]\n",
        "\n",
        "# Calculate precision and recall\n",
        "precision, recall, _ = precision_recall_curve(y_test, y_pred_prob)\n",
        "\n",
        "# Calculate AUC of the Precision-Recall Curve\n",
        "pr_auc = auc(recall, precision)\n",
        "\n",
        "# Plot Precision-Recall curve\n",
        "plt.figure(figsize=(8, 6))\n",
        "plt.plot(recall, precision, color='b', label=f'Precision-Recall curve (AUC = {pr_auc:.2f})')\n",
        "plt.xlabel('Recall')\n",
        "plt.ylabel('Precision')\n",
        "plt.title('Precision-Recall Curve')\n",
        "plt.legend(loc='best')\n",
        "plt.grid(True)\n",
        "plt.show()\n"
      ],
      "metadata": {
        "colab": {
          "base_uri": "https://localhost:8080/",
          "height": 564
        },
        "id": "XwsXg8PHa12b",
        "outputId": "53ed8791-6c75-4dfe-dfba-6b297408c5df"
      },
      "execution_count": null,
      "outputs": [
        {
          "output_type": "display_data",
          "data": {
            "text/plain": [
              "<Figure size 800x600 with 1 Axes>"
            ],
            "image/png": "[encoded data removed]"
          },
          "metadata": {}
        }
      ]
    }
  ]
}