{
  "cells": [
    {
      "cell_type": "markdown",
      "metadata": {
        "id": "view-in-github",
        "colab_type": "text"
      },
      "source": [
        "<a href=\"https://colab.research.google.com/github/Shikha098/python-assignment/blob/main/Data_toolkit.ipynb\" target=\"_parent\"><img src=\"https://colab.research.google.com/assets/colab-badge.svg\" alt=\"Open In Colab\"/></a>"
      ]
    },
    {
      "cell_type": "code",
      "execution_count": null,
      "metadata": {
        "id": "M5PrND0eqFI-"
      },
      "outputs": [],
      "source": [
        "#Question and answer"
      ]
    },
    {
      "cell_type": "markdown",
      "metadata": {
        "id": "5BRpPjnorNK2"
      },
      "source": [
        "# **Theory**"
      ]
    },
    {
      "cell_type": "markdown",
      "metadata": {
        "id": "hijv-dhGrYFz"
      },
      "source": [
        "# 1) What is NumPy, and why is it widely used in Python?"
      ]
    },
    {
      "cell_type": "markdown",
      "metadata": {
        "id": "lPWEE8F3ri8a"
      },
      "source": [
        "NumPy is a powerful, well-optimized, free open-source library for the Python programming language, adding support for large, multi-dimensional arrays (also called matrices or tensors).\n",
        "NumPy also comes equipped with a collection of high-level mathematical functions to work in conjunction with these arrays."
      ]
    },
    {
      "cell_type": "markdown",
      "metadata": {
        "id": "Pe0A7ljAss3T"
      },
      "source": [
        "# 2) How does broadcasting work in NumPy?"
      ]
    },
    {
      "cell_type": "markdown",
      "metadata": {
        "id": "_TFKwXOXsztv"
      },
      "source": [
        "Broadcasting provides a means for vectorizing the array operations so that looping would take place in C. It is a mechanism used by Numpy when it has to perform arithmetic operations on arrays with different shapes. Usual numpy broadcasting operations on two arrays are done on an element-by-element basis"
      ]
    },
    {
      "cell_type": "markdown",
      "metadata": {
        "id": "S-EqBvRQtF1b"
      },
      "source": [
        "# 3) What is a Pandas DataFrame?"
      ]
    },
    {
      "cell_type": "markdown",
      "metadata": {
        "id": "6VdT39f1tOXI"
      },
      "source": [
        "pandas DataFrame is a way to represent and work with tabular data. It can be seen as a table that organizes data into rows and columns, making it a two-dimensional data structure. A DataFrame can be created from scratch, or you can use other data structures, like NumPy arrays."
      ]
    },
    {
      "cell_type": "markdown",
      "metadata": {
        "id": "MWX4IY4EtfZB"
      },
      "source": [
        "# 4) Explain the use of the groupby() method in Pandas?"
      ]
    },
    {
      "cell_type": "markdown",
      "metadata": {
        "id": "Y1hJ3yNatnTC"
      },
      "source": [
        " It is use to split the data into groups based on predefined criteria, along rows (by default, axis=0 ), or columns ( axis=1 ). In other words, this function maps the labels to the names of the groups."
      ]
    },
    {
      "cell_type": "markdown",
      "metadata": {
        "id": "fgfe8H2pt96p"
      },
      "source": [
        "# 5) Why is Seaborn preferred for statistical visualizations?"
      ]
    },
    {
      "cell_type": "markdown",
      "metadata": {
        "id": "Ie8NFNzpuHg0"
      },
      "source": [
        "Seaborn is often preferred for statistical visualizations because it is designed specifically for creating informative and aesthetically pleasing statistical graphics.\n",
        "\n",
        "Seaborn provides a high-level interface for creating complex plots, reducing the amount of code required compared to Matplotlib.\n",
        "\n",
        "Built-in Themes: Seaborn includes default themes and color palettes that make visualizations more attractive without extra customization."
      ]
    },
    {
      "cell_type": "markdown",
      "metadata": {
        "id": "TG0_XRC9aWzx"
      },
      "source": [
        "# 6) What are the differences between NumPy arrays and Python list."
      ]
    },
    {
      "cell_type": "markdown",
      "metadata": {
        "id": "ecok-6e_aeaM"
      },
      "source": [
        "NumPy arrays are much faster and have strict requirements on the homogeneity of the objects. Both phython lists and NumPy arrays have a wide array of built-in methods for performing a variety of tasks including sorting, finding min/max, truncating, appending, concatenating and much more."
      ]
    },
    {
      "cell_type": "markdown",
      "metadata": {
        "id": "5DlVib1WbJZP"
      },
      "source": [
        "# 7) What is a heatmap, and when should it be used?"
      ]
    },
    {
      "cell_type": "markdown",
      "metadata": {
        "id": "2nRoIffXbTD0"
      },
      "source": [
        "A heatmap is a data visualization tool that uses color to represent the magnitude of a phenomenon across two dimensions. Heatmaps are used in a variety of contexts, including:\n",
        "\n",
        "Web analytics: Heatmaps can show how users interact with a website, such as where they click, how far they scroll, or how they use their eyes. This information can help identify areas of a page that are most engaged, and where to place CTAs, headlines, and form fields.\n",
        "\n",
        "Tracking performance:\n",
        "Heatmaps can provide real-time visual feedback on the status of key metrics. For example, in a manufacturing setting, a heatmap can highlight areas where production is consistently slower.\n",
        "\n",
        "Analyzing data:\n",
        "Heatmaps can be used to draw attention to patterns and correlations, show data variations, and simplify complex data sets.\n",
        "\n",
        "Gaming:\n",
        "Heatmaps can help players identify patterns, strategies, and areas where they can improve their performance.\n",
        "\n",
        "System usage:\n",
        "Heatmaps can help business users understand how a system is being used, and where to start testing.\n"
      ]
    },
    {
      "cell_type": "markdown",
      "metadata": {
        "id": "cPeSdgnZb8q7"
      },
      "source": [
        "# 8) What does the term “vectorized operation” mean in NumPy)?"
      ]
    },
    {
      "cell_type": "markdown",
      "metadata": {
        "id": "iTa869IdcKav"
      },
      "source": [
        "In NumPy, the term \"vectorized operation\" refers to performing operations on entire arrays (or large chunks of data) at once, without the need for explicit loops. This is achieved by applying functions or operations element-wise to the entire array efficiently, leveraging low-level, optimized C code under the hood."
      ]
    },
    {
      "cell_type": "markdown",
      "metadata": {
        "id": "UGCCIuXdcaqy"
      },
      "source": [
        "# 9) How does Matplotlib differ from Plotly) ?"
      ]
    },
    {
      "cell_type": "markdown",
      "metadata": {
        "id": "LPrGSMzqcqZU"
      },
      "source": [
        "Matplotlib is more explicit in declaring each plot element, making it an ideal place for new Python users to start, while Plotly is well-suited for creating interactive plots to be displayed in a web browser."
      ]
    },
    {
      "cell_type": "markdown",
      "metadata": {
        "id": "RXcxdLxsc1W-"
      },
      "source": [
        "# 10) What is the significance of hierarchical indexing in Pandas)?"
      ]
    },
    {
      "cell_type": "markdown",
      "metadata": {
        "id": "R6scyiEEdEHj"
      },
      "source": [
        "Hierarchical indexing (also known as MultiIndexing) in Pandas is a powerful feature that allows you to work with multi-dimensional data in a more compact and intuitive manner. It enables you to organize and access data with multiple levels of labels, making it especially useful for managing and analyzing complex datasets.\n",
        "\n",
        "Key Significance of Hierarchical Indexing\n",
        "\n",
        "Representation of Multi-Dimensional Data:\n",
        "Hierarchical indexing allows you to represent multi-dimensional data in a two-dimensional DataFrame or Series.\n",
        "For example, data with rows representing combinations of country and year can be managed easily.\n",
        "\n",
        "Enhanced Data Organization:\n",
        "MultiIndex enables a cleaner and more logical organization of data, as it groups related rows or columns.\n",
        "You can represent nested relationships between the data more naturally.\n",
        "\n",
        "Simplified Data Aggregation:\n",
        "Hierarchical indexing is especially useful when performing operations like grouping, aggregation, or pivoting, as it provides an easy way to work with grouped data.\n",
        "\n",
        "Improved Readability:\n",
        "Multi-level indices make it easier to visually inspect datasets that have a hierarchical structure.\n",
        "\n",
        "Efficient Data Slicing and Selection:\n",
        "You can use tuple-based indexing or level-based indexing to slice and select subsets of data more flexibly.\n",
        "For example, selecting data for a specific country and year from a dataset is straightforward with MultiIndex.\n",
        "\n",
        "Support for Complex Analysis:\n",
        "Hierarchical indexing allows advanced operations like reshaping with stack() and unstack(), which are essential for pivoting data between long and wide formats."
      ]
    },
    {
      "cell_type": "markdown",
      "metadata": {
        "id": "jZVTnlBMdhbP"
      },
      "source": [
        "# 11) What is the role of Seaborn’s pairplot() function) ?"
      ]
    },
    {
      "cell_type": "markdown",
      "metadata": {
        "id": "Sj5YM6R8ePbS"
      },
      "source": [
        "The Seaborn pairplot() function in Python is used to visualize the relationships between variables in a dataset\n",
        "\n",
        "Creates a grid of scatterplots to show the pairwise relationships between variables in a dataset\n",
        "\n",
        "By default, each numeric variable in the dataset is shared across the y-axes in a single row and the x-axes in a single column.\n",
        "\n",
        "Exploratory data analysis, feature selection, and understanding how multiple variables interact"
      ]
    },
    {
      "cell_type": "markdown",
      "metadata": {
        "id": "eZ-DwDxRetMt"
      },
      "source": [
        "# 12) What is the purpose of the describe() function in Pandas) ?"
      ]
    },
    {
      "cell_type": "markdown",
      "metadata": {
        "id": "jkNa_rbPe81p"
      },
      "source": [
        "The describe() function in Pandas generates a statistical summary of a DataFrame or series.\n",
        "\n",
        "The describe() function summarizes the distribution of a dataset by providing descriptive statistics. This includes information about the central tendency, dispersion, and shape of the data.\n",
        "\n",
        "The describe() function returns a dataframe that summarizes the statistical features of the numeric columns in the dataframe.\n",
        "\n",
        "The describe() function includes information such as:\n",
        "Count\n",
        "Mean\n",
        "Standard deviation\n",
        "Percentiles\n",
        "Minimum and maximum value"
      ]
    },
    {
      "cell_type": "markdown",
      "metadata": {
        "id": "wSXBO-9Afc9W"
      },
      "source": [
        "# 13) Why is handling missing data important in Pandas) ?"
      ]
    },
    {
      "cell_type": "markdown",
      "metadata": {
        "id": "7rLDfpYYfmgp"
      },
      "source": [
        "Handling missing data in Pandas is important because it ensures that data analysis is accurate and insightful. Missing data can lead to biased estimates and invalid conclusions."
      ]
    },
    {
      "cell_type": "markdown",
      "metadata": {
        "id": "OkXWwe41gP2d"
      },
      "source": [
        "# 14) What are the benefits of using Plotly for data visualization ?"
      ]
    },
    {
      "cell_type": "markdown",
      "metadata": {
        "id": "DYSf1u48gqwM"
      },
      "source": [
        "Using Plotly for web-based visualizations has several advantages. It allows you to create interactive and customizable charts easily. Plotly supports various chart types and integrates seamlessly with Python, R, and JavaScript."
      ]
    },
    {
      "cell_type": "markdown",
      "metadata": {
        "id": "ypYleupNg-Oa"
      },
      "source": [
        "# 15) How does NumPy handle multidimensional arrays) ?"
      ]
    },
    {
      "cell_type": "markdown",
      "metadata": {
        "id": "qrxfOie2hOtz"
      },
      "source": [
        "For numpy, all data in any multi-dimensional array is actually stored in memory as a long 1D array (we will get back to this in the master lecture). The number of dimensions and shape of an array is actually only used to structure the data access in a certain way."
      ]
    },
    {
      "cell_type": "markdown",
      "metadata": {
        "id": "4D41enRYhb5M"
      },
      "source": [
        "# 16) What is the role of Bokeh in data visualization) ?\n"
      ]
    },
    {
      "cell_type": "markdown",
      "metadata": {
        "id": "Ulr6jCSshp3-"
      },
      "source": [
        "Bokeh, on the other hand, is designed to create interactive and web-friendly visualizations. It allows users to create plots easily embedded in web applications and provides dynamic interactions like zooming, panning, and tooltips."
      ]
    },
    {
      "cell_type": "markdown",
      "metadata": {
        "id": "pP-Z-1H7lBxO"
      },
      "source": [
        "# 17) Explain the difference between apply() and map() in PandasA ?"
      ]
    },
    {
      "cell_type": "markdown",
      "metadata": {
        "id": "Vp6SXnrPlPPb"
      },
      "source": [
        "'map' applies a function to each element of a series and returns a new series with the function applied. Often used when a transformation or substitution is needed. 'apply' can be used on both Series(Element-wise) and DataFrames(Rows or Columns), returns a new Dataframe or series."
      ]
    },
    {
      "cell_type": "markdown",
      "metadata": {
        "id": "_CzSU_9hlamI"
      },
      "source": [
        "# 18) What are some advanced features of NumPy) ?"
      ]
    },
    {
      "cell_type": "markdown",
      "metadata": {
        "id": "KdgMD3gQljVQ"
      },
      "source": [
        "NumPy has many advanced features, including:\n",
        "\n",
        "Broadcasting: Vectorizes array operations by making looping happen in C instead of Python. This leads to efficient algorithm implementations.\n",
        "\n",
        "Random number generation: NumPy's random subpackage can create random numbers and samples from a variety of distributions. This is useful in machine learning and deep learning.\n",
        "\n",
        "Linear algebra: NumPy has linear algebra routines, including matrix multiplication, decompositions, and determinants.\n",
        "\n",
        "Array creation: NumPy offers functions to create arrays with initial placeholder content, which minimizes the need to grow arrays.\n",
        "\n",
        "Array indexing: NumPy offers several ways to index into arrays.\n",
        "Efficient array operations: NumPy's array operations reduce the need for explicit loops.\n",
        "\n",
        "Integration with other libraries: NumPy integrates easily with other libraries like pandas, matplotlib, and SciPy."
      ]
    },
    {
      "cell_type": "markdown",
      "metadata": {
        "id": "KshjQurjmBDI"
      },
      "source": [
        "# 19) How does Pandas simplify time series analysis) ?\n"
      ]
    },
    {
      "cell_type": "markdown",
      "metadata": {
        "id": "NPsxI9z2mNYH"
      },
      "source": [
        "By applying the to_datetime function, pandas interprets the strings and convert these to datetime (i.e. datetime64[ns, UTC] ) objects. In pandas we call these datetime objects similar to datetime. datetime from the standard library as pandas."
      ]
    },
    {
      "cell_type": "markdown",
      "metadata": {
        "id": "mGQmHMo9miUu"
      },
      "source": [
        "# 20) What is the role of a pivot table in Pandas) ?"
      ]
    },
    {
      "cell_type": "markdown",
      "metadata": {
        "id": "uMkvnHx-mu08"
      },
      "source": [
        "The pivot function in Pandas is a method used to reshape data by transforming rows into columns. The Pandas pivot function comes into play when there's a need to rearrange data from a “long” format to a “wide” format."
      ]
    },
    {
      "cell_type": "markdown",
      "metadata": {
        "id": "K2YYON_Km4_2"
      },
      "source": [
        "# 21) Why is NumPy’s array slicing faster than Python’s list slicing) ?"
      ]
    },
    {
      "cell_type": "markdown",
      "metadata": {
        "id": "DjQhoFxEnEL8"
      },
      "source": [
        "NumPy arrays are optimized for numerical computations, with efficient element-wise operations and mathematical functions. These operations are implemented in C, resulting in faster performance than equivalent operations on lists."
      ]
    },
    {
      "cell_type": "markdown",
      "metadata": {
        "id": "khTDyiQUnSif"
      },
      "source": [
        "# 22) What are some common use cases for Seaborn?"
      ]
    },
    {
      "cell_type": "markdown",
      "metadata": {
        "id": "oHoDMlPKnZvb"
      },
      "source": [
        "\n",
        "Seaborn is a tool for data visualization and exploration that can be used for a variety of purposes, including:\n",
        "\n",
        "Scatter plots: Visualize how variables vary, such as sepal length and width\n",
        "\n",
        "Bar plots: Compare quantities across categories by displaying them with rectangular bars\n",
        "\n",
        "Heatmaps: Visualize the correlation between variables in a dataset by using colors to depict values in a two-dimensional space\n",
        "\n",
        "Violin plots: Plot the distribution of a variable across different categories or groups by combining aspects of a box plot and a kernel density plot\n",
        "\n",
        "Figure-level plots: Create complex plots across many axes with just a few lines of code\n",
        "\n",
        "Pointplots: Identify how the relationship is changing in a particular hue category by connecting data from the same hue category\n",
        "\n",
        "Area plots: Highlight the difference or distance between different variables to see how different items compare against each other\n",
        "\n"
      ]
    },
    {
      "cell_type": "markdown",
      "metadata": {
        "id": "Cekvfsehn15h"
      },
      "source": [
        "# **Practical**"
      ]
    },
    {
      "cell_type": "markdown",
      "metadata": {
        "id": "SEyf4HCsn-du"
      },
      "source": [
        "# 1) How do you create a 2D NumPy array and calculate the sum of each row) ?"
      ]
    },
    {
      "cell_type": "markdown",
      "metadata": {
        "id": "TJdJg9zsoli6"
      },
      "source": [
        "You can use the numpy.array() or other functions like numpy.random to create a 2D array."
      ]
    },
    {
      "cell_type": "code",
      "execution_count": null,
      "metadata": {
        "colab": {
          "base_uri": "https://localhost:8080/"
        },
        "id": "vV8afrx_pESW",
        "outputId": "69f68b7a-976e-43ae-9976-84ab09d0a754"
      },
      "outputs": [
        {
          "name": "stdout",
          "output_type": "stream",
          "text": [
            "2D Array:\n",
            "[[1 2 3]\n",
            " [4 5 6]\n",
            " [7 8 9]]\n"
          ]
        }
      ],
      "source": [
        "import numpy as np\n",
        "\n",
        "# Create a 2D array\n",
        "array = np.array([[1, 2, 3], [4, 5, 6], [7, 8, 9]])\n",
        "print(\"2D Array:\")\n",
        "print(array)\n"
      ]
    },
    {
      "cell_type": "markdown",
      "metadata": {
        "id": "U08qQY6qpFSa"
      },
      "source": [
        "You can calculate the sum of each row using the numpy.sum() function with axis=1."
      ]
    },
    {
      "cell_type": "code",
      "execution_count": null,
      "metadata": {
        "colab": {
          "base_uri": "https://localhost:8080/"
        },
        "id": "_oaBoXW4pLRD",
        "outputId": "31d927fa-bc05-41cd-9a05-9e7fed0d92d6"
      },
      "outputs": [
        {
          "name": "stdout",
          "output_type": "stream",
          "text": [
            "Sum of Each Row:\n",
            "[ 6 15 24]\n"
          ]
        }
      ],
      "source": [
        "# Sum of each row\n",
        "row_sums = np.sum(array, axis=1)\n",
        "print(\"Sum of Each Row:\")\n",
        "print(row_sums)\n"
      ]
    },
    {
      "cell_type": "markdown",
      "metadata": {
        "id": "UfhaWzVcpuei"
      },
      "source": [
        "# 2) Write a Pandas script to find the mean of a specific column in a DataFrame."
      ]
    },
    {
      "cell_type": "markdown",
      "metadata": {
        "id": "7bGk3ZhLqDE3"
      },
      "source": [
        "Here’s a Pandas script to calculate the mean of a specific column in a DataFrame:"
      ]
    },
    {
      "cell_type": "code",
      "execution_count": null,
      "metadata": {
        "colab": {
          "base_uri": "https://localhost:8080/"
        },
        "id": "Tn2N_dm7qN_h",
        "outputId": "6c774ef6-5292-45d5-d188-84a1f5f244dd"
      },
      "outputs": [
        {
          "name": "stdout",
          "output_type": "stream",
          "text": [
            "The mean age is: 32.5\n"
          ]
        }
      ],
      "source": [
        "import pandas as pd\n",
        "\n",
        "# Sample DataFrame\n",
        "data = {\n",
        "    'Name': ['Alice', 'Bob', 'Charlie', 'David'],\n",
        "    'Age': [25, 30, 35, 40],\n",
        "    'Salary': [50000, 60000, 70000, 80000]\n",
        "}\n",
        "\n",
        "df = pd.DataFrame(data)\n",
        "\n",
        "# Calculate the mean of a specific column (e.g., 'Age')\n",
        "mean_age = df['Age'].mean()\n",
        "\n",
        "print(f\"The mean age is: {mean_age}\")\n"
      ]
    },
    {
      "cell_type": "markdown",
      "metadata": {
        "id": "tgO1Q5YsqWXD"
      },
      "source": [
        "# 3) Create a scatter plot using Matplotlib."
      ]
    },
    {
      "cell_type": "markdown",
      "metadata": {
        "id": "srUR1YBZqca-"
      },
      "source": [
        "Here’s an example of creating a scatter plot using Matplotlib:"
      ]
    },
    {
      "cell_type": "code",
      "execution_count": null,
      "metadata": {
        "colab": {
          "base_uri": "https://localhost:8080/",
          "height": 472
        },
        "id": "DPg876WUq6qe",
        "outputId": "b847d60d-a1de-455d-dd8f-1e8d7988045c"
      },
      "outputs": [
        {
          "data": {
            "image/png": "[encoded data removed]",
            "text/plain": [
              "<Figure size 640x480 with 1 Axes>"
            ]
          },
          "metadata": {},
          "output_type": "display_data"
        }
      ],
      "source": [
        "import matplotlib.pyplot as plt\n",
        "\n",
        "# Sample data\n",
        "x = [1, 2, 3, 4, 5]\n",
        "y = [2, 4, 1, 8, 7]\n",
        "\n",
        "# Create a scatter plot\n",
        "plt.scatter(x, y, color='blue', label='Data Points')\n",
        "\n",
        "# Add labels and title\n",
        "plt.xlabel('X-axis')\n",
        "plt.ylabel('Y-axis')\n",
        "plt.title('Scatter Plot Example')\n",
        "\n",
        "# Add a legend\n",
        "plt.legend()\n",
        "\n",
        "# Show the plot\n",
        "plt.show()\n"
      ]
    },
    {
      "cell_type": "markdown",
      "metadata": {
        "id": "nDpbktIjrlnn"
      },
      "source": [
        "# 4) How do you calculate the correlation matrix using Seaborn and visualize it with a heatmap) ?"
      ]
    },
    {
      "cell_type": "markdown",
      "metadata": {
        "id": "Y71hzLKGr0QG"
      },
      "source": [
        "Here’s how to calculate the correlation matrix using Pandas and visualize it with a heatmap using Seaborn:"
      ]
    },
    {
      "cell_type": "code",
      "execution_count": null,
      "metadata": {
        "colab": {
          "background_save": true
        },
        "id": "sux3UE13sAkA",
        "outputId": "f6ca7f20-b57f-44a1-ab08-0eba4b5a30c8"
      },
      "outputs": [
        {
          "data": {
            "image/png": "[encoded data removed]",
            "text/plain": [
              "<Figure size 800x600 with 2 Axes>"
            ]
          },
          "metadata": {},
          "output_type": "display_data"
        }
      ],
      "source": [
        "import pandas as pd\n",
        "import seaborn as sns\n",
        "import matplotlib.pyplot as plt\n",
        "\n",
        "# Sample DataFrame\n",
        "data = {\n",
        "    'A': [1, 2, 3, 4, 5],\n",
        "    'B': [5, 4, 3, 2, 1],\n",
        "    'C': [2, 3, 4, 5, 6],\n",
        "    'D': [5, 6, 7, 8, 9]\n",
        "}\n",
        "df = pd.DataFrame(data)\n",
        "\n",
        "# Calculate the correlation matrix\n",
        "correlation_matrix = df.corr()\n",
        "\n",
        "# Visualize the correlation matrix with a heatmap\n",
        "plt.figure(figsize=(8, 6))\n",
        "sns.heatmap(correlation_matrix, annot=True, cmap='coolwarm', fmt=\".2f\", linewidths=0.5)\n",
        "\n",
        "# Add title\n",
        "plt.title('Correlation Matrix Heatmap')\n",
        "\n",
        "# Show the plot\n",
        "plt.show()\n"
      ]
    },
    {
      "cell_type": "markdown",
      "source": [
        "# 5) Generate a bar plot using Plotly"
      ],
      "metadata": {
        "id": "aN3t0ADfszm5"
      }
    },
    {
      "cell_type": "code",
      "source": [
        "import plotly.graph_objects as go\n",
        "\n",
        "# Sample data\n",
        "categories = ['Category A', 'Category B', 'Category C', 'Category D']\n",
        "values = [10, 15, 7, 20]\n",
        "\n",
        "# Create the bar plot\n",
        "fig = go.Figure(data=[\n",
        "    go.Bar(x=categories, y=values, marker_color='blue', name='Values')\n",
        "])\n",
        "\n",
        "# Add title and axis labels\n",
        "fig.update_layout(\n",
        "    title='Bar Plot Example',\n",
        "    xaxis_title='Categories',\n",
        "    yaxis_title='Values',\n",
        "    template='plotly'\n",
        ")\n",
        "\n",
        "# Show the plot\n",
        "fig.show()\n"
      ],
      "metadata": {
        "id": "pXJ0PJE5tOLt",
        "outputId": "1269237a-1458-4c0d-d252-463ee9165cb3",
        "colab": {
          "base_uri": "https://localhost:8080/",
          "height": 542
        }
      },
      "execution_count": 7,
      "outputs": [
        {
          "output_type": "display_data",
          "data": {
            "text/html": [
              "<html>\n",
              "<head><meta charset=\"utf-8\" /></head>\n",
              "<body>\n",
              "    <div>            <script src=\"https://cdnjs.cloudflare.com/ajax/libs/mathjax/2.7.5/MathJax.js?config=TeX-AMS-MML_SVG\"></script><script type=\"text/javascript\">if (window.MathJax && window.MathJax.Hub && window.MathJax.Hub.Config) {window.MathJax.Hub.Config({SVG: {font: \"STIX-Web\"}});}</script>                <script type=\"text/javascript\">window.PlotlyConfig = {MathJaxConfig: 'local'};</script>\n",
              "        <script charset=\"utf-8\" src=\"https://cdn.plot.ly/plotly-2.35.2.min.js\"></script>                <div id=\"0efa9897-8a14-46d4-be5d-c23d4efffc72\" class=\"plotly-graph-div\" style=\"height:525px; width:100%;\"></div>            <script type=\"text/javascript\">                                    window.PLOTLYENV=window.PLOTLYENV || {};                                    if (document.getElementById(\"0efa9897-8a14-46d4-be5d-c23d4efffc72\")) {                    Plotly.newPlot(                        \"0efa9897-8a14-46d4-be5d-c23d4efffc72\",                        [{\"marker\":{\"color\":\"blue\"},\"name\":\"Values\",\"x\":[\"Category A\",\"Category B\",\"Category C\",\"Category D\"],\"y\":[10,15,7,20],\"type\":\"bar\"}],                        {\"template\":{\"data\":{\"histogram2dcontour\":[{\"type\":\"histogram2dcontour\",\"colorbar\":{\"outlinewidth\":0,\"ticks\":\"\"},\"colorscale\":[[0.0,\"#0d0887\"],[0.1111111111111111,\"#46039f\"],[0.2222222222222222,\"#7201a8\"],[0.3333333333333333,\"#9c179e\"],[0.4444444444444444,\"#bd3786\"],[0.5555555555555556,\"#d8576b\"],[0.6666666666666666,\"#ed7953\"],[0.7777777777777778,\"#fb9f3a\"],[0.8888888888888888,\"#fdca26\"],[1.0,\"#f0f921\"]]}],\"choropleth\":[{\"type\":\"choropleth\",\"colorbar\":{\"outlinewidth\":0,\"ticks\":\"\"}}],\"histogram2d\":[{\"type\":\"histogram2d\",\"colorbar\":{\"outlinewidth\":0,\"ticks\":\"\"},\"colorscale\":[[0.0,\"#0d0887\"],[0.1111111111111111,\"#46039f\"],[0.2222222222222222,\"#7201a8\"],[0.3333333333333333,\"#9c179e\"],[0.4444444444444444,\"#bd3786\"],[0.5555555555555556,\"#d8576b\"],[0.6666666666666666,\"#ed7953\"],[0.7777777777777778,\"#fb9f3a\"],[0.8888888888888888,\"#fdca26\"],[1.0,\"#f0f921\"]]}],\"heatmap\":[{\"type\":\"heatmap\",\"colorbar\":{\"outlinewidth\":0,\"ticks\":\"\"},\"colorscale\":[[0.0,\"#0d0887\"],[0.1111111111111111,\"#46039f\"],[0.2222222222222222,\"#7201a8\"],[0.3333333333333333,\"#9c179e\"],[0.4444444444444444,\"#bd3786\"],[0.5555555555555556,\"#d8576b\"],[0.6666666666666666,\"#ed7953\"],[0.7777777777777778,\"#fb9f3a\"],[0.8888888888888888,\"#fdca26\"],[1.0,\"#f0f921\"]]}],\"heatmapgl\":[{\"type\":\"heatmapgl\",\"colorbar\":{\"outlinewidth\":0,\"ticks\":\"\"},\"colorscale\":[[0.0,\"#0d0887\"],[0.1111111111111111,\"#46039f\"],[0.2222222222222222,\"#7201a8\"],[0.3333333333333333,\"#9c179e\"],[0.4444444444444444,\"#bd3786\"],[0.5555555555555556,\"#d8576b\"],[0.6666666666666666,\"#ed7953\"],[0.7777777777777778,\"#fb9f3a\"],[0.8888888888888888,\"#fdca26\"],[1.0,\"#f0f921\"]]}],\"contourcarpet\":[{\"type\":\"contourcarpet\",\"colorbar\":{\"outlinewidth\":0,\"ticks\":\"\"}}],\"contour\":[{\"type\":\"contour\",\"colorbar\":{\"outlinewidth\":0,\"ticks\":\"\"},\"colorscale\":[[0.0,\"#0d0887\"],[0.1111111111111111,\"#46039f\"],[0.2222222222222222,\"#7201a8\"],[0.3333333333333333,\"#9c179e\"],[0.4444444444444444,\"#bd3786\"],[0.5555555555555556,\"#d8576b\"],[0.6666666666666666,\"#ed7953\"],[0.7777777777777778,\"#fb9f3a\"],[0.8888888888888888,\"#fdca26\"],[1.0,\"#f0f921\"]]}],\"surface\":[{\"type\":\"surface\",\"colorbar\":{\"outlinewidth\":0,\"ticks\":\"\"},\"colorscale\":[[0.0,\"#0d0887\"],[0.1111111111111111,\"#46039f\"],[0.2222222222222222,\"#7201a8\"],[0.3333333333333333,\"#9c179e\"],[0.4444444444444444,\"#bd3786\"],[0.5555555555555556,\"#d8576b\"],[0.6666666666666666,\"#ed7953\"],[0.7777777777777778,\"#fb9f3a\"],[0.8888888888888888,\"#fdca26\"],[1.0,\"#f0f921\"]]}],\"mesh3d\":[{\"type\":\"mesh3d\",\"colorbar\":{\"outlinewidth\":0,\"ticks\":\"\"}}],\"scatter\":[{\"fillpattern\":{\"fillmode\":\"overlay\",\"size\":10,\"solidity\":0.2},\"type\":\"scatter\"}],\"parcoords\":[{\"type\":\"parcoords\",\"line\":{\"colorbar\":{\"outlinewidth\":0,\"ticks\":\"\"}}}],\"scatterpolargl\":[{\"type\":\"scatterpolargl\",\"marker\":{\"colorbar\":{\"outlinewidth\":0,\"ticks\":\"\"}}}],\"bar\":[{\"error_x\":{\"color\":\"#2a3f5f\"},\"error_y\":{\"color\":\"#2a3f5f\"},\"marker\":{\"line\":{\"color\":\"#E5ECF6\",\"width\":0.5},\"pattern\":{\"fillmode\":\"overlay\",\"size\":10,\"solidity\":0.2}},\"type\":\"bar\"}],\"scattergeo\":[{\"type\":\"scattergeo\",\"marker\":{\"colorbar\":{\"outlinewidth\":0,\"ticks\":\"\"}}}],\"scatterpolar\":[{\"type\":\"scatterpolar\",\"marker\":{\"colorbar\":{\"outlinewidth\":0,\"ticks\":\"\"}}}],\"histogram\":[{\"marker\":{\"pattern\":{\"fillmode\":\"overlay\",\"size\":10,\"solidity\":0.2}},\"type\":\"histogram\"}],\"scattergl\":[{\"type\":\"scattergl\",\"marker\":{\"colorbar\":{\"outlinewidth\":0,\"ticks\":\"\"}}}],\"scatter3d\":[{\"type\":\"scatter3d\",\"line\":{\"colorbar\":{\"outlinewidth\":0,\"ticks\":\"\"}},\"marker\":{\"colorbar\":{\"outlinewidth\":0,\"ticks\":\"\"}}}],\"scattermapbox\":[{\"type\":\"scattermapbox\",\"marker\":{\"colorbar\":{\"outlinewidth\":0,\"ticks\":\"\"}}}],\"scatterternary\":[{\"type\":\"scatterternary\",\"marker\":{\"colorbar\":{\"outlinewidth\":0,\"ticks\":\"\"}}}],\"scattercarpet\":[{\"type\":\"scattercarpet\",\"marker\":{\"colorbar\":{\"outlinewidth\":0,\"ticks\":\"\"}}}],\"carpet\":[{\"aaxis\":{\"endlinecolor\":\"#2a3f5f\",\"gridcolor\":\"white\",\"linecolor\":\"white\",\"minorgridcolor\":\"white\",\"startlinecolor\":\"#2a3f5f\"},\"baxis\":{\"endlinecolor\":\"#2a3f5f\",\"gridcolor\":\"white\",\"linecolor\":\"white\",\"minorgridcolor\":\"white\",\"startlinecolor\":\"#2a3f5f\"},\"type\":\"carpet\"}],\"table\":[{\"cells\":{\"fill\":{\"color\":\"#EBF0F8\"},\"line\":{\"color\":\"white\"}},\"header\":{\"fill\":{\"color\":\"#C8D4E3\"},\"line\":{\"color\":\"white\"}},\"type\":\"table\"}],\"barpolar\":[{\"marker\":{\"line\":{\"color\":\"#E5ECF6\",\"width\":0.5},\"pattern\":{\"fillmode\":\"overlay\",\"size\":10,\"solidity\":0.2}},\"type\":\"barpolar\"}],\"pie\":[{\"automargin\":true,\"type\":\"pie\"}]},\"layout\":{\"autotypenumbers\":\"strict\",\"colorway\":[\"#636efa\",\"#EF553B\",\"#00cc96\",\"#ab63fa\",\"#FFA15A\",\"#19d3f3\",\"#FF6692\",\"#B6E880\",\"#FF97FF\",\"#FECB52\"],\"font\":{\"color\":\"#2a3f5f\"},\"hovermode\":\"closest\",\"hoverlabel\":{\"align\":\"left\"},\"paper_bgcolor\":\"white\",\"plot_bgcolor\":\"#E5ECF6\",\"polar\":{\"bgcolor\":\"#E5ECF6\",\"angularaxis\":{\"gridcolor\":\"white\",\"linecolor\":\"white\",\"ticks\":\"\"},\"radialaxis\":{\"gridcolor\":\"white\",\"linecolor\":\"white\",\"ticks\":\"\"}},\"ternary\":{\"bgcolor\":\"#E5ECF6\",\"aaxis\":{\"gridcolor\":\"white\",\"linecolor\":\"white\",\"ticks\":\"\"},\"baxis\":{\"gridcolor\":\"white\",\"linecolor\":\"white\",\"ticks\":\"\"},\"caxis\":{\"gridcolor\":\"white\",\"linecolor\":\"white\",\"ticks\":\"\"}},\"coloraxis\":{\"colorbar\":{\"outlinewidth\":0,\"ticks\":\"\"}},\"colorscale\":{\"sequential\":[[0.0,\"#0d0887\"],[0.1111111111111111,\"#46039f\"],[0.2222222222222222,\"#7201a8\"],[0.3333333333333333,\"#9c179e\"],[0.4444444444444444,\"#bd3786\"],[0.5555555555555556,\"#d8576b\"],[0.6666666666666666,\"#ed7953\"],[0.7777777777777778,\"#fb9f3a\"],[0.8888888888888888,\"#fdca26\"],[1.0,\"#f0f921\"]],\"sequentialminus\":[[0.0,\"#0d0887\"],[0.1111111111111111,\"#46039f\"],[0.2222222222222222,\"#7201a8\"],[0.3333333333333333,\"#9c179e\"],[0.4444444444444444,\"#bd3786\"],[0.5555555555555556,\"#d8576b\"],[0.6666666666666666,\"#ed7953\"],[0.7777777777777778,\"#fb9f3a\"],[0.8888888888888888,\"#fdca26\"],[1.0,\"#f0f921\"]],\"diverging\":[[0,\"#8e0152\"],[0.1,\"#c51b7d\"],[0.2,\"#de77ae\"],[0.3,\"#f1b6da\"],[0.4,\"#fde0ef\"],[0.5,\"#f7f7f7\"],[0.6,\"#e6f5d0\"],[0.7,\"#b8e186\"],[0.8,\"#7fbc41\"],[0.9,\"#4d9221\"],[1,\"#276419\"]]},\"xaxis\":{\"gridcolor\":\"white\",\"linecolor\":\"white\",\"ticks\":\"\",\"title\":{\"standoff\":15},\"zerolinecolor\":\"white\",\"automargin\":true,\"zerolinewidth\":2},\"yaxis\":{\"gridcolor\":\"white\",\"linecolor\":\"white\",\"ticks\":\"\",\"title\":{\"standoff\":15},\"zerolinecolor\":\"white\",\"automargin\":true,\"zerolinewidth\":2},\"scene\":{\"xaxis\":{\"backgroundcolor\":\"#E5ECF6\",\"gridcolor\":\"white\",\"linecolor\":\"white\",\"showbackground\":true,\"ticks\":\"\",\"zerolinecolor\":\"white\",\"gridwidth\":2},\"yaxis\":{\"backgroundcolor\":\"#E5ECF6\",\"gridcolor\":\"white\",\"linecolor\":\"white\",\"showbackground\":true,\"ticks\":\"\",\"zerolinecolor\":\"white\",\"gridwidth\":2},\"zaxis\":{\"backgroundcolor\":\"#E5ECF6\",\"gridcolor\":\"white\",\"linecolor\":\"white\",\"showbackground\":true,\"ticks\":\"\",\"zerolinecolor\":\"white\",\"gridwidth\":2}},\"shapedefaults\":{\"line\":{\"color\":\"#2a3f5f\"}},\"annotationdefaults\":{\"arrowcolor\":\"#2a3f5f\",\"arrowhead\":0,\"arrowwidth\":1},\"geo\":{\"bgcolor\":\"white\",\"landcolor\":\"#E5ECF6\",\"subunitcolor\":\"white\",\"showland\":true,\"showlakes\":true,\"lakecolor\":\"white\"},\"title\":{\"x\":0.05},\"mapbox\":{\"style\":\"light\"}}},\"title\":{\"text\":\"Bar Plot Example\"},\"xaxis\":{\"title\":{\"text\":\"Categories\"}},\"yaxis\":{\"title\":{\"text\":\"Values\"}}},                        {\"responsive\": true}                    ).then(function(){\n",
              "                            \n",
              "var gd = document.getElementById('0efa9897-8a14-46d4-be5d-c23d4efffc72');\n",
              "var x = new MutationObserver(function (mutations, observer) {{\n",
              "        var display = window.getComputedStyle(gd).display;\n",
              "        if (!display || display === 'none') {{\n",
              "            console.log([gd, 'removed!']);\n",
              "            Plotly.purge(gd);\n",
              "            observer.disconnect();\n",
              "        }}\n",
              "}});\n",
              "\n",
              "// Listen for the removal of the full notebook cells\n",
              "var notebookContainer = gd.closest('#notebook-container');\n",
              "if (notebookContainer) {{\n",
              "    x.observe(notebookContainer, {childList: true});\n",
              "}}\n",
              "\n",
              "// Listen for the clearing of the current output cell\n",
              "var outputEl = gd.closest('.output');\n",
              "if (outputEl) {{\n",
              "    x.observe(outputEl, {childList: true});\n",
              "}}\n",
              "\n",
              "                        })                };                            </script>        </div>\n",
              "</body>\n",
              "</html>"
            ]
          },
          "metadata": {}
        }
      ]
    },
    {
      "cell_type": "markdown",
      "source": [
        "# 6) Create a DataFrame and add a new column based on an existing column."
      ],
      "metadata": {
        "id": "3u--HTjZtT5R"
      }
    },
    {
      "cell_type": "code",
      "source": [
        "import pandas as pd\n",
        "\n",
        "# Create a sample DataFrame\n",
        "data = {\n",
        "    'Name': ['Alice', 'Bob', 'Charlie', 'David'],\n",
        "    'Age': [25, 30, 35, 40]\n",
        "}\n",
        "\n",
        "df = pd.DataFrame(data)\n",
        "\n",
        "# Add a new column based on the 'Age' column\n",
        "# Example: Categorize individuals as 'Young' if Age < 30, otherwise 'Old'\n",
        "df['Category'] = df['Age'].apply(lambda age: 'Young' if age < 30 else 'Old')\n",
        "\n",
        "# Display the updated DataFrame\n",
        "print(df)\n"
      ],
      "metadata": {
        "id": "KhiZ-i9ithp9",
        "outputId": "51269362-6556-4134-ac52-1abf845cc4b7",
        "colab": {
          "base_uri": "https://localhost:8080/"
        }
      },
      "execution_count": 8,
      "outputs": [
        {
          "output_type": "stream",
          "name": "stdout",
          "text": [
            "      Name  Age Category\n",
            "0    Alice   25    Young\n",
            "1      Bob   30      Old\n",
            "2  Charlie   35      Old\n",
            "3    David   40      Old\n"
          ]
        }
      ]
    },
    {
      "cell_type": "markdown",
      "source": [
        "# 7) Write a program to perform element-wise multiplication of two NumPy arrays?"
      ],
      "metadata": {
        "id": "Xa1FQeECtoix"
      }
    },
    {
      "cell_type": "code",
      "source": [
        "import numpy as np\n",
        "\n",
        "# Create two NumPy arrays\n",
        "array1 = np.array([1, 2, 3, 4])\n",
        "array2 = np.array([5, 6, 7, 8])\n",
        "\n",
        "# Perform element-wise multiplication\n",
        "result = array1 * array2\n",
        "\n",
        "# Display the result\n",
        "print(\"Element-wise multiplication result:\")\n",
        "print(result)\n"
      ],
      "metadata": {
        "id": "smPo0m7vty2Y",
        "outputId": "4e4e6ee4-d00a-4ebd-b990-f2b8db823f80",
        "colab": {
          "base_uri": "https://localhost:8080/"
        }
      },
      "execution_count": 9,
      "outputs": [
        {
          "output_type": "stream",
          "name": "stdout",
          "text": [
            "Element-wise multiplication result:\n",
            "[ 5 12 21 32]\n"
          ]
        }
      ]
    },
    {
      "cell_type": "markdown",
      "source": [
        "# 8) Create a line plot with multiple lines using Matplotlib ?"
      ],
      "metadata": {
        "id": "5T5Zi96EuuWy"
      }
    },
    {
      "cell_type": "code",
      "source": [
        "import matplotlib.pyplot as plt\n",
        "\n",
        "# Sample data for multiple lines\n",
        "x = [1, 2, 3, 4, 5]\n",
        "y1 = [1, 4, 9, 16, 25]  # First line (y = x^2)\n",
        "y2 = [1, 2, 3, 4, 5]    # Second line (y = x)\n",
        "y3 = [25, 20, 15, 10, 5]  # Third line (y = 25 - x)\n",
        "\n",
        "# Create the line plot\n",
        "plt.plot(x, y1, label='y = x^2', color='blue', marker='o')\n",
        "plt.plot(x, y2, label='y = x', color='green', marker='s')\n",
        "plt.plot(x, y3, label='y = 25 - x', color='red', marker='^')\n",
        "\n",
        "# Add title and labels\n",
        "plt.title('Line Plot wiimport matplotlib.pyplot as plt')\n",
        "\n",
        "# Sample data for multiple lines\n",
        "x = [1, 2, 3, 4, 5]\n",
        "y1 = [1, 4, 9, 16, 25]  # First line (y = x^2)\n",
        "y2 = [1, 2, 3, 4, 5]    # Second line (y = x)\n",
        "y3 = [25, 20, 15, 10, 5]  # Third line (y = 25 - x)\n",
        "\n",
        "# Create the line plot\n",
        "plt.plot(x, y1, label='y = x^2', color='blue', marker='o')\n",
        "plt.plot(x, y2, label='y = x', color='green', marker='s')\n",
        "plt.plot(x, y3, label='y = 25 - x', color='red', marker='^')\n",
        "\n",
        "# Add title and labels\n",
        "plt.title('Line Plot with Multiple Lines')\n",
        "plt.xlabel('X-axis')\n",
        "plt.ylabel('Y-axis')\n",
        "\n",
        "# Add legend\n",
        "plt.legend()\n",
        "\n",
        "# Show the plot\n",
        "plt.show()\n",
        "\n"
      ],
      "metadata": {
        "id": "euDZ0fLavJGC",
        "outputId": "41cfa0e8-d5d4-4dcd-afc9-5d09593689e5",
        "colab": {
          "base_uri": "https://localhost:8080/",
          "height": 472
        }
      },
      "execution_count": 12,
      "outputs": [
        {
          "output_type": "display_data",
          "data": {
            "text/plain": [
              "<Figure size 640x480 with 1 Axes>"
            ],
            "image/png": "[encoded data removed]"
          },
          "metadata": {}
        }
      ]
    },
    {
      "cell_type": "markdown",
      "source": [
        "# 9) Generate a Pandas DataFrame and filter rows where a column value is greater than a threshold."
      ],
      "metadata": {
        "id": "pf1aq6Rfvf9F"
      }
    },
    {
      "cell_type": "code",
      "source": [
        "import pandas as pd\n",
        "\n",
        "# Create a sample DataFrame\n",
        "data = {\n",
        "    'Name': ['Alice', 'Bob', 'Charlie', 'David', 'Eve'],\n",
        "    'Age': [25, 30, 35, 40, 45],\n",
        "    'Salary': [50000, 60000, 70000, 80000, 90000]\n",
        "}\n",
        "\n",
        "df = pd.DataFrame(data)\n",
        "\n",
        "# Define the threshold for filtering (e.g., Salary > 60000)\n",
        "threshold = 60000\n",
        "\n",
        "# Filter rows where the 'Salary' is greater than the threshold\n",
        "filtered_df = df[df['Salary'] > threshold]\n",
        "\n",
        "# Display the filtered DataFrame\n",
        "print(filtered_df)\n"
      ],
      "metadata": {
        "id": "u2XW5lHSvnjG",
        "outputId": "003759c8-383c-4c71-e17d-7c4b23f72d24",
        "colab": {
          "base_uri": "https://localhost:8080/"
        }
      },
      "execution_count": 13,
      "outputs": [
        {
          "output_type": "stream",
          "name": "stdout",
          "text": [
            "      Name  Age  Salary\n",
            "2  Charlie   35   70000\n",
            "3    David   40   80000\n",
            "4      Eve   45   90000\n"
          ]
        }
      ]
    },
    {
      "cell_type": "markdown",
      "source": [
        "# 10) Create a histogram using Seaborn to visualize a distribution."
      ],
      "metadata": {
        "id": "5a2HK145v0iQ"
      }
    },
    {
      "cell_type": "code",
      "source": [
        "import seaborn as sns\n",
        "import matplotlib.pyplot as plt\n",
        "\n",
        "tips = sns.load_dataset('tips')\n",
        "\n",
        "sns.histplot(data=tips, x='total_bill', bins=20, kde=True)\n",
        "plt.xlabel('Total Bill')\n",
        "plt.ylabel('Frequency')\n",
        "plt.title('Distribution of Total Bill Amounts')\n",
        "plt.show()\n",
        "\n",
        "\n",
        "\n"
      ],
      "metadata": {
        "id": "d6L7xE62wASE",
        "outputId": "7fd36ee0-0881-41f8-af22-d4578cc2fdfa",
        "colab": {
          "base_uri": "https://localhost:8080/",
          "height": 472
        }
      },
      "execution_count": 15,
      "outputs": [
        {
          "output_type": "display_data",
          "data": {
            "text/plain": [
              "<Figure size 640x480 with 1 Axes>"
            ],
            "image/png": "[encoded data removed]"
          },
          "metadata": {}
        }
      ]
    },
    {
      "cell_type": "markdown",
      "source": [
        "# 11) Perform matrix multiplication using NumPy."
      ],
      "metadata": {
        "id": "oNBCCIfux1oE"
      }
    },
    {
      "cell_type": "code",
      "source": [
        "import numpy as np\n",
        "\n",
        "A = np.array([[1, 2, 3],\n",
        "              [4, 5, 6],\n",
        "              [7, 8, 9]])\n",
        "\n",
        "B = np.array([[9, 8, 7],\n",
        "              [6, 5, 4],\n",
        "              [3, 2, 1]])\n",
        "\n",
        "# Using np.dot()\n",
        "result = np.dot(A, B)\n",
        "\n",
        "# Or using the @ operator\n",
        "result = A @ B\n",
        "\n",
        "print(\"Matrix A:\")\n",
        "print(A)\n",
        "print(\"\\nMatrix B:\")\n",
        "print(B)\n",
        "print(\"\\nResult of A @ B:\")\n",
        "print(result)\n"
      ],
      "metadata": {
        "id": "E2en8DA8yBgA",
        "outputId": "83a4aa47-8d89-4c35-bcd7-917009e8d743",
        "colab": {
          "base_uri": "https://localhost:8080/"
        }
      },
      "execution_count": 16,
      "outputs": [
        {
          "output_type": "stream",
          "name": "stdout",
          "text": [
            "Matrix A:\n",
            "[[1 2 3]\n",
            " [4 5 6]\n",
            " [7 8 9]]\n",
            "\n",
            "Matrix B:\n",
            "[[9 8 7]\n",
            " [6 5 4]\n",
            " [3 2 1]]\n",
            "\n",
            "Result of A @ B:\n",
            "[[ 30  24  18]\n",
            " [ 84  69  54]\n",
            " [138 114  90]]\n"
          ]
        }
      ]
    },
    {
      "cell_type": "markdown",
      "source": [
        "# 12) Use Pandas to load a CSV file and display its first 5 rows."
      ],
      "metadata": {
        "id": "CcQNGB0ByTfP"
      }
    },
    {
      "cell_type": "code",
      "source": [
        "import pandas as pd\n",
        "\n",
        "df = pd.read_csv('your_file.csv')\n",
        "\n",
        "print(df.head())\n",
        "\n",
        "import pandas as pd\n",
        "\n",
        "# Load the CSV file\n",
        "df = pd.read_csv('your_file.csv')\n",
        "\n",
        "# Display the first 5 rows\n",
        "print(df.head())\n"
      ],
      "metadata": {
        "id": "S61ItpCbyaNn"
      },
      "execution_count": 19,
      "outputs": []
    },
    {
      "cell_type": "markdown",
      "source": [
        "# 13) Create a 3D scatter plot using Plotly."
      ],
      "metadata": {
        "id": "iNthSwdgyzEQ"
      }
    },
    {
      "cell_type": "code",
      "source": [
        "import plotly.express as px\n",
        "import numpy as np\n",
        "\n",
        "# Generate random data for 3D scatter plot\n",
        "np.random.seed(0)\n",
        "x = np.random.rand(100)\n",
        "y = np.random.rand(100)\n",
        "z = np.random.rand(100)\n",
        "\n",
        "# Create a 3D scatter plot\n",
        "fig = px.scatter_3d(x=x, y=y, z=z, title=\"3D Scatter Plot\")\n",
        "fig.show()\n"
      ],
      "metadata": {
        "id": "GfySuHacy5vc",
        "outputId": "d5136212-8a8d-4f50-f976-10776ee40efe",
        "colab": {
          "base_uri": "https://localhost:8080/",
          "height": 542
        }
      },
      "execution_count": 20,
      "outputs": [
        {
          "output_type": "display_data",
          "data": {
            "text/html": [
              "<html>\n",
              "<head><meta charset=\"utf-8\" /></head>\n",
              "<body>\n",
              "    <div>            <script src=\"https://cdnjs.cloudflare.com/ajax/libs/mathjax/2.7.5/MathJax.js?config=TeX-AMS-MML_SVG\"></script><script type=\"text/javascript\">if (window.MathJax && window.MathJax.Hub && window.MathJax.Hub.Config) {window.MathJax.Hub.Config({SVG: {font: \"STIX-Web\"}});}</script>                <script type=\"text/javascript\">window.PlotlyConfig = {MathJaxConfig: 'local'};</script>\n",
              "        <script charset=\"utf-8\" src=\"https://cdn.plot.ly/plotly-2.35.2.min.js\"></script>                <div id=\"0011970e-e36e-46ed-81ff-7190d7989a19\" class=\"plotly-graph-div\" style=\"height:525px; width:100%;\"></div>            <script type=\"text/javascript\">                                    window.PLOTLYENV=window.PLOTLYENV || {};                                    if (document.getElementById(\"0011970e-e36e-46ed-81ff-7190d7989a19\")) {                    Plotly.newPlot(                        \"0011970e-e36e-46ed-81ff-7190d7989a19\",                        [{\"hovertemplate\":\"x=%{x}\\u003cbr\\u003ey=%{y}\\u003cbr\\u003ez=%{z}\\u003cextra\\u003e\\u003c\\u002fextra\\u003e\",\"legendgroup\":\"\",\"marker\":{\"color\":\"#636efa\",\"symbol\":\"circle\"},\"mode\":\"markers\",\"name\":\"\",\"scene\":\"scene\",\"showlegend\":false,\"x\":[0.5488135039273248,0.7151893663724195,0.6027633760716439,0.5448831829968969,0.4236547993389047,0.6458941130666561,0.4375872112626925,0.8917730007820798,0.9636627605010293,0.3834415188257777,0.7917250380826646,0.5288949197529045,0.5680445610939323,0.925596638292661,0.07103605819788694,0.08712929970154071,0.02021839744032572,0.832619845547938,0.7781567509498505,0.8700121482468192,0.978618342232764,0.7991585642167236,0.46147936225293185,0.7805291762864555,0.11827442586893322,0.6399210213275238,0.1433532874090464,0.9446689170495839,0.5218483217500717,0.4146619399905236,0.26455561210462697,0.7742336894342167,0.45615033221654855,0.5684339488686485,0.018789800436355142,0.6176354970758771,0.6120957227224214,0.6169339968747569,0.9437480785146242,0.6818202991034834,0.359507900573786,0.43703195379934145,0.6976311959272649,0.06022547162926983,0.6667667154456677,0.6706378696181594,0.2103825610738409,0.1289262976548533,0.31542835092418386,0.3637107709426226,0.5701967704178796,0.43860151346232035,0.9883738380592262,0.10204481074802807,0.2088767560948347,0.16130951788499626,0.6531083254653984,0.2532916025397821,0.4663107728563063,0.24442559200160274,0.15896958364551972,0.11037514116430513,0.6563295894652734,0.1381829513486138,0.1965823616800535,0.3687251706609641,0.8209932298479351,0.09710127579306127,0.8379449074988039,0.09609840789396307,0.9764594650133958,0.4686512016477016,0.9767610881903371,0.604845519745046,0.7392635793983017,0.039187792254320675,0.2828069625764096,0.1201965612131689,0.29614019752214493,0.11872771895424405,0.317983179393976,0.41426299451466997,0.06414749634878436,0.6924721193700198,0.5666014542065752,0.2653894909394454,0.5232480534666997,0.09394051075844168,0.5759464955561793,0.9292961975762141,0.31856895245132366,0.6674103799636817,0.13179786240439217,0.7163272041185655,0.2894060929472011,0.18319136200711683,0.5865129348100832,0.020107546187493552,0.8289400292173631,0.004695476192547066],\"y\":[0.6778165367962301,0.27000797319216485,0.7351940221225949,0.9621885451174382,0.24875314351995803,0.5761573344178369,0.592041931271839,0.5722519057908734,0.2230816326406183,0.952749011516985,0.44712537861762736,0.8464086724711278,0.6994792753175043,0.29743695085513366,0.8137978197024772,0.39650574084698464,0.8811031971111616,0.5812728726358587,0.8817353618548528,0.6925315900777659,0.7252542798196405,0.5013243819267023,0.9560836347232239,0.6439901992296374,0.4238550485581797,0.6063932141279244,0.019193198309333526,0.30157481667454933,0.660173537492685,0.29007760721044407,0.6180154289988415,0.42876870094576613,0.13547406422245023,0.29828232595603077,0.5699649107012649,0.5908727612481732,0.5743252488495788,0.6532008198571336,0.6521032700016889,0.43141843543397396,0.896546595851063,0.36756187004789653,0.4358649252656268,0.8919233550156721,0.8061939890460857,0.7038885835403663,0.10022688731230112,0.9194826137446735,0.7142412995491114,0.9988470065678665,0.14944830465799375,0.8681260573682142,0.16249293467637482,0.6155595642838442,0.12381998284944151,0.8480082293222344,0.8073189587250107,0.5691007386145933,0.40718329722599966,0.06916699545513805,0.6974287731445636,0.45354268267806885,0.7220555994703479,0.8663823259286292,0.9755215050028858,0.855803342392611,0.011714084185001972,0.3599780644783639,0.729990562424058,0.17162967726144052,0.5210366062041293,0.05433798833925363,0.19999652489640007,0.01852179446061397,0.7936977033574206,0.22392468806038013,0.3453516806969027,0.9280812934655909,0.7044144019235328,0.03183892953130785,0.16469415649791275,0.6214784014997635,0.5772285886041676,0.23789282137450862,0.9342139979247938,0.613965955965896,0.5356328030249583,0.589909976354571,0.7301220295167696,0.31194499547960186,0.3982210622160919,0.20984374897512215,0.18619300588033616,0.9443723899839336,0.7395507950492876,0.4904588086175671,0.22741462797332324,0.25435648177039294,0.05802916032387562,0.4344166255581208],\"z\":[0.3117958819941026,0.6963434888154595,0.3777518392924809,0.1796036775596348,0.02467872839133123,0.06724963146324858,0.6793927734985673,0.4536968445560453,0.5365792111087222,0.8966712930403421,0.9903389473967044,0.21689698439847394,0.6630782031001008,0.26332237673715064,0.02065099946572868,0.7583786538361414,0.32001715082246784,0.38346389417189797,0.5883171135536057,0.8310484552361904,0.6289818435911487,0.8726506554473953,0.27354203481563577,0.7980468339125637,0.1856359443059522,0.9527916569719446,0.6874882763878153,0.21550767711355845,0.9473705904889242,0.7308558067701578,0.25394164259502583,0.21331197736748198,0.5182007139306632,0.025662718054531575,0.2074700754411094,0.42468546875150626,0.37416998033422555,0.4635754243648107,0.2776287062947319,0.5867843464581688,0.8638556059232314,0.11753185596203308,0.5173791071541142,0.1320681063451533,0.7168596811925937,0.39605970280729375,0.565421311858509,0.18327983621407862,0.14484775934337724,0.48805628064895457,0.3556127378499556,0.940431945252813,0.7653252538069653,0.7486636198505473,0.9037197397459334,0.08342243544201855,0.5521924699224066,0.5844760689557689,0.961936378547229,0.29214752679254885,0.24082877991544682,0.10029394226549782,0.016429629591474204,0.9295293167921905,0.66991654659091,0.7851529120231378,0.2817301057539491,0.5864101661863267,0.06395526612098112,0.4856275959346229,0.9774951397444468,0.8765052453165908,0.33815895183684563,0.9615701545414985,0.2317016264712045,0.9493188224156814,0.9413777047064986,0.7992025873523917,0.6304479368667911,0.874287966624947,0.2930202845077967,0.8489435553129182,0.6178766919175238,0.01323685775889949,0.34723351793221957,0.14814086094816503,0.9818293898182532,0.47837030703998806,0.4973913654986627,0.6394725163987236,0.3685846061296175,0.13690027168559893,0.8221177331942455,0.18984791190275796,0.511318982546456,0.22431702897473926,0.09784448449403405,0.8621915174216833,0.9729194890231303,0.9608346580630002],\"type\":\"scatter3d\"}],                        {\"template\":{\"data\":{\"histogram2dcontour\":[{\"type\":\"histogram2dcontour\",\"colorbar\":{\"outlinewidth\":0,\"ticks\":\"\"},\"colorscale\":[[0.0,\"#0d0887\"],[0.1111111111111111,\"#46039f\"],[0.2222222222222222,\"#7201a8\"],[0.3333333333333333,\"#9c179e\"],[0.4444444444444444,\"#bd3786\"],[0.5555555555555556,\"#d8576b\"],[0.6666666666666666,\"#ed7953\"],[0.7777777777777778,\"#fb9f3a\"],[0.8888888888888888,\"#fdca26\"],[1.0,\"#f0f921\"]]}],\"choropleth\":[{\"type\":\"choropleth\",\"colorbar\":{\"outlinewidth\":0,\"ticks\":\"\"}}],\"histogram2d\":[{\"type\":\"histogram2d\",\"colorbar\":{\"outlinewidth\":0,\"ticks\":\"\"},\"colorscale\":[[0.0,\"#0d0887\"],[0.1111111111111111,\"#46039f\"],[0.2222222222222222,\"#7201a8\"],[0.3333333333333333,\"#9c179e\"],[0.4444444444444444,\"#bd3786\"],[0.5555555555555556,\"#d8576b\"],[0.6666666666666666,\"#ed7953\"],[0.7777777777777778,\"#fb9f3a\"],[0.8888888888888888,\"#fdca26\"],[1.0,\"#f0f921\"]]}],\"heatmap\":[{\"type\":\"heatmap\",\"colorbar\":{\"outlinewidth\":0,\"ticks\":\"\"},\"colorscale\":[[0.0,\"#0d0887\"],[0.1111111111111111,\"#46039f\"],[0.2222222222222222,\"#7201a8\"],[0.3333333333333333,\"#9c179e\"],[0.4444444444444444,\"#bd3786\"],[0.5555555555555556,\"#d8576b\"],[0.6666666666666666,\"#ed7953\"],[0.7777777777777778,\"#fb9f3a\"],[0.8888888888888888,\"#fdca26\"],[1.0,\"#f0f921\"]]}],\"heatmapgl\":[{\"type\":\"heatmapgl\",\"colorbar\":{\"outlinewidth\":0,\"ticks\":\"\"},\"colorscale\":[[0.0,\"#0d0887\"],[0.1111111111111111,\"#46039f\"],[0.2222222222222222,\"#7201a8\"],[0.3333333333333333,\"#9c179e\"],[0.4444444444444444,\"#bd3786\"],[0.5555555555555556,\"#d8576b\"],[0.6666666666666666,\"#ed7953\"],[0.7777777777777778,\"#fb9f3a\"],[0.8888888888888888,\"#fdca26\"],[1.0,\"#f0f921\"]]}],\"contourcarpet\":[{\"type\":\"contourcarpet\",\"colorbar\":{\"outlinewidth\":0,\"ticks\":\"\"}}],\"contour\":[{\"type\":\"contour\",\"colorbar\":{\"outlinewidth\":0,\"ticks\":\"\"},\"colorscale\":[[0.0,\"#0d0887\"],[0.1111111111111111,\"#46039f\"],[0.2222222222222222,\"#7201a8\"],[0.3333333333333333,\"#9c179e\"],[0.4444444444444444,\"#bd3786\"],[0.5555555555555556,\"#d8576b\"],[0.6666666666666666,\"#ed7953\"],[0.7777777777777778,\"#fb9f3a\"],[0.8888888888888888,\"#fdca26\"],[1.0,\"#f0f921\"]]}],\"surface\":[{\"type\":\"surface\",\"colorbar\":{\"outlinewidth\":0,\"ticks\":\"\"},\"colorscale\":[[0.0,\"#0d0887\"],[0.1111111111111111,\"#46039f\"],[0.2222222222222222,\"#7201a8\"],[0.3333333333333333,\"#9c179e\"],[0.4444444444444444,\"#bd3786\"],[0.5555555555555556,\"#d8576b\"],[0.6666666666666666,\"#ed7953\"],[0.7777777777777778,\"#fb9f3a\"],[0.8888888888888888,\"#fdca26\"],[1.0,\"#f0f921\"]]}],\"mesh3d\":[{\"type\":\"mesh3d\",\"colorbar\":{\"outlinewidth\":0,\"ticks\":\"\"}}],\"scatter\":[{\"fillpattern\":{\"fillmode\":\"overlay\",\"size\":10,\"solidity\":0.2},\"type\":\"scatter\"}],\"parcoords\":[{\"type\":\"parcoords\",\"line\":{\"colorbar\":{\"outlinewidth\":0,\"ticks\":\"\"}}}],\"scatterpolargl\":[{\"type\":\"scatterpolargl\",\"marker\":{\"colorbar\":{\"outlinewidth\":0,\"ticks\":\"\"}}}],\"bar\":[{\"error_x\":{\"color\":\"#2a3f5f\"},\"error_y\":{\"color\":\"#2a3f5f\"},\"marker\":{\"line\":{\"color\":\"#E5ECF6\",\"width\":0.5},\"pattern\":{\"fillmode\":\"overlay\",\"size\":10,\"solidity\":0.2}},\"type\":\"bar\"}],\"scattergeo\":[{\"type\":\"scattergeo\",\"marker\":{\"colorbar\":{\"outlinewidth\":0,\"ticks\":\"\"}}}],\"scatterpolar\":[{\"type\":\"scatterpolar\",\"marker\":{\"colorbar\":{\"outlinewidth\":0,\"ticks\":\"\"}}}],\"histogram\":[{\"marker\":{\"pattern\":{\"fillmode\":\"overlay\",\"size\":10,\"solidity\":0.2}},\"type\":\"histogram\"}],\"scattergl\":[{\"type\":\"scattergl\",\"marker\":{\"colorbar\":{\"outlinewidth\":0,\"ticks\":\"\"}}}],\"scatter3d\":[{\"type\":\"scatter3d\",\"line\":{\"colorbar\":{\"outlinewidth\":0,\"ticks\":\"\"}},\"marker\":{\"colorbar\":{\"outlinewidth\":0,\"ticks\":\"\"}}}],\"scattermapbox\":[{\"type\":\"scattermapbox\",\"marker\":{\"colorbar\":{\"outlinewidth\":0,\"ticks\":\"\"}}}],\"scatterternary\":[{\"type\":\"scatterternary\",\"marker\":{\"colorbar\":{\"outlinewidth\":0,\"ticks\":\"\"}}}],\"scattercarpet\":[{\"type\":\"scattercarpet\",\"marker\":{\"colorbar\":{\"outlinewidth\":0,\"ticks\":\"\"}}}],\"carpet\":[{\"aaxis\":{\"endlinecolor\":\"#2a3f5f\",\"gridcolor\":\"white\",\"linecolor\":\"white\",\"minorgridcolor\":\"white\",\"startlinecolor\":\"#2a3f5f\"},\"baxis\":{\"endlinecolor\":\"#2a3f5f\",\"gridcolor\":\"white\",\"linecolor\":\"white\",\"minorgridcolor\":\"white\",\"startlinecolor\":\"#2a3f5f\"},\"type\":\"carpet\"}],\"table\":[{\"cells\":{\"fill\":{\"color\":\"#EBF0F8\"},\"line\":{\"color\":\"white\"}},\"header\":{\"fill\":{\"color\":\"#C8D4E3\"},\"line\":{\"color\":\"white\"}},\"type\":\"table\"}],\"barpolar\":[{\"marker\":{\"line\":{\"color\":\"#E5ECF6\",\"width\":0.5},\"pattern\":{\"fillmode\":\"overlay\",\"size\":10,\"solidity\":0.2}},\"type\":\"barpolar\"}],\"pie\":[{\"automargin\":true,\"type\":\"pie\"}]},\"layout\":{\"autotypenumbers\":\"strict\",\"colorway\":[\"#636efa\",\"#EF553B\",\"#00cc96\",\"#ab63fa\",\"#FFA15A\",\"#19d3f3\",\"#FF6692\",\"#B6E880\",\"#FF97FF\",\"#FECB52\"],\"font\":{\"color\":\"#2a3f5f\"},\"hovermode\":\"closest\",\"hoverlabel\":{\"align\":\"left\"},\"paper_bgcolor\":\"white\",\"plot_bgcolor\":\"#E5ECF6\",\"polar\":{\"bgcolor\":\"#E5ECF6\",\"angularaxis\":{\"gridcolor\":\"white\",\"linecolor\":\"white\",\"ticks\":\"\"},\"radialaxis\":{\"gridcolor\":\"white\",\"linecolor\":\"white\",\"ticks\":\"\"}},\"ternary\":{\"bgcolor\":\"#E5ECF6\",\"aaxis\":{\"gridcolor\":\"white\",\"linecolor\":\"white\",\"ticks\":\"\"},\"baxis\":{\"gridcolor\":\"white\",\"linecolor\":\"white\",\"ticks\":\"\"},\"caxis\":{\"gridcolor\":\"white\",\"linecolor\":\"white\",\"ticks\":\"\"}},\"coloraxis\":{\"colorbar\":{\"outlinewidth\":0,\"ticks\":\"\"}},\"colorscale\":{\"sequential\":[[0.0,\"#0d0887\"],[0.1111111111111111,\"#46039f\"],[0.2222222222222222,\"#7201a8\"],[0.3333333333333333,\"#9c179e\"],[0.4444444444444444,\"#bd3786\"],[0.5555555555555556,\"#d8576b\"],[0.6666666666666666,\"#ed7953\"],[0.7777777777777778,\"#fb9f3a\"],[0.8888888888888888,\"#fdca26\"],[1.0,\"#f0f921\"]],\"sequentialminus\":[[0.0,\"#0d0887\"],[0.1111111111111111,\"#46039f\"],[0.2222222222222222,\"#7201a8\"],[0.3333333333333333,\"#9c179e\"],[0.4444444444444444,\"#bd3786\"],[0.5555555555555556,\"#d8576b\"],[0.6666666666666666,\"#ed7953\"],[0.7777777777777778,\"#fb9f3a\"],[0.8888888888888888,\"#fdca26\"],[1.0,\"#f0f921\"]],\"diverging\":[[0,\"#8e0152\"],[0.1,\"#c51b7d\"],[0.2,\"#de77ae\"],[0.3,\"#f1b6da\"],[0.4,\"#fde0ef\"],[0.5,\"#f7f7f7\"],[0.6,\"#e6f5d0\"],[0.7,\"#b8e186\"],[0.8,\"#7fbc41\"],[0.9,\"#4d9221\"],[1,\"#276419\"]]},\"xaxis\":{\"gridcolor\":\"white\",\"linecolor\":\"white\",\"ticks\":\"\",\"title\":{\"standoff\":15},\"zerolinecolor\":\"white\",\"automargin\":true,\"zerolinewidth\":2},\"yaxis\":{\"gridcolor\":\"white\",\"linecolor\":\"white\",\"ticks\":\"\",\"title\":{\"standoff\":15},\"zerolinecolor\":\"white\",\"automargin\":true,\"zerolinewidth\":2},\"scene\":{\"xaxis\":{\"backgroundcolor\":\"#E5ECF6\",\"gridcolor\":\"white\",\"linecolor\":\"white\",\"showbackground\":true,\"ticks\":\"\",\"zerolinecolor\":\"white\",\"gridwidth\":2},\"yaxis\":{\"backgroundcolor\":\"#E5ECF6\",\"gridcolor\":\"white\",\"linecolor\":\"white\",\"showbackground\":true,\"ticks\":\"\",\"zerolinecolor\":\"white\",\"gridwidth\":2},\"zaxis\":{\"backgroundcolor\":\"#E5ECF6\",\"gridcolor\":\"white\",\"linecolor\":\"white\",\"showbackground\":true,\"ticks\":\"\",\"zerolinecolor\":\"white\",\"gridwidth\":2}},\"shapedefaults\":{\"line\":{\"color\":\"#2a3f5f\"}},\"annotationdefaults\":{\"arrowcolor\":\"#2a3f5f\",\"arrowhead\":0,\"arrowwidth\":1},\"geo\":{\"bgcolor\":\"white\",\"landcolor\":\"#E5ECF6\",\"subunitcolor\":\"white\",\"showland\":true,\"showlakes\":true,\"lakecolor\":\"white\"},\"title\":{\"x\":0.05},\"mapbox\":{\"style\":\"light\"}}},\"scene\":{\"domain\":{\"x\":[0.0,1.0],\"y\":[0.0,1.0]},\"xaxis\":{\"title\":{\"text\":\"x\"}},\"yaxis\":{\"title\":{\"text\":\"y\"}},\"zaxis\":{\"title\":{\"text\":\"z\"}}},\"legend\":{\"tracegroupgap\":0},\"title\":{\"text\":\"3D Scatter Plot\"}},                        {\"responsive\": true}                    ).then(function(){\n",
              "                            \n",
              "var gd = document.getElementById('0011970e-e36e-46ed-81ff-7190d7989a19');\n",
              "var x = new MutationObserver(function (mutations, observer) {{\n",
              "        var display = window.getComputedStyle(gd).display;\n",
              "        if (!display || display === 'none') {{\n",
              "            console.log([gd, 'removed!']);\n",
              "            Plotly.purge(gd);\n",
              "            observer.disconnect();\n",
              "        }}\n",
              "}});\n",
              "\n",
              "// Listen for the removal of the full notebook cells\n",
              "var notebookContainer = gd.closest('#notebook-container');\n",
              "if (notebookContainer) {{\n",
              "    x.observe(notebookContainer, {childList: true});\n",
              "}}\n",
              "\n",
              "// Listen for the clearing of the current output cell\n",
              "var outputEl = gd.closest('.output');\n",
              "if (outputEl) {{\n",
              "    x.observe(outputEl, {childList: true});\n",
              "}}\n",
              "\n",
              "                        })                };                            </script>        </div>\n",
              "</body>\n",
              "</html>"
            ]
          },
          "metadata": {}
        }
      ]
    }
  ],
  "metadata": {
    "colab": {
      "provenance": [],
      "authorship_tag": "ABX9TyMfFRsjgiPSK4BKqNo5ZTfM",
      "include_colab_link": true
    },
    "kernelspec": {
      "display_name": "Python 3",
      "name": "python3"
    },
    "language_info": {
      "name": "python"
    }
  },
  "nbformat": 4,
  "nbformat_minor": 0
}