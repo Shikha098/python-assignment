{
  "nbformat": 4,
  "nbformat_minor": 0,
  "metadata": {
    "colab": {
      "provenance": [],
      "include_colab_link": true
    },
    "kernelspec": {
      "name": "python3",
      "display_name": "Python 3"
    },
    "language_info": {
      "name": "python"
    }
  },
  "cells": [
    {
      "cell_type": "markdown",
      "metadata": {
        "id": "view-in-github",
        "colab_type": "text"
      },
      "source": [
        "<a href=\"https://colab.research.google.com/github/Shikha098/python-assignment/blob/main/Ensemble_Learning.ipynb\" target=\"_parent\"><img src=\"https://colab.research.google.com/assets/colab-badge.svg\" alt=\"Open In Colab\"/></a>"
      ]
    },
    {
      "cell_type": "markdown",
      "source": [
        "Q1) Can we use Bagging for regression problems?"
      ],
      "metadata": {
        "id": "ML6bwut06E4p"
      }
    },
    {
      "cell_type": "markdown",
      "source": [
        "Yes, Bagging can be used for regression problems. It combines predictions from multiple regressors (like Decision Trees) by averaging their outputs to reduce variance and improve accuracy."
      ],
      "metadata": {
        "id": "2PO2omoy6i2F"
      }
    },
    {
      "cell_type": "markdown",
      "source": [
        "Q2) What is the difference between multiple model training and single model training?"
      ],
      "metadata": {
        "id": "_a51_oY56kEp"
      }
    },
    {
      "cell_type": "markdown",
      "source": [
        "Single model training uses one algorithm to learn from the data and make predictions.\n",
        "\n",
        "Multiple model training (like in ensemble methods) trains several models and combines their predictions to improve performance, reduce overfitting, and increase robustness.\n",
        "\n",
        "Key difference:\n",
        "\n",
        "Single model: One learner, potentially higher bias or variance.\n",
        "\n",
        "Multiple models: Many learners, better generalization."
      ],
      "metadata": {
        "id": "dhZaiphm6qcF"
      }
    },
    {
      "cell_type": "markdown",
      "source": [
        " Q3) Explain the concept of feature randomness in Random Forest?"
      ],
      "metadata": {
        "id": "1yAetXs560NI"
      }
    },
    {
      "cell_type": "markdown",
      "source": [
        "Feature randomness in Random Forest refers to the random selection of a subset of features at each split in a decision tree.\n",
        "\n",
        "Instead of considering all features, Random Forest chooses a random subset (e.g., √n for classification, n/3 for regression) at each split. This increases diversity among trees and reduces correlation, improving ensemble performance and reducing overfitting."
      ],
      "metadata": {
        "id": "6P-RiIw_66dn"
      }
    },
    {
      "cell_type": "markdown",
      "source": [
        "Q4) What is OOB (Out-of-Bag) Score?"
      ],
      "metadata": {
        "id": "oyL6TBf96_gC"
      }
    },
    {
      "cell_type": "markdown",
      "source": [
        "OOB (Out-of-Bag) Score is a performance metric used in Bagging methods like Random Forest.\n",
        "\n",
        "When training each tree, it uses a bootstrap sample (random sampling with replacement), so about 1/3 of the data is left out—these are the out-of-bag samples.\n",
        "\n",
        "The OOB score is calculated by testing the model on these left-out samples, giving an unbiased estimate of model accuracy without needing a separate validation set."
      ],
      "metadata": {
        "id": "bKKh9e827EX2"
      }
    },
    {
      "cell_type": "markdown",
      "source": [
        "Q5) How can you measure the importance of features in a Random Forest model?"
      ],
      "metadata": {
        "id": "hJoFVzI07JCH"
      }
    },
    {
      "cell_type": "markdown",
      "source": [
        "You can measure feature importance in a Random Forest using:\n",
        "\n",
        "Mean Decrease in Impurity (MDI):\n",
        "Measures how much each feature reduces impurity (like Gini or entropy) across all trees. Higher decrease = more important.\n",
        "\n",
        "Mean Decrease in Accuracy (MDA):\n",
        "Randomly shuffle feature values and check how much model accuracy drops. Bigger drop = higher importance.\n",
        "\n",
        "Most libraries (like scikit-learn) use MDI by default."
      ],
      "metadata": {
        "id": "A4cqfV2d7V2x"
      }
    },
    {
      "cell_type": "markdown",
      "source": [
        " Q6) Explain the working principle of a Bagging Classifier?"
      ],
      "metadata": {
        "id": "_MWOff__7arz"
      }
    },
    {
      "cell_type": "markdown",
      "source": [
        "Bagging Classifier (Bootstrap Aggregating) works as follows:\n",
        "\n",
        "Bootstrapping: Create multiple random subsets of the training data with replacement.\n",
        "\n",
        "Training: Train a separate base model (e.g., decision tree) on each subset.\n",
        "\n",
        "Aggregation: Combine predictions from all models using majority voting (for classification).\n",
        "\n",
        "Goal: Reduce variance, improve stability, and prevent overfitting by averaging multiple diverse models."
      ],
      "metadata": {
        "id": "2wVNyiUt7hxQ"
      }
    },
    {
      "cell_type": "markdown",
      "source": [
        " Q7) How do you evaluate a Bagging Classifier’s performance?"
      ],
      "metadata": {
        "id": "-M4jY60t7jHb"
      }
    },
    {
      "cell_type": "markdown",
      "source": [
        "You can evaluate a Bagging Classifier’s performance using:\n",
        "\n",
        "Accuracy / Precision / Recall / F1-score – on test or validation data.\n",
        "\n",
        "Confusion Matrix – to understand true vs. false predictions.\n",
        "\n",
        "ROC-AUC Score – for binary classification performance.\n",
        "\n",
        "Out-of-Bag (OOB) Score – built-in validation using OOB samples, no need for a separate validation set.\n",
        "\n",
        "These help assess how well the ensemble generalizes to unseen data."
      ],
      "metadata": {
        "id": "Gx9PqJj78XNb"
      }
    },
    {
      "cell_type": "markdown",
      "source": [
        " Q8) How does a Bagging Regressor work ?"
      ],
      "metadata": {
        "id": "oYWI3rsn8dS2"
      }
    },
    {
      "cell_type": "markdown",
      "source": [
        "A Bagging Regressor works like this:\n",
        "\n",
        "Bootstrap Sampling: Create multiple random subsets of the training data with replacement.\n",
        "\n",
        "Train Base Regressors: Train a separate regression model (e.g., Decision Tree) on each subset.\n",
        "\n",
        "Aggregate Predictions: Combine outputs by averaging the predictions from all models.\n",
        "\n",
        "Goal: Reduce variance and improve prediction stability in regression tasks."
      ],
      "metadata": {
        "id": "YQr0Z9228q9p"
      }
    },
    {
      "cell_type": "markdown",
      "source": [
        "Q9) What is the main advantage of ensemble techniques?"
      ],
      "metadata": {
        "id": "w-bVm3iX8tDF"
      }
    },
    {
      "cell_type": "markdown",
      "source": [
        "The main advantage of ensemble techniques is that they combine multiple models to improve performance by reducing errors. Specifically:\n",
        "\n",
        "Lower variance (e.g., Bagging reduces overfitting).\n",
        "\n",
        "Lower bias (e.g., Boosting improves accuracy by focusing on hard examples).\n",
        "\n",
        "Better generalization through diversity among models, making them more robust and less likely to overfit.\n",
        "\n",
        "This results in more accurate and stable predictions compared to individual models."
      ],
      "metadata": {
        "id": "nWz8GNwc8y5G"
      }
    },
    {
      "cell_type": "markdown",
      "source": [
        "Q10) What is the main challenge of ensemble methods?"
      ],
      "metadata": {
        "id": "2tZ1eCb784Hr"
      }
    },
    {
      "cell_type": "markdown",
      "source": [
        "The main challenge of ensemble methods is:\n",
        "\n",
        "Increased computational cost: Training multiple models requires more time, memory, and resources.\n",
        "\n",
        "Complexity in interpretation: Combining many models makes the overall system harder to interpret or explain, especially in terms of feature importance or decision boundaries.\n",
        "\n",
        "Overfitting risk in some cases: While ensemble methods like boosting can reduce bias, they can still overfit if the base models are too complex or the ensemble is too large.\n",
        "\n",
        "These challenges need to be balanced to get the best performance."
      ],
      "metadata": {
        "id": "cxjt-iah9K4v"
      }
    },
    {
      "cell_type": "markdown",
      "source": [
        "Q11) Explain the key idea behind ensemble techniques?"
      ],
      "metadata": {
        "id": "0Kq64vbE9QTd"
      }
    },
    {
      "cell_type": "markdown",
      "source": [
        "The key idea behind ensemble techniques is to combine the predictions of multiple models to improve overall performance. By leveraging diversity among different models, ensemble methods aim to:\n",
        "\n",
        "Reduce variance: Average out errors, which helps prevent overfitting (e.g., in Bagging).\n",
        "\n",
        "Reduce bias: Focus on correcting mistakes made by weak learners (e.g., in Boosting).\n",
        "\n",
        "Improve generalization: Combine models to make more accurate and stable predictions on unseen data.\n",
        "\n",
        "In essence, \"many weak learners\" can outperform a single strong model by pooling their strengths."
      ],
      "metadata": {
        "id": "xMEBSkHM9Vei"
      }
    },
    {
      "cell_type": "markdown",
      "source": [
        "Q12) What is a Random Forest Classifier?"
      ],
      "metadata": {
        "id": "5vGWqW1y9biS"
      }
    },
    {
      "cell_type": "markdown",
      "source": [
        "A Random Forest Classifier is an ensemble learning method that combines multiple decision trees to improve classification accuracy. It works as follows:\n",
        "\n",
        "Bootstrap Sampling: Randomly sample subsets of the training data with replacement to train each decision tree.\n",
        "\n",
        "Feature Randomness: At each split in a tree, randomly select a subset of features to split on, introducing diversity among trees.\n",
        "\n",
        "Voting: Each tree in the forest makes a prediction, and the final classification is based on majority voting across all trees.\n",
        "\n",
        "Key advantages: It reduces overfitting, improves accuracy, and handles high-dimensional data well."
      ],
      "metadata": {
        "id": "kiJ6I43S9iZv"
      }
    },
    {
      "cell_type": "markdown",
      "source": [
        " Q13) What are the main types of ensemble techniques?"
      ],
      "metadata": {
        "id": "RSMEcuep9nAI"
      }
    },
    {
      "cell_type": "markdown",
      "source": [
        "The main types of ensemble techniques are:\n",
        "\n",
        "Bagging (Bootstrap Aggregating):\n",
        "\n",
        "Trains multiple models (usually the same type, like Decision Trees) on different bootstrap samples of the data.\n",
        "\n",
        "Combines predictions by averaging (regression) or majority voting (classification).\n",
        "\n",
        "Reduces variance and overfitting (e.g., Random Forest).\n",
        "\n",
        "Boosting:\n",
        "\n",
        "Trains models sequentially, where each new model corrects errors of the previous one by focusing on misclassified examples.\n",
        "\n",
        "Combines predictions by weighted voting (classification) or weighted averaging (regression).\n",
        "\n",
        "Reduces bias and increases accuracy (e.g., AdaBoost, Gradient Boosting, XGBoost).\n",
        "\n",
        "Stacking (Stacked Generalization):\n",
        "\n",
        "Combines predictions from multiple models using another \"meta-model\" that learns how to best combine their outputs.\n",
        "\n",
        "Typically uses diverse model types (e.g., Decision Trees, SVM, Logistic Regression) as base learners.\n",
        "\n",
        "Aims to leverage the strengths of different models for better generalization.\n",
        "\n",
        "These techniques help improve model performance by leveraging the wisdom of multiple models.\n"
      ],
      "metadata": {
        "id": "0a47vBet9xkP"
      }
    },
    {
      "cell_type": "markdown",
      "source": [
        "Q14) What is ensemble learning in machine learning?"
      ],
      "metadata": {
        "id": "WpF-vPLS91KV"
      }
    },
    {
      "cell_type": "markdown",
      "source": [
        "Ensemble learning in machine learning is a technique that combines multiple individual models (learners) to improve the overall performance, accuracy, and robustness of the predictions. The key idea is that multiple weak models can work together to produce a stronger, more reliable model.\n",
        "\n",
        "There are two main goals of ensemble learning:\n",
        "\n",
        "Reduce variance: By averaging multiple models (like in Bagging), ensemble methods reduce the model's sensitivity to fluctuations in the training data, which helps prevent overfitting.\n",
        "\n",
        "Reduce bias: By focusing on correcting the errors made by individual models (like in Boosting), ensemble methods improve accuracy and generalization.\n",
        "\n",
        "Common ensemble methods include Bagging, Boosting, and Stacking. These methods typically work by combining the predictions of multiple base learners, either by averaging (for regression) or majority voting (for classification)."
      ],
      "metadata": {
        "id": "4RXDPl0W-CUj"
      }
    },
    {
      "cell_type": "markdown",
      "source": [
        "Q15) When should we avoid using ensemble methods?"
      ],
      "metadata": {
        "id": "OYsRX83V-EW4"
      }
    },
    {
      "cell_type": "markdown",
      "source": [
        "You should consider avoiding ensemble methods in the following situations:\n",
        "\n",
        "When computational resources are limited:\n",
        "Ensemble methods, especially with many models, can be computationally expensive and slow to train and predict.\n",
        "\n",
        "When interpretability is important:\n",
        "Ensembles like Random Forest or Boosting can be difficult to interpret because they combine multiple models, making it hard to understand how decisions are made.\n",
        "\n",
        "When you have a small or simple dataset:\n",
        "For small datasets, the complexity of ensemble methods might lead to overfitting. A simpler model (like a Decision Tree or Logistic Regression) could work just as well or better.\n",
        "\n",
        "When there's no significant model improvement:\n",
        "If a single model already performs well, adding ensembles may provide diminishing returns or no improvement, just increased complexity.\n",
        "\n",
        "When real-time predictions are needed:\n",
        "Ensembles, especially those with many trees or models, can slow down prediction time, which may not be ideal for applications requiring fast real-time decisions.\n",
        "\n",
        "In these cases, simpler models might be more efficient and effective."
      ],
      "metadata": {
        "id": "-bUrhY1j-Qki"
      }
    },
    {
      "cell_type": "markdown",
      "source": [
        "Q16) How does Bagging help in reducing overfitting?"
      ],
      "metadata": {
        "id": "wIPNVn96-S-P"
      }
    },
    {
      "cell_type": "markdown",
      "source": [
        "Bagging (Bootstrap Aggregating) helps reduce overfitting by:\n",
        "\n",
        "Reducing variance:\n",
        "Bagging trains multiple models on different random subsets of the training data. Since each model is exposed to different parts of the data, the overall predictions become less sensitive to fluctuations in any single subset.\n",
        "\n",
        "Averaging predictions (for regression) or majority voting (for classification):\n",
        "By combining the predictions of multiple models, Bagging smooths out individual model errors, making the final prediction more stable and less prone to overfitting on any specific part of the data.\n",
        "\n",
        "Introducing diversity:\n",
        "The randomness in training data subsets (bootstrap sampling) ensures that the models are diverse. This diversity reduces the chance that all models will overfit in the same way, leading to a more generalizable overall model.\n",
        "\n",
        "In essence, Bagging reduces overfitting by averaging out the \"noise\" and errors in individual models, leading to more robust predictions."
      ],
      "metadata": {
        "id": "OKEpf5yK-dQk"
      }
    },
    {
      "cell_type": "markdown",
      "source": [
        "Q17) Why is Random Forest better than a single Decision Tree?"
      ],
      "metadata": {
        "id": "XOqqfzpB-f24"
      }
    },
    {
      "cell_type": "markdown",
      "source": [
        "Random Forest is generally better than a single Decision Tree for several reasons:\n",
        "\n",
        "Reduced Overfitting:\n",
        "A single Decision Tree is prone to overfitting, especially if it's deep and complex. Random Forest mitigates this by averaging predictions from multiple trees, reducing the risk of overfitting and improving generalization.\n",
        "\n",
        "Increased Stability:\n",
        "Random Forest uses different bootstrap samples to train each tree and introduces randomness in feature selection. This diversity makes the model more stable and less sensitive to noise in the data compared to a single Decision Tree.\n",
        "\n",
        "Better Accuracy:\n",
        "By combining multiple trees, Random Forest tends to achieve higher accuracy. The ensemble method benefits from the \"wisdom of crowds,\" where combining many weak models typically leads to a stronger overall model.\n",
        "\n",
        "Handling High Dimensionality:\n",
        "Random Forest can handle a large number of features (high-dimensional data) better than a single Decision Tree because each tree in the forest uses a random subset of features, preventing any single feature from dominating the model.\n",
        "\n",
        "Feature Importance:\n",
        "Random Forest provides an inherent mechanism for estimating feature importance, which a single Decision Tree might struggle to do effectively, especially if it overfits.\n",
        "\n",
        "In summary, Random Forest improves on a single Decision Tree by reducing overfitting, enhancing accuracy, increasing stability, and providing better insights into feature importance."
      ],
      "metadata": {
        "id": "g5wiwv0C-mIu"
      }
    },
    {
      "cell_type": "markdown",
      "source": [
        "Q18) What is the role of bootstrap sampling in Bagging?"
      ],
      "metadata": {
        "id": "Vndgw3Z9-s-1"
      }
    },
    {
      "cell_type": "markdown",
      "source": [
        "Bootstrap sampling plays a crucial role in Bagging (Bootstrap Aggregating). Here's how:\n",
        "\n",
        "Creating Diverse Training Sets:\n",
        "In Bagging, bootstrap sampling randomly selects subsets of the original training data with replacement. This means some data points may appear multiple times in a subset, while others might not appear at all.\n",
        "\n",
        "Reducing Overfitting:\n",
        "By training multiple models on different subsets of the data, bootstrap sampling helps reduce the variance of the final model.\n",
        "\n",
        "Improving Stability and Performance:\n",
        "The randomness in each model's training data helps prevent any one model from being too sensitive to specific noise or patterns in the data, resulting in more accurate and stable predictions when the models are combined.\n",
        "\n",
        "In essence, bootstrap sampling ensures that each model in Bagging is exposed to a different subset of data, allowing the ensemble method to make more reliable and generalizable predictions."
      ],
      "metadata": {
        "id": "275HTcNu-1fu"
      }
    },
    {
      "cell_type": "markdown",
      "source": [
        "Q19) What are some real-world applications of ensemble techniques?"
      ],
      "metadata": {
        "id": "uuUyNGU4_Htg"
      }
    },
    {
      "cell_type": "markdown",
      "source": [
        "Ensemble techniques are used in various real-world applications to improve accuracy and robustness:\n",
        "\n",
        "Finance: Fraud detection, credit scoring using Random Forest and Gradient Boosting.\n",
        "\n",
        "Healthcare: Disease diagnosis, patient outcome prediction.\n",
        "\n",
        "Marketing/Retail: Customer segmentation, recommendation systems, churn prediction.\n",
        "\n",
        "E-commerce: Sales forecasting, customer churn prediction.\n",
        "\n",
        "Sports Analytics: Player performance and match outcome prediction.\n",
        "\n",
        "Image/Speech Recognition: Facial recognition, speech-to-text accuracy.\n",
        "\n",
        "NLP: Sentiment analysis, text classification.\n",
        "\n",
        "Ensemble methods help in handling noisy data, improving predictions, and reducing overfitting across industries."
      ],
      "metadata": {
        "id": "M3kTPDgE_L-6"
      }
    },
    {
      "cell_type": "markdown",
      "source": [
        "Q20) What is the difference between Bagging and Boosting?"
      ],
      "metadata": {
        "id": "3x3d2i9x_WvC"
      }
    },
    {
      "cell_type": "markdown",
      "source": [
        "Bagging and Boosting are both ensemble methods but differ in how they combine models:\n",
        "\n",
        "Bagging (Bootstrap Aggregating):\n",
        "\n",
        "Parallel training: Multiple models (e.g., decision trees) are trained independently on random subsets of the data.\n",
        "\n",
        "Data sampling: Uses bootstrapping (random sampling with replacement).\n",
        "\n",
        "Combining predictions: Averages (regression) or uses majority voting (classification) to combine model outputs.\n",
        "\n",
        "Goal: Reduces variance and overfitting.\n",
        "\n",
        "Boosting:\n",
        "\n",
        "Sequential training: Models are trained sequentially, with each new model focusing on correcting the errors of the previous one.\n",
        "\n",
        "Data weighting: Misclassified instances are given more weight in subsequent models.\n",
        "\n",
        "Combining predictions: Uses weighted voting (classification) or averaging (regression) of all models' predictions.\n",
        "\n",
        "Goal: Reduces bias and improves accuracy."
      ],
      "metadata": {
        "id": "jaG2VcBT_jl0"
      }
    },
    {
      "cell_type": "markdown",
      "source": [
        " Q21) Train a Bagging Classifier using Decision Trees on a sample dataset and print model accuracy?"
      ],
      "metadata": {
        "id": "bhi3Hz6__mID"
      }
    },
    {
      "cell_type": "code",
      "source": [
        "# Step 1: Import necessary libraries\n",
        "from sklearn.datasets import load_iris\n",
        "from sklearn.model_selection import train_test_split\n",
        "from sklearn.ensemble import BaggingClassifier\n",
        "from sklearn.tree import DecisionTreeClassifier\n",
        "from sklearn.metrics import accuracy_score\n",
        "\n",
        "# Step 2: Load the Iris dataset\n",
        "data = load_iris()\n",
        "X = data.data\n",
        "y = data.target\n",
        "\n",
        "# Step 3: Split data into training and test sets\n",
        "X_train, X_test, y_train, y_test = train_test_split(X, y, test_size=0.3, random_state=42)\n",
        "\n",
        "# Step 4: Initialize Bagging Classifier with Decision Trees as the base estimator\n",
        "bagging_clf = BaggingClassifier(estimator=DecisionTreeClassifier(), n_estimators=50, random_state=42)\n",
        "\n",
        "# Step 5: Train the Bagging Classifier\n",
        "bagging_clf.fit(X_train, y_train)\n",
        "\n",
        "# Step 6: Make predictions on the test set\n",
        "y_pred = bagging_clf.predict(X_test)\n",
        "\n",
        "# Step 7: Calculate and print the accuracy\n",
        "accuracy = accuracy_score(y_test, y_pred)\n",
        "print(f\"Model Accuracy: {accuracy}\")\n"
      ],
      "metadata": {
        "colab": {
          "base_uri": "https://localhost:8080/"
        },
        "id": "vK8-mtqrAt7v",
        "outputId": "e908e3d7-ead8-446f-85a7-5956ecffd6fb"
      },
      "execution_count": null,
      "outputs": [
        {
          "output_type": "stream",
          "name": "stdout",
          "text": [
            "Model Accuracy: 1.0\n"
          ]
        }
      ]
    },
    {
      "cell_type": "markdown",
      "source": [
        "Q22) Train a Bagging Regressor using Decision Trees and evaluate using Mean Squared Error (MSE)?"
      ],
      "metadata": {
        "id": "fwpgpTzOA3Kn"
      }
    },
    {
      "cell_type": "code",
      "source": [
        "# Step 1: Import necessary libraries\n",
        "from sklearn.datasets import load_diabetes\n",
        "from sklearn.model_selection import train_test_split\n",
        "from sklearn.ensemble import BaggingRegressor\n",
        "from sklearn.tree import DecisionTreeRegressor\n",
        "from sklearn.metrics import mean_squared_error\n",
        "\n",
        "# Step 2: Load the Diabetes dataset (regression dataset)\n",
        "data = load_diabetes()\n",
        "X = data.data\n",
        "y = data.target\n",
        "\n",
        "# Step 3: Split data into training and test sets (70% training, 30% testing)\n",
        "X_train, X_test, y_train, y_test = train_test_split(X, y, test_size=0.3, random_state=42)\n",
        "\n",
        "# Step 4: Initialize and train Bagging Regressor with Decision Trees\n",
        "bagging_regressor = BaggingRegressor(estimator=DecisionTreeRegressor(), n_estimators=50, random_state=42)\n",
        "bagging_regressor.fit(X_train, y_train)\n",
        "\n",
        "# Step 5: Make predictions on the test set\n",
        "y_pred = bagging_regressor.predict(X_test)\n",
        "\n",
        "# Step 6: Calculate Mean Squared Error (MSE)\n",
        "mse = mean_squared_error(y_test, y_pred)\n",
        "print(f\"Mean Squared Error (MSE): {mse}\")\n"
      ],
      "metadata": {
        "colab": {
          "base_uri": "https://localhost:8080/"
        },
        "id": "XtkSOAr3Bq7h",
        "outputId": "2689c05c-6295-48e3-cf08-48f4ca204449"
      },
      "execution_count": null,
      "outputs": [
        {
          "output_type": "stream",
          "name": "stdout",
          "text": [
            "Mean Squared Error (MSE): 2987.0073593984966\n"
          ]
        }
      ]
    },
    {
      "cell_type": "markdown",
      "source": [
        "Q23) Train a Random Forest Classifier on the Breast Cancer dataset and print feature importance scores ?"
      ],
      "metadata": {
        "id": "8GwErSfKBs4d"
      }
    },
    {
      "cell_type": "code",
      "source": [
        "# Step 1: Import necessary libraries\n",
        "from sklearn.datasets import load_breast_cancer\n",
        "from sklearn.model_selection import train_test_split\n",
        "from sklearn.ensemble import RandomForestClassifier\n",
        "\n",
        "# Step 2: Load the Breast Cancer dataset\n",
        "data = load_breast_cancer()\n",
        "X = data.data\n",
        "y = data.target\n",
        "\n",
        "# Step 3: Split data into training and test sets (70% training, 30% testing)\n",
        "X_train, X_test, y_train, y_test = train_test_split(X, y, test_size=0.3, random_state=42)\n",
        "\n",
        "# Step 4: Initialize and train Random Forest Classifier\n",
        "rf_classifier = RandomForestClassifier(n_estimators=100, random_state=42)\n",
        "rf_classifier.fit(X_train, y_train)\n",
        "\n",
        "# Step 5: Print the feature importance scores\n",
        "feature_importance = rf_classifier.feature_importances_\n",
        "\n",
        "# Display the feature importance scores\n",
        "for feature, importance in zip(data.feature_names, feature_importance):\n",
        "    print(f\"{feature}: {importance:.4f}\")\n"
      ],
      "metadata": {
        "colab": {
          "base_uri": "https://localhost:8080/"
        },
        "id": "E6FTLktjB13H",
        "outputId": "5ccb1ad5-6f23-456b-8b9b-b10469816333"
      },
      "execution_count": null,
      "outputs": [
        {
          "output_type": "stream",
          "name": "stdout",
          "text": [
            "mean radius: 0.0323\n",
            "mean texture: 0.0111\n",
            "mean perimeter: 0.0601\n",
            "mean area: 0.0538\n",
            "mean smoothness: 0.0062\n",
            "mean compactness: 0.0092\n",
            "mean concavity: 0.0806\n",
            "mean concave points: 0.1419\n",
            "mean symmetry: 0.0033\n",
            "mean fractal dimension: 0.0031\n",
            "radius error: 0.0164\n",
            "texture error: 0.0032\n",
            "perimeter error: 0.0118\n",
            "area error: 0.0295\n",
            "smoothness error: 0.0059\n",
            "compactness error: 0.0046\n",
            "concavity error: 0.0058\n",
            "concave points error: 0.0034\n",
            "symmetry error: 0.0040\n",
            "fractal dimension error: 0.0071\n",
            "worst radius: 0.0780\n",
            "worst texture: 0.0188\n",
            "worst perimeter: 0.0743\n",
            "worst area: 0.1182\n",
            "worst smoothness: 0.0118\n",
            "worst compactness: 0.0175\n",
            "worst concavity: 0.0411\n",
            "worst concave points: 0.1271\n",
            "worst symmetry: 0.0129\n",
            "worst fractal dimension: 0.0069\n"
          ]
        }
      ]
    },
    {
      "cell_type": "markdown",
      "source": [
        "Q24) Train a Random Forest Regressor and compare its performance with a single Decision Tree?"
      ],
      "metadata": {
        "id": "Lv5ji-hCB58_"
      }
    },
    {
      "cell_type": "code",
      "source": [
        "# Step 1: Import necessary libraries\n",
        "from sklearn.datasets import load_diabetes\n",
        "from sklearn.model_selection import train_test_split\n",
        "from sklearn.tree import DecisionTreeRegressor\n",
        "from sklearn.ensemble import RandomForestRegressor\n",
        "from sklearn.metrics import mean_squared_error\n",
        "\n",
        "# Step 2: Load the Diabetes dataset (regression dataset)\n",
        "data = load_diabetes()\n",
        "X = data.data\n",
        "y = data.target\n",
        "\n",
        "# Step 3: Split data into training and test sets (70% training, 30% testing)\n",
        "X_train, X_test, y_train, y_test = train_test_split(X, y, test_size=0.3, random_state=42)\n",
        "\n",
        "# Step 4: Initialize and train Decision Tree Regressor\n",
        "dt_regressor = DecisionTreeRegressor(random_state=42)\n",
        "dt_regressor.fit(X_train, y_train)\n",
        "\n",
        "# Step 5: Initialize and train Random Forest Regressor\n",
        "rf_regressor = RandomForestRegressor(n_estimators=100, random_state=42)\n",
        "rf_regressor.fit(X_train, y_train)\n",
        "\n",
        "# Step 6: Make predictions and evaluate both models\n",
        "y_pred_dt = dt_regressor.predict(X_test)\n",
        "y_pred_rf = rf_regressor.predict(X_test)\n",
        "\n",
        "# Step 7: Calculate Mean Squared Error (MSE) for both models\n",
        "mse_dt = mean_squared_error(y_test, y_pred_dt)\n",
        "mse_rf = mean_squared_error(y_test, y_pred_rf)\n",
        "\n",
        "# Step 8: Print the results\n",
        "print(f\"Decision Tree MSE: {mse_dt:.4f}\")\n",
        "print(f\"Random Forest MSE: {mse_rf:.4f}\")\n"
      ],
      "metadata": {
        "colab": {
          "base_uri": "https://localhost:8080/"
        },
        "id": "uwW-IKSECCnl",
        "outputId": "404fb8a4-fed5-4793-b42e-bf3a9d596443"
      },
      "execution_count": null,
      "outputs": [
        {
          "output_type": "stream",
          "name": "stdout",
          "text": [
            "Decision Tree MSE: 5697.7895\n",
            "Random Forest MSE: 2859.6420\n"
          ]
        }
      ]
    },
    {
      "cell_type": "markdown",
      "source": [
        " Q25) Compute the Out-of-Bag (OOB) Score for a Random Forest Classifier?"
      ],
      "metadata": {
        "id": "QvLX7Pm7CEyI"
      }
    },
    {
      "cell_type": "code",
      "source": [
        "# Step 1: Import necessary libraries\n",
        "from sklearn.datasets import load_iris\n",
        "from sklearn.model_selection import train_test_split\n",
        "from sklearn.ensemble import RandomForestClassifier\n",
        "\n",
        "# Step 2: Load the Iris dataset (classification dataset)\n",
        "data = load_iris()\n",
        "X = data.data\n",
        "y = data.target\n",
        "\n",
        "# Step 3: Split data into training and test sets (70% training, 30% testing)\n",
        "X_train, X_test, y_train, y_test = train_test_split(X, y, test_size=0.3, random_state=42)\n",
        "\n",
        "# Step 4: Initialize and train Random Forest Classifier with OOB score enabled\n",
        "rf_classifier = RandomForestClassifier(n_estimators=100, random_state=42, oob_score=True)\n",
        "rf_classifier.fit(X_train, y_train)\n",
        "\n",
        "# Step 5: Get the Out-of-Bag (OOB) score\n",
        "oob_score = rf_classifier.oob_score_\n",
        "\n",
        "# Step 6: Print the OOB score\n",
        "print(f\"Out-of-Bag (OOB) Score: {oob_score:.4f}\")\n"
      ],
      "metadata": {
        "colab": {
          "base_uri": "https://localhost:8080/"
        },
        "id": "rGscHmHwCKRk",
        "outputId": "650e071d-e345-4cd3-ca4b-28aa8b5f027d"
      },
      "execution_count": null,
      "outputs": [
        {
          "output_type": "stream",
          "name": "stdout",
          "text": [
            "Out-of-Bag (OOB) Score: 0.9429\n"
          ]
        }
      ]
    },
    {
      "cell_type": "markdown",
      "source": [
        "Q26) Train a Bagging Classifier using SVM as a base estimator and print accuracy?"
      ],
      "metadata": {
        "id": "M_ByS8CHCe7s"
      }
    },
    {
      "cell_type": "code",
      "source": [
        "# Step 1: Import necessary libraries\n",
        "from sklearn.datasets import load_iris\n",
        "from sklearn.model_selection import train_test_split\n",
        "from sklearn.svm import SVC\n",
        "from sklearn.ensemble import BaggingClassifier\n",
        "from sklearn.metrics import accuracy_score\n",
        "\n",
        "# Step 2: Load the Iris dataset (classification dataset)\n",
        "data = load_iris()\n",
        "X = data.data\n",
        "y = data.target\n",
        "\n",
        "# Step 3: Split data into training and test sets (70% training, 30% testing)\n",
        "X_train, X_test, y_train, y_test = train_test_split(X, y, test_size=0.3, random_state=42)\n",
        "\n",
        "# Step 4: Initialize the Bagging Classifier with SVM as the base estimator\n",
        "svm_base_estimator = SVC(probability=True, random_state=42)\n",
        "bagging_clf = BaggingClassifier(estimator=svm_base_estimator, n_estimators=50, random_state=42)\n",
        "\n",
        "# Step 5: Train the Bagging Classifier\n",
        "bagging_clf.fit(X_train, y_train)\n",
        "\n",
        "# Step 6: Make predictions on the test set\n",
        "y_pred = bagging_clf.predict(X_test)\n",
        "\n",
        "# Step 7: Calculate accuracy\n",
        "accuracy = accuracy_score(y_test, y_pred)\n",
        "\n",
        "# Step 8: Print the accuracy\n",
        "print(f\"Accuracy of Bagging Classifier with SVM as base estimator: {accuracy:.4f}\")\n"
      ],
      "metadata": {
        "colab": {
          "base_uri": "https://localhost:8080/"
        },
        "id": "qM9xNjMyDIK5",
        "outputId": "1a232e77-8c5b-4009-fe1d-fcd5f28823b8"
      },
      "execution_count": null,
      "outputs": [
        {
          "output_type": "stream",
          "name": "stdout",
          "text": [
            "Accuracy of Bagging Classifier with SVM as base estimator: 1.0000\n"
          ]
        }
      ]
    },
    {
      "cell_type": "markdown",
      "source": [
        " Q27) Train a Random Forest Classifier with different numbers of trees and compare accuracy?"
      ],
      "metadata": {
        "id": "1h6t9lxsDKI5"
      }
    },
    {
      "cell_type": "code",
      "source": [
        "# Step 1: Import necessary libraries\n",
        "from sklearn.datasets import load_iris\n",
        "from sklearn.model_selection import train_test_split\n",
        "from sklearn.ensemble import RandomForestClassifier\n",
        "from sklearn.metrics import accuracy_score\n",
        "\n",
        "# Step 2: Load the Iris dataset (classification dataset)\n",
        "data = load_iris()\n",
        "X = data.data\n",
        "y = data.target\n",
        "\n",
        "# Step 3: Split data into training and test sets (70% training, 30% testing)\n",
        "X_train, X_test, y_train, y_test = train_test_split(X, y, test_size=0.3, random_state=42)\n",
        "\n",
        "# Step 4: Initialize different Random Forest Classifiers with varying n_estimators\n",
        "n_estimators_list = [10, 50, 100]  # Number of trees in the forest\n",
        "accuracies = {}\n",
        "\n",
        "for n_estimators in n_estimators_list:\n",
        "    # Initialize the Random Forest Classifier\n",
        "    rf_classifier = RandomForestClassifier(n_estimators=n_estimators, random_state=42)\n",
        "\n",
        "    # Train the classifier\n",
        "    rf_classifier.fit(X_train, y_train)\n",
        "\n",
        "    # Make predictions on the test set\n",
        "    y_pred = rf_classifier.predict(X_test)\n",
        "\n",
        "    # Calculate accuracy\n",
        "    accuracy = accuracy_score(y_test, y_pred)\n",
        "\n",
        "    # Store the accuracy\n",
        "    accuracies[n_estimators] = accuracy\n",
        "\n",
        "# Step 5: Print the accuracies for different n_estimators\n",
        "for n_estimators, accuracy in accuracies.items():\n",
        "    print(f\"Accuracy with {n_estimators} trees: {accuracy:.4f}\")\n"
      ],
      "metadata": {
        "colab": {
          "base_uri": "https://localhost:8080/"
        },
        "id": "zbOHMJ2oDTiT",
        "outputId": "1f9444da-6008-424a-eb9f-9041e831f4ea"
      },
      "execution_count": null,
      "outputs": [
        {
          "output_type": "stream",
          "name": "stdout",
          "text": [
            "Accuracy with 10 trees: 1.0000\n",
            "Accuracy with 50 trees: 1.0000\n",
            "Accuracy with 100 trees: 1.0000\n"
          ]
        }
      ]
    },
    {
      "cell_type": "markdown",
      "source": [
        " Q28) Train a Bagging Classifier using Logistic Regression as a base estimator and print AUC score?"
      ],
      "metadata": {
        "id": "iRWUcFoODVrf"
      }
    },
    {
      "cell_type": "code",
      "source": [
        "# Step 1: Import necessary libraries\n",
        "from sklearn.datasets import load_iris\n",
        "from sklearn.model_selection import train_test_split\n",
        "from sklearn.linear_model import LogisticRegression\n",
        "from sklearn.ensemble import BaggingClassifier\n",
        "from sklearn.metrics import roc_auc_score\n",
        "from sklearn.preprocessing import LabelBinarizer\n",
        "\n",
        "# Step 2: Load the Iris dataset (classification dataset)\n",
        "data = load_iris()\n",
        "X = data.data\n",
        "y = data.target\n",
        "\n",
        "# Since AUC is usually computed for binary classification, let's focus on two classes (class 0 and 1)\n",
        "X = X[y != 2]  # Filter out class 2\n",
        "y = y[y != 2]  # Filter out class 2\n",
        "\n",
        "# Step 3: Split data into training and test sets (70% training, 30% testing)\n",
        "X_train, X_test, y_train, y_test = train_test_split(X, y, test_size=0.3, random_state=42)\n",
        "\n",
        "# Step 4: Initialize the Bagging Classifier with Logistic Regression as the base estimator\n",
        "logreg_base_estimator = LogisticRegression(random_state=42)\n",
        "bagging_clf = BaggingClassifier(estimator=logreg_base_estimator, n_estimators=50, random_state=42)\n",
        "\n",
        "# Step 5: Train the Bagging Classifier\n",
        "bagging_clf.fit(X_train, y_train)\n",
        "\n",
        "# Step 6: Make predictions on the test set\n",
        "y_pred_prob = bagging_clf.predict_proba(X_test)[:, 1]  # Get probabilities for the positive class\n",
        "\n",
        "# Step 7: Calculate AUC score\n",
        "auc_score = roc_auc_score(y_test, y_pred_prob)\n",
        "\n",
        "# Step 8: Print the AUC score\n",
        "print(f\"AUC Score of Bagging Classifier with Logistic Regression as base estimator: {auc_score:.4f}\")\n"
      ],
      "metadata": {
        "colab": {
          "base_uri": "https://localhost:8080/"
        },
        "id": "AthWVp5TDbkO",
        "outputId": "61f736ef-c57e-48ad-89f7-5673a29ccb17"
      },
      "execution_count": null,
      "outputs": [
        {
          "output_type": "stream",
          "name": "stdout",
          "text": [
            "AUC Score of Bagging Classifier with Logistic Regression as base estimator: 1.0000\n"
          ]
        }
      ]
    },
    {
      "cell_type": "markdown",
      "source": [
        "Q29) Train a Random Forest Regressor and analyze feature importance scores?"
      ],
      "metadata": {
        "id": "IuJQtY1bDjMU"
      }
    },
    {
      "cell_type": "code",
      "source": [
        "# Step 1: Import necessary libraries\n",
        "from sklearn.datasets import fetch_california_housing\n",
        "from sklearn.model_selection import train_test_split\n",
        "from sklearn.ensemble import RandomForestRegressor\n",
        "import matplotlib.pyplot as plt\n",
        "import numpy as np\n",
        "\n",
        "# Step 2: Load the California Housing dataset\n",
        "data = fetch_california_housing()\n",
        "X = data.data\n",
        "y = data.target\n",
        "feature_names = data.feature_names\n",
        "\n",
        "# Step 3: Split data into training and test sets (70% training, 30% testing)\n",
        "X_train, X_test, y_train, y_test = train_test_split(X, y, test_size=0.3, random_state=42)\n",
        "\n",
        "# Step 4: Initialize and train the Random Forest Regressor\n",
        "rf_regressor = RandomForestRegressor(n_estimators=100, random_state=42)\n",
        "rf_regressor.fit(X_train, y_train)\n",
        "\n",
        "# Step 5: Get feature importance scores\n",
        "feature_importances = rf_regressor.feature_importances_\n",
        "\n",
        "# Step 6: Plot feature importances\n",
        "indices = np.argsort(feature_importances)[::-1]  # Sort features by importance in descending order\n",
        "\n",
        "# Plotting the feature importances\n",
        "plt.figure(figsize=(10, 6))\n",
        "plt.title(\"Feature Importance in Random Forest Regressor\")\n",
        "plt.barh(range(X.shape[1]), feature_importances[indices], align=\"center\")\n",
        "plt.yticks(range(X.shape[1]), np.array(feature_names)[indices])\n",
        "plt.xlabel(\"Importance\")\n",
        "plt.show()\n",
        "\n",
        "# Step 7: Print feature importance scores\n",
        "for i in range(X.shape[1]):\n",
        "    print(f\"{feature_names[indices[i]]}: {feature_importances[indices[i]]:.4f}\")"
      ],
      "metadata": {
        "colab": {
          "base_uri": "https://localhost:8080/",
          "height": 703
        },
        "id": "1Yf2IxiEDva3",
        "outputId": "59da534b-1cdd-49e8-d61f-93571398efea"
      },
      "execution_count": null,
      "outputs": [
        {
          "output_type": "display_data",
          "data": {
            "text/plain": [
              "<Figure size 1000x600 with 1 Axes>"
            ],
            "image/png": "[encoded data removed]"
          },
          "metadata": {}
        },
        {
          "output_type": "stream",
          "name": "stdout",
          "text": [
            "MedInc: 0.5260\n",
            "AveOccup: 0.1382\n",
            "Longitude: 0.0861\n",
            "Latitude: 0.0861\n",
            "HouseAge: 0.0547\n",
            "AveRooms: 0.0472\n",
            "Population: 0.0317\n",
            "AveBedrms: 0.0300\n"
          ]
        }
      ]
    },
    {
      "cell_type": "markdown",
      "source": [
        "Q30) Train an ensemble model using both Bagging and Random Forest and compare accuracy?"
      ],
      "metadata": {
        "id": "FI8Co0P0D4D6"
      }
    },
    {
      "cell_type": "code",
      "source": [
        "# Step 1: Import necessary libraries\n",
        "from sklearn.datasets import load_iris\n",
        "from sklearn.model_selection import train_test_split\n",
        "from sklearn.ensemble import BaggingClassifier, RandomForestClassifier\n",
        "from sklearn.tree import DecisionTreeClassifier\n",
        "from sklearn.metrics import accuracy_score\n",
        "\n",
        "# Step 2: Load the Iris dataset (classification dataset)\n",
        "data = load_iris()\n",
        "X = data.data\n",
        "y = data.target\n",
        "\n",
        "# Step 3: Split data into training and test sets (70% training, 30% testing)\n",
        "X_train, X_test, y_train, y_test = train_test_split(X, y, test_size=0.3, random_state=42)\n",
        "\n",
        "# Step 4: Initialize the Bagging Classifier with Decision Trees as the base estimator\n",
        "bagging_clf = BaggingClassifier(estimator=DecisionTreeClassifier(), n_estimators=50, random_state=42)\n",
        "\n",
        "# Initialize the Random Forest Classifier\n",
        "rf_clf = RandomForestClassifier(n_estimators=50, random_state=42)\n",
        "\n",
        "# Step 5: Train the Bagging Classifier\n",
        "bagging_clf.fit(X_train, y_train)\n",
        "\n",
        "# Train the Random Forest Classifier\n",
        "rf_clf.fit(X_train, y_train)\n",
        "\n",
        "# Step 6: Make predictions on the test set\n",
        "y_pred_bagging = bagging_clf.predict(X_test)\n",
        "y_pred_rf = rf_clf.predict(X_test)\n",
        "\n",
        "# Step 7: Calculate accuracy\n",
        "accuracy_bagging = accuracy_score(y_test, y_pred_bagging)\n",
        "accuracy_rf = accuracy_score(y_test, y_pred_rf)\n",
        "\n",
        "# Step 8: Print the accuracies\n",
        "print(f\"Accuracy of Bagging Classifier: {accuracy_bagging:.4f}\")\n",
        "print(f\"Accuracy of Random Forest Classifier: {accuracy_rf:.4f}\")\n"
      ],
      "metadata": {
        "colab": {
          "base_uri": "https://localhost:8080/"
        },
        "id": "kbeaJtbhEL65",
        "outputId": "8d18ae8d-6283-4239-efbc-708a1afce2bf"
      },
      "execution_count": null,
      "outputs": [
        {
          "output_type": "stream",
          "name": "stdout",
          "text": [
            "Accuracy of Bagging Classifier: 1.0000\n",
            "Accuracy of Random Forest Classifier: 1.0000\n"
          ]
        }
      ]
    },
    {
      "cell_type": "markdown",
      "source": [
        "Q31) Train a Random Forest Classifier and tune hyperparameters using GridSearchCV?"
      ],
      "metadata": {
        "id": "CogGRWvoEPiA"
      }
    },
    {
      "cell_type": "code",
      "source": [
        "# Step 1: Import necessary libraries\n",
        "from sklearn.datasets import load_iris\n",
        "from sklearn.model_selection import train_test_split\n",
        "from sklearn.ensemble import RandomForestClassifier\n",
        "from sklearn.model_selection import GridSearchCV\n",
        "from sklearn.metrics import accuracy_score\n",
        "\n",
        "# Step 2: Load the Iris dataset (classification dataset)\n",
        "data = load_iris()\n",
        "X = data.data\n",
        "y = data.target\n",
        "\n",
        "# Step 3: Split data into training and test sets (70% training, 30% testing)\n",
        "X_train, X_test, y_train, y_test = train_test_split(X, y, test_size=0.3, random_state=42)\n",
        "\n",
        "# Step 4: Initialize the Random Forest Classifier\n",
        "rf_clf = RandomForestClassifier(random_state=42)\n",
        "\n",
        "# Step 5: Set up hyperparameters for tuning\n",
        "param_grid = {\n",
        "    'n_estimators': [50, 100, 200],        # Number of trees in the forest\n",
        "    'max_depth': [None, 10, 20, 30],       # Max depth of trees\n",
        "    'min_samples_split': [2, 5, 10],       # Minimum number of samples required to split a node\n",
        "    'min_samples_leaf': [1, 2, 4],         # Minimum number of samples required to be at a leaf node\n",
        "    'max_features': ['auto', 'sqrt', 'log2'],  # Number of features to consider for the best split\n",
        "}\n",
        "\n",
        "# Step 6: Use GridSearchCV to search over the hyperparameters\n",
        "grid_search = GridSearchCV(estimator=rf_clf, param_grid=param_grid, cv=5, n_jobs=-1, verbose=2)\n",
        "\n",
        "# Step 7: Fit GridSearchCV to the training data\n",
        "grid_search.fit(X_train, y_train)\n",
        "\n",
        "# Step 8: Print the best hyperparameters found\n",
        "print(f\"Best hyperparameters: {grid_search.best_params_}\")\n",
        "\n",
        "# Step 9: Train the model using the best hyperparameters\n",
        "best_rf_clf = grid_search.best_estimator_\n",
        "\n",
        "# Step 10: Make predictions on the test set\n",
        "y_pred = best_rf_clf.predict(X_test)\n",
        "\n",
        "# Step 11: Calculate and print accuracy\n",
        "accuracy = accuracy_score(y_test, y_pred)\n",
        "print(f\"Accuracy of the tuned Random Forest Classifier: {accuracy:.4f}\")"
      ],
      "metadata": {
        "colab": {
          "base_uri": "https://localhost:8080/"
        },
        "id": "_Acs3ZWHEdt-",
        "outputId": "06052b30-5680-4408-95bb-970e7170e092"
      },
      "execution_count": null,
      "outputs": [
        {
          "output_type": "stream",
          "name": "stdout",
          "text": [
            "Fitting 5 folds for each of 324 candidates, totalling 1620 fits\n"
          ]
        },
        {
          "output_type": "stream",
          "name": "stderr",
          "text": [
            "/usr/local/lib/python3.11/dist-packages/sklearn/model_selection/_validation.py:528: FitFailedWarning: \n",
            "540 fits failed out of a total of 1620.\n",
            "The score on these train-test partitions for these parameters will be set to nan.\n",
            "If these failures are not expected, you can try to debug them by setting error_score='raise'.\n",
            "\n",
            "Below are more details about the failures:\n",
            "--------------------------------------------------------------------------------\n",
            "540 fits failed with the following error:\n",
            "Traceback (most recent call last):\n",
            "  File \"/usr/local/lib/python3.11/dist-packages/sklearn/model_selection/_validation.py\", line 866, in _fit_and_score\n",
            "    estimator.fit(X_train, y_train, **fit_params)\n",
            "  File \"/usr/local/lib/python3.11/dist-packages/sklearn/base.py\", line 1382, in wrapper\n",
            "    estimator._validate_params()\n",
            "  File \"/usr/local/lib/python3.11/dist-packages/sklearn/base.py\", line 436, in _validate_params\n",
            "    validate_parameter_constraints(\n",
            "  File \"/usr/local/lib/python3.11/dist-packages/sklearn/utils/_param_validation.py\", line 98, in validate_parameter_constraints\n",
            "    raise InvalidParameterError(\n",
            "sklearn.utils._param_validation.InvalidParameterError: The 'max_features' parameter of RandomForestClassifier must be an int in the range [1, inf), a float in the range (0.0, 1.0], a str among {'log2', 'sqrt'} or None. Got 'auto' instead.\n",
            "\n",
            "  warnings.warn(some_fits_failed_message, FitFailedWarning)\n",
            "/usr/local/lib/python3.11/dist-packages/sklearn/model_selection/_search.py:1108: UserWarning: One or more of the test scores are non-finite: [       nan        nan        nan        nan        nan        nan\n",
            "        nan        nan        nan        nan        nan        nan\n",
            "        nan        nan        nan        nan        nan        nan\n",
            "        nan        nan        nan        nan        nan        nan\n",
            "        nan        nan        nan 0.93333333 0.94285714 0.94285714\n",
            " 0.93333333 0.94285714 0.94285714 0.93333333 0.94285714 0.94285714\n",
            " 0.94285714 0.93333333 0.93333333 0.93333333 0.93333333 0.93333333\n",
            " 0.93333333 0.93333333 0.93333333 0.94285714 0.93333333 0.93333333\n",
            " 0.94285714 0.93333333 0.93333333 0.93333333 0.93333333 0.93333333\n",
            " 0.93333333 0.94285714 0.94285714 0.93333333 0.94285714 0.94285714\n",
            " 0.93333333 0.94285714 0.94285714 0.94285714 0.93333333 0.93333333\n",
            " 0.93333333 0.93333333 0.93333333 0.93333333 0.93333333 0.93333333\n",
            " 0.94285714 0.93333333 0.93333333 0.94285714 0.93333333 0.93333333\n",
            " 0.93333333 0.93333333 0.93333333        nan        nan        nan\n",
            "        nan        nan        nan        nan        nan        nan\n",
            "        nan        nan        nan        nan        nan        nan\n",
            "        nan        nan        nan        nan        nan        nan\n",
            "        nan        nan        nan        nan        nan        nan\n",
            " 0.93333333 0.94285714 0.94285714 0.93333333 0.94285714 0.94285714\n",
            " 0.93333333 0.94285714 0.94285714 0.94285714 0.93333333 0.93333333\n",
            " 0.93333333 0.93333333 0.93333333 0.93333333 0.93333333 0.93333333\n",
            " 0.94285714 0.93333333 0.93333333 0.94285714 0.93333333 0.93333333\n",
            " 0.93333333 0.93333333 0.93333333 0.93333333 0.94285714 0.94285714\n",
            " 0.93333333 0.94285714 0.94285714 0.93333333 0.94285714 0.94285714\n",
            " 0.94285714 0.93333333 0.93333333 0.93333333 0.93333333 0.93333333\n",
            " 0.93333333 0.93333333 0.93333333 0.94285714 0.93333333 0.93333333\n",
            " 0.94285714 0.93333333 0.93333333 0.93333333 0.93333333 0.93333333\n",
            "        nan        nan        nan        nan        nan        nan\n",
            "        nan        nan        nan        nan        nan        nan\n",
            "        nan        nan        nan        nan        nan        nan\n",
            "        nan        nan        nan        nan        nan        nan\n",
            "        nan        nan        nan 0.93333333 0.94285714 0.94285714\n",
            " 0.93333333 0.94285714 0.94285714 0.93333333 0.94285714 0.94285714\n",
            " 0.94285714 0.93333333 0.93333333 0.93333333 0.93333333 0.93333333\n",
            " 0.93333333 0.93333333 0.93333333 0.94285714 0.93333333 0.93333333\n",
            " 0.94285714 0.93333333 0.93333333 0.93333333 0.93333333 0.93333333\n",
            " 0.93333333 0.94285714 0.94285714 0.93333333 0.94285714 0.94285714\n",
            " 0.93333333 0.94285714 0.94285714 0.94285714 0.93333333 0.93333333\n",
            " 0.93333333 0.93333333 0.93333333 0.93333333 0.93333333 0.93333333\n",
            " 0.94285714 0.93333333 0.93333333 0.94285714 0.93333333 0.93333333\n",
            " 0.93333333 0.93333333 0.93333333        nan        nan        nan\n",
            "        nan        nan        nan        nan        nan        nan\n",
            "        nan        nan        nan        nan        nan        nan\n",
            "        nan        nan        nan        nan        nan        nan\n",
            "        nan        nan        nan        nan        nan        nan\n",
            " 0.93333333 0.94285714 0.94285714 0.93333333 0.94285714 0.94285714\n",
            " 0.93333333 0.94285714 0.94285714 0.94285714 0.93333333 0.93333333\n",
            " 0.93333333 0.93333333 0.93333333 0.93333333 0.93333333 0.93333333\n",
            " 0.94285714 0.93333333 0.93333333 0.94285714 0.93333333 0.93333333\n",
            " 0.93333333 0.93333333 0.93333333 0.93333333 0.94285714 0.94285714\n",
            " 0.93333333 0.94285714 0.94285714 0.93333333 0.94285714 0.94285714\n",
            " 0.94285714 0.93333333 0.93333333 0.93333333 0.93333333 0.93333333\n",
            " 0.93333333 0.93333333 0.93333333 0.94285714 0.93333333 0.93333333\n",
            " 0.94285714 0.93333333 0.93333333 0.93333333 0.93333333 0.93333333]\n",
            "  warnings.warn(\n"
          ]
        },
        {
          "output_type": "stream",
          "name": "stdout",
          "text": [
            "Best hyperparameters: {'max_depth': None, 'max_features': 'sqrt', 'min_samples_leaf': 1, 'min_samples_split': 2, 'n_estimators': 100}\n",
            "Accuracy of the tuned Random Forest Classifier: 1.0000\n"
          ]
        }
      ]
    },
    {
      "cell_type": "markdown",
      "source": [
        "Q32) Train a Bagging Regressor with different numbers of base estimators and compare performance?"
      ],
      "metadata": {
        "id": "YIbgmKNiEga7"
      }
    },
    {
      "cell_type": "code",
      "source": [
        "# Step 1: Import necessary libraries\n",
        "from sklearn.datasets import fetch_california_housing\n",
        "from sklearn.model_selection import train_test_split\n",
        "from sklearn.ensemble import BaggingRegressor\n",
        "from sklearn.tree import DecisionTreeRegressor\n",
        "from sklearn.metrics import mean_squared_error, r2_score\n",
        "\n",
        "# Step 2: Load the California Housing dataset (regression dataset)\n",
        "data = fetch_california_housing()\n",
        "X = data.data\n",
        "y = data.target\n",
        "\n",
        "# Step 3: Split data into training and test sets (70% training, 30% testing)\n",
        "X_train, X_test, y_train, y_test = train_test_split(X, y, test_size=0.3, random_state=42)\n",
        "\n",
        "# Step 4: Initialize a list of different numbers of base estimators (n_estimators)\n",
        "n_estimators_list = [10, 50, 100, 200]\n",
        "\n",
        "# Step 5: Train Bagging Regressor with different numbers of base estimators\n",
        "for n_estimators in n_estimators_list:\n",
        "    # Initialize the Bagging Regressor with Decision Trees as base estimator\n",
        "    bagging_regressor = BaggingRegressor(estimator=DecisionTreeRegressor(),  # Correct argument is 'estimator'\n",
        "                                        n_estimators=n_estimators,\n",
        "                                        random_state=42)\n",
        "\n",
        "    # Train the model\n",
        "    bagging_regressor.fit(X_train, y_train)\n",
        "\n",
        "    # Make predictions on the test set\n",
        "    y_pred = bagging_regressor.predict(X_test)\n",
        "\n",
        "    # Calculate the performance metrics (MSE and R^2)\n",
        "    mse = mean_squared_error(y_test, y_pred)\n",
        "    r2 = r2_score(y_test, y_pred)\n",
        "\n",
        "    # Print the results\n",
        "    print(f\"Bagging Regressor with {n_estimators} base estimators:\")\n",
        "    print(f\"  Mean Squared Error: {mse:.4f}\")\n",
        "    print(f\"  R^2 Score: {r2:.4f}\")\n",
        "    print(\"-\" * 50)\n"
      ],
      "metadata": {
        "colab": {
          "base_uri": "https://localhost:8080/"
        },
        "id": "ljP5iKalF9NZ",
        "outputId": "31b58912-15a7-437f-924e-bb2f94756d11"
      },
      "execution_count": null,
      "outputs": [
        {
          "output_type": "stream",
          "name": "stdout",
          "text": [
            "Bagging Regressor with 10 base estimators:\n",
            "  Mean Squared Error: 0.2862\n",
            "  R^2 Score: 0.7819\n",
            "--------------------------------------------------\n",
            "Bagging Regressor with 50 base estimators:\n",
            "  Mean Squared Error: 0.2579\n",
            "  R^2 Score: 0.8035\n",
            "--------------------------------------------------\n",
            "Bagging Regressor with 100 base estimators:\n",
            "  Mean Squared Error: 0.2568\n",
            "  R^2 Score: 0.8043\n",
            "--------------------------------------------------\n",
            "Bagging Regressor with 200 base estimators:\n",
            "  Mean Squared Error: 0.2542\n",
            "  R^2 Score: 0.8064\n",
            "--------------------------------------------------\n"
          ]
        }
      ]
    },
    {
      "cell_type": "markdown",
      "source": [
        "Q33) Train a Random Forest Classifier and analyze misclassified samples?"
      ],
      "metadata": {
        "id": "mzBwAAltGOrU"
      }
    },
    {
      "cell_type": "code",
      "source": [
        "# Step 1: Import necessary libraries\n",
        "from sklearn.datasets import load_iris\n",
        "from sklearn.model_selection import train_test_split\n",
        "from sklearn.ensemble import RandomForestClassifier\n",
        "from sklearn.metrics import accuracy_score\n",
        "\n",
        "# Step 2: Load the Iris dataset (classification dataset)\n",
        "data = load_iris()\n",
        "X = data.data\n",
        "y = data.target\n",
        "\n",
        "# Step 3: Split data into training and test sets (70% training, 30% testing)\n",
        "X_train, X_test, y_train, y_test = train_test_split(X, y, test_size=0.3, random_state=42)\n",
        "\n",
        "# Step 4: Initialize and train the Random Forest Classifier\n",
        "rf_clf = RandomForestClassifier(n_estimators=100, random_state=42)\n",
        "rf_clf.fit(X_train, y_train)\n",
        "\n",
        "# Step 5: Predict the labels for the test set\n",
        "y_pred = rf_clf.predict(X_test)\n",
        "\n",
        "# Step 6: Calculate accuracy\n",
        "accuracy = accuracy_score(y_test, y_pred)\n",
        "print(f\"Accuracy of the Random Forest Classifier: {accuracy:.4f}\")\n",
        "\n",
        "# Step 7: Identify the misclassified samples\n",
        "misclassified_idx = (y_pred != y_test)\n",
        "misclassified_samples = X_test[misclassified_idx]\n",
        "misclassified_labels = y_test[misclassified_idx]\n",
        "predicted_labels = y_pred[misclassified_idx]\n",
        "\n",
        "# Step 8: Print out the misclassified samples and their predicted vs actual labels\n",
        "print(f\"\\nMisclassified samples (features, predicted label, actual label):\")\n",
        "for i in range(len(misclassified_samples)):\n",
        "    print(f\"Features: {misclassified_samples[i]}, Predicted: {predicted_labels[i]}, Actual: {misclassified_labels[i]}\")\n"
      ],
      "metadata": {
        "colab": {
          "base_uri": "https://localhost:8080/"
        },
        "id": "NW2KDJKiGaBW",
        "outputId": "62f588d0-272a-44b2-b719-5a5ae845af69"
      },
      "execution_count": null,
      "outputs": [
        {
          "output_type": "stream",
          "name": "stdout",
          "text": [
            "Accuracy of the Random Forest Classifier: 1.0000\n",
            "\n",
            "Misclassified samples (features, predicted label, actual label):\n"
          ]
        }
      ]
    },
    {
      "cell_type": "markdown",
      "source": [
        "Q34) Train a Bagging Classifier and compare its performance with a single Decision Tree Classifier?"
      ],
      "metadata": {
        "id": "5Z9D6D0rGc0b"
      }
    },
    {
      "cell_type": "code",
      "source": [
        "# Step 1: Import necessary libraries\n",
        "from sklearn.datasets import load_iris\n",
        "from sklearn.model_selection import train_test_split\n",
        "from sklearn.tree import DecisionTreeClassifier\n",
        "from sklearn.ensemble import BaggingClassifier\n",
        "from sklearn.metrics import accuracy_score\n",
        "\n",
        "# Step 2: Load the Iris dataset (classification dataset)\n",
        "data = load_iris()\n",
        "X = data.data\n",
        "y = data.target\n",
        "\n",
        "# Step 3: Split data into training and test sets (70% training, 30% testing)\n",
        "X_train, X_test, y_train, y_test = train_test_split(X, y, test_size=0.3, random_state=42)\n",
        "\n",
        "# Step 4: Train a single Decision Tree Classifier\n",
        "dt_clf = DecisionTreeClassifier(random_state=42)\n",
        "dt_clf.fit(X_train, y_train)\n",
        "\n",
        "# Step 5: Predict and evaluate performance of Decision Tree\n",
        "y_pred_dt = dt_clf.predict(X_test)\n",
        "dt_accuracy = accuracy_score(y_test, y_pred_dt)\n",
        "print(f\"Accuracy of the Decision Tree Classifier: {dt_accuracy:.4f}\")\n",
        "\n",
        "# Step 6: Train a Bagging Classifier with Decision Trees as base estimators\n",
        "bagging_clf = BaggingClassifier(estimator=DecisionTreeClassifier(), n_estimators=50, random_state=42)\n",
        "bagging_clf.fit(X_train, y_train)\n",
        "\n",
        "# Step 7: Predict and evaluate performance of Bagging Classifier\n",
        "y_pred_bagging = bagging_clf.predict(X_test)\n",
        "bagging_accuracy = accuracy_score(y_test, y_pred_bagging)\n",
        "print(f\"Accuracy of the Bagging Classifier: {bagging_accuracy:.4f}\")\n"
      ],
      "metadata": {
        "colab": {
          "base_uri": "https://localhost:8080/"
        },
        "id": "HEZMKupwGzI1",
        "outputId": "cb750522-2b17-4997-adc3-17c8cc10a7a3"
      },
      "execution_count": null,
      "outputs": [
        {
          "output_type": "stream",
          "name": "stdout",
          "text": [
            "Accuracy of the Decision Tree Classifier: 1.0000\n",
            "Accuracy of the Bagging Classifier: 1.0000\n"
          ]
        }
      ]
    },
    {
      "cell_type": "markdown",
      "source": [
        "Q35) Train a Random Forest Classifier and visualize the confusion matrix?"
      ],
      "metadata": {
        "id": "Xc8-Bz61G1Ib"
      }
    },
    {
      "cell_type": "code",
      "source": [
        "# Step 1: Import necessary libraries\n",
        "import matplotlib.pyplot as plt\n",
        "import seaborn as sns\n",
        "from sklearn.datasets import load_iris\n",
        "from sklearn.model_selection import train_test_split\n",
        "from sklearn.ensemble import RandomForestClassifier\n",
        "from sklearn.metrics import confusion_matrix\n",
        "\n",
        "# Step 2: Load the Iris dataset (classification dataset)\n",
        "data = load_iris()\n",
        "X = data.data\n",
        "y = data.target\n",
        "\n",
        "# Step 3: Split data into training and test sets (70% training, 30% testing)\n",
        "X_train, X_test, y_train, y_test = train_test_split(X, y, test_size=0.3, random_state=42)\n",
        "\n",
        "# Step 4: Train the Random Forest Classifier\n",
        "rf_clf = RandomForestClassifier(n_estimators=100, random_state=42)\n",
        "rf_clf.fit(X_train, y_train)\n",
        "\n",
        "# Step 5: Predict the labels for the test set\n",
        "y_pred = rf_clf.predict(X_test)\n",
        "\n",
        "# Step 6: Compute the confusion matrix\n",
        "cm = confusion_matrix(y_test, y_pred)\n",
        "\n",
        "# Step 7: Visualize the confusion matrix using a heatmap\n",
        "plt.figure(figsize=(8, 6))\n",
        "sns.heatmap(cm, annot=True, fmt=\"d\", cmap=\"Blues\", xticklabels=data.target_names, yticklabels=data.target_names)\n",
        "plt.title('Confusion Matrix for Random Forest Classifier')\n",
        "plt.xlabel('Predicted')\n",
        "plt.ylabel('Actual')\n",
        "plt.show()\n"
      ],
      "metadata": {
        "colab": {
          "base_uri": "https://localhost:8080/",
          "height": 564
        },
        "id": "QHDrON4BG943",
        "outputId": "21d8e246-2f86-4eb5-ed6c-317bf7ac5f2d"
      },
      "execution_count": null,
      "outputs": [
        {
          "output_type": "display_data",
          "data": {
            "text/plain": [
              "<Figure size 800x600 with 2 Axes>"
            ],
            "image/png": "[encoded data removed]"
          },
          "metadata": {}
        }
      ]
    },
    {
      "cell_type": "markdown",
      "source": [
        "Q36) Train a Stacking Classifier using Decision Trees, SVM, and Logistic Regression, and compare accuracy?"
      ],
      "metadata": {
        "id": "lRh104yoHFce"
      }
    },
    {
      "cell_type": "code",
      "source": [
        "# Step 1: Import necessary libraries\n",
        "from sklearn.datasets import load_iris\n",
        "from sklearn.model_selection import train_test_split\n",
        "from sklearn.tree import DecisionTreeClassifier\n",
        "from sklearn.svm import SVC\n",
        "from sklearn.linear_model import LogisticRegression\n",
        "from sklearn.ensemble import StackingClassifier\n",
        "from sklearn.metrics import accuracy_score\n",
        "\n",
        "# Step 2: Load the Iris dataset (classification dataset)\n",
        "data = load_iris()\n",
        "X = data.data\n",
        "y = data.target\n",
        "\n",
        "# Step 3: Split data into training and test sets (70% training, 30% testing)\n",
        "X_train, X_test, y_train, y_test = train_test_split(X, y, test_size=0.3, random_state=42)\n",
        "\n",
        "# Step 4: Train individual classifiers\n",
        "dt_clf = DecisionTreeClassifier(random_state=42)\n",
        "svm_clf = SVC(random_state=42)\n",
        "logreg_clf = LogisticRegression(random_state=42, max_iter=200)\n",
        "\n",
        "# Step 5: Train the base classifiers\n",
        "dt_clf.fit(X_train, y_train)\n",
        "svm_clf.fit(X_train, y_train)\n",
        "logreg_clf.fit(X_train, y_train)\n",
        "\n",
        "# Step 6: Predict and evaluate the individual classifiers' performance\n",
        "y_pred_dt = dt_clf.predict(X_test)\n",
        "y_pred_svm = svm_clf.predict(X_test)\n",
        "y_pred_logreg = logreg_clf.predict(X_test)\n",
        "\n",
        "# Step 7: Print accuracy of individual classifiers\n",
        "dt_accuracy = accuracy_score(y_test, y_pred_dt)\n",
        "svm_accuracy = accuracy_score(y_test, y_pred_svm)\n",
        "logreg_accuracy = accuracy_score(y_test, y_pred_logreg)\n",
        "\n",
        "print(f\"Accuracy of Decision Tree: {dt_accuracy:.4f}\")\n",
        "print(f\"Accuracy of SVM: {svm_accuracy:.4f}\")\n",
        "print(f\"Accuracy of Logistic Regression: {logreg_accuracy:.4f}\")\n",
        "\n",
        "# Step 8: Train a Stacking Classifier using Decision Trees, SVM, and Logistic Regression as base classifiers\n",
        "base_learners = [\n",
        "    ('decision_tree', DecisionTreeClassifier(random_state=42)),\n",
        "    ('svm', SVC(random_state=42)),\n",
        "    ('logreg', LogisticRegression(random_state=42, max_iter=200))\n",
        "]\n",
        "\n",
        "stacking_clf = StackingClassifier(estimators=base_learners, final_estimator=LogisticRegression())\n",
        "stacking_clf.fit(X_train, y_train)\n",
        "\n",
        "# Step 9: Predict and evaluate the performance of the Stacking Classifier\n",
        "y_pred_stacking = stacking_clf.predict(X_test)\n",
        "stacking_accuracy = accuracy_score(y_test, y_pred_stacking)\n",
        "\n",
        "# Step 10: Print accuracy of the Stacking Classifier\n",
        "print(f\"Accuracy of Stacking Classifier: {stacking_accuracy:.4f}\")\n"
      ],
      "metadata": {
        "colab": {
          "base_uri": "https://localhost:8080/"
        },
        "id": "qxcYTkI3HP3e",
        "outputId": "0bb4315c-9192-4263-bf32-3d2f06c12417"
      },
      "execution_count": null,
      "outputs": [
        {
          "output_type": "stream",
          "name": "stdout",
          "text": [
            "Accuracy of Decision Tree: 1.0000\n",
            "Accuracy of SVM: 1.0000\n",
            "Accuracy of Logistic Regression: 1.0000\n",
            "Accuracy of Stacking Classifier: 1.0000\n"
          ]
        }
      ]
    },
    {
      "cell_type": "markdown",
      "source": [
        "Q37) Train a Random Forest Classifier and print the top 5 most important features?"
      ],
      "metadata": {
        "id": "Zr8Bya8HHSPE"
      }
    },
    {
      "cell_type": "code",
      "source": [
        "# Step 1: Import necessary libraries\n",
        "import pandas as pd\n",
        "from sklearn.datasets import load_iris\n",
        "from sklearn.ensemble import RandomForestClassifier\n",
        "from sklearn.model_selection import train_test_split\n",
        "\n",
        "# Step 2: Load the Iris dataset (classification dataset)\n",
        "data = load_iris()\n",
        "X = data.data\n",
        "y = data.target\n",
        "feature_names = data.feature_names\n",
        "\n",
        "# Step 3: Split data into training and test sets (70% training, 30% testing)\n",
        "X_train, X_test, y_train, y_test = train_test_split(X, y, test_size=0.3, random_state=42)\n",
        "\n",
        "# Step 4: Train the Random Forest Classifier\n",
        "rf_clf = RandomForestClassifier(n_estimators=100, random_state=42)\n",
        "rf_clf.fit(X_train, y_train)\n",
        "\n",
        "# Step 5: Get the feature importances\n",
        "importances = rf_clf.feature_importances_\n",
        "\n",
        "# Step 6: Create a DataFrame for feature importances and sort them\n",
        "feature_importances_df = pd.DataFrame({\n",
        "    'Feature': feature_names,\n",
        "    'Importance': importances\n",
        "})\n",
        "feature_importances_df = feature_importances_df.sort_values(by='Importance', ascending=False)\n",
        "\n",
        "# Step 7: Print the top 5 most important features\n",
        "print(\"Top 5 most important features:\")\n",
        "print(feature_importances_df.head(5))\n"
      ],
      "metadata": {
        "colab": {
          "base_uri": "https://localhost:8080/"
        },
        "id": "oIVaykLkHaMu",
        "outputId": "423a45eb-5203-4af3-db3c-fd4ae37c076e"
      },
      "execution_count": null,
      "outputs": [
        {
          "output_type": "stream",
          "name": "stdout",
          "text": [
            "Top 5 most important features:\n",
            "             Feature  Importance\n",
            "3   petal width (cm)    0.433982\n",
            "2  petal length (cm)    0.417308\n",
            "0  sepal length (cm)    0.104105\n",
            "1   sepal width (cm)    0.044605\n"
          ]
        }
      ]
    },
    {
      "cell_type": "markdown",
      "source": [
        "Q38) Train a Bagging Classifier and evaluate performance using Precision, Recall, and F1-score?"
      ],
      "metadata": {
        "id": "QaDBE1FoHebU"
      }
    },
    {
      "cell_type": "code",
      "source": [
        "# Step 1: Import necessary libraries\n",
        "import pandas as pd\n",
        "from sklearn.datasets import load_iris\n",
        "from sklearn.ensemble import RandomForestClassifier\n",
        "from sklearn.model_selection import train_test_split\n",
        "\n",
        "# Step 2: Load the Iris dataset (classification dataset)\n",
        "data = load_iris()\n",
        "X = data.data\n",
        "y = data.target\n",
        "feature_names = data.feature_names\n",
        "\n",
        "# Step 3: Split data into training and test sets (70% training, 30% testing)\n",
        "X_train, X_test, y_train, y_test = train_test_split(X, y, test_size=0.3, random_state=42)\n",
        "\n",
        "# Step 4: Train the Random Forest Classifier\n",
        "rf_clf = RandomForestClassifier(n_estimators=100, random_state=42)\n",
        "rf_clf.fit(X_train, y_train)\n",
        "\n",
        "# Step 5: Get the feature importances\n",
        "importances = rf_clf.feature_importances_\n",
        "\n",
        "# Step 6: Create a DataFrame for feature importances and sort them\n",
        "feature_importances_df = pd.DataFrame({\n",
        "    'Feature': feature_names,\n",
        "    'Importance': importances\n",
        "})\n",
        "feature_importances_df = feature_importances_df.sort_values(by='Importance', ascending=False)\n",
        "\n",
        "# Step 7: Print the top 5 most important features\n",
        "print(\"Top 5 most important features:\")\n",
        "print(feature_importances_df.head(5))\n"
      ],
      "metadata": {
        "colab": {
          "base_uri": "https://localhost:8080/"
        },
        "id": "y1VOzH0vHir_",
        "outputId": "8bfca283-0f81-457e-81c5-08f92ebfc4b9"
      },
      "execution_count": null,
      "outputs": [
        {
          "output_type": "stream",
          "name": "stdout",
          "text": [
            "Top 5 most important features:\n",
            "             Feature  Importance\n",
            "3   petal width (cm)    0.433982\n",
            "2  petal length (cm)    0.417308\n",
            "0  sepal length (cm)    0.104105\n",
            "1   sepal width (cm)    0.044605\n"
          ]
        }
      ]
    },
    {
      "cell_type": "markdown",
      "source": [
        "Q39) Train a Random Forest Classifier and analyze the effect of max_depth on accuracy?"
      ],
      "metadata": {
        "id": "nsXBq-kvHsOA"
      }
    },
    {
      "cell_type": "code",
      "source": [
        "# Step 1: Import necessary libraries\n",
        "import matplotlib.pyplot as plt\n",
        "from sklearn.datasets import load_iris\n",
        "from sklearn.model_selection import train_test_split\n",
        "from sklearn.ensemble import RandomForestClassifier\n",
        "from sklearn.metrics import accuracy_score\n",
        "\n",
        "# Step 2: Load the Iris dataset\n",
        "data = load_iris()\n",
        "X = data.data\n",
        "y = data.target\n",
        "\n",
        "# Step 3: Split the dataset into training and testing sets\n",
        "X_train, X_test, y_train, y_test = train_test_split(X, y, test_size=0.3, random_state=42)\n",
        "\n",
        "# Step 4: Initialize a list to store accuracy scores\n",
        "accuracies = []\n",
        "\n",
        "# Step 5: Train the Random Forest Classifier with different max_depth values\n",
        "max_depth_values = range(1, 21)  # Testing max_depth from 1 to 20\n",
        "\n",
        "for depth in max_depth_values:\n",
        "    rf_clf = RandomForestClassifier(max_depth=depth, random_state=42)\n",
        "    rf_clf.fit(X_train, y_train)\n",
        "    y_pred = rf_clf.predict(X_test)\n",
        "    accuracy = accuracy_score(y_test, y_pred)\n",
        "    accuracies.append(accuracy)\n",
        "\n",
        "# Step 6: Plot the accuracy vs max_depth\n",
        "plt.figure(figsize=(10, 6))\n",
        "plt.plot(max_depth_values, accuracies, marker='o', linestyle='-', color='b')\n",
        "plt.title('Effect of max_depth on Random Forest Classifier Accuracy')\n",
        "plt.xlabel('max_depth')\n",
        "plt.ylabel('Accuracy')\n",
        "plt.grid(True)\n",
        "plt.xticks(max_depth_values)\n",
        "plt.show()\n",
        "\n",
        "# Print the best max_depth and its corresponding accuracy\n",
        "best_depth = max_depth_values[accuracies.index(max(accuracies))]\n",
        "best_accuracy = max(accuracies)\n",
        "print(f\"Best max_depth: {best_depth} with accuracy: {best_accuracy:.4f}\")\n"
      ],
      "metadata": {
        "colab": {
          "base_uri": "https://localhost:8080/",
          "height": 581
        },
        "id": "QLUN0GiBH3Tl",
        "outputId": "8705b116-1898-49fe-bad5-868337058495"
      },
      "execution_count": null,
      "outputs": [
        {
          "output_type": "display_data",
          "data": {
            "text/plain": [
              "<Figure size 1000x600 with 1 Axes>"
            ],
            "image/png": "[encoded data removed]"
          },
          "metadata": {}
        },
        {
          "output_type": "stream",
          "name": "stdout",
          "text": [
            "Best max_depth: 1 with accuracy: 1.0000\n"
          ]
        }
      ]
    },
    {
      "cell_type": "markdown",
      "source": [
        "Q40) Train a Bagging Regressor using different base estimators (DecisionTree and KNeighbors) and compare\n",
        "performance?"
      ],
      "metadata": {
        "id": "m77KethBH6iM"
      }
    },
    {
      "cell_type": "code",
      "source": [
        "# Step 1: Import necessary libraries\n",
        "from sklearn.datasets import fetch_california_housing\n",
        "from sklearn.model_selection import train_test_split\n",
        "from sklearn.ensemble import BaggingRegressor\n",
        "from sklearn.tree import DecisionTreeRegressor\n",
        "from sklearn.neighbors import KNeighborsRegressor\n",
        "from sklearn.metrics import mean_squared_error, r2_score\n",
        "\n",
        "# Step 2: Load dataset\n",
        "X, y = fetch_california_housing(return_X_y=True)\n",
        "\n",
        "# Step 3: Train-test split\n",
        "X_train, X_test, y_train, y_test = train_test_split(X, y, test_size=0.2, random_state=42)\n",
        "\n",
        "# Step 4: Initialize base estimators\n",
        "tree = DecisionTreeRegressor(random_state=42)\n",
        "knn = KNeighborsRegressor()\n",
        "\n",
        "# Step 5: Train Bagging Regressors with different base estimators\n",
        "bagging_tree = BaggingRegressor(estimator=tree, n_estimators=50, random_state=42)\n",
        "bagging_knn = BaggingRegressor(estimator=knn, n_estimators=50, random_state=42)\n",
        "\n",
        "bagging_tree.fit(X_train, y_train)\n",
        "bagging_knn.fit(X_train, y_train)\n",
        "\n",
        "# Step 6: Predict and evaluate\n",
        "y_pred_tree = bagging_tree.predict(X_test)\n",
        "y_pred_knn = bagging_knn.predict(X_test)\n",
        "\n",
        "# Step 7: Compare performance\n",
        "mse_tree = mean_squared_error(y_test, y_pred_tree)\n",
        "mse_knn = mean_squared_error(y_test, y_pred_knn)\n",
        "\n",
        "r2_tree = r2_score(y_test, y_pred_tree)\n",
        "r2_knn = r2_score(y_test, y_pred_knn)\n",
        "\n",
        "print(\"=== Performance Comparison ===\")\n",
        "print(f\"Bagging (Decision Tree) - MSE: {mse_tree:.4f}, R² Score: {r2_tree:.4f}\")\n",
        "print(f\"Bagging (K-Neighbors)   - MSE: {mse_knn:.4f}, R² Score: {r2_knn:.4f}\")\n"
      ],
      "metadata": {
        "colab": {
          "base_uri": "https://localhost:8080/"
        },
        "id": "GGVmo7mFICrL",
        "outputId": "eb3e40e5-1d3a-4658-c6ce-b77f8982df70"
      },
      "execution_count": null,
      "outputs": [
        {
          "output_type": "stream",
          "name": "stdout",
          "text": [
            "=== Performance Comparison ===\n",
            "Bagging (Decision Tree) - MSE: 0.2573, R² Score: 0.8036\n",
            "Bagging (K-Neighbors)   - MSE: 1.0763, R² Score: 0.1787\n"
          ]
        }
      ]
    },
    {
      "cell_type": "markdown",
      "source": [
        " Q41) Train a Random Forest Classifier and evaluate its performance using ROC-AUC Score?"
      ],
      "metadata": {
        "id": "ia6R3UwAIKdW"
      }
    },
    {
      "cell_type": "code",
      "source": [
        "# Step 1: Import necessary libraries\n",
        "from sklearn.datasets import load_breast_cancer\n",
        "from sklearn.model_selection import train_test_split\n",
        "from sklearn.ensemble import RandomForestClassifier\n",
        "from sklearn.metrics import roc_auc_score, roc_curve\n",
        "import matplotlib.pyplot as plt\n",
        "\n",
        "# Step 2: Load dataset\n",
        "data = load_breast_cancer()\n",
        "X = data.data\n",
        "y = data.target\n",
        "\n",
        "# Step 3: Split dataset into train and test sets\n",
        "X_train, X_test, y_train, y_test = train_test_split(X, y, test_size=0.3, random_state=42)\n",
        "\n",
        "# Step 4: Train a Random Forest Classifier\n",
        "rf_clf = RandomForestClassifier(n_estimators=100, random_state=42)\n",
        "rf_clf.fit(X_train, y_train)\n",
        "\n",
        "# Step 5: Predict probabilities for the positive class\n",
        "y_proba = rf_clf.predict_proba(X_test)[:, 1]\n",
        "\n",
        "# Step 6: Calculate ROC-AUC Score\n",
        "roc_auc = roc_auc_score(y_test, y_proba)\n",
        "print(f\"ROC-AUC Score: {roc_auc:.4f}\")\n",
        "\n",
        "# Step 7: Plot ROC Curve\n",
        "fpr, tpr, _ = roc_curve(y_test, y_proba)\n",
        "plt.figure(figsize=(8, 5))\n",
        "plt.plot(fpr, tpr, label=f'Random Forest (AUC = {roc_auc:.2f})')\n",
        "plt.plot([0, 1], [0, 1], linestyle='--', color='gray')\n",
        "plt.xlabel('False Positive Rate')\n",
        "plt.ylabel('True Positive Rate')\n",
        "plt.title('ROC Curve - Random Forest Classifier')\n",
        "plt.legend()\n",
        "plt.grid(True)\n",
        "plt.show()\n"
      ],
      "metadata": {
        "colab": {
          "base_uri": "https://localhost:8080/",
          "height": 504
        },
        "id": "iVWfHmJiI39y",
        "outputId": "116844e5-5e3a-485f-e766-51d80a163c6d"
      },
      "execution_count": null,
      "outputs": [
        {
          "output_type": "stream",
          "name": "stdout",
          "text": [
            "ROC-AUC Score: 0.9968\n"
          ]
        },
        {
          "output_type": "display_data",
          "data": {
            "text/plain": [
              "<Figure size 800x500 with 1 Axes>"
            ],
            "image/png": "[encoded data removed]"
          },
          "metadata": {}
        }
      ]
    },
    {
      "cell_type": "markdown",
      "source": [
        "Q42) Train a Bagging Classifier and evaluate its performance using cross-validatio?"
      ],
      "metadata": {
        "id": "rKyWtENaI8JQ"
      }
    },
    {
      "cell_type": "code",
      "source": [
        "# Step 1: Import necessary libraries\n",
        "from sklearn.datasets import load_iris\n",
        "from sklearn.ensemble import BaggingClassifier\n",
        "from sklearn.tree import DecisionTreeClassifier\n",
        "from sklearn.model_selection import cross_val_score\n",
        "import numpy as np\n",
        "\n",
        "# Step 2: Load dataset\n",
        "X, y = load_iris(return_X_y=True)\n",
        "\n",
        "# Step 3: Initialize Bagging Classifier with Decision Tree base\n",
        "bagging_clf = BaggingClassifier(\n",
        "    estimator=DecisionTreeClassifier(),\n",
        "    n_estimators=50,\n",
        "    random_state=42\n",
        ")\n",
        "\n",
        "# Step 4: Evaluate performance using 5-fold cross-validation\n",
        "cv_scores = cross_val_score(bagging_clf, X, y, cv=5, scoring='accuracy')\n",
        "\n",
        "# Step 5: Print results\n",
        "print(\"Cross-Validation Scores:\", cv_scores)\n",
        "print(f\"Mean Accuracy: {np.mean(cv_scores):.4f}\")\n",
        "print(f\"Standard Deviation: {np.std(cv_scores):.4f}\")\n"
      ],
      "metadata": {
        "colab": {
          "base_uri": "https://localhost:8080/"
        },
        "id": "2hBpaV71JDFO",
        "outputId": "575b8c22-93d9-4fc1-a3cc-02c5b8050666"
      },
      "execution_count": null,
      "outputs": [
        {
          "output_type": "stream",
          "name": "stdout",
          "text": [
            "Cross-Validation Scores: [0.96666667 0.96666667 0.93333333 0.96666667 1.        ]\n",
            "Mean Accuracy: 0.9667\n",
            "Standard Deviation: 0.0211\n"
          ]
        }
      ]
    },
    {
      "cell_type": "markdown",
      "source": [
        "Q43) Train a Random Forest Classifier and plot the Precision-Recall curve?"
      ],
      "metadata": {
        "id": "KtmW8gbYJJDf"
      }
    },
    {
      "cell_type": "code",
      "source": [
        "# Step 1: Import libraries\n",
        "from sklearn.datasets import load_breast_cancer\n",
        "from sklearn.model_selection import train_test_split\n",
        "from sklearn.ensemble import RandomForestClassifier\n",
        "from sklearn.metrics import precision_recall_curve, average_precision_score\n",
        "import matplotlib.pyplot as plt\n",
        "\n",
        "# Step 2: Load dataset\n",
        "X, y = load_breast_cancer(return_X_y=True)\n",
        "\n",
        "# Step 3: Train-test split\n",
        "X_train, X_test, y_train, y_test = train_test_split(X, y, test_size=0.3, random_state=42)\n",
        "\n",
        "# Step 4: Train Random Forest Classifier\n",
        "rf_clf = RandomForestClassifier(n_estimators=100, random_state=42)\n",
        "rf_clf.fit(X_train, y_train)\n",
        "\n",
        "# Step 5: Get predicted probabilities for the positive class\n",
        "y_scores = rf_clf.predict_proba(X_test)[:, 1]\n",
        "\n",
        "# Step 6: Compute precision-recall values\n",
        "precision, recall, _ = precision_recall_curve(y_test, y_scores)\n",
        "average_precision = average_precision_score(y_test, y_scores)\n",
        "\n",
        "# Step 7: Plot Precision-Recall curve\n",
        "plt.figure(figsize=(8, 5))\n",
        "plt.plot(recall, precision, label=f'Random Forest (AP = {average_precision:.2f})', color='blue')\n",
        "plt.xlabel('Recall')\n",
        "plt.ylabel('Precision')\n",
        "plt.title('Precision-Recall Curve')\n",
        "plt.legend()\n",
        "plt.grid(True)\n",
        "plt.show()\n"
      ],
      "metadata": {
        "colab": {
          "base_uri": "https://localhost:8080/",
          "height": 487
        },
        "id": "vl1rz4BpJVdj",
        "outputId": "8de3eca4-625d-44b0-80ae-6aad0bf63c08"
      },
      "execution_count": null,
      "outputs": [
        {
          "output_type": "display_data",
          "data": {
            "text/plain": [
              "<Figure size 800x500 with 1 Axes>"
            ],
            "image/png": "[encoded data removed]"
          },
          "metadata": {}
        }
      ]
    },
    {
      "cell_type": "markdown",
      "source": [
        " Q44) Train a Stacking Classifier with Random Forest and Logistic Regression and compare accuracy?"
      ],
      "metadata": {
        "id": "l2zpM42bJXyd"
      }
    },
    {
      "cell_type": "code",
      "source": [
        "# Step 1: Import necessary libraries\n",
        "from sklearn.datasets import load_breast_cancer\n",
        "from sklearn.model_selection import train_test_split\n",
        "from sklearn.ensemble import RandomForestClassifier, StackingClassifier\n",
        "from sklearn.linear_model import LogisticRegression\n",
        "from sklearn.metrics import accuracy_score\n",
        "\n",
        "# Step 2: Load dataset\n",
        "X, y = load_breast_cancer(return_X_y=True)\n",
        "\n",
        "# Step 3: Train-test split\n",
        "X_train, X_test, y_train, y_test = train_test_split(X, y, test_size=0.3, random_state=42)\n",
        "\n",
        "# Step 4: Define base and final estimators\n",
        "base_learners = [\n",
        "    ('rf', RandomForestClassifier(n_estimators=100, random_state=42)),\n",
        "    ('lr', LogisticRegression(max_iter=1000, random_state=42))\n",
        "]\n",
        "\n",
        "final_estimator = LogisticRegression(max_iter=1000, random_state=42)\n",
        "\n",
        "# Step 5: Create Stacking Classifier\n",
        "stacking_clf = StackingClassifier(estimators=base_learners, final_estimator=final_estimator, cv=5)\n",
        "stacking_clf.fit(X_train, y_train)\n",
        "\n",
        "# Step 6: Fit individual models for comparison\n",
        "rf = RandomForestClassifier(n_estimators=100, random_state=42)\n",
        "lr = LogisticRegression(max_iter=1000, random_state=42)\n",
        "\n",
        "rf.fit(X_train, y_train)\n",
        "lr.fit(X_train, y_train)\n",
        "\n",
        "# Step 7: Predict and compare accuracy\n",
        "stack_acc = accuracy_score(y_test, stacking_clf.predict(X_test))\n",
        "rf_acc = accuracy_score(y_test, rf.predict(X_test))\n",
        "lr_acc = accuracy_score(y_test, lr.predict(X_test))\n",
        "\n",
        "print(f\"Accuracy - Stacking Classifier: {stack_acc:.4f}\")\n",
        "print(f\"Accuracy - Random Forest:       {rf_acc:.4f}\")\n",
        "print(f\"Accuracy - Logistic Regression: {lr_acc:.4f}\")\n"
      ],
      "metadata": {
        "colab": {
          "base_uri": "https://localhost:8080/"
        },
        "id": "bel0bILIJgVs",
        "outputId": "0174d934-4e7c-4d2b-873f-8c79d562bf9f"
      },
      "execution_count": null,
      "outputs": [
        {
          "output_type": "stream",
          "name": "stderr",
          "text": [
            "/usr/local/lib/python3.11/dist-packages/sklearn/linear_model/_logistic.py:465: ConvergenceWarning: lbfgs failed to converge (status=1):\n",
            "STOP: TOTAL NO. of ITERATIONS REACHED LIMIT.\n",
            "\n",
            "Increase the number of iterations (max_iter) or scale the data as shown in:\n",
            "    https://scikit-learn.org/stable/modules/preprocessing.html\n",
            "Please also refer to the documentation for alternative solver options:\n",
            "    https://scikit-learn.org/stable/modules/linear_model.html#logistic-regression\n",
            "  n_iter_i = _check_optimize_result(\n",
            "/usr/local/lib/python3.11/dist-packages/sklearn/linear_model/_logistic.py:465: ConvergenceWarning: lbfgs failed to converge (status=1):\n",
            "STOP: TOTAL NO. of ITERATIONS REACHED LIMIT.\n",
            "\n",
            "Increase the number of iterations (max_iter) or scale the data as shown in:\n",
            "    https://scikit-learn.org/stable/modules/preprocessing.html\n",
            "Please also refer to the documentation for alternative solver options:\n",
            "    https://scikit-learn.org/stable/modules/linear_model.html#logistic-regression\n",
            "  n_iter_i = _check_optimize_result(\n",
            "/usr/local/lib/python3.11/dist-packages/sklearn/linear_model/_logistic.py:465: ConvergenceWarning: lbfgs failed to converge (status=1):\n",
            "STOP: TOTAL NO. of ITERATIONS REACHED LIMIT.\n",
            "\n",
            "Increase the number of iterations (max_iter) or scale the data as shown in:\n",
            "    https://scikit-learn.org/stable/modules/preprocessing.html\n",
            "Please also refer to the documentation for alternative solver options:\n",
            "    https://scikit-learn.org/stable/modules/linear_model.html#logistic-regression\n",
            "  n_iter_i = _check_optimize_result(\n",
            "/usr/local/lib/python3.11/dist-packages/sklearn/linear_model/_logistic.py:465: ConvergenceWarning: lbfgs failed to converge (status=1):\n",
            "STOP: TOTAL NO. of ITERATIONS REACHED LIMIT.\n",
            "\n",
            "Increase the number of iterations (max_iter) or scale the data as shown in:\n",
            "    https://scikit-learn.org/stable/modules/preprocessing.html\n",
            "Please also refer to the documentation for alternative solver options:\n",
            "    https://scikit-learn.org/stable/modules/linear_model.html#logistic-regression\n",
            "  n_iter_i = _check_optimize_result(\n",
            "/usr/local/lib/python3.11/dist-packages/sklearn/linear_model/_logistic.py:465: ConvergenceWarning: lbfgs failed to converge (status=1):\n",
            "STOP: TOTAL NO. of ITERATIONS REACHED LIMIT.\n",
            "\n",
            "Increase the number of iterations (max_iter) or scale the data as shown in:\n",
            "    https://scikit-learn.org/stable/modules/preprocessing.html\n",
            "Please also refer to the documentation for alternative solver options:\n",
            "    https://scikit-learn.org/stable/modules/linear_model.html#logistic-regression\n",
            "  n_iter_i = _check_optimize_result(\n",
            "/usr/local/lib/python3.11/dist-packages/sklearn/linear_model/_logistic.py:465: ConvergenceWarning: lbfgs failed to converge (status=1):\n",
            "STOP: TOTAL NO. of ITERATIONS REACHED LIMIT.\n",
            "\n",
            "Increase the number of iterations (max_iter) or scale the data as shown in:\n",
            "    https://scikit-learn.org/stable/modules/preprocessing.html\n",
            "Please also refer to the documentation for alternative solver options:\n",
            "    https://scikit-learn.org/stable/modules/linear_model.html#logistic-regression\n",
            "  n_iter_i = _check_optimize_result(\n"
          ]
        },
        {
          "output_type": "stream",
          "name": "stdout",
          "text": [
            "Accuracy - Stacking Classifier: 0.9708\n",
            "Accuracy - Random Forest:       0.9708\n",
            "Accuracy - Logistic Regression: 0.9708\n"
          ]
        },
        {
          "output_type": "stream",
          "name": "stderr",
          "text": [
            "/usr/local/lib/python3.11/dist-packages/sklearn/linear_model/_logistic.py:465: ConvergenceWarning: lbfgs failed to converge (status=1):\n",
            "STOP: TOTAL NO. of ITERATIONS REACHED LIMIT.\n",
            "\n",
            "Increase the number of iterations (max_iter) or scale the data as shown in:\n",
            "    https://scikit-learn.org/stable/modules/preprocessing.html\n",
            "Please also refer to the documentation for alternative solver options:\n",
            "    https://scikit-learn.org/stable/modules/linear_model.html#logistic-regression\n",
            "  n_iter_i = _check_optimize_result(\n"
          ]
        }
      ]
    },
    {
      "cell_type": "markdown",
      "source": [
        " Q45) Train a Bagging Regressor with different levels of bootstrap samples and compare performance?"
      ],
      "metadata": {
        "id": "UEKjr_6IJm4H"
      }
    },
    {
      "cell_type": "code",
      "source": [
        "# Step 1: Import necessary libraries\n",
        "from sklearn.datasets import fetch_california_housing\n",
        "from sklearn.ensemble import BaggingRegressor\n",
        "from sklearn.tree import DecisionTreeRegressor\n",
        "from sklearn.model_selection import train_test_split\n",
        "from sklearn.metrics import mean_squared_error\n",
        "import numpy as np\n",
        "\n",
        "# Step 2: Load dataset\n",
        "X, y = fetch_california_housing(return_X_y=True)\n",
        "\n",
        "# Step 3: Train-test split\n",
        "X_train, X_test, y_train, y_test = train_test_split(X, y, test_size=0.3, random_state=42)\n",
        "\n",
        "# Step 4: Try different bootstrap sample sizes\n",
        "sample_sizes = [0.4, 0.6, 0.8, 1.0]\n",
        "results = {}\n",
        "\n",
        "for size in sample_sizes:\n",
        "    bagging_regressor = BaggingRegressor(\n",
        "        estimator=DecisionTreeRegressor(),\n",
        "        n_estimators=50,\n",
        "        max_samples=size,\n",
        "        random_state=42\n",
        "    )\n",
        "    bagging_regressor.fit(X_train, y_train)\n",
        "    y_pred = bagging_regressor.predict(X_test)\n",
        "    mse = mean_squared_error(y_test, y_pred)\n",
        "    results[size] = mse\n",
        "    print(f\"max_samples = {size} --> MSE: {mse:.4f}\")\n"
      ],
      "metadata": {
        "colab": {
          "base_uri": "https://localhost:8080/"
        },
        "id": "BXaaNyNCJwJN",
        "outputId": "ebee0104-cb6c-4387-fc63-7badb68e0eb8"
      },
      "execution_count": null,
      "outputs": [
        {
          "output_type": "stream",
          "name": "stdout",
          "text": [
            "max_samples = 0.4 --> MSE: 0.2749\n",
            "max_samples = 0.6 --> MSE: 0.2646\n",
            "max_samples = 0.8 --> MSE: 0.2617\n",
            "max_samples = 1.0 --> MSE: 0.2579\n"
          ]
        }
      ]
    }
  ]
}