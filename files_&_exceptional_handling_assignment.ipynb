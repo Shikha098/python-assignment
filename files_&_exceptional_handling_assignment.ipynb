{
  "nbformat": 4,
  "nbformat_minor": 0,
  "metadata": {
    "colab": {
      "provenance": [],
      "authorship_tag": "ABX9TyNK3vONQ1G6JfIHf/ODdAYY",
      "include_colab_link": true
    },
    "kernelspec": {
      "name": "python3",
      "display_name": "Python 3"
    },
    "language_info": {
      "name": "python"
    }
  },
  "cells": [
    {
      "cell_type": "markdown",
      "metadata": {
        "id": "view-in-github",
        "colab_type": "text"
      },
      "source": [
        "<a href=\"https://colab.research.google.com/github/Shikha098/python-assignment/blob/main/files_%26_exceptional_handling_assignment.ipynb\" target=\"_parent\"><img src=\"https://colab.research.google.com/assets/colab-badge.svg\" alt=\"Open In Colab\"/></a>"
      ]
    },
    {
      "cell_type": "code",
      "execution_count": null,
      "metadata": {
        "id": "HZoik1cH92gD"
      },
      "outputs": [],
      "source": [
        "#Questions and answers"
      ]
    },
    {
      "cell_type": "markdown",
      "source": [
        "# **THEORY**"
      ],
      "metadata": {
        "id": "RBMVTizdTU99"
      }
    },
    {
      "cell_type": "markdown",
      "source": [
        "# 1) What is the difference between interpreted and compiled languages?"
      ],
      "metadata": {
        "id": "AEuuAlVh-ASi"
      }
    },
    {
      "cell_type": "markdown",
      "source": [
        "The main difference between interpreted and compiled languages is how the code is executed:\n",
        "\n",
        "Compiled languages :-\n",
        "\n",
        "The entire code is converted into machine code before execution. This means that the code is only compiled once, and then it can be executed repeatedly. Compiled languages are generally faster and more efficient than interpreted languages.\n",
        "\n",
        "Interpreted languages :-\n",
        "\n",
        "The code is executed line by line, and is compiled on the fly each time the program is run. This means that the code must be parsed, interpreted, and executed each time the program is run. Interpreted languages offer more flexibility for modifying and testing code."
      ],
      "metadata": {
        "id": "YWUOg2GI-JXo"
      }
    },
    {
      "cell_type": "markdown",
      "source": [
        "# 2) What is exception handling in Python?"
      ],
      "metadata": {
        "id": "bABXtoOs-q7k"
      }
    },
    {
      "cell_type": "markdown",
      "source": [
        "Exception handling in Python is a way to manage and respond to errors that occur during a program's execution. It's a crucial part of writing reliable Python code and improves the program's user experience.\n",
        "\n",
        "Here's what exception handling in Python involves:\n",
        "\n",
        "Identifying errors :-\n",
        "\n",
        "Errors, also known as exceptions, can occur for many reasons, including invalid input, file handling issues, and network problems.\n",
        "\n",
        "Handling errors :-\n",
        "\n",
        "Programmers use a special block of code called a try...except block to handle exceptions. The try block runs the code, and the except block executes when an exception occurs.\n",
        "\n",
        "Preventing program termination :-\n",
        "\n",
        "Exception handling allows the program to continue running or exit gracefully instead of terminating.\n",
        "\n",
        "Providing error messages :-\n",
        "The program can provide meaningful error messages to the user."
      ],
      "metadata": {
        "id": "nyGCYuMw-z5P"
      }
    },
    {
      "cell_type": "markdown",
      "source": [
        "# 3) What is the purpose of the finally block in exception handling?"
      ],
      "metadata": {
        "id": "U5iPNRZy_uIr"
      }
    },
    {
      "cell_type": "markdown",
      "source": [
        "The purpose of the finally block in exception handling is to ensure that important code is executed, regardless of whether an exception is thrown:\n",
        "\n",
        "Resource cleanup :-\n",
        "The finally block is used to close resources, such as files, database connections, or network sockets, to prevent resource leaks and improve system stability.\n",
        "\n",
        "Avoid bypassing cleanup code :-\n",
        "The finally block ensures that cleanup code is not accidentally bypassed by a return, continue, or break.\n",
        "\n",
        "Execute code even if catch statement is missing :-\n",
        "The finally block will still be executed even if the catch statement is missing and an exception is thrown."
      ],
      "metadata": {
        "id": "P8amp8nUBMwR"
      }
    },
    {
      "cell_type": "markdown",
      "source": [
        "# 4) What is logging in Python?"
      ],
      "metadata": {
        "id": "EvQqzHKyDCAP"
      }
    },
    {
      "cell_type": "markdown",
      "source": [
        "Python logging is a module that allows you to track events that occur while your program is running. You can use logging to record information about errors, warnings, and other events that occur during program execution. And logging is a useful tool for debugging, troubleshooting, and monitoring your program."
      ],
      "metadata": {
        "id": "yUYuQQDyDkuY"
      }
    },
    {
      "cell_type": "markdown",
      "source": [
        "# 5) What is the significance of the __del__ method in Python?"
      ],
      "metadata": {
        "id": "M0QmshWrDwdx"
      }
    },
    {
      "cell_type": "markdown",
      "source": [
        "The del keyword is used to delete objects. In Python everything is an object, so the del keyword can also be used to delete variables, lists, or parts of a list etc."
      ],
      "metadata": {
        "id": "wKXOtz9YD51m"
      }
    },
    {
      "cell_type": "markdown",
      "source": [
        "# 6) What is the difference between import and from ... import in Python?"
      ],
      "metadata": {
        "id": "aToYIWN4EE1h"
      }
    },
    {
      "cell_type": "markdown",
      "source": [
        "The difference between import and from import in Python is: import imports an entire code library. from import imports a specific member or members of the library."
      ],
      "metadata": {
        "id": "568faqbCERZK"
      }
    },
    {
      "cell_type": "markdown",
      "source": [
        "# 7) How can you handle multiple exceptions in Python?"
      ],
      "metadata": {
        "id": "HQGc-dVUEX8c"
      }
    },
    {
      "cell_type": "markdown",
      "source": [
        "In Python, you can handle multiple exceptions in a single except block by specifying them as a tuple. This is useful when different exceptions require similar handling logic."
      ],
      "metadata": {
        "id": "J53U_LvNEe_9"
      }
    },
    {
      "cell_type": "markdown",
      "source": [
        "# 8) What is the purpose of the with statement when handling files in Python?"
      ],
      "metadata": {
        "id": "cBZyFuTCEvce"
      }
    },
    {
      "cell_type": "markdown",
      "source": [
        "In Python, the with statement replaces a try-catch block with a concise shorthand. More importantly, it ensures closing resources right after processing them. A common example of using the with statement is reading or writing to a file. A function or class that supports the with statement is known as a context manager."
      ],
      "metadata": {
        "id": "2mZQIvR2FDHp"
      }
    },
    {
      "cell_type": "markdown",
      "source": [
        "# 9) What is the difference between multithreading and multiprocessing?"
      ],
      "metadata": {
        "id": "XvvPk4N6FUQm"
      }
    },
    {
      "cell_type": "markdown",
      "source": [
        "The main difference between multithreading and multiprocessing is that multithreading uses a single process to create multiple threads, while multiprocessing uses multiple processors to run multiple processes:\n",
        "\n",
        "Multithreading :-\n",
        "A single process creates multiple threads that run concurrently and share the process's resources. Multithreading is good for I/O bound tasks, like getting and storing data.\n",
        "\n",
        "Multiprocessing :-\n",
        "A system uses multiple processors to run multiple processes, each with its own resources. Multiprocessing is good for CPU bound tasks, like processing data.\n",
        "Here are some other differences between multithreading and multiprocessing:\n",
        "\n",
        "Address space :-\n",
        "Multithreading uses a common address space for all threads, while multiprocessing creates a separate address space for each process.\n",
        "\n",
        "Resource requirements :-\n",
        "Multithreading is quick to create and requires few resources, while multiprocessing requires a significant amount of time and specific resources to create.\n",
        "\n",
        "Reliability :-\n",
        "Multiprocessing is used to create a more reliable system.\n",
        "\n",
        "Parallelism vs concurrency :-\n",
        "Multiprocessing more closely resembles parallelism, while multithreading more closely resembles concurrency."
      ],
      "metadata": {
        "id": "Quu_3-xtFfKt"
      }
    },
    {
      "cell_type": "markdown",
      "source": [
        "# 10) What are the advantages of using logging in a program?"
      ],
      "metadata": {
        "id": "8DYOW9xSGJJM"
      }
    },
    {
      "cell_type": "markdown",
      "source": [
        "Logging in a program has many advantages, including:\n",
        "\n",
        "Troubleshooting: Logging can help identify the root cause of problems in an application. For example, when an exception occurs, the application's error log may record the full stack trace.\n",
        "\n",
        "Monitoring: Logging can help monitor a program's performance.\n",
        "\n",
        "Security: Logging can help identify unauthorized access to a system by recording login attempts.\n",
        "\n",
        "Compliance: Logging can help ensure compliance with security and other standards.\n",
        "\n",
        "Transparency: Logging can increase transparency throughout a system.\n",
        "\n",
        "Customer experience: Logging can help improve customer experience.\n",
        "\n",
        "Response time: Logging can help reduce the time it takes to fix issues."
      ],
      "metadata": {
        "id": "v8PG7lnlGegg"
      }
    },
    {
      "cell_type": "markdown",
      "source": [
        "# 11) What is memory management in Python?"
      ],
      "metadata": {
        "id": "r_N6QabZHAMA"
      }
    },
    {
      "cell_type": "markdown",
      "source": [
        "Memory management in Python is the process of automatically allocating and de-allocating memory so that programs can run efficiently.\n",
        "\n",
        "Automatic :-\n",
        "\n",
        "Python handles memory management automatically, unlike other languages like C or C++ where programmers must manually allocate and deallocate memory.\n",
        "\n",
        "Reference counting :-\n",
        "\n",
        "Python uses reference counting to manage objects. The memory manager keeps track of how many references each object has. When an object's reference count drops to zero, the garbage collector frees the memory for that object."
      ],
      "metadata": {
        "id": "bZ3eCNcOHrS2"
      }
    },
    {
      "cell_type": "markdown",
      "source": [
        "# 12) What are the basic steps involved in exception handling in Python?"
      ],
      "metadata": {
        "id": "ft-gXkH8I2GA"
      }
    },
    {
      "cell_type": "markdown",
      "source": [
        "The basic steps for exception handling in Python are to use the try and except statements:\n",
        "\n",
        "Try: Put the code that might raise an exception in the try block.\n",
        "\n",
        "Except: If an exception is raised in the try block, Python will jump to the except block to handle the error."
      ],
      "metadata": {
        "id": "hPSdRZqNJHqI"
      }
    },
    {
      "cell_type": "markdown",
      "source": [
        "# 13) Why is memory management important in Python?"
      ],
      "metadata": {
        "id": "RtafRXydJhQD"
      }
    },
    {
      "cell_type": "markdown",
      "source": [
        "Memory management is important in Python because it helps ensure that your code is efficient and runs smoothly.\n",
        "\n",
        "Reduces crashes and errors :\n",
        "Effective memory management helps prevent errors and crashes in your code.\n",
        "\n",
        "Improves processing speed :\n",
        "Memory-efficient code reduces the demand on other system resources, which can increase processing speeds.\n",
        "\n",
        "Prevents memory leaks :\n",
        "Memory leaks can cause programs to run slower and can lead to increased testing and debugging time.\n",
        "\n",
        "Reduces RAM usage :\n",
        "Writing memory-efficient code can reduce the amount of random access memory (RAM) used."
      ],
      "metadata": {
        "id": "jQUiZv-VJrhT"
      }
    },
    {
      "cell_type": "markdown",
      "source": [
        "# 14) What is the role of try and except in exception handling?"
      ],
      "metadata": {
        "id": "GtdrOSLiKoOu"
      }
    },
    {
      "cell_type": "markdown",
      "source": [
        "The try block lets you test a block of code for errors. The except block lets you handle the error. The else block lets you execute code when there is no error. The finally block lets you execute code, regardless of the result of the try- and except blocks."
      ],
      "metadata": {
        "id": "SuyFL_iCK2Xx"
      }
    },
    {
      "cell_type": "markdown",
      "source": [
        "# 15) How does Python's garbage collection system work?"
      ],
      "metadata": {
        "id": "0lCVZgWeK-IT"
      }
    },
    {
      "cell_type": "markdown",
      "source": [
        "Python's garbage collection system uses a combination of reference counting and generational garbage collection to automatically manage memory.\n",
        "\n",
        "Reference counting -\n",
        "Tracks how many references an object has. When an object is created, its reference count is set to one. When another variable or data structure refers to the same object, the reference count increases. When the reference count is zero, the object is deleted.\n",
        "\n",
        "Generational garbage collection -\n",
        "Segregates objects into three generations: Generation 0, Generation 1, and Generation 2. New objects start in Generation 0. Objects that survive a collection of their generation are moved to Generation 1, and so on. The garbage collector only triggers a full collection of the oldest generation when the ratio of long_lived_pending to long_lived_total is above a certain value."
      ],
      "metadata": {
        "id": "XIcegsc2LMtz"
      }
    },
    {
      "cell_type": "markdown",
      "source": [
        "# 16) What is the purpose of the else block in exception handling?"
      ],
      "metadata": {
        "id": "EQ22TGXwLkzK"
      }
    },
    {
      "cell_type": "markdown",
      "source": [
        "The try block lets you test a block of code for errors. The except block lets you handle the error. The else block lets you execute code when there is no error."
      ],
      "metadata": {
        "id": "ySf9VsZiL1L4"
      }
    },
    {
      "cell_type": "markdown",
      "source": [
        "# 17) What are the common logging levels in Python?"
      ],
      "metadata": {
        "id": "cLzkIo6aMBHt"
      }
    },
    {
      "cell_type": "markdown",
      "source": [
        "\n",
        "\n",
        "Python's logging module has six standard logging levels that indicate the severity of an event.\n",
        "\n",
        "Notset: The default setting of a log.\n",
        "\n",
        "Debug: The least threatening level, used to provide detailed information for diagnosing issues.\n",
        "\n",
        "Info: Confirmation that the application is functioning as expected\n",
        "Warning: Needs attention, indicating that something unexpected occurred or a potential problem might arise soon.\n",
        "\n",
        "Error: Needs immediate attention, indicating a significant issue that has prevented certain functions from executing.\n",
        "\n",
        "Critical: Means \"drop everything and find out what's wrong\", indicating a severe error suggesting that the program may be unable to continue running."
      ],
      "metadata": {
        "id": "Ugv5CtHSMJB7"
      }
    },
    {
      "cell_type": "markdown",
      "source": [
        "# 18) What is the difference between os.fork() and multiprocessing in Python?"
      ],
      "metadata": {
        "id": "3oXHFXsjM6Ko"
      }
    },
    {
      "cell_type": "markdown",
      "source": [
        "In Python, both os.fork() and the multiprocessing module are used to create and manage processes, but they differ significantly in how they work, their use cases, and their behavior.\n",
        "\n",
        "os.fork() :-\n",
        "\n",
        "System Call: os.fork() is a low-level system call available on Unix-like operating systems (such as Linux and macOS). It creates a child process by duplicating the calling (parent) process. The child process gets a copy of the parent’s memory space.\n",
        "\n",
        "Multiprocessing Module :-\n",
        "\n",
        "High-Level Abstraction: The multiprocessing module provides a higher-level, cross-platform (works on Windows, Linux, macOS) way to create and manage processes. It abstracts away much of the complexity associated with managing processes directly (such as memory sharing, synchronization, and communication).\n",
        "\n"
      ],
      "metadata": {
        "id": "L8OGJrG6NLIj"
      }
    },
    {
      "cell_type": "markdown",
      "source": [
        "# 19) What is the importance of closing a file in Python?"
      ],
      "metadata": {
        "id": "4bxDXkA0OY8b"
      }
    },
    {
      "cell_type": "markdown",
      "source": [
        "It's important to close files in Python because files are limited resources managed by the operating system, making sure files are closed after use will protect against hard-to-debug issues like running out of file handles or experiencing corrupted data."
      ],
      "metadata": {
        "id": "odskPbtnOmhR"
      }
    },
    {
      "cell_type": "markdown",
      "source": [
        "# 20) What is the difference between file.read() and file.readline() in Python?"
      ],
      "metadata": {
        "id": "uEa59_vZPuyO"
      }
    },
    {
      "cell_type": "markdown",
      "source": [
        "In Python, the `read()` method is used to read a specified number of characters from a file or input stream, while the `readline()` method is used to read a single line from a file or input stream. The `read()` method will read the entire content of the file or stream if no argument is provided, returning a string."
      ],
      "metadata": {
        "id": "MOQmACXYP64m"
      }
    },
    {
      "cell_type": "markdown",
      "source": [
        "# 21) What is the logging module in Python used for?"
      ],
      "metadata": {
        "id": "cV3hmu9xQNPS"
      }
    },
    {
      "cell_type": "markdown",
      "source": [
        "Python logging is a module that allows you to track events that occur while your program is running. You can use logging to record information about errors, warnings, and other events that occur during program execution. And logging is a useful tool for debugging, troubleshooting, and monitoring your program."
      ],
      "metadata": {
        "id": "cAs9tI5lQVVQ"
      }
    },
    {
      "cell_type": "markdown",
      "source": [
        "# 22) What is the os module in Python used for in file handling?"
      ],
      "metadata": {
        "id": "jbURBdlYQeD1"
      }
    },
    {
      "cell_type": "markdown",
      "source": [
        "Python has a built-in os module with methods for interacting with the operating system, like creating files and directories, management of files and directories, input, output, environment variables, process management, etc."
      ],
      "metadata": {
        "id": "HXFH8Ft9Q1Um"
      }
    },
    {
      "cell_type": "markdown",
      "source": [
        "# 23) What are the challenges associated with memory management in Python?"
      ],
      "metadata": {
        "id": "vPttpMA9Q85L"
      }
    },
    {
      "cell_type": "markdown",
      "source": [
        "Here are some challenges associated with memory management in Python:\n",
        "\n",
        "Slower program runtimes :-\n",
        "Python may sometimes hold freed memory in the interpreter instead of freeing it up for the operating system.\n",
        "\n",
        "Memory leaks :-\n",
        "Memory leaks can occur when references to objects are not released properly, or if circular references are created and not caught by the garbage collector.\n",
        "\n",
        "Lack of memory protection :-\n",
        "A program running out of memory may crash, run slowly, freeze, or get silently killed.\n",
        "\n",
        "Improper memory management :-\n",
        "Improper memory management can slow down application and server components."
      ],
      "metadata": {
        "id": "aP6C8mN2RGYR"
      }
    },
    {
      "cell_type": "markdown",
      "source": [
        "# 24) How do you raise an exception manually in Python?"
      ],
      "metadata": {
        "id": "c3jyZR-TRoYJ"
      }
    },
    {
      "cell_type": "markdown",
      "source": [
        "As a Python developer you can choose to throw an exception if a condition occurs. To throw (or raise) an exception, use the raise keyword. The general form of raise statements are described in the Python docs. The most common use of raise constructs an exception instance and raises it. When an exception is raised, no further statements in the current block of code are executed."
      ],
      "metadata": {
        "id": "W18C3ENZR6y7"
      }
    },
    {
      "cell_type": "markdown",
      "source": [
        "# 25) Why is it important to use multithreading in certain applications?"
      ],
      "metadata": {
        "id": "wuSP8jfXSI_Q"
      }
    },
    {
      "cell_type": "markdown",
      "source": [
        "Multithreading is important in certain applications because it improves performance, responsiveness, and resource utilization.\n",
        "\n",
        "Performance :-\n",
        "Multithreading allows a program to use multiple CPU cores or processors, which improves performance as the workload increases. For example, a web server can use multiple threads to process data requests simultaneously.\n",
        "\n",
        "Responsiveness :-\n",
        "Multithreading can improve the responsiveness of backend applications by running threads after a task is blocked.\n",
        "\n",
        "Resource utilization :-\n",
        "Multithreading allows for better utilization of available hardware resources.\n",
        "\n",
        "Program structure :-\n",
        "Multithreading can simplify the structure of a program."
      ],
      "metadata": {
        "id": "F56QoAwzSgbF"
      }
    },
    {
      "cell_type": "markdown",
      "source": [
        "# **Practical Question**"
      ],
      "metadata": {
        "id": "IraDpnUNTkVz"
      }
    },
    {
      "cell_type": "markdown",
      "source": [
        "# 1) How can you open a file for writing in Python and write a string to it?"
      ],
      "metadata": {
        "id": "yUuOWxiaz0ik"
      }
    },
    {
      "cell_type": "markdown",
      "source": [
        "In Python, you can open a file for writing using the open() function and specify the mode as 'w' for write or 'a' for append. To write a string to the file, you use the write() method.\n"
      ],
      "metadata": {
        "id": "6M45Iv9Sz91F"
      }
    },
    {
      "cell_type": "code",
      "source": [
        "#Example: Opening a file and writing a string to it\n",
        "\n",
        "# Open a file in write mode ('w')\n",
        "with open(\"example.txt\", \"w\") as file:\n",
        "    file.write(\"Hello, world!\")"
      ],
      "metadata": {
        "id": "xCUA-02A0cLs"
      },
      "execution_count": null,
      "outputs": []
    },
    {
      "cell_type": "markdown",
      "source": [
        "Explanation:\n",
        "open(\"example.txt\", \"w\"):\n",
        "\n",
        "\"example.txt\": The name of the file you want to open. If the file doesn't exist, it will be created.\n",
        "\"w\": The mode in which the file is opened. 'w' stands for write mode, which creates a new file or truncates the file (if it already exists).\n",
        "with statement: This is used for automatic resource management. It ensures that the file is properly closed when you're done, even if an exception occurs.\n",
        "\n",
        "file.write(\"Hello, world!\"): This writes the string \"Hello, world!\" to the file. If you open the file in write mode ('w'), it will overwrite the existing content in the file."
      ],
      "metadata": {
        "id": "SvwIhOS309I4"
      }
    },
    {
      "cell_type": "markdown",
      "source": [
        "# 2) Write a Python program to read the contents of a file and print each line."
      ],
      "metadata": {
        "id": "vO-Bgq6G1H7h"
      }
    },
    {
      "cell_type": "code",
      "source": [
        "def read_and_print_file(file_path):\n",
        "    try:\n",
        "        with open(file_path, 'r') as file:  # Open the file in read mode\n",
        "            for line in file:              # Iterate through each line in the file\n",
        "                print(line.strip())        # Print the line, removing extra whitespace\n",
        "    except FileNotFoundError:\n",
        "        print(f\"Error: The file '{file_path}' does not exist.\")\n",
        "    except Exception as e:\n",
        "        print(f\"An error occurred: {e}\")\n",
        "\n",
        "# Example usage\n",
        "file_path = input(\"Enter the path to the file: \")\n",
        "read_and_print_file(file_path)"
      ],
      "metadata": {
        "id": "YqjSCFSc1n0a"
      },
      "execution_count": null,
      "outputs": []
    },
    {
      "cell_type": "markdown",
      "source": [
        "How it works:\n",
        "with open(file_path, 'r'): Opens the file in read mode.\n",
        "for line in file: Loops through each line in the file.\n",
        "print(line.strip()): Prints each line after stripping any trailing whitespace.\n",
        "Exception handling: Handles scenarios where the file doesn't exist or other errors occur.\n",
        "You can replace input(\"Enter the path to the file: \") with a hardcoded file path if testing with a specific file."
      ],
      "metadata": {
        "id": "OIptYuh31toE"
      }
    },
    {
      "cell_type": "markdown",
      "source": [
        "# 3) How would you handle a case where the file doesn't exist while trying to open it for reading?"
      ],
      "metadata": {
        "id": "9ZV8ZtUC135v"
      }
    },
    {
      "cell_type": "markdown",
      "source": [
        "To handle the case where the file doesn't exist while trying to open it for reading, you can use Python's exception handling with a try-except block. Specifically, catch the FileNotFoundError exception and provide an appropriate response."
      ],
      "metadata": {
        "id": "wzRXUc3v2Lq2"
      }
    },
    {
      "cell_type": "code",
      "source": [
        "#Here’s an example:\n",
        "\n",
        "def read_and_print_file(file_path):\n",
        "    try:\n",
        "        with open(file_path, 'r') as file:  # Attempt to open the file in read mode\n",
        "            for line in file:              # Iterate through each line\n",
        "                print(line.strip())        # Print the line, removing extra whitespace\n",
        "    except FileNotFoundError:              # Handle the case where the file doesn't exist\n",
        "        print(f\"Error: The file '{file_path}' does not exist.\")\n",
        "    except Exception as e:                 # Handle other potential exceptions\n",
        "        print(f\"An unexpected error occurred: {e}\")\n",
        "\n",
        "# Example usage\n",
        "file_path = input(\"Enter the path to the file: \")\n",
        "read_and_print_file(file_path)"
      ],
      "metadata": {
        "id": "cnEGJXT_2QjU"
      },
      "execution_count": null,
      "outputs": []
    },
    {
      "cell_type": "markdown",
      "source": [
        "How it works:\n",
        "try block: Attempts to open and read the file.\n",
        "FileNotFoundError: Specifically catches the error when the file is not found and displays a user-friendly error message.\n",
        "Generic except block: Catches any other unexpected exceptions and reports them to the user.\n",
        "By including this error handling, the program gracefully informs the user about the issue instead of crashing with an unhandled exception."
      ],
      "metadata": {
        "id": "ji7vdavf2Y7g"
      }
    },
    {
      "cell_type": "markdown",
      "source": [
        "# 4) Write a Python script that reads from one file and writes its content to another file."
      ],
      "metadata": {
        "id": "3fcuhwNw2iAK"
      }
    },
    {
      "cell_type": "code",
      "source": [
        "#Here’s a Python script that reads the contents of one file and writes them to another file:\n",
        "\n",
        "def copy_file(source_file, destination_file):\n",
        "    try:\n",
        "        # Open the source file for reading and the destination file for writing\n",
        "        with open(source_file, 'r') as src, open(destination_file, 'w') as dest:\n",
        "            for line in src:\n",
        "                dest.write(line)  # Write each line from the source to the destination file\n",
        "        print(f\"Contents of '{source_file}' have been successfully copied to '{destination_file}'.\")\n",
        "    except FileNotFoundError:\n",
        "        print(f\"Error: The file '{source_file}' does not exist.\")\n",
        "    except Exception as e:\n",
        "        print(f\"An error occurred: {e}\")\n",
        "\n",
        "# Example usage\n",
        "source_file = input(\"Enter the path to the source file: \")\n",
        "destination_file = input(\"Enter the path to the destination file: \")\n",
        "copy_file(source_file, destination_file)"
      ],
      "metadata": {
        "id": "gufkFumu25Ad"
      },
      "execution_count": null,
      "outputs": []
    },
    {
      "cell_type": "markdown",
      "source": [
        "How it works:\n",
        "\n",
        "Opening files:\n",
        "The source file is opened in read mode ('r').\n",
        "The destination file is opened in write mode ('w'), which creates a new file if it doesn't exist or overwrites it if it does.\n",
        "\n",
        "Copy operation:\n",
        "The script reads each line from the source file using a for loop.\n",
        "Each line is written to the destination file using the write() method.\n",
        "\n",
        "Error handling:\n",
        "FileNotFoundError: Displays an error message if the source file doesn't exist.\n",
        "Generic exceptions: Catches and reports any other unexpected errors."
      ],
      "metadata": {
        "id": "l3J34tMX2_wP"
      }
    },
    {
      "cell_type": "markdown",
      "source": [
        "# 5) How would you catch and handle division by zero error in Python?"
      ],
      "metadata": {
        "id": "3tWX1Ytq3OBO"
      }
    },
    {
      "cell_type": "markdown",
      "source": [
        "To catch and handle a division by zero error in Python, you can use a try-except block and specifically catch the ZeroDivisionError."
      ],
      "metadata": {
        "id": "ur_wgdgq3gTo"
      }
    },
    {
      "cell_type": "code",
      "source": [
        "#Here's an example:\n",
        "\n",
        "def safe_division(numerator, denominator):\n",
        "    try:\n",
        "        result = numerator / denominator\n",
        "        print(f\"The result is: {result}\")\n",
        "    except ZeroDivisionError:\n",
        "        print(\"Error: Division by zero is not allowed.\")\n",
        "    except Exception as e:\n",
        "        print(f\"An unexpected error occurred: {e}\")\n",
        "\n",
        "# Example usage\n",
        "numerator = float(input(\"Enter the numerator: \"))\n",
        "denominator = float(input(\"Enter the denominator: \"))\n",
        "safe_division(numerator, denominator)"
      ],
      "metadata": {
        "id": "8jkhFIqC3hPN"
      },
      "execution_count": null,
      "outputs": []
    },
    {
      "cell_type": "markdown",
      "source": [
        "How it works:\n",
        "\n",
        "try block: Attempts to perform the division.\n",
        "\n",
        "ZeroDivisionError: Catches the specific error when the denominator is zero and informs the user.\n",
        "\n",
        "Generic except block: Catches any other unexpected exceptions for robustness."
      ],
      "metadata": {
        "id": "_gO7tdcv3nd3"
      }
    },
    {
      "cell_type": "markdown",
      "source": [
        "# 6) Write a Python program that logs an error message to a log file when a division by zero exception occurs."
      ],
      "metadata": {
        "id": "X1sx-A7T3w7t"
      }
    },
    {
      "cell_type": "markdown",
      "source": [
        "Here’s a Python program that logs an error message to a log file when a division by zero exception occurs:"
      ],
      "metadata": {
        "id": "cVRLkN8Z3416"
      }
    },
    {
      "cell_type": "code",
      "source": [
        "import logging\n",
        "\n",
        "# Configure logging\n",
        "logging.basicConfig(\n",
        "    filename='error_log.txt',  # Log file name\n",
        "    level=logging.ERROR,       # Log level\n",
        "    format='%(asctime)s - %(levelname)s - %(message)s'  # Log format\n",
        ")\n",
        "\n",
        "def safe_division(numerator, denominator):\n",
        "    try:\n",
        "        result = numerator / denominator\n",
        "        print(f\"The result is: {result}\")\n",
        "    except ZeroDivisionError:\n",
        "        error_message = f\"Error: Division by zero attempted with numerator={numerator} and denominator={denominator}.\"\n",
        "        print(\"Error: Division by zero is not allowed. Check the log file for details.\")\n",
        "        logging.error(error_message)\n",
        "    except Exception as e:\n",
        "        error_message = f\"An unexpected error occurred: {e}\"\n",
        "        print(\"An unexpected error occurred. Check the log file for details.\")\n",
        "        logging.error(error_message)\n",
        "\n",
        "# Example usage\n",
        "numerator = float(input(\"Enter the numerator: \"))\n",
        "denominator = float(input(\"Enter the denominator: \"))\n",
        "safe_division(numerator, denominator)"
      ],
      "metadata": {
        "id": "BYmuThj-4SAh"
      },
      "execution_count": null,
      "outputs": []
    },
    {
      "cell_type": "markdown",
      "source": [
        "How it works:\n",
        "\n",
        "Logging Setup:\n",
        "logging.basicConfig: Configures the logging system to write error messages to a file named error_log.txt.\n",
        "Log Format: Includes a timestamp, log level, and message.\n",
        "\n",
        "Error Handling:\n",
        "ZeroDivisionError: Logs an error message when division by zero is attempted, including the numerator and denominator for context.\n",
        "Generic Exceptions: Logs any other unexpected exceptions.\n",
        "\n",
        "Error Messages in Console:\n",
        "Provides user-friendly messages in the console directing the user to the log file for details."
      ],
      "metadata": {
        "id": "M3vD2LWf4leA"
      }
    },
    {
      "cell_type": "markdown",
      "source": [
        "# 7) How do you log information at different levels (INFO, ERROR, WARNING) in Python using the logging module?"
      ],
      "metadata": {
        "id": "RxSy7oIT4xaV"
      }
    },
    {
      "cell_type": "markdown",
      "source": [
        "The Python logging module provides several levels of logging, which you can use to record messages of varying importance. The main levels are:\n",
        "\n",
        "DEBUG: Detailed information, typically useful for diagnosing problems.\n",
        "\n",
        "INFO: General events that confirm the program is working as expected.\n",
        "\n",
        "WARNING: An indication that something unexpected happened, or a situation that might cause problems in the future.\n",
        "\n",
        "ERROR: A more serious problem that prevented the program from performing some function.\n",
        "\n",
        "CRITICAL: A very serious error indicating the program may not continue running."
      ],
      "metadata": {
        "id": "yZfgAlrM5L_S"
      }
    },
    {
      "cell_type": "code",
      "source": [
        "import logging\n",
        "\n",
        "# Configure the logging system\n",
        "logging.basicConfig(\n",
        "    filename='app_log.txt',  # Log file name\n",
        "    level=logging.DEBUG,     # Set the lowest level to log (DEBUG captures all levels)\n",
        "    format='%(asctime)s - %(levelname)s - %(message)s'  # Log format\n",
        ")\n",
        "\n",
        "# Log messages at different levels\n",
        "logging.debug(\"This is a debug message, useful for developers.\")\n",
        "logging.info(\"This is an info message, confirming things are working.\")\n",
        "logging.warning(\"This is a warning message, indicating potential issues.\")\n",
        "logging.error(\"This is an error message, something went wrong.\")\n",
        "logging.critical(\"This is a critical message, the program may crash.\")\n",
        "\n",
        "print(\"Messages have been logged to 'app_log.txt'.\")"
      ],
      "metadata": {
        "id": "CkIaOk-w5tM7"
      },
      "execution_count": null,
      "outputs": []
    },
    {
      "cell_type": "markdown",
      "source": [
        "How it Works:\n",
        "\n",
        "Configuration:\n",
        "\n",
        "logging.basicConfig sets up the logging system.\n",
        "\n",
        "filename specifies where logs are saved.\n",
        "\n",
        "level=logging.DEBUG ensures all messages of level DEBUG and above are logged.\n",
        "\n",
        "format customizes the structure of the log messages.\n",
        "\n",
        "Logging at Different Levels:\n",
        "\n",
        "Each logging.<level>() function logs a message at the specified level:\n",
        "\n",
        "logging.debug(): Logs detailed debugging information.\n",
        "\n",
        "logging.info(): Logs general information about program execution.\n",
        "\n",
        "logging.warning(): Logs warnings about potential issues.\n",
        "\n",
        "logging.error(): Logs errors that prevent some part of the program from functioning.\n",
        "\n",
        "logging.critical(): Logs critical issues where the program may crash."
      ],
      "metadata": {
        "id": "f30sKy1P50Uc"
      }
    },
    {
      "cell_type": "markdown",
      "source": [
        "# 8) Write a program to handle a file opening error using exception handling."
      ],
      "metadata": {
        "id": "pjX6Lxna6TC-"
      }
    },
    {
      "cell_type": "markdown",
      "source": [
        "### Here's a Python program that handles file opening errors using exception handling:"
      ],
      "metadata": {
        "id": "5wSGKJp46d71"
      }
    },
    {
      "cell_type": "code",
      "source": [
        "def open_file(file_path):\n",
        "    try:\n",
        "        with open(file_path, 'r') as file:  # Attempt to open the file in read mode\n",
        "            print(\"File opened successfully. Contents:\")\n",
        "            print(file.read())  # Read and print the file contents\n",
        "    except FileNotFoundError:\n",
        "        print(f\"Error: The file '{file_path}' was not found.\")\n",
        "    except PermissionError:\n",
        "        print(f\"Error: Permission denied to access the file '{file_path}'.\")\n",
        "    except Exception as e:\n",
        "        print(f\"An unexpected error occurred: {e}\")\n",
        "\n",
        "# Example usage\n",
        "file_path = input(\"Enter the path to the file you want to open: \")\n",
        "open_file(file_path)"
      ],
      "metadata": {
        "id": "VtDqysh07LU9"
      },
      "execution_count": null,
      "outputs": []
    },
    {
      "cell_type": "markdown",
      "source": [
        "How It Works:\n",
        "\n",
        "try block:\n",
        "Attempts to open the specified file in read mode ('r') and read its contents.\n",
        "\n",
        "Specific Exceptions:\n",
        "FileNotFoundError: Catches the error when the file does not exist and provides a user-friendly message.\n",
        "\n",
        "PermissionError: Handles cases where the user does not have permission to access the file.\n",
        "\n",
        "Generic Exception:\n",
        "Catches and reports any other unexpected errors for robustness."
      ],
      "metadata": {
        "id": "Lss87vLZ7qv-"
      }
    },
    {
      "cell_type": "markdown",
      "source": [
        "# 9) How can you read a file line by line and store its content in a list in Python?"
      ],
      "metadata": {
        "id": "L5qJRD3p8FCW"
      }
    },
    {
      "cell_type": "markdown",
      "source": [
        "You can read a file line by line in Python and store its content in a list using the readlines() method or by iterating over the file object directly."
      ],
      "metadata": {
        "id": "BoTMb-Dn8e_A"
      }
    },
    {
      "cell_type": "code",
      "source": [
        "#Here’s an example:\n",
        "\n",
        "def read_file_to_list(file_path):\n",
        "    try:\n",
        "        with open(file_path, 'r') as file:  # Open the file in read mode\n",
        "            lines = [line.strip() for line in file]  # Read and strip each line, storing in a list\n",
        "        return lines\n",
        "    except FileNotFoundError:\n",
        "        print(f\"Error: The file '{file_path}' was not found.\")\n",
        "        return []\n",
        "    except Exception as e:\n",
        "        print(f\"An unexpected error occurred: {e}\")\n",
        "        return []\n",
        "\n",
        "# Example usage\n",
        "file_path = input(\"Enter the path to the file: \")\n",
        "content_list = read_file_to_list(file_path)\n",
        "print(\"File contents as a list:\")\n",
        "print(content_list)"
      ],
      "metadata": {
        "id": "d9I7J7mq9jZA"
      },
      "execution_count": null,
      "outputs": []
    },
    {
      "cell_type": "markdown",
      "source": [],
      "metadata": {
        "id": "gClS0aXf-MMZ"
      }
    },
    {
      "cell_type": "markdown",
      "source": [
        "How It Works:\n",
        "\n",
        "Opening the File:\n",
        "The file is opened in read mode ('r') using a with statement, ensuring the file is automatically closed afterward.\n",
        "\n",
        "Reading Line by Line:\n",
        "The for line in file construct iterates over the file, reading one line at a time.\n",
        "\n",
        "The strip() method removes leading and trailing whitespace (including newline characters).\n",
        "Storing in a List:\n",
        "Each line is added to the list comprehension, resulting in a list of stripped lines.\n",
        "\n",
        "Exception Handling:\n",
        "FileNotFoundError: Handles cases where the file does not exist.\n",
        "Generic Exception: Handles any other errors"
      ],
      "metadata": {
        "id": "dISO9GXp_m3r"
      }
    },
    {
      "cell_type": "markdown",
      "source": [
        "# 10) How can you append data to an existing file in Python?"
      ],
      "metadata": {
        "id": "CoZmHSGzAr5k"
      }
    },
    {
      "cell_type": "markdown",
      "source": [
        "To append data to an existing file in Python, you can open the file in append mode ('a'). In this mode, any data written to the file will be added to the end without overwriting the existing content."
      ],
      "metadata": {
        "id": "mL_5fiBNBQaa"
      }
    },
    {
      "cell_type": "code",
      "source": [
        "def append_to_file(file_path, data):\n",
        "    try:\n",
        "        with open(file_path, 'a') as file:  # Open the file in append mode\n",
        "            file.write(data + '\\n')        # Append the data followed by a newline\n",
        "        print(f\"Data successfully appended to '{file_path}'.\")\n",
        "    except Exception as e:\n",
        "        print(f\"An error occurred: {e}\")\n",
        "\n",
        "# Example usage\n",
        "file_path = input(\"Enter the path to the file: \")\n",
        "data = input(\"Enter the data to append: \")\n",
        "append_to_file(file_path, data)"
      ],
      "metadata": {
        "id": "tGm1f9cLBeuI"
      },
      "execution_count": null,
      "outputs": []
    },
    {
      "cell_type": "markdown",
      "source": [
        "How It Works:\n",
        "\n",
        "Opening the File:\n",
        "The file is opened in append mode ('a'), ensuring that new data is added to the end of the file.\n",
        "If the file does not exist, it will be created automatically.\n",
        "\n",
        "Writing Data:\n",
        "The write() method is used to append data to the file.\n",
        "Adding \\n ensures that each new data entry starts on a new line.\n",
        "\n",
        "Error Handling:\n",
        "Handles potential errors such as permission issues or other I/O errors using a try-except block."
      ],
      "metadata": {
        "id": "Z7H7aJlGBgai"
      }
    },
    {
      "cell_type": "markdown",
      "source": [
        "# 11) Write a Python program that uses a try-except block to handle an error when attempting to access a dictionary key that doesn't exist."
      ],
      "metadata": {
        "id": "zBP4JiTVBxjs"
      }
    },
    {
      "cell_type": "markdown",
      "source": [
        "Here’s a Python program that uses a try-except block to handle the error when attempting to access a non-existent key in a dictionary:"
      ],
      "metadata": {
        "id": "N_otVdYTCHa_"
      }
    },
    {
      "cell_type": "code",
      "source": [
        "def get_dict_value(dictionary, key):\n",
        "    try:\n",
        "        value = dictionary[key]  # Try to access the value for the specified key\n",
        "        print(f\"The value for key '{key}' is: {value}\")\n",
        "    except KeyError:\n",
        "        print(f\"Error: The key '{key}' does not exist in the dictionary.\")\n",
        "    except Exception as e:\n",
        "        print(f\"An unexpected error occurred: {e}\")\n",
        "\n",
        "# Example usage\n",
        "sample_dict = {'name': 'Alice', 'age': 30, 'city': 'New York'}\n",
        "key_to_lookup = input(\"Enter the key you want to look up: \")\n",
        "get_dict_value(sample_dict, key_to_lookup)"
      ],
      "metadata": {
        "id": "_O4ZHVWDDBQN"
      },
      "execution_count": null,
      "outputs": []
    },
    {
      "cell_type": "markdown",
      "source": [
        "How It Works:\n",
        "try Block:\n",
        "\n",
        "Attempts to access the value for the given key in the dictionary.\n",
        "KeyError Exception:\n",
        "\n",
        "Catches the error if the specified key does not exist in the dictionary and provides a user-friendly message.\n",
        "Generic Exception Handling:\n",
        "\n",
        "Catches any other unexpected exceptions for robustness."
      ],
      "metadata": {
        "id": "Ksd8BE7EDX-C"
      }
    },
    {
      "cell_type": "markdown",
      "source": [
        "# 12) Write a program that demonstrates using multiple except blocks to handle different types of exceptions."
      ],
      "metadata": {
        "id": "4B85zZAUDcQQ"
      }
    },
    {
      "cell_type": "markdown",
      "source": [
        "Here's a Python program that demonstrates using multiple except blocks to handle different types of exceptions:"
      ],
      "metadata": {
        "id": "WDjl93umDjb8"
      }
    },
    {
      "cell_type": "code",
      "source": [
        "def handle_exceptions():\n",
        "    try:\n",
        "        # Simulate different types of errors\n",
        "        num1 = int(input(\"Enter the first number: \"))  # This could raise ValueError\n",
        "        num2 = int(input(\"Enter the second number: \"))  # This could raise ValueError\n",
        "        result = num1 / num2  # This could raise ZeroDivisionError\n",
        "        print(f\"The result of {num1} divided by {num2} is: {result}\")\n",
        "\n",
        "    except ValueError:\n",
        "        print(\"Error: Invalid input. Please enter a valid number.\")\n",
        "    except ZeroDivisionError:\n",
        "        print(\"Error: Division by zero is not allowed.\")\n",
        "    except Exception as e:\n",
        "        print(f\"An unexpected error occurred: {e}\")\n",
        "\n",
        "# Example usage\n",
        "handle_exceptions()"
      ],
      "metadata": {
        "id": "PecwXO_QEShg"
      },
      "execution_count": null,
      "outputs": []
    },
    {
      "cell_type": "markdown",
      "source": [
        "How It Works:\n",
        "try block:\n",
        "\n",
        "The program attempts to take two integer inputs from the user and perform division.\n",
        "Errors that can arise:\n",
        "ValueError: Occurs if the user enters a non-integer value.\n",
        "ZeroDivisionError: Occurs if the user attempts to divide by zero.\n",
        "Multiple except Blocks:\n",
        "\n",
        "ValueError: Catches invalid input when the user doesn't enter a valid number.\n",
        "ZeroDivisionError: Catches division by zero and informs the user.\n",
        "Generic Exception: Catches any other unexpected errors that may occur."
      ],
      "metadata": {
        "id": "cC3SHz1xElZs"
      }
    },
    {
      "cell_type": "markdown",
      "source": [
        "# 13) How would you check if a file exists before attempting to read it in Python?"
      ],
      "metadata": {
        "id": "99LVn_7aEsyw"
      }
    },
    {
      "cell_type": "markdown",
      "source": [
        "To check if a file exists before attempting to read it in Python, you can use the os.path.exists() method from the os module or the Path.exists() method from the pathlib module. Both of these approaches will allow you to verify whether the file exists, and then you can safely proceed with reading the file if it exists."
      ],
      "metadata": {
        "id": "xrB2zZ2dFBg3"
      }
    },
    {
      "cell_type": "markdown",
      "source": [
        "Using os.path.exists():"
      ],
      "metadata": {
        "id": "h8JEAhP4FOGL"
      }
    },
    {
      "cell_type": "code",
      "source": [
        "import os\n",
        "\n",
        "def read_file(file_path):\n",
        "    if os.path.exists(file_path):  # Check if the file exists\n",
        "        try:\n",
        "            with open(file_path, 'r') as file:\n",
        "                content = file.read()  # Read the file content\n",
        "                print(content)\n",
        "        except Exception as e:\n",
        "            print(f\"An error occurred while reading the file: {e}\")\n",
        "    else:\n",
        "        print(f\"Error: The file '{file_path}' does not exist.\")\n",
        "\n",
        "# Example usage\n",
        "file_path = input(\"Enter the path to the file: \")\n",
        "read_file(file_path)"
      ],
      "metadata": {
        "id": "g083ESFfFWEG"
      },
      "execution_count": null,
      "outputs": []
    },
    {
      "cell_type": "markdown",
      "source": [
        "How It Works:\n",
        "\n",
        "os.path.exists(file_path): Returns True if the file or directory at file_path exists, and False if it does not.\n",
        "Path.exists(): The Path object from the pathlib module also has an exists() method that checks if the file or directory exists.\n",
        "File Reading: If the file exists, the program attempts to open and read it. If there is any error while reading, it is caught and printed. If the file doesn't exist, an error message is displayed."
      ],
      "metadata": {
        "id": "NfqVD6gPFgfm"
      }
    },
    {
      "cell_type": "markdown",
      "source": [
        "# 14) Write a program that uses the logging module to log both informational and error messages."
      ],
      "metadata": {
        "id": "HLOOgHlUFruo"
      }
    },
    {
      "cell_type": "markdown",
      "source": [
        "Here’s a Python program that demonstrates how to use the logging module to log both informational and error messages:"
      ],
      "metadata": {
        "id": "rj0uziQkF6mQ"
      }
    },
    {
      "cell_type": "code",
      "source": [
        "import logging\n",
        "\n",
        "# Configure the logging system\n",
        "logging.basicConfig(\n",
        "    filename='app_log.txt',  # Log file name\n",
        "    level=logging.DEBUG,     # Set the minimum level to log (DEBUG captures all levels)\n",
        "    format='%(asctime)s - %(levelname)s - %(message)s'  # Log format\n",
        ")\n",
        "\n",
        "def log_messages():\n",
        "    # Log an informational message\n",
        "    logging.info(\"This is an informational message.\")\n",
        "\n",
        "    # Log a warning message\n",
        "    logging.warning(\"This is a warning message.\")\n",
        "\n",
        "    try:\n",
        "        # Attempt a risky operation (e.g., division by zero)\n",
        "        result = 10 / 0\n",
        "    except ZeroDivisionError as e:\n",
        "        # Log the exception as an error\n",
        "        logging.error(f\"Error occurred: {e}\")\n",
        "\n",
        "    # Log another informational message\n",
        "    logging.info(\"End of logging demonstration.\")\n",
        "\n",
        "# Call the function to log messages\n",
        "log_messages()\n",
        "\n",
        "print(\"Messages have been logged to 'app_log.txt'.\")"
      ],
      "metadata": {
        "id": "jJF5Lk4uGGc4"
      },
      "execution_count": null,
      "outputs": []
    },
    {
      "cell_type": "markdown",
      "source": [
        "How It Works:\n",
        "logging.basicConfig():\n",
        "\n",
        "Configures the logging system.\n",
        "filename='app_log.txt' specifies the file where logs will be written.\n",
        "level=logging.DEBUG ensures that all log messages of level DEBUG and higher (INFO, WARNING, ERROR, CRITICAL) are captured.\n",
        "format defines how each log entry will be formatted, including the timestamp, log level, and message.\n",
        "Logging Messages:\n",
        "\n",
        "logging.info(): Logs informational messages about the program's normal operation.\n",
        "logging.warning(): Logs warnings about situations that are not errors but may require attention.\n",
        "logging.error(): Logs error messages when something goes wrong, such as the division by zero in this example.\n",
        "Exception Handling:\n",
        "\n",
        "A try-except block is used to catch a ZeroDivisionError, and the exception is logged as an error using logging.error()."
      ],
      "metadata": {
        "id": "ofPxlNh9GLsl"
      }
    },
    {
      "cell_type": "markdown",
      "source": [
        "# 15) Write a Python program that prints the content of a file and handles the case when the file is empty.\n"
      ],
      "metadata": {
        "id": "nFonxoCqGPwq"
      }
    },
    {
      "cell_type": "markdown",
      "source": [
        "Here's a Python program that reads and prints the content of a file while handling the case when the file is empty:"
      ],
      "metadata": {
        "id": "0v5X6vL9GX9i"
      }
    },
    {
      "cell_type": "code",
      "source": [
        "def print_file_content(file_path):\n",
        "    try:\n",
        "        with open(file_path, 'r') as file:\n",
        "            content = file.read().strip()  # Read and remove leading/trailing whitespace\n",
        "            if content:  # Check if the file is not empty\n",
        "                print(\"File contents:\")\n",
        "                print(content)\n",
        "            else:\n",
        "                print(\"The file is empty.\")\n",
        "    except FileNotFoundError:\n",
        "        print(f\"Error: The file '{file_path}' does not exist.\")\n",
        "    except Exception as e:\n",
        "        print(f\"An unexpected error occurred: {e}\")\n",
        "\n",
        "# Example usage\n",
        "file_path = input(\"Enter the path to the file: \")\n",
        "print_file_content(file_path)"
      ],
      "metadata": {
        "id": "MDDXFxksGr3G"
      },
      "execution_count": null,
      "outputs": []
    },
    {
      "cell_type": "markdown",
      "source": [
        "How It Works:\n",
        "Opening the File:\n",
        "\n",
        "The file is opened in read mode ('r') using the with statement, which ensures the file is automatically closed after reading.\n",
        "Reading and Checking the Content:\n",
        "\n",
        "file.read().strip() reads the entire content of the file and removes any leading or trailing whitespace, including newline characters.\n",
        "If the content is not empty, it prints the content of the file. If the content is empty, it prints a message saying the file is empty.\n",
        "Exception Handling:\n",
        "\n",
        "FileNotFoundError: Handles cases where the file does not exist.\n",
        "Generic Exception: Catches any other unexpected exceptions."
      ],
      "metadata": {
        "id": "1B3EbobZGw3a"
      }
    },
    {
      "cell_type": "markdown",
      "source": [
        "# 16) Demonstrate how to use memory profiling to check the memory usage of a small program."
      ],
      "metadata": {
        "id": "pRvvPt_fHAc8"
      }
    },
    {
      "cell_type": "markdown",
      "source": [
        "To demonstrate memory profiling in Python, we can use the memory_profiler module, which allows you to track memory usage line by line in your program.\n",
        "\n",
        "Step-by-Step Guide:\n",
        "Install memory_profiler: To use the memory_profiler module, you need to install it first. Run the following command in your terminal:"
      ],
      "metadata": {
        "id": "Prk9wQBDHg6W"
      }
    },
    {
      "cell_type": "code",
      "source": [
        "pip install memory-profiler\n"
      ],
      "metadata": {
        "id": "3nPficI9HuV3"
      },
      "execution_count": null,
      "outputs": []
    },
    {
      "cell_type": "markdown",
      "source": [
        "Memory Profiling Example: We will use the @profile decorator to mark functions whose memory usage we want to track."
      ],
      "metadata": {
        "id": "9Rb_GewjIFW5"
      }
    },
    {
      "cell_type": "code",
      "source": [
        "from memory_profiler import profile\n",
        "\n",
        "# Function to demonstrate memory usage\n",
        "@profile\n",
        "def my_program():\n",
        "    a = [i for i in range(1000000)]  # Create a large list\n",
        "    b = [x * 2 for x in a]  # Create a new list by doubling each element of the first list\n",
        "    del b  # Delete the second list to free memory\n",
        "    return len(a)\n",
        "\n",
        "if __name__ == \"__main__\":\n",
        "    my_program()"
      ],
      "metadata": {
        "id": "rSujr-AFIJWQ"
      },
      "execution_count": null,
      "outputs": []
    },
    {
      "cell_type": "markdown",
      "source": [
        "How It Works:\n",
        "The @profile Decorator:\n",
        "\n",
        "The @profile decorator is applied to the my_program() function. This allows the memory_profiler module to track memory usage at each line of the decorated function.\n",
        "Memory Usage:\n",
        "\n",
        "In the my_program function, we create a large list a, then create another list b which is derived from a. We delete b afterward to free the memory.\n",
        "Profiling:\n",
        "\n",
        "When you run the program, it will show memory usage at each line, including how much memory is allocated when we create the lists and how much is freed when we delete b."
      ],
      "metadata": {
        "id": "jrHkmBwkITsj"
      }
    },
    {
      "cell_type": "markdown",
      "source": [
        "# 17) Write a Python program to create and write a list of numbers to a file, one number per line."
      ],
      "metadata": {
        "id": "XKi_N2xhIWmh"
      }
    },
    {
      "cell_type": "markdown",
      "source": [
        "Here's a Python program that creates a list of numbers and writes each number to a file, one number per line:"
      ],
      "metadata": {
        "id": "StP2zxLgIdIl"
      }
    },
    {
      "cell_type": "code",
      "source": [
        "def write_numbers_to_file(file_path, numbers):\n",
        "    try:\n",
        "        with open(file_path, 'w') as file:  # Open the file in write mode\n",
        "            for number in numbers:\n",
        "                file.write(f\"{number}\\n\")  # Write each number on a new line\n",
        "        print(f\"Numbers have been written to '{file_path}' successfully.\")\n",
        "    except Exception as e:\n",
        "        print(f\"An error occurred: {e}\")\n",
        "\n",
        "# Example usage\n",
        "numbers_list = [1, 2, 3, 4, 5, 6, 7, 8, 9, 10]  # List of numbers\n",
        "file_path = 'numbers.txt'  # File to write the numbers to\n",
        "write_numbers_to_file(file_path, numbers_list)"
      ],
      "metadata": {
        "id": "qyh-ilGsInB2"
      },
      "execution_count": null,
      "outputs": []
    },
    {
      "cell_type": "markdown",
      "source": [
        "How It Works:\n",
        "\n",
        "Opening the File:\n",
        "The file is opened in write mode ('w') using the with statement, which ensures that the file is automatically closed after writing.\n",
        "\n",
        "Writing the List to the File:\n",
        "The program iterates through the list of numbers (numbers_list), and each number is written to the file using file.write().\n",
        "f\"{number}\\n\" ensures that each number is followed by a newline character, so each number appears on its own line in the file.\n",
        "\n",
        "Error Handling:\n",
        "If there is an error while opening or writing to the file, it is caught and printed"
      ],
      "metadata": {
        "id": "Nng9qw_4Irle"
      }
    },
    {
      "cell_type": "markdown",
      "source": [
        "# 18) How would you implement a basic logging setup that logs to a file with rotation after 1MB?"
      ],
      "metadata": {
        "id": "RRVMzFSjI1Tg"
      }
    },
    {
      "cell_type": "markdown",
      "source": [
        "To implement a basic logging setup in Python that logs to a file with rotation after 1MB, you can use the logging module along with the logging.handlers.RotatingFileHandler. This handler allows you to automatically rotate log files when they reach a certain size, and it can keep a specified number of backup log files.\n",
        "\n",
        "Here’s how you can set it up:"
      ],
      "metadata": {
        "id": "XgETBxc6I8K5"
      }
    },
    {
      "cell_type": "code",
      "source": [
        "import logging\n",
        "from logging.handlers import RotatingFileHandler\n",
        "\n",
        "# Configure the logging system\n",
        "def setup_logger():\n",
        "    # Create a rotating file handler that will rotate the log file after it reaches 1MB (1,048,576 bytes)\n",
        "    handler = RotatingFileHandler(\n",
        "        'app_log.log',               # Log file name\n",
        "        maxBytes=1_000_000,          # Max file size before rotation (1MB)\n",
        "        backupCount=3                # Keep 3 backup log files\n",
        "    )\n",
        "\n",
        "    # Set the logging level to DEBUG, which will capture all levels (DEBUG, INFO, WARNING, ERROR, CRITICAL)\n",
        "    handler.setLevel(logging.DEBUG)\n",
        "\n",
        "    # Create a formatter to specify the log message format\n",
        "    formatter = logging.Formatter('%(asctime)s - %(levelname)s - %(message)s')\n",
        "    handler.setFormatter(formatter)\n",
        "\n",
        "    # Get the root logger and add the rotating file handler to it\n",
        "    logger = logging.getLogger()\n",
        "    logger.setLevel(logging.DEBUG)  # Set root logger level to DEBUG\n",
        "    logger.addHandler(handler)\n",
        "\n",
        "    return logger\n",
        "\n",
        "# Log some messages\n",
        "def log_messages(logger):\n",
        "    logger.debug(\"This is a debug message.\")\n",
        "    logger.info(\"This is an informational message.\")\n",
        "    logger.warning(\"This is a warning message.\")\n",
        "    logger.error(\"This is an error message.\")\n",
        "    logger.critical(\"This is a critical message.\")\n",
        "\n",
        "# Example usage\n",
        "if __name__ == \"__main__\":\n",
        "    logger = setup_logger()\n",
        "    log_messages(logger)\n",
        "    print(\"Logging has been set up with rotation after 1MB.\")\n"
      ],
      "metadata": {
        "id": "A8dR4-dRJPJ5"
      },
      "execution_count": null,
      "outputs": []
    },
    {
      "cell_type": "markdown",
      "source": [],
      "metadata": {
        "id": "FPg85jv2JiVA"
      }
    },
    {
      "cell_type": "markdown",
      "source": [
        "# 19) Write a program that handles both IndexError and KeyError using a try-except block."
      ],
      "metadata": {
        "id": "J3FLfrr5JmPb"
      }
    },
    {
      "cell_type": "markdown",
      "source": [
        "Here's a Python program that handles both IndexError and KeyError using a try-except block:"
      ],
      "metadata": {
        "id": "O4-Ji5XIJuw3"
      }
    },
    {
      "cell_type": "code",
      "source": [
        "def handle_errors():\n",
        "    try:\n",
        "        # Simulate an IndexError by accessing an invalid index in a list\n",
        "        my_list = [1, 2, 3]\n",
        "        print(my_list[5])  # This will raise IndexError\n",
        "\n",
        "        # Simulate a KeyError by accessing a non-existent key in a dictionary\n",
        "        my_dict = {\"name\": \"Alice\", \"age\": 30}\n",
        "        print(my_dict[\"address\"])  # This will raise KeyError\n",
        "\n",
        "    except IndexError as e:\n",
        "        print(f\"IndexError: {e} - Invalid index accessed in the list.\")\n",
        "\n",
        "    except KeyError as e:\n",
        "        print(f\"KeyError: {e} - Key not found in the dictionary.\")\n",
        "\n",
        "# Example usage\n",
        "handle_errors()\n"
      ],
      "metadata": {
        "id": "Y5Sx5YStJ4LB"
      },
      "execution_count": null,
      "outputs": []
    },
    {
      "cell_type": "markdown",
      "source": [
        "# 20) How would you open a file and read its contents using a context manager in Python?\n"
      ],
      "metadata": {
        "id": "dAqm9J3AJ8Zn"
      }
    },
    {
      "cell_type": "markdown",
      "source": [
        "In Python, you can use a context manager to handle file operations safely, ensuring that the file is properly opened and closed even if an error occurs during the process. The with statement is commonly used with context managers to automatically handle the opening and closing of files.\n",
        "\n",
        "Here’s an example of how you can open and read the contents of a file using a context manager:"
      ],
      "metadata": {
        "id": "0YZ80RH4KDZu"
      }
    },
    {
      "cell_type": "code",
      "source": [
        "def read_file(file_path):\n",
        "    try:\n",
        "        # Using a context manager to open the file\n",
        "        with open(file_path, 'r') as file:\n",
        "            content = file.read()  # Read the entire content of the file\n",
        "            print(content)  # Print the content to the console\n",
        "    except FileNotFoundError:\n",
        "        print(f\"Error: The file '{file_path}' does not exist.\")\n",
        "    except Exception as e:\n",
        "        print(f\"An error occurred: {e}\")\n",
        "\n",
        "# Example usage\n",
        "file_path = input(\"Enter the path to the file: \")\n",
        "read_file(file_path)\n"
      ],
      "metadata": {
        "id": "q-m62hd_KUd-"
      },
      "execution_count": null,
      "outputs": []
    },
    {
      "cell_type": "markdown",
      "source": [
        "# 21) Write a Python program that reads a file and prints the number of occurrences of a specific word.\n"
      ],
      "metadata": {
        "id": "MFu7hbS9KaLr"
      }
    },
    {
      "cell_type": "markdown",
      "source": [
        "Here's a Python program that reads a file and prints the number of occurrences of a specific word in the file:"
      ],
      "metadata": {
        "id": "DU3rB_nvKgX9"
      }
    },
    {
      "cell_type": "code",
      "source": [
        "def count_word_occurrences(file_path, word_to_count):\n",
        "    try:\n",
        "        with open(file_path, 'r') as file:\n",
        "            content = file.read()  # Read the entire file content\n",
        "            word_count = content.lower().split().count(word_to_count.lower())  # Count occurrences of the word (case-insensitive)\n",
        "            print(f\"The word '{word_to_count}' appears {word_count} times in the file.\")\n",
        "    except FileNotFoundError:\n",
        "        print(f\"Error: The file '{file_path}' does not exist.\")\n",
        "    except Exception as e:\n",
        "        print(f\"An error occurred: {e}\")\n",
        "\n",
        "# Example usage\n",
        "file_path = input(\"Enter the path to the file: \")\n",
        "word_to_count = input(\"Enter the word to count: \")\n",
        "count_word_occurrences(file_path, word_to_count)\n"
      ],
      "metadata": {
        "id": "6BxdaFonKw-Q"
      },
      "execution_count": null,
      "outputs": []
    },
    {
      "cell_type": "markdown",
      "source": [
        "# 22) How can you check if a file is empty before attempting to read its contents?"
      ],
      "metadata": {
        "id": "F9byZVgjK3KQ"
      }
    },
    {
      "cell_type": "markdown",
      "source": [
        "To check if a file is empty before attempting to read its contents, you can use Python's os module to check the file size. If the file size is 0, it is empty. If the file size is greater than 0, it contains data.\n",
        "\n",
        "Here’s how you can check if a file is empty before reading it:"
      ],
      "metadata": {
        "id": "Wd30w_1BLNQ8"
      }
    },
    {
      "cell_type": "code",
      "source": [
        "import os\n",
        "\n",
        "def read_file_if_not_empty(file_path):\n",
        "    # Check if the file exists and if it is not empty\n",
        "    if os.path.exists(file_path) and os.path.getsize(file_path) > 0:\n",
        "        try:\n",
        "            with open(file_path, 'r') as file:\n",
        "                content = file.read()  # Read the entire content of the file\n",
        "                print(\"File contents:\")\n",
        "                print(content)\n",
        "        except Exception as e:\n",
        "            print(f\"An error occurred: {e}\")\n",
        "    elif not os.path.exists(file_path):\n",
        "        print(f\"Error: The file '{file_path}' does not exist.\")\n",
        "    else:\n",
        "        print(f\"The file '{file_path}' is empty.\")\n",
        "\n",
        "# Example usage\n",
        "file_path = input(\"Enter the path to the file: \")\n",
        "read_file_if_not_empty(file_path)\n"
      ],
      "metadata": {
        "id": "iJhEZnrxLu93"
      },
      "execution_count": null,
      "outputs": []
    },
    {
      "cell_type": "markdown",
      "source": [
        "# 23) Write a Python program that writes to a log file when an error occurs during file handling."
      ],
      "metadata": {
        "id": "5rT_ex6BLzrE"
      }
    },
    {
      "cell_type": "markdown",
      "source": [
        "To write to a log file when an error occurs during file handling, you can use the logging module in Python. This allows you to capture and log errors that occur during file operations and save them to a log file for later review.\n",
        "\n",
        "Here's an example program that demonstrates this:"
      ],
      "metadata": {
        "id": "5AfrkdauL9e8"
      }
    },
    {
      "cell_type": "code",
      "source": [
        "import logging\n",
        "\n",
        "# Set up logging to log errors to a file\n",
        "logging.basicConfig(\n",
        "    filename='file_error_log.log',  # Log file name\n",
        "    level=logging.ERROR,            # Log only ERROR and above\n",
        "    format='%(asctime)s - %(levelname)s - %(message)s'\n",
        ")\n",
        "\n",
        "def read_file(file_path):\n",
        "    try:\n",
        "        with open(file_path, 'r') as file:\n",
        "            content = file.read()  # Attempt to read the file\n",
        "            print(content)\n",
        "    except FileNotFoundError:\n",
        "        error_message = f\"File '{file_path}' not found.\"\n",
        "        print(error_message)\n",
        "        logging.error(error_message)  # Log the error\n",
        "    except IOError as e:\n",
        "        error_message = f\"IO error occurred while handling the file '{file_path}': {e}\"\n",
        "        print(error_message)\n",
        "        logging.error(error_message)  # Log the error\n",
        "    except Exception as e:\n",
        "        error_message = f\"An unexpected error occurred: {e}\"\n",
        "        print(error_message)\n",
        "        logging.error(error_message)  # Log the error\n",
        "\n",
        "# Example usage\n",
        "file_path = input(\"Enter the path to the file: \")\n",
        "read_file(file_path)\n"
      ],
      "metadata": {
        "id": "T2pCH127MMb_"
      },
      "execution_count": null,
      "outputs": []
    }
  ]
}