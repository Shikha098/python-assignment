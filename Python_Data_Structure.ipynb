{
  "nbformat": 4,
  "nbformat_minor": 0,
  "metadata": {
    "colab": {
      "provenance": [],
      "authorship_tag": "ABX9TyP8GUThcenunApbTs/pBK9z",
      "include_colab_link": true
    },
    "kernelspec": {
      "name": "python3",
      "display_name": "Python 3"
    },
    "language_info": {
      "name": "python"
    }
  },
  "cells": [
    {
      "cell_type": "markdown",
      "metadata": {
        "id": "view-in-github",
        "colab_type": "text"
      },
      "source": [
        "<a href=\"https://colab.research.google.com/github/Shikha098/python-assignment/blob/main/Python_Data_Structure.ipynb\" target=\"_parent\"><img src=\"https://colab.research.google.com/assets/colab-badge.svg\" alt=\"Open In Colab\"/></a>"
      ]
    },
    {
      "cell_type": "code",
      "execution_count": null,
      "metadata": {
        "id": "cWbBrwdSUQe2"
      },
      "outputs": [],
      "source": [
        "#Questions and Answers :-"
      ]
    },
    {
      "cell_type": "markdown",
      "source": [
        "# 1) Discuss string slicing and provide examples."
      ],
      "metadata": {
        "id": "GLMOU05xUek1"
      }
    },
    {
      "cell_type": "markdown",
      "source": [
        "String slicing allows you to extract a portion of a string by specifying a start and end index."
      ],
      "metadata": {
        "id": "4Z4zrBk3UpT-"
      }
    },
    {
      "cell_type": "code",
      "source": [
        "#example of string slicing :-\n",
        "\n",
        "a = \"Shikha\"\n",
        "a[2]"
      ],
      "metadata": {
        "colab": {
          "base_uri": "https://localhost:8080/",
          "height": 36
        },
        "id": "tP8axmW6VD45",
        "outputId": "513763aa-54e9-4ef5-e461-a2c592d3634d"
      },
      "execution_count": null,
      "outputs": [
        {
          "output_type": "execute_result",
          "data": {
            "text/plain": [
              "'i'"
            ],
            "application/vnd.google.colaboratory.intrinsic+json": {
              "type": "string"
            }
          },
          "metadata": {},
          "execution_count": 1
        }
      ]
    },
    {
      "cell_type": "code",
      "source": [
        "a[0:4]"
      ],
      "metadata": {
        "colab": {
          "base_uri": "https://localhost:8080/",
          "height": 36
        },
        "id": "0pI08tGbV2Qs",
        "outputId": "2caed73b-1ecd-4ac7-faae-21187214d4b8"
      },
      "execution_count": null,
      "outputs": [
        {
          "output_type": "execute_result",
          "data": {
            "text/plain": [
              "'Shik'"
            ],
            "application/vnd.google.colaboratory.intrinsic+json": {
              "type": "string"
            }
          },
          "metadata": {},
          "execution_count": 2
        }
      ]
    },
    {
      "cell_type": "code",
      "source": [
        "b = \"This is a computer\"\n",
        "b[10:18]"
      ],
      "metadata": {
        "colab": {
          "base_uri": "https://localhost:8080/",
          "height": 36
        },
        "id": "yR5qqMPdV7vc",
        "outputId": "cefc2bce-7ca2-4769-d588-2fa015daad80"
      },
      "execution_count": null,
      "outputs": [
        {
          "output_type": "execute_result",
          "data": {
            "text/plain": [
              "'computer'"
            ],
            "application/vnd.google.colaboratory.intrinsic+json": {
              "type": "string"
            }
          },
          "metadata": {},
          "execution_count": 5
        }
      ]
    },
    {
      "cell_type": "markdown",
      "source": [
        "\n",
        "# 2) Explain the key features of lists in Python."
      ],
      "metadata": {
        "id": "0aDuPhWhWzT6"
      }
    },
    {
      "cell_type": "markdown",
      "source": [
        "Key features are -\n",
        "\n",
        "a) Lists are ordered collection of items.\n",
        "\n",
        "b) It is like shopping bag and can store everything.\n",
        "\n",
        "c) It is heterogenous which can store anything like int, float, str, boolean etc.\n",
        "\n",
        "d) It is changeable (mutable), which means they can have their elements changed after they are created.\n",
        "\n",
        "e)It can be sliced and modified."
      ],
      "metadata": {
        "id": "mi9rFhvMXM5_"
      }
    },
    {
      "cell_type": "markdown",
      "source": [
        "# 3) Describe how to access, modify, and delete elements in a list with examples."
      ],
      "metadata": {
        "id": "fSv-Bf3yY8eP"
      }
    },
    {
      "cell_type": "markdown",
      "source": [
        "The following examples of accessing, modifying and deleting elements in a list are :-"
      ],
      "metadata": {
        "id": "gfYW5tQQZGpv"
      }
    },
    {
      "cell_type": "code",
      "source": [
        "#Example for accessing the elements from list :-\n",
        "\n",
        "name = [\"Rohit\", \"Shikha\", \"Deepak\", \"Ram\"]\n",
        "name[2]"
      ],
      "metadata": {
        "colab": {
          "base_uri": "https://localhost:8080/",
          "height": 36
        },
        "id": "uMvQRk4RZbEX",
        "outputId": "d7f31102-b482-4b6c-c0e0-4940b142f81e"
      },
      "execution_count": null,
      "outputs": [
        {
          "output_type": "execute_result",
          "data": {
            "text/plain": [
              "'Deepak'"
            ],
            "application/vnd.google.colaboratory.intrinsic+json": {
              "type": "string"
            }
          },
          "metadata": {},
          "execution_count": 6
        }
      ]
    },
    {
      "cell_type": "code",
      "source": [
        "name[0:3]"
      ],
      "metadata": {
        "colab": {
          "base_uri": "https://localhost:8080/"
        },
        "id": "noXbMQUIZy39",
        "outputId": "db7ac3be-e5eb-4cd4-ac87-903081bea8c1"
      },
      "execution_count": null,
      "outputs": [
        {
          "output_type": "execute_result",
          "data": {
            "text/plain": [
              "['Rohit', 'Shikha', 'Deepak']"
            ]
          },
          "metadata": {},
          "execution_count": 7
        }
      ]
    },
    {
      "cell_type": "code",
      "source": [
        "#Example for modifying the elements from list :-\n",
        "\n",
        "name = [\"Rohit\", \"Shikha\", \"Deepak\", \"Ram\"]\n",
        "name.append(\"Riya\")\n",
        "name"
      ],
      "metadata": {
        "colab": {
          "base_uri": "https://localhost:8080/"
        },
        "id": "8tYoQbhTaGEY",
        "outputId": "2cc662f4-5a72-4abc-a9e5-62c0fc276c57"
      },
      "execution_count": null,
      "outputs": [
        {
          "output_type": "execute_result",
          "data": {
            "text/plain": [
              "['Rohit', 'Shikha', 'Deepak', 'Ram', 'Riya']"
            ]
          },
          "metadata": {},
          "execution_count": 8
        }
      ]
    },
    {
      "cell_type": "code",
      "source": [
        "#Example for deleting the elements from list :-\n",
        "\n",
        "name = [\"Rohit\", \"Shikha\", \"Deepak\", \"Ram\"]\n",
        "name.remove(name[2])\n",
        "name"
      ],
      "metadata": {
        "colab": {
          "base_uri": "https://localhost:8080/"
        },
        "id": "hNWR-8KebALf",
        "outputId": "fbf89b75-ee23-4cba-e7d5-722672ded294"
      },
      "execution_count": null,
      "outputs": [
        {
          "output_type": "execute_result",
          "data": {
            "text/plain": [
              "['Rohit', 'Shikha', 'Ram']"
            ]
          },
          "metadata": {},
          "execution_count": 21
        }
      ]
    },
    {
      "cell_type": "markdown",
      "source": [
        "# 4) Compare and contrast tuples and lists with examples."
      ],
      "metadata": {
        "id": "B-RlQntwezxl"
      }
    },
    {
      "cell_type": "markdown",
      "source": [
        "Tuples :-  \n",
        "a) Tuples are used to store multiple items in a single variable.\n",
        "\n",
        "b) A tuple is a collection which is ordered and unchangeable.\n",
        "\n",
        "c) It is heterogenous which can store anything like int, float, str, boolean etc."
      ],
      "metadata": {
        "id": "jebFfpMCfA2G"
      }
    },
    {
      "cell_type": "code",
      "source": [
        "a = ()\n",
        "type(a)"
      ],
      "metadata": {
        "colab": {
          "base_uri": "https://localhost:8080/"
        },
        "id": "gHRkdPGQgmI7",
        "outputId": "20afc15d-a7c8-40a3-b644-ae108353e521"
      },
      "execution_count": null,
      "outputs": [
        {
          "output_type": "execute_result",
          "data": {
            "text/plain": [
              "tuple"
            ]
          },
          "metadata": {},
          "execution_count": 26
        }
      ]
    },
    {
      "cell_type": "code",
      "source": [
        "a = (\"sam\", \"fox\", 1, 2, 4.5, True)\n",
        "a"
      ],
      "metadata": {
        "colab": {
          "base_uri": "https://localhost:8080/"
        },
        "id": "yElxAgy7g1Tb",
        "outputId": "29ac8c21-7caa-45ac-f1b7-e561a8459c29"
      },
      "execution_count": null,
      "outputs": [
        {
          "output_type": "execute_result",
          "data": {
            "text/plain": [
              "('sam', 'fox', 1, 2, 4.5, True)"
            ]
          },
          "metadata": {},
          "execution_count": 27
        }
      ]
    },
    {
      "cell_type": "code",
      "source": [
        "a.count(1)    # for counting the elements"
      ],
      "metadata": {
        "colab": {
          "base_uri": "https://localhost:8080/"
        },
        "id": "9XxADh1shVKv",
        "outputId": "b30a42a5-396b-4a4a-bab6-1977b92ec882"
      },
      "execution_count": null,
      "outputs": [
        {
          "output_type": "execute_result",
          "data": {
            "text/plain": [
              "2"
            ]
          },
          "metadata": {},
          "execution_count": 29
        }
      ]
    },
    {
      "cell_type": "code",
      "source": [
        "a[0:3]       # for accesing the elements"
      ],
      "metadata": {
        "colab": {
          "base_uri": "https://localhost:8080/"
        },
        "id": "hliDrBIFh3Ck",
        "outputId": "030a44d2-d4e4-4c2b-cd39-58de7d08360b"
      },
      "execution_count": null,
      "outputs": [
        {
          "output_type": "execute_result",
          "data": {
            "text/plain": [
              "('sam', 'fox', 1)"
            ]
          },
          "metadata": {},
          "execution_count": 30
        }
      ]
    },
    {
      "cell_type": "code",
      "source": [
        "2 in a     # membership in tuple"
      ],
      "metadata": {
        "colab": {
          "base_uri": "https://localhost:8080/"
        },
        "id": "Ny0IeL5fiemO",
        "outputId": "ea7d6397-e6a4-4752-c13c-fbdebac694ea"
      },
      "execution_count": null,
      "outputs": [
        {
          "output_type": "execute_result",
          "data": {
            "text/plain": [
              "True"
            ]
          },
          "metadata": {},
          "execution_count": 31
        }
      ]
    },
    {
      "cell_type": "code",
      "source": [
        "del a      #it will delete the tuple 'a'"
      ],
      "metadata": {
        "colab": {
          "base_uri": "https://localhost:8080/",
          "height": 141
        },
        "id": "QpyX_8kHlLPw",
        "outputId": "c552ab87-e648-4ccc-c63a-98a30dc304b4"
      },
      "execution_count": null,
      "outputs": [
        {
          "output_type": "error",
          "ename": "NameError",
          "evalue": "name 'a' is not defined",
          "traceback": [
            "\u001b[0;31m---------------------------------------------------------------------------\u001b[0m",
            "\u001b[0;31mNameError\u001b[0m                                 Traceback (most recent call last)",
            "\u001b[0;32m<ipython-input-44-84acad089b3e>\u001b[0m in \u001b[0;36m<cell line: 1>\u001b[0;34m()\u001b[0m\n\u001b[0;32m----> 1\u001b[0;31m \u001b[0;32mdel\u001b[0m \u001b[0ma\u001b[0m\u001b[0;34m\u001b[0m\u001b[0;34m\u001b[0m\u001b[0m\n\u001b[0m",
            "\u001b[0;31mNameError\u001b[0m: name 'a' is not defined"
          ]
        }
      ]
    },
    {
      "cell_type": "markdown",
      "source": [
        "Lists :-   \n",
        "a) Lists are ordered collection of items.\n",
        "\n",
        "b) It is like shopping bag and can store everything.\n",
        "\n",
        "c) It is heterogenous which can store anything like int, float, str, boolean etc.\n",
        "\n",
        "d) It is changeable (mutable), which means they can have their elements changed after they are created.\n",
        "\n",
        "e)It can be sliced and modified."
      ],
      "metadata": {
        "id": "BVTVvGFLitTm"
      }
    },
    {
      "cell_type": "code",
      "source": [
        "list=[]\n",
        "type(list)"
      ],
      "metadata": {
        "colab": {
          "base_uri": "https://localhost:8080/"
        },
        "id": "wgB7BFxkjCck",
        "outputId": "974fff3c-d276-4e21-b44c-d4df9544522d"
      },
      "execution_count": null,
      "outputs": [
        {
          "output_type": "execute_result",
          "data": {
            "text/plain": [
              "list"
            ]
          },
          "metadata": {},
          "execution_count": 32
        }
      ]
    },
    {
      "cell_type": "code",
      "source": [
        "vehicle = [\"Car\", \"Byke\", \"Cycle\", \"Scooter\"]\n",
        "vehicle"
      ],
      "metadata": {
        "colab": {
          "base_uri": "https://localhost:8080/"
        },
        "id": "gv6zJGa4jKVP",
        "outputId": "abb87a69-23cf-47ae-92e9-0068acd5519d"
      },
      "execution_count": null,
      "outputs": [
        {
          "output_type": "execute_result",
          "data": {
            "text/plain": [
              "['Car', 'Byke', 'Cycle', 'Scooter']"
            ]
          },
          "metadata": {},
          "execution_count": 33
        }
      ]
    },
    {
      "cell_type": "code",
      "source": [
        "vehicle[3]       #to access the elements"
      ],
      "metadata": {
        "colab": {
          "base_uri": "https://localhost:8080/",
          "height": 36
        },
        "id": "wq8DGpOBjcQC",
        "outputId": "6d0db111-ee58-4b5c-9fd7-17f456b4f5f9"
      },
      "execution_count": null,
      "outputs": [
        {
          "output_type": "execute_result",
          "data": {
            "text/plain": [
              "'Scooter'"
            ],
            "application/vnd.google.colaboratory.intrinsic+json": {
              "type": "string"
            }
          },
          "metadata": {},
          "execution_count": 34
        }
      ]
    },
    {
      "cell_type": "code",
      "source": [
        "vehicle[:-1]"
      ],
      "metadata": {
        "colab": {
          "base_uri": "https://localhost:8080/"
        },
        "id": "BJ9xuGDbjn5u",
        "outputId": "9867b68e-818d-40c3-c893-aa6dca23adc9"
      },
      "execution_count": null,
      "outputs": [
        {
          "output_type": "execute_result",
          "data": {
            "text/plain": [
              "['Car', 'Byke', 'Cycle']"
            ]
          },
          "metadata": {},
          "execution_count": 37
        }
      ]
    },
    {
      "cell_type": "code",
      "source": [
        "vehicle.append(\"Scorpio\")          #to modify the elemnts in the list\n",
        "vehicle"
      ],
      "metadata": {
        "colab": {
          "base_uri": "https://localhost:8080/"
        },
        "id": "vv_eydSbj2tN",
        "outputId": "8e77efd6-9551-401f-e4d1-e96c3f37fee6"
      },
      "execution_count": null,
      "outputs": [
        {
          "output_type": "execute_result",
          "data": {
            "text/plain": [
              "['Car', 'Byke', 'Cycle', 'Scooter', 'Scorpio']"
            ]
          },
          "metadata": {},
          "execution_count": 38
        }
      ]
    },
    {
      "cell_type": "code",
      "source": [
        "sorted(vehicle)             #it will sort the elements.\n",
        "vehicle"
      ],
      "metadata": {
        "colab": {
          "base_uri": "https://localhost:8080/"
        },
        "id": "BRt8DjBKkWHK",
        "outputId": "cabc8b8a-454b-486c-e00e-174b42b95207"
      },
      "execution_count": null,
      "outputs": [
        {
          "output_type": "execute_result",
          "data": {
            "text/plain": [
              "['Car', 'Byke', 'Cycle', 'Scooter', 'Scorpio']"
            ]
          },
          "metadata": {},
          "execution_count": 40
        }
      ]
    },
    {
      "cell_type": "code",
      "source": [
        "\"Car\" in vehicle       # membership in list"
      ],
      "metadata": {
        "colab": {
          "base_uri": "https://localhost:8080/"
        },
        "id": "G0VcGyXxk9kc",
        "outputId": "4e6cb794-6bee-4787-b595-fa53d527d0c0"
      },
      "execution_count": null,
      "outputs": [
        {
          "output_type": "execute_result",
          "data": {
            "text/plain": [
              "True"
            ]
          },
          "metadata": {},
          "execution_count": 41
        }
      ]
    },
    {
      "cell_type": "code",
      "source": [
        "del vehicle      # it will delete the list 'vehicle'"
      ],
      "metadata": {
        "colab": {
          "base_uri": "https://localhost:8080/",
          "height": 141
        },
        "id": "QbiSW6YRleZa",
        "outputId": "dedbe9a0-82b2-4d8b-a904-021add8fb106"
      },
      "execution_count": null,
      "outputs": [
        {
          "output_type": "error",
          "ename": "NameError",
          "evalue": "name 'vehicle' is not defined",
          "traceback": [
            "\u001b[0;31m---------------------------------------------------------------------------\u001b[0m",
            "\u001b[0;31mNameError\u001b[0m                                 Traceback (most recent call last)",
            "\u001b[0;32m<ipython-input-46-b0f900333343>\u001b[0m in \u001b[0;36m<cell line: 1>\u001b[0;34m()\u001b[0m\n\u001b[0;32m----> 1\u001b[0;31m \u001b[0;32mdel\u001b[0m \u001b[0mvehicle\u001b[0m\u001b[0;34m\u001b[0m\u001b[0;34m\u001b[0m\u001b[0m\n\u001b[0m",
            "\u001b[0;31mNameError\u001b[0m: name 'vehicle' is not defined"
          ]
        }
      ]
    },
    {
      "cell_type": "markdown",
      "source": [
        "# 5) Describe the key features of sets and provide examples of their use."
      ],
      "metadata": {
        "id": "tcfU6Gtil3CH"
      }
    },
    {
      "cell_type": "markdown",
      "source": [
        "Key features of sets :-     \n",
        "a) It is unordered and unique collection.\n",
        "\n",
        "b) It does not allow duplicate elements.\n",
        "\n",
        "c) In sets indexing will not work.\n",
        "\n",
        "d) Items of a set in python are immutable (unchangeable).\n",
        "\n",
        "e) Sets can't be accessed and sliced."
      ],
      "metadata": {
        "id": "msjLhbYimAXs"
      }
    },
    {
      "cell_type": "code",
      "source": [
        "a = {1, 4, 'Peas'}\n",
        "type(a)"
      ],
      "metadata": {
        "colab": {
          "base_uri": "https://localhost:8080/"
        },
        "id": "Zzum-8cbm7pS",
        "outputId": "14c45c87-8fd5-4923-e904-058f497118bb"
      },
      "execution_count": null,
      "outputs": [
        {
          "output_type": "execute_result",
          "data": {
            "text/plain": [
              "set"
            ]
          },
          "metadata": {},
          "execution_count": 50
        }
      ]
    },
    {
      "cell_type": "code",
      "source": [
        "a = {1, 1, 3.3, 3.3, \"Mom\", \"Mom\"}     # it will not execute duplicate values\n",
        "a"
      ],
      "metadata": {
        "colab": {
          "base_uri": "https://localhost:8080/"
        },
        "id": "8QWAR6ponqjp",
        "outputId": "1281fee4-f23b-46f6-8938-4c56d0e743c4"
      },
      "execution_count": null,
      "outputs": [
        {
          "output_type": "execute_result",
          "data": {
            "text/plain": [
              "{1, 3.3, 'Mom'}"
            ]
          },
          "metadata": {},
          "execution_count": 57
        }
      ]
    },
    {
      "cell_type": "code",
      "source": [
        "for i in a:      # for loop in sets\n",
        "   print(i)"
      ],
      "metadata": {
        "colab": {
          "base_uri": "https://localhost:8080/"
        },
        "id": "qCk5haO1oKiO",
        "outputId": "3a352f2e-61e4-4c76-e98e-688caab8456e"
      },
      "execution_count": null,
      "outputs": [
        {
          "output_type": "stream",
          "name": "stdout",
          "text": [
            "1\n",
            "3.3\n",
            "Mom\n"
          ]
        }
      ]
    },
    {
      "cell_type": "code",
      "source": [
        "a.add(45)\n",
        "a               # it will add elements in a set"
      ],
      "metadata": {
        "colab": {
          "base_uri": "https://localhost:8080/"
        },
        "id": "1-29lNaZouLJ",
        "outputId": "82d22ce9-fbf7-4a0b-8847-724b53637ae9"
      },
      "execution_count": null,
      "outputs": [
        {
          "output_type": "execute_result",
          "data": {
            "text/plain": [
              "{1, 3.3, 45, 'Mom'}"
            ]
          },
          "metadata": {},
          "execution_count": 58
        }
      ]
    },
    {
      "cell_type": "code",
      "source": [
        "a.pop()      #it will remove the elements either from last or from first and we cannot assign the elements manually to pop the elements."
      ],
      "metadata": {
        "colab": {
          "base_uri": "https://localhost:8080/"
        },
        "id": "qX-ttFjLpIBX",
        "outputId": "d999eab3-c73d-47ee-f3af-6a9bba0f25ee"
      },
      "execution_count": null,
      "outputs": [
        {
          "output_type": "execute_result",
          "data": {
            "text/plain": [
              "1"
            ]
          },
          "metadata": {},
          "execution_count": 59
        }
      ]
    },
    {
      "cell_type": "code",
      "source": [
        "a.remove(45)     # it removes the elements\n",
        "a\n"
      ],
      "metadata": {
        "colab": {
          "base_uri": "https://localhost:8080/"
        },
        "id": "G-GnNSUxpFtp",
        "outputId": "ab6a3fe9-b386-4656-fc22-9c53e7966892"
      },
      "execution_count": null,
      "outputs": [
        {
          "output_type": "execute_result",
          "data": {
            "text/plain": [
              "{'Mom'}"
            ]
          },
          "metadata": {},
          "execution_count": 67
        }
      ]
    },
    {
      "cell_type": "code",
      "source": [
        "a.update(['Apple', 'Mango'])       # it will update the elements in the set.\n",
        "a"
      ],
      "metadata": {
        "colab": {
          "base_uri": "https://localhost:8080/"
        },
        "id": "G-QuaqdpqP10",
        "outputId": "93277dd8-9541-4c94-af44-6feb7397609b"
      },
      "execution_count": null,
      "outputs": [
        {
          "output_type": "execute_result",
          "data": {
            "text/plain": [
              "{'Apple', 'Mango', 'Mom'}"
            ]
          },
          "metadata": {},
          "execution_count": 68
        }
      ]
    },
    {
      "cell_type": "markdown",
      "source": [
        "# 6) Discuss the use cases of tuples and sets in Python programming."
      ],
      "metadata": {
        "id": "8brK4BKEq0aa"
      }
    },
    {
      "cell_type": "code",
      "source": [
        "# Use cases of tuples :-\n",
        "\n",
        "box1 = (\"dairymilk\", \"Mangobite\", \"Kitkat\")\n",
        "box2 = (\"Darkfantasy\", \"eclairs\")\n",
        "choc_bag = (box1, box2)\n",
        "choc_bag"
      ],
      "metadata": {
        "colab": {
          "base_uri": "https://localhost:8080/"
        },
        "id": "iTOlyCSerY8h",
        "outputId": "e420e5fd-dbc9-406d-b33b-70a00582631b"
      },
      "execution_count": null,
      "outputs": [
        {
          "output_type": "execute_result",
          "data": {
            "text/plain": [
              "(('dairymilk', 'Mangobite', 'Kitkat'), ('Darkfantasy', 'eclairs'))"
            ]
          },
          "metadata": {},
          "execution_count": 69
        }
      ]
    },
    {
      "cell_type": "code",
      "source": [
        "for i in choc_bag:\n",
        "    for choc in i:\n",
        "        print(i)"
      ],
      "metadata": {
        "colab": {
          "base_uri": "https://localhost:8080/"
        },
        "id": "N1_8M-n7usCO",
        "outputId": "874a816f-9449-41a2-b5ba-d7f313e3605d"
      },
      "execution_count": null,
      "outputs": [
        {
          "output_type": "stream",
          "name": "stdout",
          "text": [
            "('dairymilk', 'Mangobite', 'Kitkat')\n",
            "('dairymilk', 'Mangobite', 'Kitkat')\n",
            "('dairymilk', 'Mangobite', 'Kitkat')\n",
            "('Darkfantasy', 'eclairs')\n",
            "('Darkfantasy', 'eclairs')\n"
          ]
        }
      ]
    },
    {
      "cell_type": "code",
      "source": [
        "dep1 = (\"Ram\", \"Shyam\")\n",
        "dep2 = (\"Riya\", \"Nupur\")\n",
        "comp_emp = (dep1, dep2)\n",
        "comp_emp"
      ],
      "metadata": {
        "colab": {
          "base_uri": "https://localhost:8080/"
        },
        "id": "GfBlv-FVvr_W",
        "outputId": "c8acf13d-a211-4819-dc19-f64a06e86c50"
      },
      "execution_count": null,
      "outputs": [
        {
          "output_type": "execute_result",
          "data": {
            "text/plain": [
              "(('Ram', 'Shyam'), ('Riya', 'Nupur'))"
            ]
          },
          "metadata": {},
          "execution_count": 79
        }
      ]
    },
    {
      "cell_type": "code",
      "source": [
        "for i in comp_emp:\n",
        "     for emp in i:\n",
        "      print(i)"
      ],
      "metadata": {
        "colab": {
          "base_uri": "https://localhost:8080/"
        },
        "id": "8mrwUWSWwqyh",
        "outputId": "0446a068-d9fc-4fc5-bc17-e215090ea90a"
      },
      "execution_count": null,
      "outputs": [
        {
          "output_type": "stream",
          "name": "stdout",
          "text": [
            "('Ram', 'Shyam')\n",
            "('Ram', 'Shyam')\n",
            "('Riya', 'Nupur')\n",
            "('Riya', 'Nupur')\n"
          ]
        }
      ]
    },
    {
      "cell_type": "code",
      "source": [
        "#Use cases of sets:-\n",
        "\n",
        "grocery_list = {\"apple\", \"Mango\", \"Mango\", 'sugar', \"Salt\", \"Dry fruits\", \"sugar\"}\n",
        "grocery_list"
      ],
      "metadata": {
        "colab": {
          "base_uri": "https://localhost:8080/"
        },
        "id": "xFpLUKJww-Cw",
        "outputId": "5e4ba40d-b613-44cf-e17d-e6d77f3aa6fa"
      },
      "execution_count": null,
      "outputs": [
        {
          "output_type": "execute_result",
          "data": {
            "text/plain": [
              "{'Dry fruits', 'Mango', 'Salt', 'apple', 'sugar'}"
            ]
          },
          "metadata": {},
          "execution_count": 81
        }
      ]
    },
    {
      "cell_type": "code",
      "source": [
        "fav_food ={\"chowmin\", \"Chilli\", \"veg lolipop\", \"chowmin\", \"chilli\"}\n",
        "fav_food"
      ],
      "metadata": {
        "colab": {
          "base_uri": "https://localhost:8080/"
        },
        "id": "eOntbPplxgvM",
        "outputId": "810af49a-f2be-4ac4-ca74-ec6836098fff"
      },
      "execution_count": null,
      "outputs": [
        {
          "output_type": "execute_result",
          "data": {
            "text/plain": [
              "{'Chilli', 'chilli', 'chowmin', 'veg lolipop'}"
            ]
          },
          "metadata": {},
          "execution_count": 87
        }
      ]
    },
    {
      "cell_type": "markdown",
      "source": [
        "# 7) Describe how to add, modify, and delete items in a dictionary with examples.\n"
      ],
      "metadata": {
        "id": "yjdoJdh2y3Gv"
      }
    },
    {
      "cell_type": "markdown",
      "source": [
        "a) It is one of the fastest data structure amongst all.\n",
        "\n",
        "b)It stores in the form of key value pair.\n",
        "\n",
        "c) Key unique and immutable.\n",
        "\n",
        "d) It is unordered but 3.7 version of python it has insertion which return in ordered."
      ],
      "metadata": {
        "id": "GN4FHmgdzO4i"
      }
    },
    {
      "cell_type": "code",
      "source": [
        "a = {}\n",
        "type(a)"
      ],
      "metadata": {
        "colab": {
          "base_uri": "https://localhost:8080/"
        },
        "id": "Hm3O3PpFz-fk",
        "outputId": "dfdeb876-a6ed-482b-d607-b2e765e84885"
      },
      "execution_count": null,
      "outputs": [
        {
          "output_type": "execute_result",
          "data": {
            "text/plain": [
              "dict"
            ]
          },
          "metadata": {},
          "execution_count": 88
        }
      ]
    },
    {
      "cell_type": "code",
      "source": [
        "a = {\"name\": \"Shikha\", \"Age\": 24, \"Contact\": 79056}\n",
        "a"
      ],
      "metadata": {
        "colab": {
          "base_uri": "https://localhost:8080/"
        },
        "id": "Bjbd30i10G-O",
        "outputId": "15ae99ba-aac2-4d39-a891-23dfa04e01ea"
      },
      "execution_count": null,
      "outputs": [
        {
          "output_type": "execute_result",
          "data": {
            "text/plain": [
              "{'name': 'Shikha', 'Age': 24, 'Contact': 79056}"
            ]
          },
          "metadata": {},
          "execution_count": 99
        }
      ]
    },
    {
      "cell_type": "code",
      "source": [
        "a[\"name\"]=\"Riya\"      #modifying the dict elements\n",
        "a"
      ],
      "metadata": {
        "colab": {
          "base_uri": "https://localhost:8080/"
        },
        "id": "VXOJ6SKT0bLs",
        "outputId": "70f9ae19-4a69-4c26-ac57-782a7c5080ce"
      },
      "execution_count": null,
      "outputs": [
        {
          "output_type": "execute_result",
          "data": {
            "text/plain": [
              "{'name': 'Riya', 'Age': 24, 'Contact': 79056}"
            ]
          },
          "metadata": {},
          "execution_count": 100
        }
      ]
    },
    {
      "cell_type": "code",
      "source": [
        "a[\"Place\"]=\"Bokaro\"   #addig the elements in dict\n",
        "a"
      ],
      "metadata": {
        "colab": {
          "base_uri": "https://localhost:8080/"
        },
        "id": "8344Fbpq00Kc",
        "outputId": "e70ca93c-9fc0-44f4-e5f9-1ee92c85b186"
      },
      "execution_count": null,
      "outputs": [
        {
          "output_type": "execute_result",
          "data": {
            "text/plain": [
              "{'name': 'Riya', 'Age': 24, 'Contact': 79056, 'Place': 'Bokaro'}"
            ]
          },
          "metadata": {},
          "execution_count": 101
        }
      ]
    },
    {
      "cell_type": "code",
      "source": [
        "a.pop(\"Contact\")     # it will delete the element in dict\n",
        "a"
      ],
      "metadata": {
        "colab": {
          "base_uri": "https://localhost:8080/"
        },
        "id": "-acl46oo1OCT",
        "outputId": "01542590-7d54-4534-e6c2-a819da28991d"
      },
      "execution_count": null,
      "outputs": [
        {
          "output_type": "execute_result",
          "data": {
            "text/plain": [
              "{'name': 'Riya', 'Age': 24, 'Place': 'Bokaro'}"
            ]
          },
          "metadata": {},
          "execution_count": 103
        }
      ]
    },
    {
      "cell_type": "markdown",
      "source": [
        "# 8) Discuss the importance of dictionary keys being immutable and provide examples."
      ],
      "metadata": {
        "id": "RPOXPGIX2V5a"
      }
    },
    {
      "cell_type": "markdown",
      "source": [
        "Importance :-   \n",
        "a) Immutable keys ensure the integrity of the dictionary's internal structure.\n",
        "\n",
        "b) If keys were mutable, their values could change, leading to inconsistencies in the dictionary.\n",
        "\n",
        "c)  Immutable keys also provide a reliable and efficient way to hash and compare values, ensuring fast lookups and operations."
      ],
      "metadata": {
        "id": "72VhfUlq2qaa"
      }
    },
    {
      "cell_type": "code",
      "source": [
        "#example :-\n",
        "\n",
        "a = {\"name\": \"Veena\", \"Age\": 36, \"Contact\": 7956}\n",
        "a"
      ],
      "metadata": {
        "colab": {
          "base_uri": "https://localhost:8080/"
        },
        "id": "CWQ0fcWB2-1k",
        "outputId": "9aa3df9b-ac27-4d59-a290-83cac62089ca"
      },
      "execution_count": null,
      "outputs": [
        {
          "output_type": "execute_result",
          "data": {
            "text/plain": [
              "{'name': 'Veena', 'Age': 36, 'Contact': 7956}"
            ]
          },
          "metadata": {},
          "execution_count": 117
        }
      ]
    },
    {
      "cell_type": "code",
      "source": [
        "a = {[\"name\"]: \"Veena\"}      #it will throw an error as key is immutable and no list as key\n",
        "print(a)"
      ],
      "metadata": {
        "colab": {
          "base_uri": "https://localhost:8080/",
          "height": 159
        },
        "id": "aozgg5rn3L80",
        "outputId": "1aed0c3e-56f8-441d-a9bd-3880f30be1c8"
      },
      "execution_count": null,
      "outputs": [
        {
          "output_type": "error",
          "ename": "TypeError",
          "evalue": "unhashable type: 'list'",
          "traceback": [
            "\u001b[0;31m---------------------------------------------------------------------------\u001b[0m",
            "\u001b[0;31mTypeError\u001b[0m                                 Traceback (most recent call last)",
            "\u001b[0;32m<ipython-input-113-3137b1788c33>\u001b[0m in \u001b[0;36m<cell line: 1>\u001b[0;34m()\u001b[0m\n\u001b[0;32m----> 1\u001b[0;31m \u001b[0ma\u001b[0m \u001b[0;34m=\u001b[0m \u001b[0;34m{\u001b[0m\u001b[0;34m[\u001b[0m\u001b[0;34m\"name\"\u001b[0m\u001b[0;34m]\u001b[0m\u001b[0;34m:\u001b[0m \u001b[0;34m\"Veena\"\u001b[0m\u001b[0;34m}\u001b[0m\u001b[0;34m\u001b[0m\u001b[0;34m\u001b[0m\u001b[0m\n\u001b[0m\u001b[1;32m      2\u001b[0m \u001b[0mprint\u001b[0m\u001b[0;34m(\u001b[0m\u001b[0ma\u001b[0m\u001b[0;34m)\u001b[0m\u001b[0;34m\u001b[0m\u001b[0;34m\u001b[0m\u001b[0m\n",
            "\u001b[0;31mTypeError\u001b[0m: unhashable type: 'list'"
          ]
        }
      ]
    },
    {
      "cell_type": "code",
      "source": [
        "a ={{\"name\"}: \"Veena\"}   # it will throw an error as no dictionary as key\n",
        "a"
      ],
      "metadata": {
        "colab": {
          "base_uri": "https://localhost:8080/",
          "height": 159
        },
        "id": "bdM5Tq-X6zTQ",
        "outputId": "63984622-c6a4-4b62-fdc9-1c196bfcc443"
      },
      "execution_count": null,
      "outputs": [
        {
          "output_type": "error",
          "ename": "TypeError",
          "evalue": "unhashable type: 'set'",
          "traceback": [
            "\u001b[0;31m---------------------------------------------------------------------------\u001b[0m",
            "\u001b[0;31mTypeError\u001b[0m                                 Traceback (most recent call last)",
            "\u001b[0;32m<ipython-input-118-004aaee2032d>\u001b[0m in \u001b[0;36m<cell line: 1>\u001b[0;34m()\u001b[0m\n\u001b[0;32m----> 1\u001b[0;31m \u001b[0ma\u001b[0m \u001b[0;34m=\u001b[0m\u001b[0;34m{\u001b[0m\u001b[0;34m{\u001b[0m\u001b[0;34m\"name\"\u001b[0m\u001b[0;34m}\u001b[0m\u001b[0;34m:\u001b[0m \u001b[0;34m\"Veena\"\u001b[0m\u001b[0;34m}\u001b[0m\u001b[0;34m\u001b[0m\u001b[0;34m\u001b[0m\u001b[0m\n\u001b[0m\u001b[1;32m      2\u001b[0m \u001b[0ma\u001b[0m\u001b[0;34m\u001b[0m\u001b[0;34m\u001b[0m\u001b[0m\n",
            "\u001b[0;31mTypeError\u001b[0m: unhashable type: 'set'"
          ]
        }
      ]
    }
  ]
}