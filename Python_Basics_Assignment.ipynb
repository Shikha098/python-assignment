{
  "nbformat": 4,
  "nbformat_minor": 0,
  "metadata": {
    "colab": {
      "provenance": [],
      "authorship_tag": "ABX9TyMpSZ/lmxJzmnO0gl2RTHof",
      "include_colab_link": true
    },
    "kernelspec": {
      "name": "python3",
      "display_name": "Python 3"
    },
    "language_info": {
      "name": "python"
    }
  },
  "cells": [
    {
      "cell_type": "markdown",
      "metadata": {
        "id": "view-in-github",
        "colab_type": "text"
      },
      "source": [
        "<a href=\"https://colab.research.google.com/github/Shikha098/python-assignment/blob/main/Python_Basics_Assignment.ipynb\" target=\"_parent\"><img src=\"https://colab.research.google.com/assets/colab-badge.svg\" alt=\"Open In Colab\"/></a>"
      ]
    },
    {
      "cell_type": "code",
      "execution_count": null,
      "metadata": {
        "id": "PSAx7E19oeNc"
      },
      "outputs": [],
      "source": [
        "#Assignment questions and answers."
      ]
    },
    {
      "cell_type": "markdown",
      "source": [
        "#1) Explain the key features of Python that make it a popular choice for programming."
      ],
      "metadata": {
        "id": "UI5y2kdrTf_J"
      }
    },
    {
      "cell_type": "code",
      "source": [
        "#Some key features of python that make it a popular choice for programming are :-\n",
        "\n",
        "#1) Python is versatile and flexible.\n",
        "#2) Python is simple and easy to learn.\n",
        "#3) Simple syntax easy in readilibilty.\n",
        "#4) It has extensive library and framework.\n",
        "#5) Python has strong community support.\n",
        "#6) Python is used everywhere and is in continuous evolution."
      ],
      "metadata": {
        "id": "dX1W075BUNMJ"
      },
      "execution_count": null,
      "outputs": []
    },
    {
      "cell_type": "markdown",
      "source": [
        "# 2) Describe the role of predefined keywords in Python and provide  examples of how they are used in a program."
      ],
      "metadata": {
        "id": "-FkAPPW0XifW"
      }
    },
    {
      "cell_type": "code",
      "source": [
        "# Role of predefined keywords in Python are :-\n",
        "\n",
        "#1) It has specific role in defining the syntax and structures of the Python language.\n",
        "#2) Python keywords are reserved words that cannot be used as variable, function, or identifier names.\n",
        "#3) Python keywords are case sensitive, and must be written as they are.\n",
        "#4) Python keywords have specific meanings and predefined uses that cannot be altered."
      ],
      "metadata": {
        "id": "DZy5pqb5ZQm5"
      },
      "execution_count": null,
      "outputs": []
    },
    {
      "cell_type": "code",
      "source": [
        "#Some examples of predefined keywords are print, true, false, if, else, or, and, from, class, elif, continue, break, for, import, return, not, yeild, def, except, global, assert, lamda, exec.\n",
        "#example no. 1\n",
        "a=5\n",
        "b=6\n",
        "c=a>b\n",
        "c\n",
        "\n"
      ],
      "metadata": {
        "colab": {
          "base_uri": "https://localhost:8080/"
        },
        "id": "htfUgPO-hjS6",
        "outputId": "8afd1100-a75b-4dd2-c8fc-b13ba73eb9ee"
      },
      "execution_count": null,
      "outputs": [
        {
          "output_type": "execute_result",
          "data": {
            "text/plain": [
              "False"
            ]
          },
          "metadata": {},
          "execution_count": 4
        }
      ]
    },
    {
      "cell_type": "code",
      "source": [
        "#example no. 2\n",
        "money=1000\n",
        "if money >= 900:\n",
        "    print(\"You are eligible\")\n",
        "else:\n",
        "    print(\"You are not eligible\")"
      ],
      "metadata": {
        "colab": {
          "base_uri": "https://localhost:8080/"
        },
        "id": "Cd-kAQK1lKpv",
        "outputId": "bc45be00-7068-4f9b-9403-23661e1da4c7"
      },
      "execution_count": null,
      "outputs": [
        {
          "output_type": "stream",
          "name": "stdout",
          "text": [
            "You are eligible\n"
          ]
        }
      ]
    },
    {
      "cell_type": "markdown",
      "source": [
        "#3) Compare and contrast mutable and immutable objects in Python with examples."
      ],
      "metadata": {
        "id": "nlv3ViVToMD1"
      }
    },
    {
      "cell_type": "code",
      "source": [
        "#MUTABLE OBJECTS\n",
        "#Objects/container whose state or value can be changed after they are created are called as mutable objects or container and it is called as item assignment.\n",
        "#List is a type of mutable object.\n",
        "#Example:\n",
        "a=[12, 45, 60, \"Shikha\", \"Vinay\", 45]\n",
        "a"
      ],
      "metadata": {
        "colab": {
          "base_uri": "https://localhost:8080/"
        },
        "id": "DzBB5hOCom8_",
        "outputId": "e425ca6a-02b1-4388-da80-55374341c51b"
      },
      "execution_count": null,
      "outputs": [
        {
          "output_type": "execute_result",
          "data": {
            "text/plain": [
              "[12, 45, 60, 'Shikha', 'Vinay', 45]"
            ]
          },
          "metadata": {},
          "execution_count": 12
        }
      ]
    },
    {
      "cell_type": "code",
      "source": [
        "a[4]=\"Riya\"\n",
        "a"
      ],
      "metadata": {
        "colab": {
          "base_uri": "https://localhost:8080/"
        },
        "id": "N2phCND-rN4E",
        "outputId": "624744f8-73ce-455b-82f5-db198bf9b304"
      },
      "execution_count": null,
      "outputs": [
        {
          "output_type": "execute_result",
          "data": {
            "text/plain": [
              "[12, 45, 60, 'Shikha', 'Riya', 45]"
            ]
          },
          "metadata": {},
          "execution_count": 13
        }
      ]
    },
    {
      "cell_type": "code",
      "source": [
        "#IMMUTABLE OBJECTS\n",
        "#Objects/container whose state or value cannot be changed after they are created are called as immutable objects or container.\n",
        "#Strings is a type of immutable object/doesn't support item assignment.\n",
        "#Example:\n",
        "a=\"Google Colab\"\n",
        "a"
      ],
      "metadata": {
        "colab": {
          "base_uri": "https://localhost:8080/",
          "height": 36
        },
        "id": "VHJWplKwrzfU",
        "outputId": "0f214325-90f6-46c9-9495-1827eac553ae"
      },
      "execution_count": null,
      "outputs": [
        {
          "output_type": "execute_result",
          "data": {
            "text/plain": [
              "'Google Colab'"
            ],
            "application/vnd.google.colaboratory.intrinsic+json": {
              "type": "string"
            }
          },
          "metadata": {},
          "execution_count": 14
        }
      ]
    },
    {
      "cell_type": "code",
      "source": [
        "#it will show error as str are immutable.\n",
        "a[1]='g'\n",
        "a"
      ],
      "metadata": {
        "colab": {
          "base_uri": "https://localhost:8080/",
          "height": 159
        },
        "id": "lCSeBzWPtcII",
        "outputId": "2d17d1d1-5a6c-4b97-9afa-f3bb66c4cc4e"
      },
      "execution_count": null,
      "outputs": [
        {
          "output_type": "error",
          "ename": "TypeError",
          "evalue": "'str' object does not support item assignment",
          "traceback": [
            "\u001b[0;31m---------------------------------------------------------------------------\u001b[0m",
            "\u001b[0;31mTypeError\u001b[0m                                 Traceback (most recent call last)",
            "\u001b[0;32m<ipython-input-15-949499bd2049>\u001b[0m in \u001b[0;36m<cell line: 1>\u001b[0;34m()\u001b[0m\n\u001b[0;32m----> 1\u001b[0;31m \u001b[0ma\u001b[0m\u001b[0;34m[\u001b[0m\u001b[0;36m1\u001b[0m\u001b[0;34m]\u001b[0m\u001b[0;34m=\u001b[0m\u001b[0;34m'g'\u001b[0m\u001b[0;34m\u001b[0m\u001b[0;34m\u001b[0m\u001b[0m\n\u001b[0m\u001b[1;32m      2\u001b[0m \u001b[0ma\u001b[0m\u001b[0;34m\u001b[0m\u001b[0;34m\u001b[0m\u001b[0m\n",
            "\u001b[0;31mTypeError\u001b[0m: 'str' object does not support item assignment"
          ]
        }
      ]
    },
    {
      "cell_type": "markdown",
      "source": [
        "# 4) Discuss the different types of operators in Python and provide examples of how they are used."
      ],
      "metadata": {
        "id": "z8vQVKx8uOS-"
      }
    },
    {
      "cell_type": "code",
      "source": [
        "#operators are special keywords/symbols that are use to perform operators on value or variables. It is use to manage, do computation and make decision using data.\n",
        "#Different types of operators are:-\n",
        "\n",
        "#Airthmatic operators - these are used with numeric values to perform common mathematical operations.\n",
        "#example:\n",
        "a=12\n",
        "b=34\n",
        "c=a+b\n",
        "c\n"
      ],
      "metadata": {
        "colab": {
          "base_uri": "https://localhost:8080/"
        },
        "id": "jPYTyZgovNh9",
        "outputId": "a2ead612-7ade-4c26-e2d3-eb142326add9"
      },
      "execution_count": null,
      "outputs": [
        {
          "output_type": "execute_result",
          "data": {
            "text/plain": [
              "46"
            ]
          },
          "metadata": {},
          "execution_count": 1
        }
      ]
    },
    {
      "cell_type": "code",
      "source": [
        "c=a-b\n",
        "c"
      ],
      "metadata": {
        "colab": {
          "base_uri": "https://localhost:8080/"
        },
        "id": "3VH3w-PeOs0P",
        "outputId": "3a0031a3-483e-4cd5-b729-b27ab58df5e3"
      },
      "execution_count": null,
      "outputs": [
        {
          "output_type": "execute_result",
          "data": {
            "text/plain": [
              "-22"
            ]
          },
          "metadata": {},
          "execution_count": 5
        }
      ]
    },
    {
      "cell_type": "code",
      "source": [
        "c=a*b\n",
        "c"
      ],
      "metadata": {
        "colab": {
          "base_uri": "https://localhost:8080/"
        },
        "id": "bS9GwMKUO2v-",
        "outputId": "5a9ee818-7972-4c4b-904f-ed0304bc901d"
      },
      "execution_count": null,
      "outputs": [
        {
          "output_type": "execute_result",
          "data": {
            "text/plain": [
              "408"
            ]
          },
          "metadata": {},
          "execution_count": 6
        }
      ]
    },
    {
      "cell_type": "code",
      "source": [
        "c=b/a\n",
        "c"
      ],
      "metadata": {
        "colab": {
          "base_uri": "https://localhost:8080/"
        },
        "id": "OWLiwuG-O97Y",
        "outputId": "6cdb9487-bd90-49b3-f80b-f9fa73bdf694"
      },
      "execution_count": null,
      "outputs": [
        {
          "output_type": "execute_result",
          "data": {
            "text/plain": [
              "2.8333333333333335"
            ]
          },
          "metadata": {},
          "execution_count": 7
        }
      ]
    },
    {
      "cell_type": "code",
      "source": [
        "#Modulus operator - it is used to calculate the remainder of a division operation:\n",
        "#Example:\n",
        "c=b%a\n",
        "c"
      ],
      "metadata": {
        "colab": {
          "base_uri": "https://localhost:8080/"
        },
        "id": "i62Mg1OXPRaW",
        "outputId": "2a3d1008-af0b-4928-8e67-3f4f6fbf3b61"
      },
      "execution_count": null,
      "outputs": [
        {
          "output_type": "execute_result",
          "data": {
            "text/plain": [
              "10"
            ]
          },
          "metadata": {},
          "execution_count": 8
        }
      ]
    },
    {
      "cell_type": "code",
      "source": [
        "c=b**a #it is double asterisk operator (**) in Python's most straightforward way to calculate exponentiation.\n",
        "c"
      ],
      "metadata": {
        "colab": {
          "base_uri": "https://localhost:8080/"
        },
        "id": "BpBO7OBwPcb4",
        "outputId": "e7f569e3-4f74-40d3-b908-f7a75354ed52"
      },
      "execution_count": null,
      "outputs": [
        {
          "output_type": "execute_result",
          "data": {
            "text/plain": [
              "2386420683693101056"
            ]
          },
          "metadata": {},
          "execution_count": 10
        }
      ]
    },
    {
      "cell_type": "code",
      "source": [
        "#floor operator - It divides two numbers and rounds the result down to the nearest whole number, or integer.\n",
        "#Example:\n",
        "a=5\n",
        "b=7\n",
        "c=b//a\n",
        "c\n"
      ],
      "metadata": {
        "colab": {
          "base_uri": "https://localhost:8080/"
        },
        "id": "_T_1ObMOPodN",
        "outputId": "3f5e8262-87b3-4123-eab9-24277603d571"
      },
      "execution_count": null,
      "outputs": [
        {
          "output_type": "execute_result",
          "data": {
            "text/plain": [
              "1"
            ]
          },
          "metadata": {},
          "execution_count": 11
        }
      ]
    },
    {
      "cell_type": "code",
      "source": [
        "#Comparison operator - are used to compare two values and return a true or false result. The six comparison operators in Python are:\n",
        "# == Equal to, != Not equal to, >: Greater than, >= Greater than or equal to, <: Less than, <= Less than or equal to.\n",
        "#Examples are :\n",
        "\n",
        "a=3\n",
        "b=6\n",
        "c=a==b\n",
        "c"
      ],
      "metadata": {
        "colab": {
          "base_uri": "https://localhost:8080/"
        },
        "id": "8xkVJY7YRvV3",
        "outputId": "9f9fd7e6-fc8d-4071-9d75-514b393dee26"
      },
      "execution_count": null,
      "outputs": [
        {
          "output_type": "execute_result",
          "data": {
            "text/plain": [
              "False"
            ]
          },
          "metadata": {},
          "execution_count": 12
        }
      ]
    },
    {
      "cell_type": "code",
      "source": [
        "c=a!=b\n",
        "c"
      ],
      "metadata": {
        "colab": {
          "base_uri": "https://localhost:8080/"
        },
        "id": "V63gkCsqS-Zt",
        "outputId": "a2992185-846b-4d1c-efd2-80ad919eb2f4"
      },
      "execution_count": null,
      "outputs": [
        {
          "output_type": "execute_result",
          "data": {
            "text/plain": [
              "True"
            ]
          },
          "metadata": {},
          "execution_count": 13
        }
      ]
    },
    {
      "cell_type": "code",
      "source": [
        "c=a>=b\n",
        "c"
      ],
      "metadata": {
        "colab": {
          "base_uri": "https://localhost:8080/"
        },
        "id": "gBag7SI2THW6",
        "outputId": "33578ffc-71dc-4b85-90b4-2cbcc52bba1c"
      },
      "execution_count": null,
      "outputs": [
        {
          "output_type": "execute_result",
          "data": {
            "text/plain": [
              "False"
            ]
          },
          "metadata": {},
          "execution_count": 15
        }
      ]
    },
    {
      "cell_type": "code",
      "source": [
        "c=a<=b\n",
        "c"
      ],
      "metadata": {
        "colab": {
          "base_uri": "https://localhost:8080/"
        },
        "id": "SE3N4Eg1TV8e",
        "outputId": "4d3e3e01-9b98-4513-a8bd-2c76e518d33a"
      },
      "execution_count": null,
      "outputs": [
        {
          "output_type": "execute_result",
          "data": {
            "text/plain": [
              "True"
            ]
          },
          "metadata": {},
          "execution_count": 16
        }
      ]
    },
    {
      "cell_type": "code",
      "source": [
        "#Logical operator - These are used to combine conditional statements. There are three operator and, or , not.\n",
        "#Example for 'and' logical operator:\n",
        "\n",
        "a=True\n",
        "b=False\n",
        "c=a and a\n",
        "c"
      ],
      "metadata": {
        "colab": {
          "base_uri": "https://localhost:8080/"
        },
        "id": "1J8vB0D_TgyV",
        "outputId": "5e3a10ea-f5b5-4c68-faaf-443736896d38"
      },
      "execution_count": null,
      "outputs": [
        {
          "output_type": "execute_result",
          "data": {
            "text/plain": [
              "True"
            ]
          },
          "metadata": {},
          "execution_count": 19
        }
      ]
    },
    {
      "cell_type": "code",
      "source": [
        "c=a and b\n",
        "c"
      ],
      "metadata": {
        "colab": {
          "base_uri": "https://localhost:8080/"
        },
        "id": "Gt_sTsuqUrPK",
        "outputId": "b27f784a-ed61-4d60-915a-11c369803b2b"
      },
      "execution_count": null,
      "outputs": [
        {
          "output_type": "execute_result",
          "data": {
            "text/plain": [
              "False"
            ]
          },
          "metadata": {},
          "execution_count": 20
        }
      ]
    },
    {
      "cell_type": "code",
      "source": [
        "c= b and a\n",
        "c"
      ],
      "metadata": {
        "colab": {
          "base_uri": "https://localhost:8080/"
        },
        "id": "JiaRAuorVJM0",
        "outputId": "148d0899-1b1f-45cd-a3af-3b7731f16707"
      },
      "execution_count": null,
      "outputs": [
        {
          "output_type": "execute_result",
          "data": {
            "text/plain": [
              "False"
            ]
          },
          "metadata": {},
          "execution_count": 21
        }
      ]
    },
    {
      "cell_type": "code",
      "source": [
        "c=b and b\n",
        "c"
      ],
      "metadata": {
        "colab": {
          "base_uri": "https://localhost:8080/"
        },
        "id": "PzpVpzf_VPxE",
        "outputId": "07f23fbf-427b-429b-8a5e-f568d8eb0f4f"
      },
      "execution_count": null,
      "outputs": [
        {
          "output_type": "execute_result",
          "data": {
            "text/plain": [
              "False"
            ]
          },
          "metadata": {},
          "execution_count": 22
        }
      ]
    },
    {
      "cell_type": "code",
      "source": [
        "#Example for 'or' logical operator:\n",
        "\n",
        "a=True\n",
        "b=False\n",
        "c=a or a\n",
        "c"
      ],
      "metadata": {
        "colab": {
          "base_uri": "https://localhost:8080/"
        },
        "id": "bZgJbeMnVaAR",
        "outputId": "46f08771-aaeb-48dc-bc20-988f356ebd0e"
      },
      "execution_count": null,
      "outputs": [
        {
          "output_type": "execute_result",
          "data": {
            "text/plain": [
              "True"
            ]
          },
          "metadata": {},
          "execution_count": 23
        }
      ]
    },
    {
      "cell_type": "code",
      "source": [
        "c=a or b\n",
        "c"
      ],
      "metadata": {
        "colab": {
          "base_uri": "https://localhost:8080/"
        },
        "id": "pPVIK2SiWsWc",
        "outputId": "272f22da-b130-462c-aa4a-74150986ed62"
      },
      "execution_count": null,
      "outputs": [
        {
          "output_type": "execute_result",
          "data": {
            "text/plain": [
              "True"
            ]
          },
          "metadata": {},
          "execution_count": 27
        }
      ]
    },
    {
      "cell_type": "code",
      "source": [
        "c=b or a\n",
        "c"
      ],
      "metadata": {
        "colab": {
          "base_uri": "https://localhost:8080/"
        },
        "id": "-nSwOVgeWwUF",
        "outputId": "b69bd8bd-4175-4d86-9f72-a0fe2b58c3fc"
      },
      "execution_count": null,
      "outputs": [
        {
          "output_type": "execute_result",
          "data": {
            "text/plain": [
              "True"
            ]
          },
          "metadata": {},
          "execution_count": 28
        }
      ]
    },
    {
      "cell_type": "code",
      "source": [
        "c=b or b\n",
        "c"
      ],
      "metadata": {
        "colab": {
          "base_uri": "https://localhost:8080/"
        },
        "id": "CZisCicMW2gc",
        "outputId": "1e6b6399-cb76-422b-e8ba-52ec31b16d88"
      },
      "execution_count": null,
      "outputs": [
        {
          "output_type": "execute_result",
          "data": {
            "text/plain": [
              "False"
            ]
          },
          "metadata": {},
          "execution_count": 29
        }
      ]
    },
    {
      "cell_type": "code",
      "source": [
        "#Example for 'not' logical operator:\n",
        "#A 'not' operator inverts the input. So True becomes False and False becomes True.\n",
        "\n",
        "not 10\n"
      ],
      "metadata": {
        "colab": {
          "base_uri": "https://localhost:8080/"
        },
        "id": "Qe3pEgBnW_EH",
        "outputId": "b4fc6567-9a0c-4432-822f-a5e4356d4fa0"
      },
      "execution_count": null,
      "outputs": [
        {
          "output_type": "execute_result",
          "data": {
            "text/plain": [
              "False"
            ]
          },
          "metadata": {},
          "execution_count": 32
        }
      ]
    },
    {
      "cell_type": "code",
      "source": [
        "not 0"
      ],
      "metadata": {
        "colab": {
          "base_uri": "https://localhost:8080/"
        },
        "id": "Eq1ybIrKX_h3",
        "outputId": "41b18ad4-e33d-4c19-d60a-6223cd8aca67"
      },
      "execution_count": null,
      "outputs": [
        {
          "output_type": "execute_result",
          "data": {
            "text/plain": [
              "True"
            ]
          },
          "metadata": {},
          "execution_count": 33
        }
      ]
    },
    {
      "cell_type": "code",
      "source": [
        "#Assignment operator - which simply assigns the value of the right-hand operand to the left-hand operand.\n",
        "#Example:\n",
        "a=67\n",
        "a+=4\n",
        "a"
      ],
      "metadata": {
        "colab": {
          "base_uri": "https://localhost:8080/"
        },
        "id": "9wHnAXTNYPAf",
        "outputId": "fcade74e-1b49-4607-e0da-47cb65975ab6"
      },
      "execution_count": null,
      "outputs": [
        {
          "output_type": "execute_result",
          "data": {
            "text/plain": [
              "71"
            ]
          },
          "metadata": {},
          "execution_count": 34
        }
      ]
    },
    {
      "cell_type": "code",
      "source": [
        "b=56\n",
        "b-=44\n",
        "b"
      ],
      "metadata": {
        "colab": {
          "base_uri": "https://localhost:8080/"
        },
        "id": "OWJLyNpLY5r2",
        "outputId": "1873accf-0a75-4fd1-90ec-2178316b11f2"
      },
      "execution_count": null,
      "outputs": [
        {
          "output_type": "execute_result",
          "data": {
            "text/plain": [
              "12"
            ]
          },
          "metadata": {},
          "execution_count": 35
        }
      ]
    },
    {
      "cell_type": "code",
      "source": [
        "c=6\n",
        "c*=7\n",
        "c"
      ],
      "metadata": {
        "colab": {
          "base_uri": "https://localhost:8080/"
        },
        "id": "shQ5A7ziZhKK",
        "outputId": "0720cc44-d795-4da2-f5ea-03a1d23daca8"
      },
      "execution_count": null,
      "outputs": [
        {
          "output_type": "execute_result",
          "data": {
            "text/plain": [
              "42"
            ]
          },
          "metadata": {},
          "execution_count": 36
        }
      ]
    },
    {
      "cell_type": "code",
      "source": [
        "#Membership Operator - it is used to test if a sequence is presented in an object.\n",
        "#Example:\n",
        "a=\"Google Colab\"\n",
        "'g' in a"
      ],
      "metadata": {
        "colab": {
          "base_uri": "https://localhost:8080/"
        },
        "id": "rM7HOSxUZphg",
        "outputId": "5e54c527-d645-46cf-fe04-ab12b28476bd"
      },
      "execution_count": null,
      "outputs": [
        {
          "output_type": "execute_result",
          "data": {
            "text/plain": [
              "True"
            ]
          },
          "metadata": {},
          "execution_count": 39
        }
      ]
    },
    {
      "cell_type": "code",
      "source": [
        "#Identity Operator - it is used to compare the objects, not if they are equal, but if they are actually the same object, with the same memory location.\n",
        "#Example:\n",
        "a=2\n",
        "b=6\n",
        "a is b"
      ],
      "metadata": {
        "colab": {
          "base_uri": "https://localhost:8080/"
        },
        "id": "WX9Q28ShcGah",
        "outputId": "63e9f420-3ba8-4bbe-fb19-1f20901adf0b"
      },
      "execution_count": null,
      "outputs": [
        {
          "output_type": "execute_result",
          "data": {
            "text/plain": [
              "False"
            ]
          },
          "metadata": {},
          "execution_count": 40
        }
      ]
    },
    {
      "cell_type": "code",
      "source": [
        "a is not b"
      ],
      "metadata": {
        "colab": {
          "base_uri": "https://localhost:8080/"
        },
        "id": "oCCvJlYeddFi",
        "outputId": "b7808e3f-9f58-47f3-c517-20cd6a5597c7"
      },
      "execution_count": null,
      "outputs": [
        {
          "output_type": "execute_result",
          "data": {
            "text/plain": [
              "True"
            ]
          },
          "metadata": {},
          "execution_count": 41
        }
      ]
    },
    {
      "cell_type": "code",
      "source": [
        "#Bitwise operator - it is used to perform bitwise calculations on integers.\n",
        "#The types of bitwise operators in Python are:\n",
        "#1)Bitwise AND(&): Sets each bit to 1 if one of the two bits is 1\n",
        "bin(3&7)"
      ],
      "metadata": {
        "colab": {
          "base_uri": "https://localhost:8080/",
          "height": 36
        },
        "id": "WsEH2U9cdjbM",
        "outputId": "c58092bc-14ad-458d-8e44-97187ae1b055"
      },
      "execution_count": null,
      "outputs": [
        {
          "output_type": "execute_result",
          "data": {
            "text/plain": [
              "'0b11'"
            ],
            "application/vnd.google.colaboratory.intrinsic+json": {
              "type": "string"
            }
          },
          "metadata": {},
          "execution_count": 46
        }
      ]
    },
    {
      "cell_type": "code",
      "source": [
        "#2)Bitwise OR(|): Sets each bit to 1 if only one of the two bits is 1\n",
        "bin(12|8)"
      ],
      "metadata": {
        "colab": {
          "base_uri": "https://localhost:8080/",
          "height": 36
        },
        "id": "2CGjLbptfYR6",
        "outputId": "d839a1ab-7f04-47fb-d9ef-4963ada2fe87"
      },
      "execution_count": null,
      "outputs": [
        {
          "output_type": "execute_result",
          "data": {
            "text/plain": [
              "'0b1100'"
            ],
            "application/vnd.google.colaboratory.intrinsic+json": {
              "type": "string"
            }
          },
          "metadata": {},
          "execution_count": 47
        }
      ]
    },
    {
      "cell_type": "code",
      "source": [
        "#Bitwise Xor (^): The Xor operation gives 0 as a result when both operands are the same and 1 when operands are different.\n",
        "bin(3^7)"
      ],
      "metadata": {
        "colab": {
          "base_uri": "https://localhost:8080/",
          "height": 36
        },
        "id": "b0Wy7XzafuxS",
        "outputId": "56419973-1d5f-426c-ee73-3a59ebcf4e9e"
      },
      "execution_count": null,
      "outputs": [
        {
          "output_type": "execute_result",
          "data": {
            "text/plain": [
              "'0b100'"
            ],
            "application/vnd.google.colaboratory.intrinsic+json": {
              "type": "string"
            }
          },
          "metadata": {},
          "execution_count": 50
        }
      ]
    },
    {
      "cell_type": "code",
      "source": [
        "#Bitwise Left Shift: Shifts left by pushing zeros in from the right and letting the leftmost bits fall off\n",
        "bin(1<<2)"
      ],
      "metadata": {
        "colab": {
          "base_uri": "https://localhost:8080/",
          "height": 36
        },
        "id": "LGMdABR9gIWe",
        "outputId": "054c02b4-ca93-4353-af1f-4f0907c883bc"
      },
      "execution_count": null,
      "outputs": [
        {
          "output_type": "execute_result",
          "data": {
            "text/plain": [
              "'0b100'"
            ],
            "application/vnd.google.colaboratory.intrinsic+json": {
              "type": "string"
            }
          },
          "metadata": {},
          "execution_count": 48
        }
      ]
    },
    {
      "cell_type": "code",
      "source": [
        "#Bitwise right Shift: Shifts the value of the left operand to the right by the number of bits given by the right operand\n",
        "bin(4<<7)"
      ],
      "metadata": {
        "colab": {
          "base_uri": "https://localhost:8080/",
          "height": 36
        },
        "id": "RB3gt9HTgkPC",
        "outputId": "c9a26b9c-1df0-4e23-cdeb-87a2ce863dfa"
      },
      "execution_count": null,
      "outputs": [
        {
          "output_type": "execute_result",
          "data": {
            "text/plain": [
              "'0b1000000000'"
            ],
            "application/vnd.google.colaboratory.intrinsic+json": {
              "type": "string"
            }
          },
          "metadata": {},
          "execution_count": 49
        }
      ]
    },
    {
      "cell_type": "markdown",
      "source": [
        "#5) Explain the concept of type casting in Python with examples."
      ],
      "metadata": {
        "id": "vD5D_H3KnAJM"
      }
    },
    {
      "cell_type": "code",
      "source": [
        "#Type casting in Python is the process of changing a variable's data type to another.\n",
        "#Example:\n",
        "a='5'\n",
        "type(a)"
      ],
      "metadata": {
        "colab": {
          "base_uri": "https://localhost:8080/"
        },
        "id": "nlKQTsrIntbf",
        "outputId": "3be90292-8ce6-4bbe-cded-ed950dc260a1"
      },
      "execution_count": null,
      "outputs": [
        {
          "output_type": "execute_result",
          "data": {
            "text/plain": [
              "str"
            ]
          },
          "metadata": {},
          "execution_count": 52
        }
      ]
    },
    {
      "cell_type": "code",
      "source": [
        "b=3\n",
        "type(b)\n"
      ],
      "metadata": {
        "colab": {
          "base_uri": "https://localhost:8080/"
        },
        "id": "tsT9it19oPvc",
        "outputId": "dfadc87b-f941-4f62-8256-4028e8a36875"
      },
      "execution_count": null,
      "outputs": [
        {
          "output_type": "execute_result",
          "data": {
            "text/plain": [
              "int"
            ]
          },
          "metadata": {},
          "execution_count": 53
        }
      ]
    },
    {
      "cell_type": "code",
      "source": [
        "int(a)+b #here variable (a) data type has been changed to int for execution as int and str cannot be added together."
      ],
      "metadata": {
        "colab": {
          "base_uri": "https://localhost:8080/"
        },
        "id": "TPRLOYO8oeZS",
        "outputId": "5e556b8a-6982-4aff-d721-c7eb1f34ae5c"
      },
      "execution_count": null,
      "outputs": [
        {
          "output_type": "execute_result",
          "data": {
            "text/plain": [
              "8"
            ]
          },
          "metadata": {},
          "execution_count": 55
        }
      ]
    },
    {
      "cell_type": "code",
      "source": [
        "# It can be done in two ways:\n",
        "#1)Implicit casting -it is also known as automatic type conversion, this happens when the system automatically handles the conversion without the programmer's intervention.\n",
        "#It usually involves converting a smaller data type to a larger one to avoid data loss.\n",
        "#For example if you assign the value 2 to a variable a, a will automatically become an integer.\n",
        "a=2\n",
        "type(a)"
      ],
      "metadata": {
        "colab": {
          "base_uri": "https://localhost:8080/"
        },
        "id": "LF5KeHjopWRI",
        "outputId": "b3a6ffad-2272-4c59-e067-029fedae9209"
      },
      "execution_count": null,
      "outputs": [
        {
          "output_type": "execute_result",
          "data": {
            "text/plain": [
              "int"
            ]
          },
          "metadata": {},
          "execution_count": 56
        }
      ]
    },
    {
      "cell_type": "code",
      "source": [
        "#Explicit casting - it is also known as manual casting, this is when the programmer manually changes the data type using built-in functions like int(), float(), or str().\n",
        "#There is a chance of data loss if a data type is converted to a smaller one.\n",
        "#Example:\n",
        "\n",
        "a='4' # variable is str\n",
        "b=5   # variable is int\n",
        "int(a)+b  # manually changed str to int for variable a\n"
      ],
      "metadata": {
        "colab": {
          "base_uri": "https://localhost:8080/"
        },
        "id": "6DoOQkPgp5kb",
        "outputId": "e6483929-2dd6-4f2e-b998-dd63767ada20"
      },
      "execution_count": null,
      "outputs": [
        {
          "output_type": "execute_result",
          "data": {
            "text/plain": [
              "9"
            ]
          },
          "metadata": {},
          "execution_count": 57
        }
      ]
    },
    {
      "cell_type": "markdown",
      "source": [
        "\n",
        "# 6) How do conditional statements work in Python? Illustrate with examples."
      ],
      "metadata": {
        "id": "lhmWmL8IrtZj"
      }
    },
    {
      "cell_type": "code",
      "source": [
        "#Conditional statements - helps you to code decisions based on some preconditions. examples - if, if else, if elif else, nested if else.\n",
        "\n",
        "#if statement:\n",
        "animal=\"Zebra\"\n",
        "if animal == \"Zebra\":\n",
        "   print(\"The animal is herbivorus\")"
      ],
      "metadata": {
        "colab": {
          "base_uri": "https://localhost:8080/"
        },
        "id": "BJ6_dHAatECu",
        "outputId": "8e8c50c3-9cd1-41c6-9465-255fe872f0bc"
      },
      "execution_count": null,
      "outputs": [
        {
          "output_type": "stream",
          "name": "stdout",
          "text": [
            "The animal is herbivorus\n"
          ]
        }
      ]
    },
    {
      "cell_type": "code",
      "source": [
        "#if else statement:\n",
        "animal=\"Zebra\"\n",
        "if animal != \"Zebra\":\n",
        "   print(\"The animal is herbivorus\")\n",
        "else:\n",
        "  print(\"The animal is carnivorus\")"
      ],
      "metadata": {
        "colab": {
          "base_uri": "https://localhost:8080/"
        },
        "id": "Efr3OqQzvzCe",
        "outputId": "275d5431-7c38-4644-fdd3-a5199c51a7b3"
      },
      "execution_count": null,
      "outputs": [
        {
          "output_type": "stream",
          "name": "stdout",
          "text": [
            "The animal is carnivorus\n"
          ]
        }
      ]
    },
    {
      "cell_type": "code",
      "source": [
        "#if elif else statement:\n",
        "prize_money=500\n",
        "if prize_money >= 500:\n",
        "   print(\"You are first\")\n",
        "elif prize_money <= 100:\n",
        "  print(\"You are third\")\n",
        "else:\n",
        "  print(\"You are second\")\n"
      ],
      "metadata": {
        "colab": {
          "base_uri": "https://localhost:8080/"
        },
        "id": "lSsS_sA6wVQr",
        "outputId": "62eb6b46-1418-4201-db32-ce00470b9125"
      },
      "execution_count": null,
      "outputs": [
        {
          "output_type": "stream",
          "name": "stdout",
          "text": [
            "You are first\n"
          ]
        }
      ]
    },
    {
      "cell_type": "code",
      "source": [
        "#Nested if else statement:\n",
        "a=8\n",
        "b=6\n",
        "if a>5:\n",
        "  if b>5:\n",
        "    print(\"both a and b is greater that 5\")\n",
        "  else:\n",
        "    print(\"a and b is not greater than 5\")"
      ],
      "metadata": {
        "colab": {
          "base_uri": "https://localhost:8080/"
        },
        "id": "fu81hiwYy3fg",
        "outputId": "f54cc4bf-c9c4-4a18-b863-624e0f4b6488"
      },
      "execution_count": null,
      "outputs": [
        {
          "output_type": "stream",
          "name": "stdout",
          "text": [
            "both a and b is greater that 5\n"
          ]
        }
      ]
    },
    {
      "cell_type": "markdown",
      "source": [
        "# 7) Describe the different types of loops in Python and their use cases with examples"
      ],
      "metadata": {
        "id": "-1dcBSdL0A3L"
      }
    },
    {
      "cell_type": "code",
      "source": [
        "#loops -  loops are programming constructs that repeat a block of code until a condition is met. There are two main types of loops in Python:\n",
        "#1)while loop - Executes a set of statements as long as a condition is true. The syntax for a while loop is while expression: statements.\n",
        "#Example:\n",
        "\n",
        "n=9\n",
        "i=1\n",
        "while i<n:\n",
        "   print(i)\n",
        "   i=i+1"
      ],
      "metadata": {
        "colab": {
          "base_uri": "https://localhost:8080/"
        },
        "id": "DSblKmau0J0a",
        "outputId": "674b615b-c45b-4eeb-f52f-d5b8cb95f2d4"
      },
      "execution_count": null,
      "outputs": [
        {
          "output_type": "stream",
          "name": "stdout",
          "text": [
            "1\n",
            "2\n",
            "3\n",
            "4\n",
            "5\n",
            "6\n",
            "7\n",
            "8\n"
          ]
        }
      ]
    },
    {
      "cell_type": "code",
      "source": [
        "n=9\n",
        "i=1\n",
        "while i<n:\n",
        "  print(i)\n",
        "  i=i+1\n",
        "  if i==3:\n",
        "    break  #break terminates or exit the loop\n",
        "else:\n",
        "  print(\"this will execute when the while statement will run successfully without any break\")\n"
      ],
      "metadata": {
        "colab": {
          "base_uri": "https://localhost:8080/"
        },
        "id": "BGWd3R8O1lnA",
        "outputId": "412c8e27-a1e1-48bd-e729-6f3238994ce9"
      },
      "execution_count": null,
      "outputs": [
        {
          "output_type": "stream",
          "name": "stdout",
          "text": [
            "1\n",
            "2\n"
          ]
        }
      ]
    },
    {
      "cell_type": "code",
      "source": [
        "n=9\n",
        "i=1\n",
        "while i<n:\n",
        "   i=i+1\n",
        "   if i==3:\n",
        "    continue   #continue skips the iteration of the given condition.\n",
        "   print(i)\n",
        "else:\n",
        "  print(\"3 will execute when the while statement will run successfully without any continue\")"
      ],
      "metadata": {
        "colab": {
          "base_uri": "https://localhost:8080/"
        },
        "id": "o2DqV3Nc2lV1",
        "outputId": "8969d683-e9cc-4195-9fca-a575eaaf5cda"
      },
      "execution_count": null,
      "outputs": [
        {
          "output_type": "stream",
          "name": "stdout",
          "text": [
            "2\n",
            "4\n",
            "5\n",
            "6\n",
            "7\n",
            "8\n",
            "9\n",
            "3 will execute when the while statement will run successfully without any continue\n"
          ]
        }
      ]
    },
    {
      "cell_type": "code",
      "source": [
        "#2)For loop - Iterates over a sequence, such as a list, tuple, set, dictionary, or string. The syntax for a for loop is for iterating_var in sequence: statement(s).\n",
        "#Example:\n",
        "\n",
        "a=\"Google Colab\"\n",
        "for i in a:\n",
        "   print(i)"
      ],
      "metadata": {
        "colab": {
          "base_uri": "https://localhost:8080/"
        },
        "id": "DLNiddi234b6",
        "outputId": "4cbda0af-6903-4da6-8cc1-db4e2dba8c8f"
      },
      "execution_count": null,
      "outputs": [
        {
          "output_type": "stream",
          "name": "stdout",
          "text": [
            "G\n",
            "o\n",
            "o\n",
            "g\n",
            "l\n",
            "e\n",
            " \n",
            "C\n",
            "o\n",
            "l\n",
            "a\n",
            "b\n"
          ]
        }
      ]
    },
    {
      "cell_type": "code",
      "source": [
        "a=\"Google Colab\"\n",
        "for i in a:\n",
        "   if i==\"e\":\n",
        "     break\n",
        "   print(i)\n",
        "else:\n",
        "    print(\"this will execute when the while statement will run successfully without any break\")"
      ],
      "metadata": {
        "colab": {
          "base_uri": "https://localhost:8080/"
        },
        "id": "suPcunak47d0",
        "outputId": "2b0fad14-636c-4b39-fc16-52bbe6e209ca"
      },
      "execution_count": null,
      "outputs": [
        {
          "output_type": "stream",
          "name": "stdout",
          "text": [
            "G\n",
            "o\n",
            "o\n",
            "g\n",
            "l\n"
          ]
        }
      ]
    },
    {
      "cell_type": "code",
      "source": [
        "a=\"Google Colab\"\n",
        "for i in a:\n",
        "   if i==\"e\":\n",
        "    continue\n",
        "   print(i)\n",
        "else:\n",
        "    print(\"e will execute when the while statement will run successfully without any continue\")"
      ],
      "metadata": {
        "colab": {
          "base_uri": "https://localhost:8080/"
        },
        "id": "_QpboxCc65Cy",
        "outputId": "bc43f4d2-7704-4dea-db79-348577172eab"
      },
      "execution_count": null,
      "outputs": [
        {
          "output_type": "stream",
          "name": "stdout",
          "text": [
            "G\n",
            "o\n",
            "o\n",
            "g\n",
            "l\n",
            " \n",
            "C\n",
            "o\n",
            "l\n",
            "a\n",
            "b\n",
            "e will execute when the while statement will run successfully without any break\n"
          ]
        }
      ]
    }
  ]
}